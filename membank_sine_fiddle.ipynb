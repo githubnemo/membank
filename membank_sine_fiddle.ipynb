{
 "cells": [
  {
   "cell_type": "code",
   "execution_count": 8,
   "metadata": {
    "collapsed": true
   },
   "outputs": [],
   "source": [
    "import numpy as np\n",
    "import torch\n",
    "import torch.utils.data\n",
    "import torch.nn as nn\n",
    "import torch.optim as optim\n",
    "from torch.autograd import Variable\n",
    "from torch.utils.data import DataLoader, TensorDataset\n",
    "from tensorboard import SummaryWriter\n",
    "\n",
    "import os\n",
    "\n",
    "import inferno\n",
    "from inferno.utils import to_numpy\n",
    "\n",
    "from sine_data import train_dataset, valid_dataset\n",
    "import insp"
   ]
  },
  {
   "cell_type": "code",
   "execution_count": 9,
   "metadata": {
    "collapsed": true
   },
   "outputs": [],
   "source": [
    "X_train, y_train = train_dataset()\n",
    "X_train, y_train = torch.Tensor(X_train), torch.LongTensor(y_train)\n",
    "\n",
    "X_valid, y_valid = valid_dataset()\n",
    "X_valid, y_valid = torch.Tensor(X_valid), torch.LongTensor(y_valid)\n",
    "\n",
    "sine_train_loader = DataLoader(TensorDataset(X_train, y_train),\n",
    "                               batch_size=64,\n",
    "                               shuffle=True)\n",
    "sine_valid_loader = DataLoader(TensorDataset(X_valid, y_valid),\n",
    "                               batch_size=64,\n",
    "                               shuffle=False)"
   ]
  },
  {
   "cell_type": "code",
   "execution_count": 93,
   "metadata": {
    "collapsed": true
   },
   "outputs": [],
   "source": [
    "writer = SummaryWriter()"
   ]
  },
  {
   "cell_type": "code",
   "execution_count": 94,
   "metadata": {},
   "outputs": [],
   "source": [
    "class Latch(nn.Module):\n",
    "\n",
    "    def __init__(self, size, *args, **kwargs):\n",
    "        super().__init__(*args, **kwargs)\n",
    "        self.act = nn.Hardtanh(min_val=0, max_val=1)\n",
    "        #self.consent_threshold = 0.75\n",
    "        self.size = size\n",
    "        \n",
    "    def initial_q(self, batch_size):\n",
    "        q = torch.zeros((batch_size, self.size))\n",
    "        return Variable(q)\n",
    "\n",
    "    def t(self, s):\n",
    "        # all inputs in s must say 'store' or otherwise\n",
    "        # there is no consent to store an value.\n",
    "        #\n",
    "        # we want that \n",
    "        # - most of the inputs agree\n",
    "        # - the result is between 0 and 1 so we can use it as gate\n",
    "        # - we want it to be differentiable and soft (well behaved gradients)\n",
    "        x = s.sum(-1) / s.size(-1)\n",
    "        return self.act(3/2 * x**4 + 1/8 * x**2)\n",
    "        #return (self.act(s).mean(-1) >= self.consent_threshold).float()\n",
    "\n",
    "    def forward(self, s, v, q):\n",
    "        t = self.t(s).unsqueeze(-1)\n",
    "        new_q = v * t + q * (1 - t)\n",
    "        return new_q"
   ]
  },
  {
   "cell_type": "code",
   "execution_count": 145,
   "metadata": {
    "collapsed": true
   },
   "outputs": [],
   "source": [
    "class Block(nn.Module):\n",
    "    def __init__(self, input_dim, output_dim, *args, **kwargs):\n",
    "        super().__init__(*args, **kwargs)\n",
    "\n",
    "        self.num_units = output_dim\n",
    "\n",
    "        self.latch_size = self.num_units\n",
    "        self.latch = Latch(self.latch_size)\n",
    "\n",
    "        self.units = nn.Linear(input_dim, output_dim)\n",
    "        self.memory = nn.Linear(self.latch_size, self.num_units)\n",
    "        self.set = nn.Parameter(torch.zeros(self.num_units) + 0.0)\n",
    "        self.value = nn.Linear(self.num_units, self.latch_size)\n",
    "\n",
    "        self.act = nn.Tanh()\n",
    "\n",
    "    def forward(self, x):\n",
    "        # x.shape = (b, t, u)\n",
    "        t = x.size(1)\n",
    "        acts = []\n",
    "        qs = []\n",
    "        q = self.latch.initial_q(x.size(0))\n",
    "        for ti in range(t):\n",
    "            u = self.units(x[:,ti])\n",
    "            v = u + self.memory(q)\n",
    "            q = self.latch(u, self.value(v), q)\n",
    "            acts += [self.act(v)]\n",
    "            qs += [q]\n",
    "        return torch.stack(acts, dim=1), torch.stack(qs, dim=1)"
   ]
  },
  {
   "cell_type": "code",
   "execution_count": 146,
   "metadata": {
    "collapsed": true
   },
   "outputs": [],
   "source": [
    "class BlockLayer(nn.Module):\n",
    "    def __init__(self, num_blocks, input_dim, output_dim, *args, **kwargs):\n",
    "        super().__init__(*args, **kwargs)\n",
    "\n",
    "        self.num_blocks = num_blocks\n",
    "        self.units_per_block = output_dim // num_blocks\n",
    "        self.blocks = [Block(input_dim=input_dim,\n",
    "                             output_dim=self.units_per_block)\n",
    "                       for _ in range(num_blocks)]\n",
    "        for i in range(len(self.blocks)):\n",
    "            self.add_module('block_{}'.format(i), self.blocks[i])\n",
    "\n",
    "    def forward(self, x):\n",
    "        results = [block(x) for block in self.blocks]\n",
    "        acts = [n[0] for n in results]\n",
    "        qs = [n[1] for n in results]\n",
    "        return torch.cat(acts, dim=-1), torch.cat(qs, dim=-1)"
   ]
  },
  {
   "cell_type": "markdown",
   "metadata": {},
   "source": []
  },
  {
   "cell_type": "code",
   "execution_count": 147,
   "metadata": {
    "collapsed": true
   },
   "outputs": [],
   "source": [
    "def time_flatten(t):\n",
    "    return t.view(t.size(0) * t.size(1), -1)\n",
    "\n",
    "def time_unflatten(t, s):\n",
    "    return t.view(s[0], s[1], -1)"
   ]
  },
  {
   "cell_type": "code",
   "execution_count": 153,
   "metadata": {
    "collapsed": true
   },
   "outputs": [],
   "source": [
    "class BlockModel(nn.Module):\n",
    "    def __init__(self, *args, baseline=False, **kwargs):\n",
    "        super().__init__(*args, **kwargs)\n",
    "        \n",
    "        self.baseline = baseline\n",
    "\n",
    "        self.layer0_mem = BlockLayer(num_blocks=10,\n",
    "                                     input_dim=1,\n",
    "                                     output_dim=20)\n",
    "        self.layer0_clf = nn.Linear(1 + 20, 20)\n",
    "        \n",
    "        self.layer1 = nn.Linear(20,100)\n",
    "        self.softmax = nn.LogSoftmax()\n",
    "        self.gru = nn.GRU(1, 20)\n",
    "        self.iter = 0\n",
    "\n",
    "    def forward(self, x):\n",
    "        if not self.baseline:\n",
    "            _, q0 = self.layer0_mem(x)\n",
    "            writer.add_histogram('q0', q0.data.cpu().numpy(), self.iter)\n",
    "            self.iter += 1\n",
    "            merged0 = torch.cat([x, q0], dim=-1)\n",
    "\n",
    "            l0_clf = self.layer0_clf(time_flatten(merged0))\n",
    "        else:\n",
    "            l0_clf = time_flatten(self.gru(x)[0])\n",
    "        \n",
    "        l1 = self.layer1(l0_clf)\n",
    "        \n",
    "        return time_unflatten(self.softmax(l1), x.size())"
   ]
  },
  {
   "cell_type": "code",
   "execution_count": 154,
   "metadata": {},
   "outputs": [],
   "source": [
    "def one_hot(shape, hot_idx):\n",
    "    t = torch.zeros(shape)\n",
    "    t[:, hot_idx] = 1\n",
    "    return Variable(t)\n",
    "    \n",
    "class Trainer(inferno.NeuralNet):\n",
    "    \n",
    "    def __init__(self, \n",
    "                 criterion=nn.NLLLoss,\n",
    "                 *args, \n",
    "                 **kwargs):\n",
    "        self.iter = 0\n",
    "        super().__init__(*args, criterion=criterion, **kwargs)\n",
    "\n",
    "    def get_loss(self, y_pred, y_true, X=None, train=False):\n",
    "        #pred = y_pred[:,-1]\n",
    "        #true = one_hot(pred.size(), y_true)\n",
    "        pred = y_pred[:,-1]\n",
    "        true = y_true\n",
    "        return super().get_loss(pred, true, X=X, train=train)\n",
    "    \n",
    "    def train_step(self, *args, **kwargs):\n",
    "        for name, param in self.module_.named_parameters():\n",
    "            writer.add_histogram(name, param.data.cpu().numpy(), self.iter)\n",
    "        self.iter += 1\n",
    "        return super().train_step(*args, **kwargs)"
   ]
  },
  {
   "cell_type": "code",
   "execution_count": 155,
   "metadata": {},
   "outputs": [],
   "source": [
    "from sine_data import *\n",
    "\n",
    "X_train, y_train = train_dataset()\n",
    "X_train, y_train = torch.Tensor(X_train), torch.LongTensor(y_train)\n",
    "\n",
    "X_valid, y_valid = valid_dataset()\n",
    "X_valid, y_valid = torch.Tensor(X_valid), torch.LongTensor(y_valid)"
   ]
  },
  {
   "cell_type": "code",
   "execution_count": 156,
   "metadata": {},
   "outputs": [],
   "source": [
    "ef = Trainer(module=BlockModel,\n",
    "             optim=torch.optim.RMSprop,\n",
    "             lr=0.005,\n",
    "             max_epochs=60,\n",
    "             module__baseline=False,\n",
    "            )"
   ]
  },
  {
   "cell_type": "code",
   "execution_count": null,
   "metadata": {
    "scrolled": false
   },
   "outputs": [
    {
     "name": "stdout",
     "output_type": "stream",
     "text": [
      "Automatic pdb calling has been turned ON\n",
      "  epoch    train_loss    valid_loss     dur\n",
      "-------  ------------  ------------  ------\n",
      "      1        \u001b[31m4.5669\u001b[0m        \u001b[35m3.8435\u001b[0m  2.5263\n",
      "      2        \u001b[31m3.3320\u001b[0m        4.7242  2.4115\n",
      "      3        \u001b[31m2.0086\u001b[0m        6.0453  2.4170\n",
      "      4        \u001b[31m1.7577\u001b[0m        6.6964  2.5881\n",
      "      5        \u001b[31m1.1934\u001b[0m       32.1075  2.4617\n",
      "      6        \u001b[31m1.0818\u001b[0m        9.5162  2.8549\n",
      "      7        1.2729       13.1554  2.6920\n",
      "      8        \u001b[31m0.9248\u001b[0m      111.7252  3.5917\n",
      "      9        0.9607       17.3998  3.0806\n",
      "     10        1.1326       12.3921  2.8112\n",
      "     11        1.0840       15.9391  2.8545\n",
      "     12        1.0455       14.0424  2.6067\n",
      "     13        \u001b[31m0.8153\u001b[0m       16.4492  2.6786\n",
      "     14        \u001b[31m0.7677\u001b[0m       17.4602  2.9129\n",
      "     15        \u001b[31m0.7375\u001b[0m       19.1178  2.6604\n",
      "     16        \u001b[31m0.7121\u001b[0m       20.8076  2.6140\n",
      "     17        \u001b[31m0.6887\u001b[0m       23.7484  2.5993\n",
      "     18        \u001b[31m0.6666\u001b[0m       26.7244  2.5454\n",
      "     19        \u001b[31m0.6461\u001b[0m       31.8149  2.4298\n",
      "     20        \u001b[31m0.6333\u001b[0m       33.5576  2.7522\n",
      "     21        0.6619       42.2845  2.6056\n",
      "     22        0.7898       32.1819  2.5349\n",
      "     23        0.8218       32.1953  2.6136\n",
      "     24        0.6426       43.5423  2.5044\n",
      "     25        0.6404       29.7215  2.5898\n",
      "     26        0.7067       49.1929  2.3609\n",
      "     27        0.6775       25.9079  2.4944\n",
      "     28        0.7341       40.7341  2.7460\n",
      "     29        \u001b[31m0.5958\u001b[0m       33.2130  2.4551\n",
      "     30        \u001b[31m0.5856\u001b[0m       49.8748  2.4268\n",
      "     31        \u001b[31m0.5726\u001b[0m       34.4031  2.4220\n",
      "     32        0.6263       62.0037  2.5142\n",
      "     33        0.6476       26.7240  2.7184\n",
      "     34        0.8094       44.3491  2.4249\n",
      "     35        \u001b[31m0.5477\u001b[0m       37.0811  2.4218\n",
      "     36        \u001b[31m0.5357\u001b[0m       58.1468  2.5464\n",
      "     37        0.5528       32.6880  2.6752\n",
      "     38        0.7971       64.2648  2.6054\n",
      "     39        0.8675       23.1781  2.9250\n",
      "     40        0.8282       32.4056  2.5776\n",
      "     41        0.5535       33.1986  2.5988\n",
      "     42        \u001b[31m0.5251\u001b[0m       38.3611  2.5368\n",
      "     43        \u001b[31m0.5012\u001b[0m       40.7242  2.6790\n",
      "     44        \u001b[31m0.4779\u001b[0m       47.8972  2.8152\n",
      "     45        \u001b[31m0.4562\u001b[0m       47.4355  2.6489\n",
      "     46        \u001b[31m0.4473\u001b[0m       67.9390  2.6202\n",
      "     47        0.5253       37.7598  2.6176\n",
      "     48        1.0137       54.7412  2.7199\n"
     ]
    }
   ],
   "source": [
    "%pdb on\n",
    "ef.fit(X_train, y_train)"
   ]
  },
  {
   "cell_type": "code",
   "execution_count": 142,
   "metadata": {},
   "outputs": [
    {
     "name": "stdout",
     "output_type": "stream",
     "text": [
      "Supervised\n",
      "0 Acc (sup): 0.0\n",
      "0 MAE(pred,target) 0.113740913875\n",
      "Supervised\n",
      "1 Acc (sup): 1.0\n",
      "1 MAE(pred,target) 0.0\n",
      "Supervised\n",
      "2 Acc (sup): 0.0\n",
      "2 MAE(pred,target) 1.18885385195\n",
      "Supervised\n",
      "3 Acc (sup): 0.0\n",
      "3 MAE(pred,target) 1.59944068591\n",
      "Supervised\n",
      "4 Acc (sup): 1.0\n",
      "4 MAE(pred,target) 0.0\n"
     ]
    },
    {
     "data": {
      "image/png": "[encoded data removed]",
      "text/plain": [
       "<matplotlib.figure.Figure at 0x7f89708c76d8>"
      ]
     },
     "metadata": {},
     "output_type": "display_data"
    }
   ],
   "source": [
    "import insp\n",
    "import imp; imp.reload(insp)\n",
    "%matplotlib inline\n",
    "insp.plot(ef.module_, dataset='train')"
   ]
  },
  {
   "cell_type": "code",
   "execution_count": null,
   "metadata": {
    "collapsed": true
   },
   "outputs": [],
   "source": []
  }
 ],
 "metadata": {
  "kernelspec": {
   "display_name": "Python 3",
   "language": "python",
   "name": "python3"
  },
  "language_info": {
   "codemirror_mode": {
    "name": "ipython",
    "version": 3
   },
   "file_extension": ".py",
   "mimetype": "text/x-python",
   "name": "python",
   "nbconvert_exporter": "python",
   "pygments_lexer": "ipython3",
   "version": "3.5.2"
  }
 },
 "nbformat": 4,
 "nbformat_minor": 2
}
