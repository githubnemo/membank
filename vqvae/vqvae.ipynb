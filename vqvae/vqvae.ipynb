{
 "cells": [
  {
   "cell_type": "code",
   "execution_count": 1,
   "metadata": {
    "collapsed": true
   },
   "outputs": [],
   "source": [
    "import numpy as np\n",
    "import torch\n",
    "import torch.nn as nn\n",
    "from torch.autograd import Variable\n",
    "import skorch"
   ]
  },
  {
   "cell_type": "code",
   "execution_count": 2,
   "metadata": {
    "collapsed": true
   },
   "outputs": [],
   "source": [
    "import matplotlib.pyplot as plt\n",
    "%matplotlib inline"
   ]
  },
  {
   "cell_type": "code",
   "execution_count": 3,
   "metadata": {
    "collapsed": true
   },
   "outputs": [],
   "source": [
    "import torchvision"
   ]
  },
  {
   "cell_type": "code",
   "execution_count": 4,
   "metadata": {
    "collapsed": true
   },
   "outputs": [],
   "source": [
    "def sg(x):\n",
    "    \"\"\" stop gradinet function from the paper \"\"\"\n",
    "    return Variable(x.data)"
   ]
  },
  {
   "cell_type": "code",
   "execution_count": 117,
   "metadata": {},
   "outputs": [],
   "source": [
    "class Encoder(nn.Module):\n",
    "    def __init__(self, input_size, hidden_dim, latent_dim):\n",
    "        super().__init__()\n",
    "        self.l0 = nn.Linear(input_size, hidden_dim)\n",
    "        self.l1 = nn.Linear(hidden_dim, latent_dim)\n",
    "        self.act = nn.ReLU()\n",
    "\n",
    "    def forward(self, x):\n",
    "        l0 = self.l0(x)\n",
    "        l0 = self.act(l0)\n",
    "        l1 = self.l1(l0)\n",
    "        l1 = self.act(l1)\n",
    "        return l1"
   ]
  },
  {
   "cell_type": "code",
   "execution_count": 118,
   "metadata": {
    "collapsed": true
   },
   "outputs": [],
   "source": [
    "class Decoder(nn.Module):\n",
    "    def __init__(self, latent_dim, hidden_dim, output_dim):\n",
    "        super().__init__()\n",
    "        self.l0 = nn.Linear(latent_dim, hidden_dim)\n",
    "        self.l1 = nn.Linear(hidden_dim, output_dim)\n",
    "        self.act = nn.ReLU()\n",
    "\n",
    "    def forward(self, x):\n",
    "        l0 = self.l0(x)\n",
    "        l0 = self.act(l0)\n",
    "        l1 = self.l1(l0)\n",
    "        return torch.nn.functional.sigmoid(l1)"
   ]
  },
  {
   "cell_type": "code",
   "execution_count": 149,
   "metadata": {},
   "outputs": [],
   "source": [
    "class Discretizer(nn.Module):\n",
    "    def __init__(self, num_latents, hidden_dim):\n",
    "        super().__init__()\n",
    "        self.num_latents = num_latents\n",
    "        self.hidden_dim = hidden_dim\n",
    "        #self.e = nn.Parameter(torch.zeros((num_latents, hidden_dim)))\n",
    "        self.e = nn.Parameter(torch.randn((num_latents, hidden_dim)) * 0.02)\n",
    "\n",
    "    def distance(self, a, b):\n",
    "        return ((a - b)**2).sum(dim=-1).sqrt()\n",
    "\n",
    "    def forward(self, z_e):       \n",
    "        # compute min distance between z_e and self.e for each row in z_e,\n",
    "        # return matrix with (_, e_{best match for each row})\n",
    "\n",
    "        # to find the embedding row of self.e that matches best with the input\n",
    "        # for each row in the input z_e, we first have to align both tensors.\n",
    "        z_e_exp = z_e.repeat(1, self.e.size(0)).view(z_e.size(0) * self.e.size(0), -1)\n",
    "        e_exp = self.e.repeat(z_e.size(0), 1)\n",
    "        d = self.distance(z_e_exp, e_exp)\n",
    "\n",
    "        d = d.view(z_e.size(0), self.e.size(0))\n",
    "\n",
    "        _min_dists, idx = d.min(-1)\n",
    "        #print(_min_dists)\n",
    "\n",
    "        return self.e[idx]\n",
    "    \n",
    "        # if we would return e[idx] directly then the gradient would propagate \n",
    "        # from the decoder's output to self.e (the discrete embeddings), however\n",
    "        # the paper implements changing self.e by compoting L2(sg(z_e) - e[idx])\n",
    "        # so we return sg(self.e[idx]) instead...\n",
    "        return Variable(self.e[idx].data, requires_grad=True)"
   ]
  },
  {
   "cell_type": "code",
   "execution_count": 150,
   "metadata": {
    "collapsed": true
   },
   "outputs": [],
   "source": [
    "class VQVAE(nn.Module):\n",
    "        def __init__(self, input_dim, hidden_dim, num_latents, latent_dim):\n",
    "            super().__init__()\n",
    "            self.enc = Encoder(input_dim, hidden_dim, latent_dim)\n",
    "            self.dis = Discretizer(num_latents, latent_dim)\n",
    "            self.dec = Decoder(latent_dim, hidden_dim, input_dim)\n",
    "\n",
    "        def forward(self, x):\n",
    "            z_e = self.enc(x)\n",
    "            e_k = self.dis(z_e)\n",
    "            z_q = self.dec(e_k)\n",
    "            return z_q, z_e, e_k"
   ]
  },
  {
   "cell_type": "code",
   "execution_count": 151,
   "metadata": {
    "collapsed": true
   },
   "outputs": [],
   "source": [
    "MNIST = torchvision.datasets.MNIST('../data', train=True, download=True,\n",
    "                   transform=torchvision.transforms.Compose([\n",
    "                       torchvision.transforms.ToTensor(),\n",
    "                       torchvision.transforms.Normalize((0.1307,), (0.3081,))\n",
    "                   ]))"
   ]
  },
  {
   "cell_type": "code",
   "execution_count": 152,
   "metadata": {
    "collapsed": true
   },
   "outputs": [],
   "source": [
    "train_loader = lambda _ds, **kwargs: torch.utils.data.DataLoader(MNIST, **kwargs)"
   ]
  },
  {
   "cell_type": "code",
   "execution_count": 153,
   "metadata": {},
   "outputs": [],
   "source": [
    "class Trainer(skorch.NeuralNet):\n",
    "        def __init__(self, beta=0.25, criterion=nn.MSELoss, *args, **kwargs):\n",
    "            self.beta = beta\n",
    "            super().__init__(*args, criterion=criterion, **kwargs)\n",
    "            \n",
    "        def initialize_module(self, *args, **kwargs):\n",
    "            r = super().initialize_module(*args, **kwargs)\n",
    "            \n",
    "            #self.module_.enc.l0.weight.register_hook(lambda grad: print('l0grad',grad))\n",
    "            #self.module_.enc.l1.weight.register_hook(lambda grad: print('l1grad',grad))\n",
    "            \n",
    "            return r\n",
    "            \n",
    "        def evaluation_step(self, *args, **kwargs):\n",
    "            ret = super().evaluation_step(*args, **kwargs)\n",
    "            return ret[0]\n",
    "\n",
    "        def train_step(self, X, _, optimizer):\n",
    "            optimizer.zero_grad()\n",
    "            \n",
    "            X = X.view(-1, 28 * 28)\n",
    "            X = skorch.utils.to_var(X, use_cuda=self.use_cuda)\n",
    "            y = skorch.utils.to_var(X, use_cuda=self.use_cuda)\n",
    "            \n",
    "            z_q, z_e, e_k = self.infer(X)\n",
    "            \n",
    "            def l2(x):\n",
    "                return (x**2).sum().sqrt()\n",
    "\n",
    "            # compute reconstruction gradient for later\n",
    "            # use in the encoder backward-pass.\n",
    "            e_k.retain_grad()\n",
    "            recon = self.criterion_(z_q, y)\n",
    "            recon.backward(retain_graph=True)\n",
    "            recon_grad = e_k.grad.clone()\n",
    "            \n",
    "            L = recon\n",
    "            L += l2(sg(z_e) - e_k)\n",
    "            L += self.beta * l2(z_e - sg(e_k))\n",
    "            \n",
    "            # since e_k is backpropagated through first, the grad \n",
    "            # is already available once we hit this hook.\n",
    "            z_e.register_hook(lambda grad: (grad + recon_grad))\n",
    "\n",
    "            L.backward()\n",
    "                                \n",
    "            optimizer.step()\n",
    "            \n",
    "            return L"
   ]
  },
  {
   "cell_type": "raw",
   "metadata": {},
   "source": [
    "import visdom\n",
    "vis = visdom.Visdom()"
   ]
  },
  {
   "cell_type": "code",
   "execution_count": 165,
   "metadata": {},
   "outputs": [],
   "source": [
    "ef = Trainer(\n",
    "    module=VQVAE,\n",
    "    module__input_dim=28 * 28,\n",
    "    module__hidden_dim=128,\n",
    "    module__latent_dim=32,\n",
    "    module__num_latents=10,\n",
    "    \n",
    "    beta=0.25,\n",
    "    \n",
    "    optimizer=torch.optim.Adam,\n",
    "    optimizer__lr=0.004,\n",
    "\n",
    "    iterator_train=train_loader,\n",
    "    iterator_train__batch_size=64,\n",
    "    iterator_train__shuffle=True,\n",
    "    \n",
    "    max_epochs=10,\n",
    "    \n",
    "    train_split=None,\n",
    "    \n",
    "    callbacks=[skorch.callbacks.ProgressBar()],\n",
    ").initialize()"
   ]
  },
  {
   "cell_type": "code",
   "execution_count": 166,
   "metadata": {
    "scrolled": false
   },
   "outputs": [
    {
     "name": "stdout",
     "output_type": "stream",
     "text": [
      "Automatic pdb calling has been turned ON\n",
      "Re-initializing module!\n"
     ]
    },
    {
     "name": "stderr",
     "output_type": "stream",
     "text": [
      "Widget Javascript not detected.  It may not be installed or enabled properly.\n"
     ]
    },
    {
     "data": {
      "application/vnd.jupyter.widget-view+json": {
       "model_id": "f4a1c471a995451297db317df045b19e"
      }
     },
     "metadata": {},
     "output_type": "display_data"
    }
   ],
   "source": [
    "%pdb on\n",
    "if False:\n",
    "    ef.load_params('vqvae.pt')\n",
    "else:\n",
    "    ef.fit(np.zeros(1), None)"
   ]
  },
  {
   "cell_type": "code",
   "execution_count": 167,
   "metadata": {
    "collapsed": true
   },
   "outputs": [],
   "source": [
    "ef.save_params('vqvae.pt')"
   ]
  },
  {
   "cell_type": "markdown",
   "metadata": {},
   "source": [
    "### Evaluation"
   ]
  },
  {
   "cell_type": "code",
   "execution_count": 168,
   "metadata": {
    "collapsed": true
   },
   "outputs": [],
   "source": [
    "num_samples = 10\n",
    "grid_side = np.ceil(np.sqrt(num_samples))\n",
    "X_eval = np.array([x.view(28 * 28) for _, (x,y) in zip(range(num_samples), iter(MNIST))])\n",
    "X_eval_hat = ef.predict_proba(X_eval)"
   ]
  },
  {
   "cell_type": "code",
   "execution_count": 169,
   "metadata": {},
   "outputs": [
    {
     "data": {
      "image/png": "[encoded data removed]",
      "text/plain": [
       "<matplotlib.figure.Figure at 0x7ff8211df400>"
      ]
     },
     "metadata": {},
     "output_type": "display_data"
    },
    {
     "name": "stdout",
     "output_type": "stream",
     "text": [
      "\r",
      "          \r",
      "701it [27:49, 39.16it/s, train_loss=0.815]"
     ]
    }
   ],
   "source": [
    "for i in range(1, num_samples, 2):\n",
    "    plt.subplot(grid_side, grid_side, i)\n",
    "    plt.imshow(X_eval[i].numpy().reshape(28, 28))\n",
    "    plt.subplot(grid_side, grid_side, i+1)\n",
    "    plt.imshow(X_eval_hat[i].reshape(28, 28))"
   ]
  },
  {
   "cell_type": "code",
   "execution_count": 159,
   "metadata": {},
   "outputs": [],
   "source": [
    "z_q, z_e, e_k = ef.infer(torch.stack(X_eval, dim=0))"
   ]
  },
  {
   "cell_type": "code",
   "execution_count": null,
   "metadata": {
    "collapsed": true
   },
   "outputs": [],
   "source": []
  },
  {
   "cell_type": "code",
   "execution_count": 160,
   "metadata": {},
   "outputs": [
    {
     "data": {
      "text/plain": [
       "<matplotlib.image.AxesImage at 0x7ff80df68470>"
      ]
     },
     "execution_count": 160,
     "metadata": {},
     "output_type": "execute_result"
    },
    {
     "data": {
      "image/png": "[encoded data removed]",
      "text/plain": [
       "<matplotlib.figure.Figure at 0x7ff821410f98>"
      ]
     },
     "metadata": {},
     "output_type": "display_data"
    }
   ],
   "source": [
    "plt.imshow(z_e.data.numpy())"
   ]
  },
  {
   "cell_type": "code",
   "execution_count": 161,
   "metadata": {},
   "outputs": [
    {
     "data": {
      "text/plain": [
       "<matplotlib.image.AxesImage at 0x7ff8212f0908>"
      ]
     },
     "execution_count": 161,
     "metadata": {},
     "output_type": "execute_result"
    },
    {
     "data": {
      "image/png": "[encoded data removed]",
      "text/plain": [
       "<matplotlib.figure.Figure at 0x7ff82144ac50>"
      ]
     },
     "metadata": {},
     "output_type": "display_data"
    },
    {
     "name": "stdout",
     "output_type": "stream",
     "text": [
      "\r",
      "          \r",
      "18/|/  2%|| 18/938 [00:13<00:32, 28.23it/s, train_loss=0.837]"
     ]
    }
   ],
   "source": [
    "plt.imshow(e_k.data.numpy())"
   ]
  },
  {
   "cell_type": "markdown",
   "metadata": {},
   "source": [
    "### Discrete embedding vectors"
   ]
  },
  {
   "cell_type": "code",
   "execution_count": 162,
   "metadata": {},
   "outputs": [
    {
     "data": {
      "text/plain": [
       "<matplotlib.image.AxesImage at 0x7ff8213b1da0>"
      ]
     },
     "execution_count": 162,
     "metadata": {},
     "output_type": "execute_result"
    },
    {
     "data": {
      "image/png": "[encoded data removed]",
      "text/plain": [
       "<matplotlib.figure.Figure at 0x7ff82130d898>"
      ]
     },
     "metadata": {},
     "output_type": "display_data"
    }
   ],
   "source": [
    "plt.imshow(ef.module_.dis.e.data.numpy())"
   ]
  },
  {
   "cell_type": "markdown",
   "metadata": {},
   "source": [
    "### Distance between latent vectors"
   ]
  },
  {
   "cell_type": "code",
   "execution_count": 163,
   "metadata": {
    "collapsed": true
   },
   "outputs": [],
   "source": [
    "D = np.array([[ef.module_.dis.distance(a,b).data[0] for a in ef.module_.dis.e] \n",
    "              for b in ef.module_.dis.e])"
   ]
  },
  {
   "cell_type": "code",
   "execution_count": 164,
   "metadata": {},
   "outputs": [
    {
     "data": {
      "text/plain": [
       "<matplotlib.image.AxesImage at 0x7ff8214975c0>"
      ]
     },
     "execution_count": 164,
     "metadata": {},
     "output_type": "execute_result"
    },
    {
     "data": {
      "image/png": "[encoded data removed]",
      "text/plain": [
       "<matplotlib.figure.Figure at 0x7ff82139a048>"
      ]
     },
     "metadata": {},
     "output_type": "display_data"
    }
   ],
   "source": [
    "plt.imshow(D)"
   ]
  },
  {
   "cell_type": "code",
   "execution_count": null,
   "metadata": {
    "collapsed": true
   },
   "outputs": [],
   "source": []
  },
  {
   "cell_type": "code",
   "execution_count": null,
   "metadata": {
    "collapsed": true
   },
   "outputs": [],
   "source": []
  },
  {
   "cell_type": "code",
   "execution_count": null,
   "metadata": {
    "collapsed": true
   },
   "outputs": [],
   "source": []
  }
 ],
 "metadata": {
  "kernelspec": {
   "display_name": "Python 3",
   "language": "python",
   "name": "python3"
  },
  "language_info": {
   "codemirror_mode": {
    "name": "ipython",
    "version": 3
   },
   "file_extension": ".py",
   "mimetype": "text/x-python",
   "name": "python",
   "nbconvert_exporter": "python",
   "pygments_lexer": "ipython3",
   "version": "3.5.2"
  }
 },
 "nbformat": 4,
 "nbformat_minor": 2
}
