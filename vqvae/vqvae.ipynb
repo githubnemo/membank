{
 "cells": [
  {
   "cell_type": "code",
   "execution_count": 1,
   "metadata": {
    "collapsed": true
   },
   "outputs": [],
   "source": [
    "import numpy as np\n",
    "import torch\n",
    "import torch.nn as nn\n",
    "from torch.autograd import Variable\n",
    "import skorch"
   ]
  },
  {
   "cell_type": "code",
   "execution_count": 2,
   "metadata": {
    "collapsed": true
   },
   "outputs": [],
   "source": [
    "import matplotlib.pyplot as plt\n",
    "%matplotlib inline"
   ]
  },
  {
   "cell_type": "code",
   "execution_count": 3,
   "metadata": {
    "collapsed": true
   },
   "outputs": [],
   "source": [
    "import torchvision"
   ]
  },
  {
   "cell_type": "code",
   "execution_count": 179,
   "metadata": {
    "collapsed": true
   },
   "outputs": [],
   "source": [
    "def sg(x):\n",
    "    \"\"\" stop gradinet function from the paper \"\"\"\n",
    "    return x.detach()\n",
    "    return skorch.utils.to_var(x.data, use_cuda=x.is_cuda)"
   ]
  },
  {
   "cell_type": "code",
   "execution_count": 180,
   "metadata": {
    "collapsed": true
   },
   "outputs": [],
   "source": [
    "def l2(x, eps=1e-8, dim=None):\n",
    "    return ((x**2).sum(dim=dim) + eps).sqrt()"
   ]
  },
  {
   "cell_type": "code",
   "execution_count": 181,
   "metadata": {
    "collapsed": true
   },
   "outputs": [],
   "source": [
    "class Encoder(nn.Module):\n",
    "    def __init__(self, input_size, hidden_dim, latent_dim):\n",
    "        super().__init__()\n",
    "        self.l0 = nn.Linear(input_size, hidden_dim)\n",
    "        self.l1 = nn.Linear(hidden_dim, hidden_dim * latent_dim)\n",
    "        self.act = nn.ReLU()\n",
    "        \n",
    "        self.hidden_dim = hidden_dim\n",
    "        self.latent_dim = latent_dim\n",
    "\n",
    "    def forward(self, x):\n",
    "        l0 = self.l0(x)\n",
    "        l0 = self.act(l0)\n",
    "        l1 = self.l1(l0)\n",
    "        l1 = self.act(l1)\n",
    "        return l1.view(x.size(0), self.hidden_dim, self.latent_dim)"
   ]
  },
  {
   "cell_type": "code",
   "execution_count": 182,
   "metadata": {
    "collapsed": true
   },
   "outputs": [],
   "source": [
    "class Decoder(nn.Module):\n",
    "    def __init__(self, latent_dim, hidden_dim, output_dim):\n",
    "        super().__init__()\n",
    "        self.l0 = nn.Linear(latent_dim * hidden_dim, hidden_dim)\n",
    "        self.l1 = nn.Linear(hidden_dim, output_dim)\n",
    "        self.act = nn.ReLU()\n",
    "\n",
    "    def forward(self, x):\n",
    "        l0 = self.l0(x.squeeze())\n",
    "        l0 = self.act(l0)\n",
    "        l1 = self.l1(l0)\n",
    "        return torch.nn.functional.sigmoid(l1)"
   ]
  },
  {
   "cell_type": "raw",
   "metadata": {},
   "source": [
    "z_e = torch.zeros(13, 32, 32, 5) # bs=13, d=5\n",
    "emb = torch.zeros(7, 5) # k=7, d=5\n",
    "\n",
    "z_e = z_e.view(-1, 5)\n",
    "\n",
    "z_e_exp = z_e.repeat(1, emb.size(0)).view(z_e.size(0) * emb.size(0), -1)\n",
    "e_exp = emb.repeat(z_e.size(0), 1)\n",
    "\n",
    "\n",
    "# dist = torch.norm()\n",
    "\n",
    "# 1. idx = (13, 32, 32, 1) \n",
    "\n",
    "z_e_exp.size()"
   ]
  },
  {
   "cell_type": "code",
   "execution_count": 183,
   "metadata": {
    "collapsed": true
   },
   "outputs": [],
   "source": [
    "class Discretizer(nn.Module):\n",
    "    def __init__(self, num_latents, emb_dim):\n",
    "        super().__init__()\n",
    "        self.num_latents = num_latents\n",
    "        self.hidden_dim = emb_dim\n",
    "        #self.e = nn.Parameter(torch.zeros((num_latents, hidden_dim)))\n",
    "        self.e = nn.Parameter(torch.randn((num_latents, emb_dim)) * 0.02)\n",
    "\n",
    "        self.count=1\n",
    "        \n",
    "    def distance(self, a, b):\n",
    "        return l2(a - b, dim=-1)\n",
    "    \n",
    "    def forward(self, z_e):\n",
    "        #return z_e\n",
    "        org_shape = z_e.size()\n",
    "        z_e = z_e.view(-1, z_e.size(-1))\n",
    "        \n",
    "        # compute min distance between z_e and self.e for each row in z_e,\n",
    "        # return matrix with (_, e_{best match for each row})\n",
    "\n",
    "        # to find the embedding row of self.e that matches best with the input\n",
    "        # for each row in the input z_e, we first have to align both tensors.\n",
    "        z_e_exp = z_e.repeat(1, self.e.size(0)).view(z_e.size(0) * self.e.size(0), -1)\n",
    "        e_exp = self.e.repeat(z_e.size(0), 1)\n",
    "        d = self.distance(z_e_exp, e_exp)\n",
    "        \n",
    "        d = d.view(z_e.size(0), self.e.size(0))\n",
    "\n",
    "        _min_dists, idx = d.min(-1)\n",
    "        #print(_min_dists)\n",
    "        \n",
    "        #if self.count % 100 == 0:\n",
    "        #    import pdb; pdb.set_trace()\n",
    "        #self.count += 1\n",
    "\n",
    "        return self.e[idx].view(org_shape)"
   ]
  },
  {
   "cell_type": "code",
   "execution_count": 184,
   "metadata": {
    "collapsed": true
   },
   "outputs": [],
   "source": [
    "class VQVAE(nn.Module):\n",
    "        def __init__(self, input_dim, hidden_dim, num_latents, latent_dim):\n",
    "            super().__init__()\n",
    "            self.enc = Encoder(input_dim, hidden_dim, latent_dim)\n",
    "            self.dis = Discretizer(num_latents, latent_dim)\n",
    "            self.dec = Decoder(latent_dim, hidden_dim, input_dim)\n",
    "\n",
    "        def forward(self, x):\n",
    "            z_e = self.enc(x)\n",
    "            e_k = self.dis(z_e)\n",
    "            z_q = self.dec(e_k)\n",
    "            #import pdb; pdb.set_trace()\n",
    "            return z_q, z_e, e_k"
   ]
  },
  {
   "cell_type": "code",
   "execution_count": 185,
   "metadata": {
    "collapsed": true
   },
   "outputs": [],
   "source": [
    "MNIST = torchvision.datasets.MNIST('../data', train=True, download=True,\n",
    "                   transform=torchvision.transforms.Compose([\n",
    "                       torchvision.transforms.ToTensor(),\n",
    "                       torchvision.transforms.Normalize((0.1307,), (0.3081,))\n",
    "                   ]))"
   ]
  },
  {
   "cell_type": "code",
   "execution_count": 186,
   "metadata": {
    "collapsed": true
   },
   "outputs": [],
   "source": [
    "train_loader = lambda _ds, **kwargs: torch.utils.data.DataLoader(MNIST, **kwargs)"
   ]
  },
  {
   "cell_type": "code",
   "execution_count": 229,
   "metadata": {
    "collapsed": true
   },
   "outputs": [],
   "source": [
    "class Trainer(skorch.NeuralNet):\n",
    "        def __init__(self, beta=0.25, criterion=nn.MSELoss, *args, **kwargs):\n",
    "            self.beta = beta\n",
    "            super().__init__(*args, criterion=criterion, **kwargs)\n",
    "            \n",
    "        def initialize_module(self, *args, **kwargs):\n",
    "            r = super().initialize_module(*args, **kwargs)\n",
    "            \n",
    "#             self.module_.enc.l0.weight.register_hook(lambda grad: print('l0grad',grad.mean()))\n",
    "#             self.module_.enc.l1.weight.register_hook(lambda grad: print('l1grad',grad.mean()))\n",
    "            \n",
    "            return r\n",
    "            \n",
    "        def evaluation_step(self, *args, **kwargs):\n",
    "            ret = super().evaluation_step(*args, **kwargs)\n",
    "            return ret[0]\n",
    "\n",
    "        def train_step(self, X, _):\n",
    "            self.optimizer_.zero_grad()\n",
    "            \n",
    "            X = X.view(-1, 28 * 28)\n",
    "            X = skorch.utils.to_var(X, use_cuda=self.use_cuda)\n",
    "            y = skorch.utils.to_var(X, use_cuda=self.use_cuda)\n",
    "            \n",
    "            z_q, z_e, e_k = self.infer(X)\n",
    "\n",
    "            recon = self.criterion_(z_q, y)\n",
    "            vq = l2(sg(z_e) - e_k)\n",
    "            commit = self.beta * l2(z_e - sg(e_k))\n",
    "\n",
    "            e_k.retain_grad()\n",
    "            L = recon + vq + commit\n",
    "            L.backward(retain_graph=True)\n",
    "            \n",
    "            z_e.backward(gradient=e_k.grad)\n",
    "            \n",
    "            avg_encoder_grad = np.array([p.grad.mean().data[0] for p in self.module_.enc.parameters()]).mean()\n",
    "\n",
    "            self.history.record_batch('recon', recon.data[0])\n",
    "            self.history.record_batch('vq', vq.data[0])\n",
    "            self.history.record_batch('commit', commit.data[0])\n",
    "            self.history.record_batch('avg_enc_grad', avg_encoder_grad)\n",
    "\n",
    "            self.optimizer_.step()\n",
    "            \n",
    "            return L"
   ]
  },
  {
   "cell_type": "raw",
   "metadata": {},
   "source": [
    "import visdom\n",
    "vis = visdom.Visdom()"
   ]
  },
  {
   "cell_type": "code",
   "execution_count": 231,
   "metadata": {},
   "outputs": [],
   "source": [
    "torch.manual_seed(42)\n",
    "ef = Trainer(\n",
    "    module=VQVAE,\n",
    "    module__input_dim=28 * 28,\n",
    "    module__hidden_dim=128,\n",
    "    module__latent_dim=1,\n",
    "    module__num_latents=32,\n",
    "    \n",
    "    beta=1.1,#0.25,\n",
    "    \n",
    "    optimizer=torch.optim.Adam,\n",
    "    optimizer__lr=0.002,\n",
    "\n",
    "    iterator_train=train_loader,\n",
    "    iterator_train__batch_size=64,\n",
    "    iterator_train__shuffle=True,\n",
    "    \n",
    "    max_epochs=10,\n",
    "    \n",
    "    train_split=None,\n",
    "    \n",
    "    use_cuda=True,\n",
    "    \n",
    "    callbacks=[skorch.callbacks.ProgressBar(postfix_keys=['train_loss', 'recon', 'vq','commit', 'avg_enc_grad'])],\n",
    ").initialize()"
   ]
  },
  {
   "cell_type": "code",
   "execution_count": null,
   "metadata": {
    "scrolled": false
   },
   "outputs": [
    {
     "name": "stdout",
     "output_type": "stream",
     "text": [
      "Automatic pdb calling has been turned ON\n",
      "Re-initializing module!\n"
     ]
    },
    {
     "name": "stderr",
     "output_type": "stream",
     "text": [
      "Widget Javascript not detected.  It may not be installed or enabled properly.\n"
     ]
    },
    {
     "data": {
      "application/vnd.jupyter.widget-view+json": {
       "model_id": "613bfb688d384adfa3f20a3ba4339848"
      }
     },
     "metadata": {},
     "output_type": "display_data"
    }
   ],
   "source": [
    "%pdb on\n",
    "if False:\n",
    "    ef.load_params('vqvae.pt')\n",
    "else:\n",
    "    ef.fit(np.zeros(1), np.zeros(1))"
   ]
  },
  {
   "cell_type": "code",
   "execution_count": 228,
   "metadata": {
    "collapsed": true
   },
   "outputs": [],
   "source": [
    "ef.save_params('vqvae.pt')"
   ]
  },
  {
   "cell_type": "markdown",
   "metadata": {},
   "source": [
    "### Evaluation"
   ]
  },
  {
   "cell_type": "code",
   "execution_count": 207,
   "metadata": {},
   "outputs": [],
   "source": [
    "num_samples = 10\n",
    "grid_side = np.ceil(np.sqrt(num_samples))\n",
    "X_eval = np.array([x.view(28 * 28) for _, (x,y) in zip(range(num_samples), iter(MNIST))])\n",
    "X_eval_hat = ef.predict_proba(X_eval)"
   ]
  },
  {
   "cell_type": "code",
   "execution_count": 208,
   "metadata": {},
   "outputs": [
    {
     "data": {
      "image/png": "[encoded data removed]",
      "text/plain": [
       "<matplotlib.figure.Figure at 0x7f04f1cda860>"
      ]
     },
     "metadata": {},
     "output_type": "display_data"
    }
   ],
   "source": [
    "for i in range(1, num_samples, 2):\n",
    "    plt.subplot(grid_side, grid_side, i)\n",
    "    plt.imshow(X_eval[i].numpy().reshape(28, 28))\n",
    "    plt.subplot(grid_side, grid_side, i+1)\n",
    "    plt.imshow(X_eval_hat[i].reshape(28, 28))"
   ]
  },
  {
   "cell_type": "code",
   "execution_count": 209,
   "metadata": {
    "collapsed": true
   },
   "outputs": [],
   "source": [
    "z_q, z_e, e_k = ef.infer(torch.stack(X_eval, dim=0))"
   ]
  },
  {
   "cell_type": "code",
   "execution_count": null,
   "metadata": {
    "collapsed": true
   },
   "outputs": [],
   "source": []
  },
  {
   "cell_type": "code",
   "execution_count": 210,
   "metadata": {},
   "outputs": [
    {
     "data": {
      "text/plain": [
       "<matplotlib.image.AxesImage at 0x7f04f1b240f0>"
      ]
     },
     "execution_count": 210,
     "metadata": {},
     "output_type": "execute_result"
    },
    {
     "data": {
      "image/png": "[encoded data removed]",
      "text/plain": [
       "<matplotlib.figure.Figure at 0x7f04f1c6ebe0>"
      ]
     },
     "metadata": {},
     "output_type": "display_data"
    }
   ],
   "source": [
    "plt.imshow(z_e.squeeze().data.cpu().numpy())"
   ]
  },
  {
   "cell_type": "code",
   "execution_count": 211,
   "metadata": {},
   "outputs": [
    {
     "ename": "RuntimeError",
     "evalue": "can't convert CUDA tensor to numpy (it doesn't support GPU arrays). Use .cpu() to move the tensor to host memory first.",
     "output_type": "error",
     "traceback": [
      "\u001b[0;31m---------------------------------------------------------------------------\u001b[0m",
      "\u001b[0;31mRuntimeError\u001b[0m                              Traceback (most recent call last)",
      "\u001b[0;32m<ipython-input-211-a8660f260114>\u001b[0m in \u001b[0;36m<module>\u001b[0;34m()\u001b[0m\n\u001b[0;32m----> 1\u001b[0;31m \u001b[0mplt\u001b[0m\u001b[0;34m.\u001b[0m\u001b[0mimshow\u001b[0m\u001b[0;34m(\u001b[0m\u001b[0me_k\u001b[0m\u001b[0;34m.\u001b[0m\u001b[0mdata\u001b[0m\u001b[0;34m.\u001b[0m\u001b[0mnumpy\u001b[0m\u001b[0;34m(\u001b[0m\u001b[0;34m)\u001b[0m\u001b[0;34m)\u001b[0m\u001b[0;34m\u001b[0m\u001b[0m\n\u001b[0m",
      "\u001b[0;31mRuntimeError\u001b[0m: can't convert CUDA tensor to numpy (it doesn't support GPU arrays). Use .cpu() to move the tensor to host memory first."
     ]
    },
    {
     "name": "stdout",
     "output_type": "stream",
     "text": [
      "> \u001b[0;32m<ipython-input-211-a8660f260114>\u001b[0m(1)\u001b[0;36m<module>\u001b[0;34m()\u001b[0m\n",
      "\u001b[0;32m----> 1 \u001b[0;31m\u001b[0mplt\u001b[0m\u001b[0;34m.\u001b[0m\u001b[0mimshow\u001b[0m\u001b[0;34m(\u001b[0m\u001b[0me_k\u001b[0m\u001b[0;34m.\u001b[0m\u001b[0mdata\u001b[0m\u001b[0;34m.\u001b[0m\u001b[0mnumpy\u001b[0m\u001b[0;34m(\u001b[0m\u001b[0;34m)\u001b[0m\u001b[0;34m)\u001b[0m\u001b[0;34m\u001b[0m\u001b[0m\n",
      "\u001b[0m\n",
      "ipdb> \n"
     ]
    }
   ],
   "source": [
    "plt.imshow(e_k.data.numpy())"
   ]
  },
  {
   "cell_type": "markdown",
   "metadata": {},
   "source": [
    "### Discrete embedding vectors"
   ]
  },
  {
   "cell_type": "code",
   "execution_count": 212,
   "metadata": {},
   "outputs": [
    {
     "data": {
      "text/plain": [
       "<matplotlib.image.AxesImage at 0x7f04f1a85e10>"
      ]
     },
     "execution_count": 212,
     "metadata": {},
     "output_type": "execute_result"
    },
    {
     "data": {
      "image/png": "[encoded data removed]",
      "text/plain": [
       "<matplotlib.figure.Figure at 0x7f04f16a42e8>"
      ]
     },
     "metadata": {},
     "output_type": "display_data"
    }
   ],
   "source": [
    "plt.imshow(ef.module_.dis.e.data.cpu().numpy())"
   ]
  },
  {
   "cell_type": "markdown",
   "metadata": {},
   "source": [
    "### Distance between latent vectors"
   ]
  },
  {
   "cell_type": "code",
   "execution_count": 213,
   "metadata": {
    "collapsed": true
   },
   "outputs": [],
   "source": [
    "D = np.array([[ef.module_.dis.distance(a,b).data[0] for a in ef.module_.dis.e] \n",
    "              for b in ef.module_.dis.e])"
   ]
  },
  {
   "cell_type": "code",
   "execution_count": null,
   "metadata": {},
   "outputs": [],
   "source": [
    "plt.imshow(D)"
   ]
  },
  {
   "cell_type": "code",
   "execution_count": null,
   "metadata": {
    "collapsed": true
   },
   "outputs": [],
   "source": []
  },
  {
   "cell_type": "code",
   "execution_count": null,
   "metadata": {
    "collapsed": true
   },
   "outputs": [],
   "source": []
  },
  {
   "cell_type": "code",
   "execution_count": null,
   "metadata": {
    "collapsed": true
   },
   "outputs": [],
   "source": []
  }
 ],
 "metadata": {
  "kernelspec": {
   "display_name": "Python 3",
   "language": "python",
   "name": "python3"
  },
  "language_info": {
   "codemirror_mode": {
    "name": "ipython",
    "version": 3
   },
   "file_extension": ".py",
   "mimetype": "text/x-python",
   "name": "python",
   "nbconvert_exporter": "python",
   "pygments_lexer": "ipython3",
   "version": "3.6.1"
  }
 },
 "nbformat": 4,
 "nbformat_minor": 2
}
