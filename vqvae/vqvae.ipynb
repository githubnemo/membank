{
 "cells": [
  {
   "cell_type": "code",
   "execution_count": 1,
   "metadata": {
    "collapsed": true
   },
   "outputs": [],
   "source": [
    "import numpy as np\n",
    "import torch\n",
    "import torch.nn as nn\n",
    "from torch.autograd import Variable\n",
    "import skorch"
   ]
  },
  {
   "cell_type": "code",
   "execution_count": 45,
   "metadata": {
    "collapsed": true
   },
   "outputs": [],
   "source": [
    "import matplotlib.pyplot as plt\n",
    "%matplotlib inline"
   ]
  },
  {
   "cell_type": "code",
   "execution_count": 2,
   "metadata": {
    "collapsed": true
   },
   "outputs": [],
   "source": [
    "import torchvision"
   ]
  },
  {
   "cell_type": "code",
   "execution_count": 196,
   "metadata": {
    "collapsed": true
   },
   "outputs": [],
   "source": [
    "class Encoder(nn.Module):\n",
    "    def __init__(self, input_size, hidden_dim):\n",
    "        super().__init__()\n",
    "        self.l0 = nn.Linear(input_size, hidden_dim)\n",
    "        self.l1 = nn.Linear(hidden_dim, hidden_dim)\n",
    "        self.act = nn.ReLU()\n",
    "\n",
    "    def forward(self, x):\n",
    "        l0 = self.l0(x)\n",
    "        l0 = self.act(l0)\n",
    "        l1 = self.l1(l0)\n",
    "        l1 = self.act(l1)\n",
    "        return l1"
   ]
  },
  {
   "cell_type": "code",
   "execution_count": 197,
   "metadata": {
    "collapsed": true
   },
   "outputs": [],
   "source": [
    "class Decoder(nn.Module):\n",
    "    def __init__(self, hidden_dim, output_dim):\n",
    "        super().__init__()\n",
    "        self.l0 = nn.Linear(hidden_dim, hidden_dim)\n",
    "        self.l1 = nn.Linear(hidden_dim, output_dim)\n",
    "        self.act = nn.ReLU()\n",
    "\n",
    "    def forward(self, x):\n",
    "        l0 = self.l0(x)\n",
    "        l0 = self.act(l0)\n",
    "        l1 = self.l1(l0)\n",
    "        return l1"
   ]
  },
  {
   "cell_type": "code",
   "execution_count": 198,
   "metadata": {
    "collapsed": true
   },
   "outputs": [],
   "source": [
    "class Discretizer(nn.Module):\n",
    "    def __init__(self, num_latents, hidden_dim):\n",
    "        super().__init__()\n",
    "        self.num_latents = num_latents\n",
    "        self.hidden_dim = hidden_dim\n",
    "        #self.e = nn.Parameter(torch.zeros((num_latents, hidden_dim)))\n",
    "        self.e = nn.Parameter(torch.randn((num_latents, hidden_dim)))\n",
    "\n",
    "    def distance(self, a, b):\n",
    "        return ((a - b)**2).sum(dim=-1).sqrt()\n",
    "\n",
    "    def forward(self, z_e):\n",
    "        # compute min distance between z_e and self.e for each row in z_e,\n",
    "        # return matrix with (_, e_{best match for each row})\n",
    "\n",
    "        # to find the embedding row of self.e that matches best with the input\n",
    "        # for each row in the input z_e, we first have to align both tensors.\n",
    "        z_e_exp = z_e.repeat(1, self.e.size(0)).view(z_e.size(0) * self.e.size(0), -1)\n",
    "        e_exp = self.e.repeat(z_e.size(0), 1)\n",
    "        d = self.distance(z_e_exp, e_exp)\n",
    "\n",
    "        d = d.view(z_e.size(0), self.e.size(0))\n",
    "\n",
    "        _min_dists, idx = d.min(-1)\n",
    "        #print(_min_dists)\n",
    "\n",
    "        return self.e[idx]"
   ]
  },
  {
   "cell_type": "code",
   "execution_count": 199,
   "metadata": {
    "collapsed": true
   },
   "outputs": [],
   "source": [
    "class VQVAE(nn.Module):\n",
    "        def __init__(self, input_dim, hidden_dim, num_latents):\n",
    "            super().__init__()\n",
    "            self.enc = Encoder(input_dim, hidden_dim)\n",
    "            self.dis = Discretizer(num_latents, hidden_dim)\n",
    "            self.dec = Decoder(hidden_dim, input_dim)\n",
    "\n",
    "        def forward(self, x):\n",
    "            z_e = self.enc(x)\n",
    "            e_k = self.dis(z_e)\n",
    "            z_q = self.dec(e_k)\n",
    "            return z_q, z_e, e_k"
   ]
  },
  {
   "cell_type": "code",
   "execution_count": 200,
   "metadata": {
    "collapsed": true
   },
   "outputs": [],
   "source": [
    "MNIST = torchvision.datasets.MNIST('../data', train=True, download=True,\n",
    "                   transform=torchvision.transforms.Compose([\n",
    "                       torchvision.transforms.ToTensor(),\n",
    "                       torchvision.transforms.Normalize((0.1307,), (0.3081,))\n",
    "                   ]))"
   ]
  },
  {
   "cell_type": "code",
   "execution_count": 201,
   "metadata": {
    "collapsed": true
   },
   "outputs": [],
   "source": [
    "train_loader = lambda _ds, **kwargs: torch.utils.data.DataLoader(MNIST, **kwargs)"
   ]
  },
  {
   "cell_type": "code",
   "execution_count": 227,
   "metadata": {
    "collapsed": true
   },
   "outputs": [],
   "source": [
    "class Trainer(skorch.NeuralNet):\n",
    "        def __init__(self, beta=0.25, criterion=nn.MSELoss, *args, **kwargs):\n",
    "            self.beta = beta\n",
    "            super().__init__(*args, criterion=criterion, **kwargs)\n",
    "            \n",
    "        def evaluation_step(self, *args, **kwargs):\n",
    "            ret = super().evaluation_step(*args, **kwargs)\n",
    "            return ret[0]\n",
    "\n",
    "        def train_step(self, X, _, optimizer):\n",
    "            optimizer.zero_grad()\n",
    "            \n",
    "            X = X.view(-1, 28 * 28)\n",
    "            X = skorch.utils.to_var(X, use_cuda=self.use_cuda)\n",
    "            y = skorch.utils.to_var(X, use_cuda=self.use_cuda)\n",
    "            \n",
    "            z_q, z_e, e_k = self.infer(X)\n",
    "            \n",
    "            def l2(x):\n",
    "                return (x**2).sum().sqrt()\n",
    "            \n",
    "            def sg(x):\n",
    "                return Variable(x.data)\n",
    "            \n",
    "            # Compute gradient for e_k -> z_q so \n",
    "            # we can pass the gradient wrt. e_k to \n",
    "            # the encoder gradient computation.\n",
    "            e_k.retain_grad()\n",
    "            L = self.criterion_(z_q, y)\n",
    "            L.backward(retain_graph=True)\n",
    "            e_k_grad = e_k.grad\n",
    "            \n",
    "            optimizer.zero_grad()\n",
    "            \n",
    "            L += l2(sg(z_e) - e_k)\n",
    "            L += self.beta * l2(z_e - sg(e_k))\n",
    "                                    \n",
    "            # Compute the whole loss while passing the \n",
    "            # gradient wrt. e_k to the encoder.\n",
    "            # We combine both gradients (third loss term \n",
    "            # and the passed gradient) to compute the\n",
    "            # final gradient for the encoder.\n",
    "            z_e.register_hook(lambda grad: grad + e_k_grad)\n",
    "            #z_e.register_hook(lambda grad: e_k_grad)\n",
    "\n",
    "            L.backward()\n",
    "\n",
    "            optimizer.step()\n",
    "            return L"
   ]
  },
  {
   "cell_type": "code",
   "execution_count": 228,
   "metadata": {
    "collapsed": true
   },
   "outputs": [],
   "source": [
    "ef = Trainer(\n",
    "    module=VQVAE,\n",
    "    module__input_dim=28 * 28,\n",
    "    module__hidden_dim=128,\n",
    "    module__num_latents=10,\n",
    "    \n",
    "    optimizer=torch.optim.Adam,\n",
    "    optimizer__lr=0.002,\n",
    "\n",
    "    iterator_train=train_loader,\n",
    "    iterator_train__batch_size=64,\n",
    "    \n",
    "    train_split=None,\n",
    "    \n",
    "    callbacks=[skorch.callbacks.ProgressBar()],\n",
    ").initialize()"
   ]
  },
  {
   "cell_type": "code",
   "execution_count": 229,
   "metadata": {
    "scrolled": false
   },
   "outputs": [
    {
     "name": "stdout",
     "output_type": "stream",
     "text": [
      "Automatic pdb calling has been turned ON\n",
      "Re-initializing module!\n"
     ]
    },
    {
     "name": "stderr",
     "output_type": "stream",
     "text": [
      "Widget Javascript not detected.  It may not be installed or enabled properly.\n"
     ]
    },
    {
     "data": {
      "application/vnd.jupyter.widget-view+json": {
       "model_id": "eba6db6ca2c240db837a5596eb033d68"
      }
     },
     "metadata": {},
     "output_type": "display_data"
    },
    {
     "name": "stdout",
     "output_type": "stream",
     "text": [
      "  epoch    train_loss      dur\n",
      "-------  ------------  -------\n",
      "      1   \u001b[36m325512.6578\u001b[0m  31.3744\n"
     ]
    },
    {
     "name": "stderr",
     "output_type": "stream",
     "text": [
      "Widget Javascript not detected.  It may not be installed or enabled properly.\n"
     ]
    },
    {
     "data": {
      "application/vnd.jupyter.widget-view+json": {
       "model_id": "6e5c4bd0ace7492a87227e75c9b4cdce"
      }
     },
     "metadata": {},
     "output_type": "display_data"
    },
    {
     "name": "stdout",
     "output_type": "stream",
     "text": [
      "      2  3093919.5543  36.3702\n"
     ]
    },
    {
     "name": "stderr",
     "output_type": "stream",
     "text": [
      "Widget Javascript not detected.  It may not be installed or enabled properly.\n"
     ]
    },
    {
     "data": {
      "application/vnd.jupyter.widget-view+json": {
       "model_id": "c25c0201a6dc4804b35814a31e00faf8"
      }
     },
     "metadata": {},
     "output_type": "display_data"
    },
    {
     "name": "stdout",
     "output_type": "stream",
     "text": [
      "      3  8366164.2387  37.1147\n"
     ]
    },
    {
     "name": "stderr",
     "output_type": "stream",
     "text": [
      "Widget Javascript not detected.  It may not be installed or enabled properly.\n"
     ]
    },
    {
     "data": {
      "application/vnd.jupyter.widget-view+json": {
       "model_id": "3655f04f1af746159b8e2d9264cbd0ef"
      }
     },
     "metadata": {},
     "output_type": "display_data"
    }
   ],
   "source": [
    "%pdb on\n",
    "if False:\n",
    "    ef.load_params('vqvae.pt')\n",
    "else:\n",
    "    ef.fit(np.zeros(1), None)"
   ]
  },
  {
   "cell_type": "code",
   "execution_count": 205,
   "metadata": {
    "collapsed": true
   },
   "outputs": [],
   "source": [
    "ef.save_params('vqvae.pt')"
   ]
  },
  {
   "cell_type": "code",
   "execution_count": 206,
   "metadata": {},
   "outputs": [
    {
     "data": {
      "text/plain": [
       "Variable containing:\n",
       "-0.1061\n",
       " 0.0476\n",
       "-0.0732\n",
       " 0.0163\n",
       " 0.0537\n",
       " 0.2818\n",
       " 0.0216\n",
       " 0.1769\n",
       " 0.0354\n",
       " 0.0396\n",
       "[torch.FloatTensor of size 10]"
      ]
     },
     "execution_count": 206,
     "metadata": {},
     "output_type": "execute_result"
    }
   ],
   "source": [
    "ef.module_.dis.e.mean(dim=-1)"
   ]
  },
  {
   "cell_type": "code",
   "execution_count": 207,
   "metadata": {},
   "outputs": [
    {
     "data": {
      "text/plain": [
       "Variable containing:\n",
       "-0.1061\n",
       " 0.0476\n",
       "-0.0732\n",
       " 0.0163\n",
       " 0.0537\n",
       " 0.2818\n",
       " 0.0216\n",
       " 0.1769\n",
       " 0.0354\n",
       " 0.0396\n",
       "[torch.FloatTensor of size 10]"
      ]
     },
     "execution_count": 207,
     "metadata": {},
     "output_type": "execute_result"
    }
   ],
   "source": [
    "ef.module_.dis.e.mean(dim=-1)"
   ]
  },
  {
   "cell_type": "markdown",
   "metadata": {},
   "source": [
    "### Evaluation"
   ]
  },
  {
   "cell_type": "code",
   "execution_count": 208,
   "metadata": {},
   "outputs": [],
   "source": [
    "num_samples = 10\n",
    "grid_side = np.ceil(np.sqrt(num_samples))\n",
    "X_eval = np.array([x.view(28 * 28) for _, (x,y) in zip(range(num_samples), iter(MNIST))])\n",
    "X_eval_hat = ef.predict_proba(X_eval)"
   ]
  },
  {
   "cell_type": "code",
   "execution_count": 209,
   "metadata": {},
   "outputs": [
    {
     "data": {
      "image/png": "[encoded data removed]",
      "text/plain": [
       "<matplotlib.figure.Figure at 0x7f3be7f70550>"
      ]
     },
     "metadata": {},
     "output_type": "display_data"
    }
   ],
   "source": [
    "for i in range(1, num_samples, 2):\n",
    "    plt.subplot(grid_side, grid_side, i)\n",
    "    plt.imshow(X_eval[i].numpy().reshape(28, 28))\n",
    "    plt.subplot(grid_side, grid_side, i+1)\n",
    "    plt.imshow(X_eval_hat[i].reshape(28, 28))"
   ]
  },
  {
   "cell_type": "code",
   "execution_count": 210,
   "metadata": {},
   "outputs": [],
   "source": [
    "z_q, z_e, e_k = ef.infer(torch.stack(X_eval, dim=0))"
   ]
  },
  {
   "cell_type": "code",
   "execution_count": 211,
   "metadata": {},
   "outputs": [
    {
     "data": {
      "text/plain": [
       "Variable containing:\n",
       " 0.0000  0.0000  0.0000  ...   0.3947  0.4225  0.4647\n",
       " 0.0000  0.0000  0.0000  ...   0.3931  0.4217  0.4630\n",
       " 0.0000  0.0000  0.0000  ...   0.3922  0.4192  0.4626\n",
       "          ...             ⋱             ...          \n",
       " 0.0000  0.0000  0.0000  ...   0.3949  0.4233  0.4643\n",
       " 0.0000  0.0000  0.0000  ...   0.3929  0.4210  0.4623\n",
       " 0.0000  0.0000  0.0000  ...   0.3945  0.4234  0.4643\n",
       "[torch.FloatTensor of size 10x128]"
      ]
     },
     "execution_count": 211,
     "metadata": {},
     "output_type": "execute_result"
    }
   ],
   "source": [
    "z_e"
   ]
  },
  {
   "cell_type": "code",
   "execution_count": 212,
   "metadata": {},
   "outputs": [
    {
     "data": {
      "text/plain": [
       "Variable containing:\n",
       " 1.9661e-04  2.8152e-04 -7.9465e-05  ...   3.9167e-01  4.1696e-01  4.6273e-01\n",
       " 1.9661e-04  2.8152e-04 -7.9465e-05  ...   3.9167e-01  4.1696e-01  4.6273e-01\n",
       " 1.9661e-04  2.8152e-04 -7.9465e-05  ...   3.9167e-01  4.1696e-01  4.6273e-01\n",
       "                ...                   ⋱                   ...                \n",
       " 1.9661e-04  2.8152e-04 -7.9465e-05  ...   3.9167e-01  4.1696e-01  4.6273e-01\n",
       " 1.9661e-04  2.8152e-04 -7.9465e-05  ...   3.9167e-01  4.1696e-01  4.6273e-01\n",
       " 1.9661e-04  2.8152e-04 -7.9465e-05  ...   3.9167e-01  4.1696e-01  4.6273e-01\n",
       "[torch.FloatTensor of size 10x128]"
      ]
     },
     "execution_count": 212,
     "metadata": {},
     "output_type": "execute_result"
    }
   ],
   "source": [
    "e_k"
   ]
  },
  {
   "cell_type": "markdown",
   "metadata": {},
   "source": [
    "### Distance between latent vectors"
   ]
  },
  {
   "cell_type": "code",
   "execution_count": 223,
   "metadata": {},
   "outputs": [],
   "source": [
    "D = np.array([[ef.module_.dis.distance(a,b).data[0] for a in ef.module_.dis.e] \n",
    "              for b in ef.module_.dis.e])"
   ]
  },
  {
   "cell_type": "code",
   "execution_count": 224,
   "metadata": {},
   "outputs": [
    {
     "data": {
      "text/plain": [
       "<matplotlib.image.AxesImage at 0x7f3bca739e48>"
      ]
     },
     "execution_count": 224,
     "metadata": {},
     "output_type": "execute_result"
    },
    {
     "data": {
      "image/png": "[encoded data removed]",
      "text/plain": [
       "<matplotlib.figure.Figure at 0x7f3be7c9a400>"
      ]
     },
     "metadata": {},
     "output_type": "display_data"
    }
   ],
   "source": [
    "plt.imshow(D)"
   ]
  },
  {
   "cell_type": "code",
   "execution_count": null,
   "metadata": {
    "collapsed": true
   },
   "outputs": [],
   "source": []
  }
 ],
 "metadata": {
  "kernelspec": {
   "display_name": "Python 3",
   "language": "python",
   "name": "python3"
  },
  "language_info": {
   "codemirror_mode": {
    "name": "ipython",
    "version": 3
   },
   "file_extension": ".py",
   "mimetype": "text/x-python",
   "name": "python",
   "nbconvert_exporter": "python",
   "pygments_lexer": "ipython3",
   "version": "3.5.2"
  }
 },
 "nbformat": 4,
 "nbformat_minor": 2
}
