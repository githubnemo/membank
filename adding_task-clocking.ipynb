{
 "cells": [
  {
   "cell_type": "code",
   "execution_count": 131,
   "metadata": {},
   "outputs": [],
   "source": [
    "import torch\n",
    "import torch.nn as nn\n",
    "from torch.nn import functional as F\n",
    "import skorch\n",
    "import numpy as np\n",
    "\n",
    "from torch.autograd import Variable"
   ]
  },
  {
   "cell_type": "code",
   "execution_count": 132,
   "metadata": {},
   "outputs": [],
   "source": [
    "%matplotlib inline\n",
    "from matplotlib import pyplot as plt"
   ]
  },
  {
   "cell_type": "code",
   "execution_count": 133,
   "metadata": {},
   "outputs": [],
   "source": [
    "def repeat_and_mark(x, rep=2, mark=True):\n",
    "    o = torch.zeros(*x.shape[:-1], 1).to(x)\n",
    "    x_mark = torch.cat([x, o], dim=-1)\n",
    "    xx_pre = x_mark[:, :, None, :].repeat(1, 1, rep, 1)\n",
    "    if mark:\n",
    "        # mark beginning of repetitions with 1\n",
    "        xx_pre[:, :, 0, -1] = 1\n",
    "    return xx_pre.view(x_mark.shape[0], x_mark.shape[1]*rep, x_mark.shape[2])"
   ]
  },
  {
   "cell_type": "code",
   "execution_count": 134,
   "metadata": {},
   "outputs": [
    {
     "data": {
      "image/png": "[encoded data removed]",
      "text/plain": [
       "<matplotlib.figure.Figure at 0x7faa63dd46d8>"
      ]
     },
     "metadata": {},
     "output_type": "display_data"
    }
   ],
   "source": [
    "shape, scale = 1., 2.  # mean=2, std=2*sqrt(1)\n",
    "s = np.random.gamma(shape, scale, 1000)\n",
    "\n",
    "import matplotlib.pyplot as plt\n",
    "import scipy.special as sps\n",
    "count, bins, ignored = plt.hist(s, 50, normed=True)\n",
    "y = bins**(shape-1)*(np.exp(-bins/scale) /\n",
    "                      (sps.gamma(shape)*scale**shape))\n",
    "plt.plot(bins, y, linewidth=2, color='r')\n",
    "plt.show()"
   ]
  },
  {
   "cell_type": "code",
   "execution_count": 135,
   "metadata": {},
   "outputs": [
    {
     "data": {
      "text/plain": [
       "(1.9464693413885592, 1.8625110833168257, 2.0)"
      ]
     },
     "execution_count": 135,
     "metadata": {},
     "output_type": "execute_result"
    }
   ],
   "source": [
    "s.mean(), s.std(), 2*np.sqrt(1)"
   ]
  },
  {
   "cell_type": "code",
   "execution_count": null,
   "metadata": {},
   "outputs": [],
   "source": []
  },
  {
   "cell_type": "code",
   "execution_count": 136,
   "metadata": {
    "scrolled": true
   },
   "outputs": [
    {
     "data": {
      "text/plain": [
       "(array([400., 228., 153.,  86.,  57.,  32.,  19.,  11.,   9.,   2.,   2.,\n",
       "          1.]),\n",
       " array([ 0.        ,  0.91666667,  1.83333333,  2.75      ,  3.66666667,\n",
       "         4.58333333,  5.5       ,  6.41666667,  7.33333333,  8.25      ,\n",
       "         9.16666667, 10.08333333, 11.        ]),\n",
       " <a list of 12 Patch objects>)"
      ]
     },
     "execution_count": 136,
     "metadata": {},
     "output_type": "execute_result"
    },
    {
     "data": {
      "image/png": "[encoded data removed]",
      "text/plain": [
       "<matplotlib.figure.Figure at 0x7faa63e3cd30>"
      ]
     },
     "metadata": {},
     "output_type": "display_data"
    }
   ],
   "source": [
    "plt.hist(s.astype('int32'), bins=12)"
   ]
  },
  {
   "cell_type": "code",
   "execution_count": null,
   "metadata": {},
   "outputs": [],
   "source": []
  },
  {
   "cell_type": "code",
   "execution_count": 137,
   "metadata": {},
   "outputs": [],
   "source": [
    "t = torch.FloatTensor([10])"
   ]
  },
  {
   "cell_type": "code",
   "execution_count": 138,
   "metadata": {},
   "outputs": [],
   "source": [
    "from functools import reduce"
   ]
  },
  {
   "cell_type": "code",
   "execution_count": 139,
   "metadata": {},
   "outputs": [],
   "source": [
    "def ema(x, a):\n",
    "    return reduce(lambda y, x: a * x + (1-a)*y, x, 0)"
   ]
  },
  {
   "cell_type": "code",
   "execution_count": 140,
   "metadata": {},
   "outputs": [],
   "source": [
    "def sema(x, a):\n",
    "    return np.array([ema(x[:i], a) for i, _ in enumerate(x)])"
   ]
  },
  {
   "cell_type": "code",
   "execution_count": 141,
   "metadata": {},
   "outputs": [],
   "source": [
    "def ssema(x, a):\n",
    "    return np.array([ema(x[:i], a[i]) for i, _ in enumerate(x)])"
   ]
  },
  {
   "cell_type": "code",
   "execution_count": 142,
   "metadata": {},
   "outputs": [],
   "source": [
    "def upcay(x, a, q=0.1):\n",
    "    a = max(0, a)\n",
    "    return reduce(lambda y, _: q if (y * a) > 1 else (y * a), x, q)\n",
    "def supcay(x, a, q=0.1):\n",
    "    return np.array([upcay(x[:i], a=a, q=q) for i, _ in enumerate(x)])"
   ]
  },
  {
   "cell_type": "code",
   "execution_count": 143,
   "metadata": {},
   "outputs": [],
   "source": [
    "def decay(x, a, q=1):\n",
    "    if a == 0: return 0\n",
    "    return reduce(lambda y, _: q if y < 0.01 else (y * a), x, q)\n",
    "def sdecay(x, a, q=1):\n",
    "    return np.array([decay(x[:i], a=a, q=q) for i, _ in enumerate(x)])"
   ]
  },
  {
   "cell_type": "code",
   "execution_count": 144,
   "metadata": {},
   "outputs": [],
   "source": [
    "def ecay(x, f, q=0.1):\n",
    "    return reduce(f, x, q)\n",
    "def secay(x, f, q=0.1):\n",
    "    return np.array([ecay(x[:i], f, q=q) for i, _ in enumerate(x)])"
   ]
  },
  {
   "cell_type": "code",
   "execution_count": 145,
   "metadata": {},
   "outputs": [],
   "source": [
    "def modupcay(x, a, q=0.1):\n",
    "    return reduce(lambda y, _: (y * a), x, q)\n",
    "def smodupcay(x, a, q=0.1):\n",
    "    return np.array([modupcay(x[:i], a=a, q=q) for i, _ in enumerate(x)])"
   ]
  },
  {
   "cell_type": "code",
   "execution_count": 146,
   "metadata": {},
   "outputs": [
    {
     "data": {
      "text/plain": [
       "array([0, 0, 0, 0, 0, 0, 0, 0, 0, 0, 0, 0, 0, 0, 0, 0, 0, 0, 0, 0])"
      ]
     },
     "execution_count": 146,
     "metadata": {},
     "output_type": "execute_result"
    }
   ],
   "source": [
    "x = np.arange(0, 20)\n",
    "decay(x, 0.4)\n",
    "sdecay(x, 0.0, q=1)"
   ]
  },
  {
   "cell_type": "code",
   "execution_count": 147,
   "metadata": {},
   "outputs": [
    {
     "data": {
      "text/plain": [
       "array([  1.        ,   1.3       ,   1.69      ,   2.197     ,\n",
       "         2.8561    ,   3.71293   ,   4.826809  ,   6.2748517 ,\n",
       "         8.15730721,  10.60449937,  13.78584918,  17.92160394,\n",
       "        23.29808512,  30.28751066,  39.37376386,  51.18589301,\n",
       "        66.54166092,  86.50415919, 112.45540695, 146.19202904])"
      ]
     },
     "execution_count": 147,
     "metadata": {},
     "output_type": "execute_result"
    }
   ],
   "source": [
    "x = np.arange(0, 20)\n",
    "smodupcay(x, 1.3, q=1)"
   ]
  },
  {
   "cell_type": "code",
   "execution_count": 148,
   "metadata": {},
   "outputs": [
    {
     "data": {
      "text/plain": [
       "array([0.1       , 0.11      , 0.121     , 0.1331    , 0.14641   ,\n",
       "       0.161051  , 0.1771561 , 0.19487171, 0.21435888, 0.23579477,\n",
       "       0.25937425, 0.28531167, 0.31384284, 0.34522712, 0.37974983,\n",
       "       0.41772482, 0.4594973 , 0.50544703, 0.55599173, 0.6115909 ])"
      ]
     },
     "execution_count": 148,
     "metadata": {},
     "output_type": "execute_result"
    }
   ],
   "source": [
    "x = np.arange(0, 20)\n",
    "upcay(x, 1.1)\n",
    "supcay(x, 1.1, q=0.1)"
   ]
  },
  {
   "cell_type": "code",
   "execution_count": 149,
   "metadata": {},
   "outputs": [],
   "source": [
    "def softmod1(x):\n",
    "    cot = lambda x: 1/np.tan(x)\n",
    "    a = p = 1\n",
    "    return (1 - (2*a / np.pi * np.arctan(cot(x * np.pi / p))))/2"
   ]
  },
  {
   "cell_type": "code",
   "execution_count": 150,
   "metadata": {},
   "outputs": [
    {
     "data": {
      "text/plain": [
       "0.9"
      ]
     },
     "execution_count": 150,
     "metadata": {},
     "output_type": "execute_result"
    }
   ],
   "source": [
    "softmod1(0.9)"
   ]
  },
  {
   "cell_type": "code",
   "execution_count": 151,
   "metadata": {},
   "outputs": [
    {
     "data": {
      "image/png": "[encoded data removed]",
      "text/plain": [
       "<matplotlib.figure.Figure at 0x7faa632aa1d0>"
      ]
     },
     "metadata": {},
     "output_type": "display_data"
    }
   ],
   "source": [
    "xi = np.linspace(0, 20, 300)\n",
    "#xi = np.arange(0, 20)\n",
    "y = (np.sin(xi/1 * 2 * np.pi - np.pi/2) + 1) / 2\n",
    "plt.plot(xi, y)\n",
    "plt.xticks(np.arange(xi.max()));"
   ]
  },
  {
   "cell_type": "code",
   "execution_count": 152,
   "metadata": {},
   "outputs": [
    {
     "data": {
      "text/plain": [
       "0.9998999999999962"
      ]
     },
     "execution_count": 152,
     "metadata": {},
     "output_type": "execute_result"
    }
   ],
   "source": [
    "softmod1(49.9999)"
   ]
  },
  {
   "cell_type": "code",
   "execution_count": 153,
   "metadata": {
    "scrolled": true
   },
   "outputs": [
    {
     "data": {
      "image/png": "[encoded data removed]",
      "text/plain": [
       "<matplotlib.figure.Figure at 0x7faa62381588>"
      ]
     },
     "metadata": {},
     "output_type": "display_data"
    }
   ],
   "source": [
    "#xi = np.linspace(0, 20, 1000)\n",
    "xi = np.arange(0, 20) - 0.001\n",
    "y = smodupcay(xi, 1.5, q=0.1)\n",
    "#y = softmod1(xi+1)\n",
    "plt.plot(xi, y,)\n",
    "plt.xticks(np.arange(max(xi)));"
   ]
  },
  {
   "cell_type": "code",
   "execution_count": 154,
   "metadata": {},
   "outputs": [
    {
     "data": {
      "text/plain": [
       "[<matplotlib.lines.Line2D at 0x7faa61a05c50>]"
      ]
     },
     "execution_count": 154,
     "metadata": {},
     "output_type": "execute_result"
    },
    {
     "data": {
      "image/png": "[encoded data removed]",
      "text/plain": [
       "<matplotlib.figure.Figure at 0x7faa62352a20>"
      ]
     },
     "metadata": {},
     "output_type": "display_data"
    }
   ],
   "source": [
    "#xi = np.linspace(0, 20, 300)\n",
    "xi = np.arange(0, 20)\n",
    "y = 1 - supcay(xi, 1.1, q=0.1)\n",
    "#y = supcay(xi, 1.2, q=0.1)\n",
    "plt.plot(xi, y)"
   ]
  },
  {
   "cell_type": "code",
   "execution_count": 155,
   "metadata": {},
   "outputs": [
    {
     "data": {
      "text/plain": [
       "0.009999999999999842"
      ]
     },
     "execution_count": 155,
     "metadata": {},
     "output_type": "execute_result"
    }
   ],
   "source": [
    "softmod1(1.01)"
   ]
  },
  {
   "cell_type": "code",
   "execution_count": 156,
   "metadata": {},
   "outputs": [],
   "source": [
    "def softmod1_asq(x):\n",
    "    xi = x * 2*np.pi - np.pi + 0.4\n",
    "    y = np.sin(xi) - 1/2 * np.sin(2*xi) + 1/3 * np.sin(3*xi) - 1/4*np.sin(4*xi) + 1/5*np.sin(5*xi) - 1/6*np.sin(6*xi)\n",
    "    return (y + 3/2) / 3"
   ]
  },
  {
   "cell_type": "code",
   "execution_count": 157,
   "metadata": {},
   "outputs": [
    {
     "data": {
      "text/plain": [
       "0.0008891891681736356"
      ]
     },
     "execution_count": 157,
     "metadata": {},
     "output_type": "execute_result"
    }
   ],
   "source": [
    "softmod1_asq(0.03)"
   ]
  },
  {
   "cell_type": "code",
   "execution_count": 158,
   "metadata": {},
   "outputs": [],
   "source": [
    "def softmod1_naive(x):\n",
    "    return 0.01 if x > 1 else x"
   ]
  },
  {
   "cell_type": "code",
   "execution_count": 159,
   "metadata": {
    "scrolled": false
   },
   "outputs": [
    {
     "data": {
      "image/png": "[encoded data removed]",
      "text/plain": [
       "<matplotlib.figure.Figure at 0x7faa632e13c8>"
      ]
     },
     "metadata": {},
     "output_type": "display_data"
    }
   ],
   "source": [
    "#xi = np.linspace(0, 2, 300)\n",
    "xi = np.arange(0, 30)\n",
    "tmp = 0\n",
    "def meh(x, a=1.71, q=0.1):\n",
    "    global tmp \n",
    "    tmp += a\n",
    "    f = lambda y, _: np.cos(tmp)\n",
    "    return reduce(f, x, q)\n",
    "def smeh(x, a, q=0.1):\n",
    "    global tmp\n",
    "    tmp = q\n",
    "    return np.array([meh(x[:i], a, q=q) for i, _ in enumerate(x)])\n",
    "y1 = smeh(xi, a=0.3, q=0.0)\n",
    "#y2 = smeh(xi, a=1.76, q=0.0)\n",
    "#y = np.cos(xi)\n",
    "#y = approx_sq(xi.copy().astype('float32'))\n",
    "#y = softmod1_asq(xi)\n",
    "plt.plot(xi, y1, 'o-')\n",
    "#plt.plot(xi, y2, 'o-')\n",
    "plt.xticks(np.arange(max(xi)));"
   ]
  },
  {
   "cell_type": "code",
   "execution_count": 160,
   "metadata": {
    "scrolled": false
   },
   "outputs": [
    {
     "data": {
      "image/png": "[encoded data removed]",
      "text/plain": [
       "<matplotlib.figure.Figure at 0x7faa61995ac8>"
      ]
     },
     "metadata": {},
     "output_type": "display_data"
    }
   ],
   "source": [
    "#xi = np.linspace(0, 2, 300)\n",
    "relu = lambda x: max(0, x)\n",
    "xi = np.arange(0, 20)\n",
    "#y = sdecay(xi, 0.01, q=1)\n",
    "a = 3\n",
    "def test(y, _):\n",
    "    #print(y, ' -> ', y*a)\n",
    "    #return 0.01 if y > 1 else y * a\n",
    "    return softmod1(y * a)\n",
    "    return softmod1_naive(y * a)\n",
    "y = secay(xi, test, q=0.01)\n",
    "def approx_sq(xi):\n",
    "    xi /= 1\n",
    "    xi *= 2*np.pi\n",
    "    xi -= np.pi - 0.4\n",
    "    y = np.sin(xi) - 1/2 * np.sin(2*xi) + 1/3 * np.sin(3*xi) - 1/4*np.sin(4*xi) + 1/5*np.sin(5*xi) - 1/6*np.sin(6*xi)\n",
    "    y += 3/2\n",
    "    y /= 3\n",
    "    return y\n",
    "#y = approx_sq(xi.copy().astype('float32'))\n",
    "#y = softmod1_asq(xi)\n",
    "plt.plot(xi, y, 'o-')\n",
    "plt.xticks(np.arange(max(xi)));"
   ]
  },
  {
   "cell_type": "code",
   "execution_count": 161,
   "metadata": {},
   "outputs": [
    {
     "data": {
      "image/png": "[encoded data removed]",
      "text/plain": [
       "<matplotlib.figure.Figure at 0x7faa61903860>"
      ]
     },
     "metadata": {},
     "output_type": "display_data"
    }
   ],
   "source": [
    "#xi = np.linspace(0, 20, 300)\n",
    "xi = np.arange(0, 20)\n",
    "y = 1 - sdecay(xi, 0.00, q=1)\n",
    "plt.plot(xi, y)\n",
    "y = 1 - sdecay(xi, 0.005, q=1)\n",
    "plt.plot(xi, y)\n",
    "y = 1 - sdecay(xi, 0.01, q=1)\n",
    "plt.plot(xi, y)\n",
    "plt.xticks(xi);"
   ]
  },
  {
   "cell_type": "code",
   "execution_count": 162,
   "metadata": {},
   "outputs": [
    {
     "data": {
      "text/plain": [
       "[<matplotlib.lines.Line2D at 0x7faa61783c88>]"
      ]
     },
     "execution_count": 162,
     "metadata": {},
     "output_type": "execute_result"
    },
    {
     "data": {
      "image/png": "[encoded data removed]",
      "text/plain": [
       "<matplotlib.figure.Figure at 0x7faa619157f0>"
      ]
     },
     "metadata": {},
     "output_type": "display_data"
    }
   ],
   "source": [
    "xi = np.linspace(0, 20, 300)\n",
    "#xi = np.arange(0, 20)\n",
    "y = ((np.cos(xi/1.9 * np.pi * 2)+1)/2)\n",
    "plt.plot(xi, y)"
   ]
  },
  {
   "cell_type": "code",
   "execution_count": 163,
   "metadata": {},
   "outputs": [
    {
     "data": {
      "text/plain": [
       "[<matplotlib.lines.Line2D at 0x7faa616eb860>]"
      ]
     },
     "execution_count": 163,
     "metadata": {},
     "output_type": "execute_result"
    },
    {
     "data": {
      "image/png": "[encoded data removed]",
      "text/plain": [
       "<matplotlib.figure.Figure at 0x7faa6181f358>"
      ]
     },
     "metadata": {},
     "output_type": "display_data"
    }
   ],
   "source": [
    "ti = np.arange(0, 10)\n",
    "y = np.cos(ti/2 * np.pi * 2 ) + 1\n",
    "plt.plot(ti, y)"
   ]
  },
  {
   "cell_type": "code",
   "execution_count": 164,
   "metadata": {
    "scrolled": true
   },
   "outputs": [
    {
     "name": "stderr",
     "output_type": "stream",
     "text": [
      "/home/nemo/Code/pytorch/envs/skorch/lib/python3.6/site-packages/ipykernel_launcher.py:1: RuntimeWarning: divide by zero encountered in true_divide\n",
      "  \"\"\"Entry point for launching an IPython kernel.\n"
     ]
    },
    {
     "data": {
      "image/png": "[encoded data removed]",
      "text/plain": [
       "<matplotlib.figure.Figure at 0x7faa660dbb70>"
      ]
     },
     "metadata": {},
     "output_type": "display_data"
    }
   ],
   "source": [
    "cot = lambda x: 1/np.tan(x)\n",
    "xi = np.linspace(0, 5, 200)\n",
    "p = 1\n",
    "a = 1\n",
    "y = (1 - (2*a / np.pi * np.arctan(cot(xi * np.pi / p))))/2\n",
    "plt.plot(xi, y)\n",
    "plt.xticks(np.arange(max(xi)));"
   ]
  },
  {
   "cell_type": "code",
   "execution_count": null,
   "metadata": {},
   "outputs": [],
   "source": []
  },
  {
   "cell_type": "markdown",
   "metadata": {},
   "source": [
    "### Experiment with own switch op"
   ]
  },
  {
   "cell_type": "code",
   "execution_count": 165,
   "metadata": {},
   "outputs": [],
   "source": [
    "# q if (y * a) > 1 else (y * a)\n",
    "class __DecaySwitchOp(torch.autograd.Function):\n",
    "    \n",
    "    @staticmethod\n",
    "    def forward(ctx, x, q, a, n):\n",
    "        ctx.save_for_backward(x, q, a, n)\n",
    "        if x > 1:\n",
    "            return q\n",
    "        return x * a\n",
    "    \n",
    "    @staticmethod\n",
    "    def backward(self, grad_out):\n",
    "        grad_x = 0\n",
    "        grad_q = 0\n",
    "        grad_a = 0\n",
    "        return grad_x, grad_q, grad_a"
   ]
  },
  {
   "cell_type": "code",
   "execution_count": 263,
   "metadata": {},
   "outputs": [],
   "source": [
    "# q if (y * a) > 1 else (y * a)\n",
    "class DecaySwitchOp(torch.autograd.Function):\n",
    "    \n",
    "    @staticmethod\n",
    "    def forward(ctx, y, q):\n",
    "        ctx.save_for_backward(y)\n",
    "        ctx.mask = (y > 1)\n",
    "        ctx.q = q\n",
    "        yn = y.clone() # clone to make a new op in the graph\n",
    "        yn[ctx.mask] = q\n",
    "        return yn\n",
    "    \n",
    "    @staticmethod\n",
    "    def backward(ctx, grad_out):\n",
    "        y, = ctx.saved_tensors      \n",
    "        grad_y, grad_q = None, None\n",
    "        \n",
    "        if ctx.needs_input_grad[0]:\n",
    "            mask = ctx.mask\n",
    "            grad_y = torch.ones_like(y)\n",
    "            #grad_y[mask] = 1/100\n",
    "            grad_y = grad_out * grad_y\n",
    "            grad_y[mask] = 0.1\n",
    "        \n",
    "        if ctx.needs_input_grad[1]:\n",
    "            grad_q = 0\n",
    "\n",
    "        return grad_y, grad_q"
   ]
  },
  {
   "cell_type": "code",
   "execution_count": 264,
   "metadata": {},
   "outputs": [],
   "source": [
    "dso = DecaySwitchOp.apply"
   ]
  },
  {
   "cell_type": "code",
   "execution_count": 236,
   "metadata": {},
   "outputs": [],
   "source": [
    "#t = torch.FloatTensor([0.5,1,2])\n",
    "a = torch.FloatTensor([1.1, 1.5])\n",
    "a.requires_grad = True\n",
    "t = torch.FloatTensor([0.1, 0.1])\n",
    "#t = skorch.utils.to_var(t, False)\n",
    "#t.requires_grad = True\n",
    "# q = torch.FloatTensor([0.1])\n",
    "# q = skorch.utils.to_var(q, False)"
   ]
  },
  {
   "cell_type": "code",
   "execution_count": 237,
   "metadata": {},
   "outputs": [
    {
     "data": {
      "text/plain": [
       "tensor([ 0.1000,  0.5063])"
      ]
     },
     "execution_count": 237,
     "metadata": {},
     "output_type": "execute_result"
    }
   ],
   "source": [
    "for i in range(100):\n",
    "    t = dso(t * a, 0.1)\n",
    "t"
   ]
  },
  {
   "cell_type": "code",
   "execution_count": 238,
   "metadata": {},
   "outputs": [],
   "source": [
    "t.sum().backward()"
   ]
  },
  {
   "cell_type": "code",
   "execution_count": 239,
   "metadata": {
    "scrolled": true
   },
   "outputs": [
    {
     "data": {
      "text/plain": [
       "tensor([ 9.8497,  8.6400])"
      ]
     },
     "execution_count": 239,
     "metadata": {},
     "output_type": "execute_result"
    }
   ],
   "source": [
    "a.grad"
   ]
  },
  {
   "cell_type": "markdown",
   "metadata": {},
   "source": [
    "### Modules"
   ]
  },
  {
   "cell_type": "code",
   "execution_count": 240,
   "metadata": {},
   "outputs": [],
   "source": [
    "class InternalClocking(nn.Module):\n",
    "    def __init__(self, input_dim, hidden_dim, act='tanh', non_linear_state=False):\n",
    "        super().__init__()\n",
    "\n",
    "        self.input_dim = input_dim\n",
    "        self.hidden_dim = hidden_dim\n",
    "        self.non_linear_state = non_linear_state\n",
    "        \n",
    "        self.i2h = nn.Linear(input_dim, hidden_dim)\n",
    "        self.h2h = nn.Linear(hidden_dim, hidden_dim, bias=False)\n",
    "        self.speed = nn.Parameter(torch.ones(hidden_dim))\n",
    "        self.act = {'relu': nn.ReLU, 'tanh': nn.Tanh}[act]()\n",
    "        \n",
    "    def reset_weights(self):\n",
    "        torch.nn.init.uniform_(self.speed.data, 0, 5)\n",
    "        \n",
    "        # IRNN init\n",
    "        torch.nn.init.normal_(self.i2h.weight.data, mean=0, std=0.001)\n",
    "        self.i2h.bias.data.zero_()\n",
    "        torch.nn.init.eye_(self.h2h.weight.data)\n",
    "        \n",
    "    def forward(self, x, h=None): # x is (b, t, u) \n",
    "        if h is None:\n",
    "            h = torch.zeros(self.hidden_dim).to(x)\n",
    "            \n",
    "        i2h = self.i2h(x.view(-1, self.input_dim))\n",
    "        i2h = i2h.view(x.size(0), x.size(1), self.hidden_dim)\n",
    "        \n",
    "        tick = torch.zeros(self.hidden_dim).to(x)\n",
    "            \n",
    "        ys = []\n",
    "        cs = []\n",
    "        for ti in range(x.size(1)):\n",
    "            #clock_gate = tick % 1\n",
    "            tick = tick + self.speed\n",
    "            clock_gate = (torch.cos(tick) + 1) / 2\n",
    "\n",
    "            if self.non_linear_state:\n",
    "                h_new = self.act(i2h[:, ti] + self.h2h(h))\n",
    "                y = clock_gate * h_new + (1 - clock_gate) * h\n",
    "                h = y\n",
    "            else:\n",
    "                h_new = i2h[:, ti] + self.h2h(h)\n",
    "                h = clock_gate * h_new + (1 - clock_gate) * h\n",
    "                y = self.act(h)\n",
    "                            \n",
    "            ys.append(y)\n",
    "            cs.append(clock_gate)\n",
    "        return torch.stack(ys, dim=1), h, torch.stack(cs, dim=0)"
   ]
  },
  {
   "cell_type": "code",
   "execution_count": 241,
   "metadata": {},
   "outputs": [],
   "source": [
    "class DecayClocking(nn.Module):\n",
    "    def __init__(self, input_dim, hidden_dim, act='tanh', non_linear_state=False):\n",
    "        super().__init__()\n",
    "\n",
    "        self.input_dim = input_dim\n",
    "        self.hidden_dim = hidden_dim\n",
    "        self.non_linear_state = non_linear_state\n",
    "        \n",
    "        self.i2h = nn.Linear(input_dim, hidden_dim)\n",
    "        self.h2h = nn.Linear(hidden_dim, hidden_dim, bias=False)\n",
    "        self.alpha = nn.Parameter(torch.zeros(hidden_dim))\n",
    "        self.act = {'relu': nn.ReLU, 'tanh': nn.Tanh}[act]()\n",
    "        \n",
    "    def reset_weights(self):\n",
    "        torch.nn.init.uniform_(self.alpha.data, 1, 2)\n",
    "        torch.nn.init.normal_(self.i2h.weight.data, mean=0, std=0.001)\n",
    "        self.i2h.bias.data.zero_()\n",
    "        torch.nn.init.eye_(self.h2h.weight.data)\n",
    "        \n",
    "    def forward(self, x, h=None): # x is (b, t, u) \n",
    "        if h is None:\n",
    "            h = torch.zeros(self.hidden_dim).to(x)\n",
    "            \n",
    "        i2h = self.i2h(x.view(-1, self.input_dim))\n",
    "        i2h = i2h.view(x.size(0), x.size(1), self.hidden_dim)\n",
    "\n",
    "        q = 0.1\n",
    "        decay = torch.zeros(self.hidden_dim).to(x) + q\n",
    "            \n",
    "        ys = []\n",
    "        cs = []\n",
    "        y = h\n",
    "        for ti in range(x.size(1)):\n",
    "            \"\"\"\n",
    "            decay = decay * self.alpha\n",
    "            mask = (decay >= 1).long().nonzero()\n",
    "            decay.index_add_(0, mask, -1)\n",
    "            \"\"\"\n",
    "            # Remarkable: Using the exponential formula achieved\n",
    "            # the best result yet (MAE < 0.1) even though it is\n",
    "            # not periodical (depending on alpha the neuron is\n",
    "            # only active for a certain time of the sequence.\n",
    "            # This might be worth following up on.\n",
    "            #decay = dso(q * F.relu(self.alpha)**ti, q)\n",
    "            decay = dso(decay * F.relu(self.alpha), q)\n",
    "            clock_gate = 1 - decay\n",
    "\n",
    "            if self.non_linear_state:\n",
    "                h_new = self.act(i2h[:, ti] + self.h2h(h))\n",
    "                y = clock_gate * h_new + (1 - clock_gate) * h\n",
    "                h = y\n",
    "            else:\n",
    "                h_new = i2h[:, ti] + self.h2h(y)\n",
    "                h = clock_gate * h_new + (1 - clock_gate) * h\n",
    "                y = self.act(h)\n",
    "            ys.append(y)\n",
    "            cs.append(clock_gate)\n",
    "        return torch.stack(ys, dim=1), h, torch.stack(cs, dim=0)"
   ]
  },
  {
   "cell_type": "code",
   "execution_count": 242,
   "metadata": {},
   "outputs": [],
   "source": [
    "class Clocking(nn.Module):\n",
    "    def __init__(self, input_dim, hidden_dim, act='tanh', non_linear_state=False):\n",
    "        super().__init__()\n",
    "\n",
    "        self.input_dim = input_dim\n",
    "        self.hidden_dim = hidden_dim\n",
    "        self.non_linear_state = non_linear_state\n",
    "        \n",
    "        self.i2h = nn.Linear(input_dim, hidden_dim)\n",
    "        self.h2h = nn.Linear(hidden_dim, hidden_dim, bias=False)\n",
    "        #self.period = nn.Parameter(torch.randn(hidden_dim) + 1)\n",
    "        self.period = nn.Parameter(torch.ones(hidden_dim))\n",
    "        self.act = {'relu': nn.ReLU, 'tanh': nn.Tanh}[act]()\n",
    "        \n",
    "    def reset_weights(self):\n",
    "        #self.period.data.set_(1)\n",
    "        shape, scale = 1., 2.  # mean=2, std=2*sqrt(2)\n",
    "        s = np.random.gamma(shape, scale, self.hidden_dim) + 1\n",
    "        s = s.astype('int32').astype('float32') # quantize\n",
    "        self.period.data.set_(torch.from_numpy(s))\n",
    "\n",
    "        # IRNN init\n",
    "        torch.nn.init.normal_(self.i2h.weight.data, mean=0, std=0.001)\n",
    "        self.i2h.bias.data.zero_()\n",
    "        torch.nn.init.eye_(self.h2h.weight.data)\n",
    "        \n",
    "    def forward(self, x, clock=None, h=None): # x is (b, t, u) \n",
    "        if h is None:\n",
    "            h = torch.zeros(self.hidden_dim).to(x)\n",
    "            \n",
    "        i2h = self.i2h(x.view(-1, self.input_dim))\n",
    "        i2h = i2h.view(x.size(0), x.size(1), self.hidden_dim)\n",
    "            \n",
    "        ys = []\n",
    "        cs = []\n",
    "        for ti in range(x.size(1)):\n",
    "            clock_gate = (torch.cos(ti/self.period * np.pi * 2) + 1) / 2\n",
    "            # enable stacking of clocking functions\n",
    "            if clock is not None:\n",
    "                clock_gate = (clock_gate + clock[ti]) / 2\n",
    "\n",
    "            if self.non_linear_state:\n",
    "                h_new = self.act(i2h[:, ti] + self.h2h(h))\n",
    "                y = clock_gate * h_new + (1 - clock_gate) * h\n",
    "                h = y\n",
    "            else:\n",
    "                h_new = i2h[:, ti] + self.h2h(h)\n",
    "                h = clock_gate * h_new + (1 - clock_gate) * h\n",
    "                y = self.act(h)\n",
    "            ys.append(y)\n",
    "            cs.append(clock_gate)\n",
    "        return torch.stack(ys, dim=1), h, torch.stack(cs, dim=0)"
   ]
  },
  {
   "cell_type": "code",
   "execution_count": 243,
   "metadata": {},
   "outputs": [],
   "source": [
    "class GaussClocking(nn.Module):\n",
    "    def __init__(self, input_dim, hidden_dim, act='tanh', repeats=2, \n",
    "                 mark_repeats=True, non_linear_state=False,\n",
    "                ):\n",
    "        super().__init__()\n",
    "\n",
    "        self.input_dim = input_dim #+ 1\n",
    "        self.hidden_dim = hidden_dim\n",
    "        self.repeats = repeats\n",
    "        self.mark_repeats = mark_repeats\n",
    "        self.non_linear_state = non_linear_state\n",
    "        \n",
    "        self.i2h = nn.Linear(self.input_dim, hidden_dim)\n",
    "        self.h2h = nn.Linear(hidden_dim, hidden_dim, bias=False)\n",
    "        self.m = nn.Parameter(torch.ones(hidden_dim) - 0.5)\n",
    "        self.s = nn.Parameter(torch.ones(hidden_dim))\n",
    "        self.act = {'relu': nn.ReLU, 'tanh': nn.Tanh}[act]()\n",
    "        \n",
    "    def reset_weights(self):\n",
    "        torch.nn.init.uniform_(self.m.data, 0, 1)\n",
    "        torch.nn.init.uniform_(self.s.data, 0.01, 0.1)\n",
    "        \n",
    "        # IRNN init\n",
    "        torch.nn.init.normal_(self.i2h.weight.data, mean=0, std=0.001)\n",
    "        self.i2h.bias.data.zero_()\n",
    "        torch.nn.init.eye_(self.h2h.weight.data)\n",
    "        \n",
    "    def forward(self, x, h=None): # x is (b, t, u) \n",
    "        if h is None:\n",
    "            h = torch.zeros(self.hidden_dim).to(x)\n",
    "            \n",
    "        xr = x#repeat_and_mark(x, rep=self.repeats, mark=self.mark_repeats)\n",
    "        i2h = self.i2h(xr.view(-1, self.input_dim))\n",
    "        i2h = i2h.view(xr.size(0), xr.size(1), self.hidden_dim)\n",
    "\n",
    "        clks = torch.randn(xr.size(1), self.hidden_dim).to(x)\n",
    "        clks = F.sigmoid(clks * self.s + self.m)\n",
    "        \n",
    "        ys = []\n",
    "        cs = []\n",
    "        for ti in range(xr.size(1)):\n",
    "            clock_gate = clks[ti]\n",
    "            h_new = i2h[:, ti] + self.h2h(h)\n",
    "            if self.non_linear_state:\n",
    "                y = clock_gate * self.act(h_new) + (1 - clock_gate) * h\n",
    "                h = y\n",
    "            else:\n",
    "                h = clock_gate * h_new + (1 - clock_gate) * h\n",
    "                y = self.act(h)\n",
    "            ys.append(y)\n",
    "            cs.append(clock_gate)\n",
    "        return torch.stack(ys, dim=1), h, torch.stack(cs, dim=0)"
   ]
  },
  {
   "cell_type": "code",
   "execution_count": 244,
   "metadata": {},
   "outputs": [],
   "source": [
    "class IRNN(nn.Module):\n",
    "    def __init__(self, input_dim, hidden_dim, act='tanh', repeats=2, \n",
    "                 mark_repeats=True, non_linear_state=False,\n",
    "                ):\n",
    "        super().__init__()\n",
    "\n",
    "        self.input_dim = input_dim #+ 1\n",
    "        self.hidden_dim = hidden_dim\n",
    "        self.repeats = repeats\n",
    "        self.mark_repeats = mark_repeats\n",
    "        self.non_linear_state = non_linear_state\n",
    "        \n",
    "        self.i2h = nn.Linear(self.input_dim, hidden_dim)\n",
    "        self.h2h = nn.Linear(hidden_dim, hidden_dim, bias=False)\n",
    "        self.act = {'relu': nn.ReLU, 'tanh': nn.Tanh}[act]()\n",
    "        \n",
    "    def reset_weights(self):        \n",
    "        # IRNN init\n",
    "        torch.nn.init.normal_(self.i2h.weight.data, mean=0, std=0.001)\n",
    "        self.i2h.bias.data.zero_()\n",
    "        torch.nn.init.eye_(self.h2h.weight.data)\n",
    "        \n",
    "    def forward(self, x, h=None): # x is (b, t, u) \n",
    "        if h is None:\n",
    "            h = torch.zeros(self.hidden_dim).to(x)\n",
    "            \n",
    "        xr = x#repeat_and_mark(x, rep=self.repeats, mark=self.mark_repeats)\n",
    "        i2h = self.i2h(xr.view(-1, self.input_dim))\n",
    "        i2h = i2h.view(xr.size(0), xr.size(1), self.hidden_dim)\n",
    "\n",
    "        ys = []\n",
    "        cs = []\n",
    "        for ti in range(xr.size(1)):\n",
    "            h_new = i2h[:, ti] + self.h2h(h)\n",
    "            if self.non_linear_state:\n",
    "                y =  self.act(h_new)\n",
    "                h = y\n",
    "            else:\n",
    "                h = h_new\n",
    "                y = self.act(h)\n",
    "            ys.append(y)\n",
    "            cs.append(y)\n",
    "        return torch.stack(ys, dim=1), h, torch.stack(cs, dim=0)"
   ]
  },
  {
   "cell_type": "code",
   "execution_count": 245,
   "metadata": {},
   "outputs": [],
   "source": [
    "class GaussInputClocking(nn.Module):\n",
    "    def __init__(self, input_dim, hidden_dim, act='tanh', non_linear_state=False):\n",
    "        super().__init__()\n",
    "\n",
    "        self.input_dim = input_dim #+ 1\n",
    "        self.hidden_dim = hidden_dim\n",
    "        self.non_linear_state = non_linear_state\n",
    "        \n",
    "        self.i2h = nn.Linear(self.input_dim, hidden_dim)\n",
    "        self.h2h = nn.Linear(hidden_dim, hidden_dim, bias=False)\n",
    "        self.i2c = nn.Linear(self.input_dim, 2 * hidden_dim)\n",
    "        self.act = {'relu': nn.ReLU, 'tanh': nn.Tanh}[act]()\n",
    "        \n",
    "    def reset_weights(self):\n",
    "        #torch.nn.init.uniform_(self.m.data, 0, 1)\n",
    "        #torch.nn.init.uniform_(self.s.data, 0.01, 0.1)\n",
    "        #self.i2c.reset_parameters()\n",
    "        #self.i2h.reset_parameters()\n",
    "        torch.nn.init.uniform_(self.i2c.bias.data[:self.hidden_dim], 0, 1)\n",
    "        torch.nn.init.uniform_(self.i2c.bias.data[self.hidden_dim:], 0.01, 0.5)\n",
    "        \n",
    "    def forward(self, x, h=None): # x is (b, t, u) \n",
    "        if h is None:\n",
    "            h = torch.zeros(self.hidden_dim).to(x)\n",
    "            \n",
    "        xr = x\n",
    "        i2h = self.i2h(xr.view(-1, self.input_dim))\n",
    "        i2h = i2h.view(xr.size(0), xr.size(1), self.hidden_dim)\n",
    "        \n",
    "        i2c = self.i2c(xr.view(-1, self.input_dim))\n",
    "        i2c = i2c.view(xr.size(0), xr.size(1), 2 * self.hidden_dim)\n",
    "        m = i2c[:, :, :self.hidden_dim]\n",
    "        s = i2c[:, :, self.hidden_dim:]\n",
    "\n",
    "        clks = torch.randn(xr.size(1), self.hidden_dim).to(x)\n",
    "        clks = F.sigmoid(clks * s + m)\n",
    "        \n",
    "        ys = []\n",
    "        cs = []\n",
    "        for ti in range(xr.size(1)):\n",
    "            clock_gate = clks[:, ti]\n",
    "            h_new = i2h[:, ti] + self.h2h(h)\n",
    "            if self.non_linear_state:\n",
    "                y = clock_gate * self.act(h_new) + (1 - clock_gate) * h\n",
    "                h = y\n",
    "            else:\n",
    "                h = clock_gate * h_new + (1 - clock_gate) * h\n",
    "                y = self.act(h)\n",
    "            ys.append(y)\n",
    "            cs.append(clock_gate)\n",
    "        return torch.stack(ys, dim=1), h, torch.stack(cs, dim=1)"
   ]
  },
  {
   "cell_type": "code",
   "execution_count": 246,
   "metadata": {},
   "outputs": [],
   "source": [
    "import visdom\n",
    "vis = visdom.Visdom()"
   ]
  },
  {
   "cell_type": "code",
   "execution_count": 247,
   "metadata": {},
   "outputs": [],
   "source": [
    "def get_batch(batch_size, time_steps, random_state=0):\n",
    "    \"\"\"Generate the adding problem dataset\"\"\"\n",
    "    rng = np.random.RandomState(seed=random_state)\n",
    "    \n",
    "    # Build the first sequence\n",
    "    add_values = rng.rand(batch_size, time_steps)\n",
    "    add_values = add_values.astype('float32')\n",
    "\n",
    "    # Build the second sequence with one 1 in each half and 0s otherwise\n",
    "    add_indices = np.zeros_like(add_values)\n",
    "    half = int(time_steps / 2)\n",
    "    for i in range(batch_size):\n",
    "        first_half = rng.randint(half)\n",
    "        second_half = rng.randint(half, time_steps)\n",
    "        add_indices[i, [first_half, second_half]] = 1\n",
    "\n",
    "    # Zip the values and indices in a third dimension:\n",
    "    # inputs has the shape (batch_size, time_steps, 2)\n",
    "    inputs = np.dstack((add_values, add_indices))\n",
    "    targets = np.sum(np.multiply(add_values, add_indices), axis=1)\n",
    "    return inputs, targets.reshape(-1, 1)"
   ]
  },
  {
   "cell_type": "code",
   "execution_count": 248,
   "metadata": {},
   "outputs": [],
   "source": [
    "class AddDataset(torch.utils.data.Dataset):\n",
    "    def __init__(self, n_timesteps, length=200, random_state=0):\n",
    "        self.n_timesteps = n_timesteps\n",
    "        self.length = length\n",
    "        self.rng_ = np.random.RandomState(seed=random_state)\n",
    "    def __getitem__(self, i):\n",
    "        Xi, yi = get_batch(1, self.n_timesteps, random_state=self.rng_.randint(1e8))\n",
    "        return Xi[0], yi[0]\n",
    "    def __len__(self):\n",
    "        return self.length"
   ]
  },
  {
   "cell_type": "code",
   "execution_count": 249,
   "metadata": {},
   "outputs": [],
   "source": [
    "T = 100\n",
    "#X_train, y_train = get_batch(2000, T, random_state=0)\n",
    "X_valid, y_valid = get_batch(200, T, random_state=1)"
   ]
  },
  {
   "cell_type": "code",
   "execution_count": 250,
   "metadata": {},
   "outputs": [],
   "source": [
    "dataset_train = AddDataset(n_timesteps=T, length=200)"
   ]
  },
  {
   "cell_type": "code",
   "execution_count": 251,
   "metadata": {},
   "outputs": [],
   "source": [
    "for Xi, yi in zip(X_valid, y_valid):\n",
    "    idcs = Xi[:, 1].nonzero()[0]\n",
    "    assert np.allclose(Xi[idcs, 0].sum(), yi[0])"
   ]
  },
  {
   "cell_type": "code",
   "execution_count": 252,
   "metadata": {},
   "outputs": [],
   "source": [
    "def time_flatten(t):\n",
    "    return t.view(t.size(0) * t.size(1), -1)\n",
    "\n",
    "def time_unflatten(t, s):\n",
    "    return t.view(s[0], s[1], -1)"
   ]
  },
  {
   "cell_type": "code",
   "execution_count": 253,
   "metadata": {},
   "outputs": [],
   "source": [
    "class ReconModel(nn.Module):\n",
    "    def __init__(self, num_hidden=64, act='relu', repeats=2, mark_repeats=True, \n",
    "                 num_layers=1, visdom=False, rnn_type='gauss', non_linear_state=False,\n",
    "                 learnable_mean=True):\n",
    "        super().__init__()\n",
    "        \n",
    "        self.visdom = visdom\n",
    "        self.rnn = []\n",
    "        self.num_layers = num_layers\n",
    "        self.rnn_type = rnn_type\n",
    "        \n",
    "        for i in range(num_layers):\n",
    "            input_dim = 2 if i == 0 else num_hidden\n",
    "            output_dim = num_hidden\n",
    "            #output_dim = 1 if i == (num_layers - 1) else num_hidden\n",
    "            if rnn_type == 'gauss':\n",
    "                self.rnn.append(GaussClocking(input_dim, output_dim, \n",
    "                                              repeats=repeats, mark_repeats=mark_repeats, \n",
    "                                              act=act, non_linear_state=non_linear_state))\n",
    "                self.rnn[-1].reset_weights()\n",
    "            elif rnn_type == 'gauss_input':\n",
    "                self.rnn.append(GaussInputClocking(input_dim, output_dim, \n",
    "                                                   act=act, non_linear_state=non_linear_state))\n",
    "                self.rnn[-1].reset_weights()\n",
    "            elif rnn_type == 'irnn':\n",
    "                self.rnn.append(IRNN(input_dim, output_dim, \n",
    "                                     repeats=repeats, mark_repeats=mark_repeats, \n",
    "                                     act=act, non_linear_state=non_linear_state))\n",
    "                self.rnn[-1].reset_weights()\n",
    "            elif rnn_type == 'clocking':\n",
    "                self.rnn.append(Clocking(input_dim, output_dim, \n",
    "                                         act=act, non_linear_state=non_linear_state))\n",
    "                self.rnn[-1].reset_weights()\n",
    "            elif rnn_type == 'decay_clocking':\n",
    "                self.rnn.append(DecayClocking(input_dim, output_dim, \n",
    "                                              act=act, non_linear_state=non_linear_state))\n",
    "                self.rnn[-1].reset_weights()\n",
    "            elif rnn_type == 'internal_clocking':\n",
    "                self.rnn.append(InternalClocking(input_dim, output_dim, \n",
    "                                                 act=act, non_linear_state=non_linear_state))\n",
    "                self.rnn[-1].reset_weights()\n",
    "            elif rnn_type == 'gru':\n",
    "                self.rnn.append(nn.GRU(input_dim, output_dim, batch_first=True))\n",
    "            self.add_module('rnn'+str(i), self.rnn[-1])\n",
    "        \n",
    "        self.clf = nn.Linear(num_hidden, 1)\n",
    "        \n",
    "    def forward(self, x):\n",
    "        li = x\n",
    "        self.cis = [None] * self.num_layers\n",
    "        for i in range(self.num_layers):\n",
    "            if self.rnn_type == 'gru':\n",
    "                li, hi = self.rnn[i](li)\n",
    "                ci = None\n",
    "            else:\n",
    "                li, hi, ci = self.rnn[i](li)\n",
    "            self.cis[i] = ci\n",
    "            if self.visdom:\n",
    "                vis.heatmap(skorch.utils.to_numpy(li[0]), opts={'title': 'act rnn'+str(i)}, win=\"act rnn\"+str(i))\n",
    "                if ci is not None:\n",
    "                    vis.heatmap(skorch.utils.to_numpy(ci), opts={'title': 'clocks rnn'+str(i)}, win=\"clocks rnn\"+str(i))\n",
    "        return self.clf(li[:, -1])"
   ]
  },
  {
   "cell_type": "code",
   "execution_count": 254,
   "metadata": {},
   "outputs": [],
   "source": [
    "class Trainer(skorch.NeuralNet):\n",
    "    def __init__(\n",
    "        self, \n",
    "        criterion=nn.MSELoss,\n",
    "        *args, \n",
    "        **kwargs\n",
    "    ):\n",
    "        super().__init__(*args, criterion=criterion, **kwargs)\n",
    "\n",
    "    def get_loss(self, y_pred, y_true, X=None, training=False):\n",
    "        if False:\n",
    "            for Xi, yi in zip(X, y_true):\n",
    "                sm = sum([Xi[i[0], 0] for i in Xi[:, 1].nonzero()])\n",
    "                assert abs(sm - yi.item()) < 0.01\n",
    "        return (y_pred - y_true).abs().mean(-1).mean()\n",
    "        return super().get_loss(y_pred, y_true, X=X, training=training)"
   ]
  },
  {
   "cell_type": "code",
   "execution_count": 255,
   "metadata": {},
   "outputs": [],
   "source": [
    "class GradLogger(skorch.callbacks.Callback):\n",
    "    def __init__(self, param_pattern, debug_print=False):\n",
    "        self.param_pattern = param_pattern\n",
    "        self.to_accumulate_ = set()\n",
    "        self.debug_print = debug_print\n",
    "        \n",
    "    def on_grad_computed(self, net, named_parameters, **kwargs):        \n",
    "        from fnmatch import fnmatch\n",
    "        param_pairs = filter(lambda x: fnmatch(x[0], self.param_pattern), named_parameters)\n",
    "        for name, param in param_pairs:\n",
    "            history_name = 'grad_' + name\n",
    "            net.history.record_batch(history_name, param.grad.abs().mean().item())\n",
    "            self.to_accumulate_.add(history_name)\n",
    "            if self.debug_print:\n",
    "                print(param.grad.data.tolist())\n",
    "            \n",
    "    def on_epoch_end(self, net, **kwargs):\n",
    "        for name in self.to_accumulate_:\n",
    "            mean = np.mean(net.history[-1, 'batches', :, name])\n",
    "            net.history.record(name, mean)"
   ]
  },
  {
   "cell_type": "code",
   "execution_count": 256,
   "metadata": {},
   "outputs": [],
   "source": [
    "class ParamLogger(skorch.callbacks.Callback):\n",
    "    def __init__(self, param_pattern):\n",
    "        self.param_pattern = param_pattern\n",
    "        self.to_accumulate_ = set()\n",
    "        \n",
    "    def on_batch_end(self, net, **kwargs):        \n",
    "        from fnmatch import fnmatch\n",
    "        param_pairs = filter(lambda x: fnmatch(x[0], self.param_pattern), net.module_.named_parameters())\n",
    "        for name, param in param_pairs:\n",
    "            history_name = 'mean_' + name\n",
    "            net.history.record_batch(history_name, param.mean().item())\n",
    "            self.to_accumulate_.add(history_name)\n",
    "            #print(param.data.tolist())\n",
    "            \n",
    "    def on_epoch_end(self, net, **kwargs):\n",
    "        for name in self.to_accumulate_:\n",
    "            mean = np.mean(net.history[-1, 'batches', :, name])\n",
    "            net.history.record(name, mean)\n",
    "            #print(dict(net.module_.named_parameters())[name[len('mean_'):]].data.tolist())"
   ]
  },
  {
   "cell_type": "code",
   "execution_count": 257,
   "metadata": {},
   "outputs": [],
   "source": [
    "class ParamPrinter(skorch.callbacks.Callback):\n",
    "    def __init__(self, param_pattern, mode='batch', format='{}'):\n",
    "        self.param_pattern = param_pattern\n",
    "        self.mode = mode\n",
    "        self.format = format\n",
    "        \n",
    "    def print_params(self, net):\n",
    "        from fnmatch import fnmatch\n",
    "        param_pairs = filter(lambda x: fnmatch(x[0], self.param_pattern), net.module_.named_parameters())\n",
    "        for name, param in param_pairs:\n",
    "            print([self.format.format(n) for n in param.data.tolist()])\n",
    "        \n",
    "    def on_batch_end(self, net, **kwargs):        \n",
    "        if self.mode != 'batch':\n",
    "            return\n",
    "        self.print_params(net)\n",
    "            \n",
    "    def on_epoch_end(self, net, **kwargs):\n",
    "        if self.mode != 'epoch':\n",
    "            return\n",
    "        self.print_params(net)   "
   ]
  },
  {
   "cell_type": "code",
   "execution_count": 258,
   "metadata": {},
   "outputs": [],
   "source": [
    "class QuantizeParameters(skorch.callbacks.Callback):\n",
    "    def __init__(self, param_pattern):\n",
    "        self.param_pattern = param_pattern\n",
    "        \n",
    "    def on_batch_begin(self, net, **kwargs):        \n",
    "        from fnmatch import fnmatch\n",
    "        param_pairs = filter(lambda x: fnmatch(x[0], self.param_pattern), net.module_.named_parameters())\n",
    "        for name, param in param_pairs:\n",
    "            self._quantize(param)\n",
    "            \n",
    "    def _quantize(self, param):\n",
    "        #import pdb; pdb.set_trace()\n",
    "        param.data.set_((param.data + 0.5).long().float())\n",
    "        param.data[param.data == 0] = 1"
   ]
  },
  {
   "cell_type": "code",
   "execution_count": null,
   "metadata": {},
   "outputs": [],
   "source": []
  },
  {
   "cell_type": "code",
   "execution_count": 265,
   "metadata": {},
   "outputs": [],
   "source": [
    "torch.manual_seed(1333)\n",
    "\n",
    "def my_train_split(ds, y):\n",
    "    return ds, skorch.dataset.Dataset(X_valid, y_valid)\n",
    "\n",
    "ef = Trainer(module=ReconModel,\n",
    "             optimizer=torch.optim.RMSprop,\n",
    "             lr=0.002,\n",
    "             max_epochs=300,\n",
    "             train_split=my_train_split,\n",
    "             \n",
    "             module__num_hidden=50,\n",
    "             module__act='relu',\n",
    "             module__num_layers=1,\n",
    "             module__visdom=False,\n",
    "             #module__rnn_type='internal_clocking',\n",
    "             module__rnn_type='decay_clocking',\n",
    "             #module__rnn_type='clocking',\n",
    "             module__non_linear_state=False,\n",
    "             \n",
    "             #iterator_train=train_iterator,\n",
    "             #iterator_train__n_batches=200,\n",
    "             #iterator_train__n_timesteps=100,\n",
    "             #iterator_train__shuffle=True,\n",
    "             \n",
    "             device='cpu',\n",
    "             batch_size=16,\n",
    "            \n",
    "             optimizer__param_groups=[\n",
    "                 ('rnn*.period', {'lr': 0.2}),\n",
    "                 ('rnn*.speed', {'lr': 0.02}),\n",
    "                 ('rnn*.alpha', {'lr': 0.0002}),\n",
    "                 ('rnn*.s', {'lr': 0.02}),\n",
    "             ],\n",
    "             \n",
    "             callbacks=[\n",
    "                 #skorch.callbacks.ProgressBar(),\n",
    "                 ('mae_valid', skorch.callbacks.EpochScoring(scoring='neg_mean_absolute_error', name='mae_valid', lower_is_better=False)),\n",
    "                 ('mae_train', skorch.callbacks.EpochScoring(scoring='neg_mean_absolute_error', name='mae_train', lower_is_better=False, on_train=True)),\n",
    "                 ('grad_log_1', GradLogger('rnn*.h2h.*')),\n",
    "                 ('grad_log_3', GradLogger('rnn*.i2c.*')),\n",
    "                 ('grad_log_2', GradLogger('rnn*.[ms]')),\n",
    "                 ('grad_log_4', GradLogger('rnn*.period', debug_print=False)),\n",
    "                 ('grad_log_5', GradLogger('rnn*.alpha', debug_print=False)),\n",
    "                 ('grad_log_6', GradLogger('rnn*.speed', debug_print=False)),\n",
    "                 ('mean_log_4', ParamLogger('rnn*.period')),\n",
    "                 #('parm_log_1', ParamPrinter('rnn*.period', mode='epoch')),\n",
    "                 #('parm_log_2', ParamPrinter('rnn*.alpha', mode='epoch', format='{:.3f}')),\n",
    "                 #('parm_log_3', ParamPrinter('rnn*.speed', mode='epoch', format='{:.3f}')),\n",
    "                 skorch.callbacks.GradientNormClipping(gradient_clip_value=10),\n",
    "                 QuantizeParameters('rnn*.period'),\n",
    "             ]\n",
    "            )"
   ]
  },
  {
   "cell_type": "code",
   "execution_count": null,
   "metadata": {},
   "outputs": [],
   "source": []
  },
  {
   "cell_type": "code",
   "execution_count": null,
   "metadata": {
    "scrolled": false
   },
   "outputs": [
    {
     "name": "stdout",
     "output_type": "stream",
     "text": [
      "Automatic pdb calling has been turned ON\n",
      "  epoch    grad_rnn0.alpha    grad_rnn0.h2h.weight     mae_train    mae_valid    train_loss    valid_loss     dur\n",
      "-------  -----------------  ----------------------  ------------  -----------  ------------  ------------  ------\n",
      "      1        587404.9002             145024.4720  \u001b[35m-492859.1875\u001b[0m      \u001b[31m-0.3803\u001b[0m   \u001b[94m492859.2045\u001b[0m        \u001b[36m0.3803\u001b[0m  0.9317\n",
      "      2             7.5966                  0.0098      \u001b[35m-0.4105\u001b[0m      -0.3971        \u001b[94m0.4105\u001b[0m        0.3971  0.9652\n",
      "      3             7.5578                  0.0094      \u001b[35m-0.3731\u001b[0m      \u001b[31m-0.3489\u001b[0m        \u001b[94m0.3731\u001b[0m        \u001b[36m0.3489\u001b[0m  0.9566\n",
      "      4             7.5519                  0.0059      \u001b[35m-0.3369\u001b[0m      -0.3974        \u001b[94m0.3369\u001b[0m        0.3974  0.8955\n",
      "      5             7.5107                  0.0070      -0.3617      -0.3708        0.3617        0.3708  0.9002\n",
      "      6             7.3938                  0.0042      -0.3640      \u001b[31m-0.3422\u001b[0m        0.3640        \u001b[36m0.3422\u001b[0m  0.9207\n",
      "      7             7.3476                  0.0075      -0.3547      -0.3471        0.3547        0.3471  0.9822\n",
      "      8             7.3892                  0.0079      -0.3642      -0.4000        0.3642        0.4000  0.9151\n",
      "      9             7.3377                  0.0046      -0.3442      -0.3441        0.3442        0.3441  0.9207\n",
      "     10             7.2191                  0.0057      -0.3607      -0.3837        0.3607        0.3837  0.9829\n",
      "     11             7.3018                  0.0064      -0.3454      -0.3484        0.3454        0.3484  1.1618\n",
      "     12             7.4694                  0.0034      \u001b[35m-0.3218\u001b[0m      -0.5123        \u001b[94m0.3218\u001b[0m        0.5123  1.0052\n",
      "     13             7.4560                  0.0083      -0.3971      -0.3650        0.3971        0.3650  1.1731\n",
      "     14             7.2573                  0.0064      -0.3391      -0.3557        0.3391        0.3557  1.0504\n",
      "     15             6.9803                  0.0058      \u001b[35m-0.3167\u001b[0m      -0.3498        \u001b[94m0.3167\u001b[0m        0.3498  0.9900\n",
      "     16             7.0364                  0.0057      -0.3405      -0.3481        0.3405        0.3481  1.0751\n",
      "     17             6.8395                  0.0039      -0.3229      \u001b[31m-0.3417\u001b[0m        0.3229        \u001b[36m0.3417\u001b[0m  0.9380\n",
      "     18             6.8360                  0.0042      -0.3618      \u001b[31m-0.3410\u001b[0m        0.3618        \u001b[36m0.3410\u001b[0m  0.9942\n",
      "     19             6.8341                  0.0044      -0.3319      -0.3670        0.3319        0.3670  1.0276\n",
      "     20             6.8622                  0.0058      -0.3330      -0.3745        0.3330        0.3745  1.0790\n",
      "     21             6.9380                  0.0054      -0.3910      \u001b[31m-0.3410\u001b[0m        0.3910        \u001b[36m0.3410\u001b[0m  0.9688\n",
      "     22             6.9060                  0.0044      -0.3451      -0.3418        0.3451        0.3418  1.0228\n",
      "     23             6.8622                  0.0065      -0.3620      -0.3506        0.3620        0.3506  1.1080\n",
      "     24             6.7465                  0.0056      -0.3224      -0.4025        0.3224        0.4025  0.9721\n",
      "     25             6.8409                  0.0057      -0.3295      -0.3638        0.3295        0.3638  1.0430\n",
      "     26             6.8247                  0.0044      -0.3391      -0.3497        0.3391        0.3497  1.0481\n",
      "     27             6.9023                  0.0039      -0.3246      -0.3414        0.3246        0.3414  1.1505\n",
      "     28             6.7552                  0.0038      -0.3168      -0.3512        0.3168        0.3512  1.0093\n",
      "     29             6.7803                  0.0041      -0.3371      -0.3922        0.3371        0.3922  0.9858\n",
      "     30             6.7868                  0.0060      \u001b[35m-0.3112\u001b[0m      -0.3421        \u001b[94m0.3112\u001b[0m        0.3421  0.8930\n",
      "     31             6.8413                  0.0030      -0.3592      -0.3428        0.3592        0.3428  1.1228\n",
      "     32             6.8289                  0.0034      -0.3341      -0.3458        0.3341        0.3458  0.9801\n",
      "     33             6.7341                  0.0061      -0.3488      -0.3433        0.3488        0.3433  0.9850\n",
      "     34             6.5474                  0.0052      -0.3294      -0.3427        0.3294        0.3427  1.0951\n",
      "     35             6.5774                  0.0039      -0.3375      -0.3481        0.3375        0.3481  1.0531\n",
      "     36             6.5993                  0.0043      -0.3525      -0.3547        0.3525        0.3547  1.1206\n",
      "     37             6.5650                  0.0032      -0.3331      -0.3474        0.3331        0.3474  0.9954\n",
      "     38             6.2218                  0.0049      -0.3181      -0.3788        0.3181        0.3788  0.9840\n",
      "     39             6.2191                  0.0026      \u001b[35m-0.3030\u001b[0m      -0.3473        \u001b[94m0.3030\u001b[0m        0.3473  1.0755\n",
      "     40             6.3204                  0.0032      -0.3168      \u001b[31m-0.3410\u001b[0m        0.3168        \u001b[36m0.3410\u001b[0m  1.1142\n",
      "     41             6.3603                  0.0024      -0.3456      \u001b[31m-0.3409\u001b[0m        0.3456        \u001b[36m0.3409\u001b[0m  1.0760\n",
      "     42             6.4862                  0.0040      -0.3203      -0.3428        0.3203        0.3428  1.2782\n"
     ]
    }
   ],
   "source": [
    "%pdb on\n",
    "ef.fit(dataset_train)"
   ]
  },
  {
   "cell_type": "code",
   "execution_count": null,
   "metadata": {},
   "outputs": [],
   "source": []
  },
  {
   "cell_type": "code",
   "execution_count": null,
   "metadata": {},
   "outputs": [],
   "source": []
  },
  {
   "cell_type": "code",
   "execution_count": null,
   "metadata": {},
   "outputs": [],
   "source": []
  },
  {
   "cell_type": "code",
   "execution_count": null,
   "metadata": {},
   "outputs": [],
   "source": []
  },
  {
   "cell_type": "code",
   "execution_count": 379,
   "metadata": {
    "scrolled": false
   },
   "outputs": [
    {
     "name": "stdout",
     "output_type": "stream",
     "text": [
      "Automatic pdb calling has been turned ON\n",
      "  epoch    grad_rnn0.alpha    grad_rnn0.h2h.weight            mae_train    mae_valid          train_loss    valid_loss     dur\n",
      "-------  -----------------  ----------------------  -------------------  -----------  ------------------  ------------  ------\n",
      "      1             0.0607      1469002547200.6057  \u001b[35m-2762223648768.0000\u001b[0m      \u001b[31m-0.3778\u001b[0m  \u001b[94m2762223659257.5796\u001b[0m        \u001b[36m0.3778\u001b[0m  1.0459\n",
      "      2             0.0000                  0.0061      \u001b[35m-0.3622\u001b[0m      \u001b[31m-0.3642\u001b[0m        \u001b[94m0.3622\u001b[0m        \u001b[36m0.3642\u001b[0m  0.8793\n",
      "      3             0.0000                  0.0080      \u001b[35m-0.3453\u001b[0m      -0.3758        \u001b[94m0.3453\u001b[0m        0.3758  0.9186\n",
      "      4             0.0000                  0.0073      -0.3664      \u001b[31m-0.3423\u001b[0m        0.3664        \u001b[36m0.3423\u001b[0m  0.9964\n",
      "      5             0.0000                  0.0080      \u001b[35m-0.3209\u001b[0m      -0.3536        \u001b[94m0.3209\u001b[0m        0.3536  0.9146\n",
      "      6             0.0000                  0.0021      -0.3422      -0.3425        0.3422        0.3425  0.9219\n",
      "      7             0.0000                  0.0057      -0.3730      \u001b[31m-0.3415\u001b[0m        0.3730        \u001b[36m0.3415\u001b[0m  0.9943\n",
      "      8             0.0000                  0.0050      -0.3237      -0.3474        0.3237        0.3474  0.9149\n",
      "      9             0.0000                  0.0055      -0.3922      -0.3447        0.3922        0.3447  0.8616\n",
      "     10             0.0000                  0.0060      -0.3330      \u001b[31m-0.3414\u001b[0m        0.3330        \u001b[36m0.3414\u001b[0m  0.9693\n",
      "     11             0.0000                  0.0043      -0.3401      -0.3419        0.3401        0.3419  0.9000\n",
      "     12             0.0000                  0.0040      -0.3421      \u001b[31m-0.3413\u001b[0m        0.3421        \u001b[36m0.3413\u001b[0m  0.9253\n",
      "     13             0.0000                  0.0030      -0.3466      -0.3958        0.3466        0.3958  0.9901\n",
      "     14             0.0000                  0.0049      -0.3240      -0.5266        0.3240        0.5266  0.9029\n",
      "     15             0.0000                  0.0055      -0.3681      -0.3460        0.3681        0.3460  0.9307\n",
      "     16             0.0000                  0.0049      -0.3377      \u001b[31m-0.3410\u001b[0m        0.3377        \u001b[36m0.3410\u001b[0m  1.0175\n",
      "     17             0.0000                  0.0038      -0.3352      -0.3566        0.3352        0.3566  0.9123\n",
      "     18             0.0000                  0.0021      -0.3360      -0.3580        0.3360        0.3580  1.0367\n",
      "     19             0.0000                  0.0041      -0.3373      -0.3443        0.3373        0.3443  0.9798\n",
      "     20             0.0000                  0.0016      -0.3435      -0.3526        0.3435        0.3526  0.8903\n",
      "     21             0.0000                  0.0033      -0.3303      -0.3416        0.3303        0.3416  0.8947\n",
      "     22             0.0000                  0.0032      -0.3550      -0.3486        0.3550        0.3486  0.9646\n",
      "     23             0.0000                  0.0034      -0.3366      -0.3433        0.3366        0.3433  0.8829\n",
      "     24             0.0000                  0.0035      -0.3349      -0.3476        0.3349        0.3476  0.9093\n",
      "     25             0.0000                  0.0029      -0.3658      -0.3705        0.3658        0.3705  0.9723\n",
      "     26             0.0000                  0.0029      -0.3424      -0.3425        0.3424        0.3425  0.8947\n",
      "     27             0.0000                  0.0027      -0.3412      -0.3431        0.3412        0.3431  0.9631\n",
      "     28             0.0000                  0.0034      \u001b[35m-0.3138\u001b[0m      -0.3415        \u001b[94m0.3138\u001b[0m        0.3415  1.1206\n",
      "     29             0.0000                  0.0036      -0.3499      -0.3489        0.3499        0.3489  0.9662\n",
      "     30             0.0000                  0.0039      -0.3477      -0.3411        0.3477        0.3411  0.9453\n",
      "     31             0.0000                  0.0038      -0.3374      -0.3707        0.3374        0.3707  1.0948\n",
      "     32             0.0000                  0.0030      -0.3347      -0.3523        0.3347        0.3523  0.8983\n",
      "     33             0.0000                  0.0023      -0.3551      -0.3524        0.3551        0.3524  0.9367\n",
      "     34             0.0000                  0.0038      -0.3325      -0.3841        0.3325        0.3841  1.0918\n",
      "     35             0.0000                  0.0024      -0.3342      -0.3582        0.3342        0.3582  0.9697\n",
      "     36             0.0000                  0.0023      -0.3412      -0.3411        0.3412        0.3411  0.9329\n",
      "     37             0.0000                  0.0066      -0.3783      -0.3433        0.3783        0.3433  1.0706\n",
      "     38             0.0000                  0.0025      -0.3182      \u001b[31m-0.3409\u001b[0m        0.3182        \u001b[36m0.3409\u001b[0m  0.9092\n",
      "     39             0.0000                  0.0024      -0.3334      -0.3498        0.3334        0.3498  1.0024\n",
      "     40             0.0000                  0.0024      -0.3337      -0.3430        0.3337        0.3430  0.9355\n",
      "     41             0.0000                  0.0023      -0.3390      -0.3409        0.3390        0.3409  0.8917\n",
      "     42             0.0000                  0.0022      -0.3296      -0.3520        0.3296        0.3520  1.0302\n",
      "     43             0.0000                  0.0031      -0.3378      -0.3465        0.3378        0.3465  0.9772\n",
      "     44             0.0000                  0.0036      -0.3375      -0.4222        0.3375        0.4222  1.0607\n",
      "     45             0.0000                  0.0045      -0.3373      \u001b[31m-0.3409\u001b[0m        0.3373        \u001b[36m0.3409\u001b[0m  1.4555\n",
      "     46             0.0000                  0.0021      \u001b[35m-0.3039\u001b[0m      \u001b[31m-0.3407\u001b[0m        \u001b[94m0.3039\u001b[0m        \u001b[36m0.3407\u001b[0m  1.3702\n",
      "     47             0.0000                  0.0024      -0.3055      -0.3457        0.3055        0.3457  1.3031\n",
      "     48             0.0000                  0.0019      -0.3264      -0.3498        0.3264        0.3498  1.0991\n",
      "     49             0.0000                  0.0028      -0.3450      -0.3418        0.3450        0.3418  1.0415\n",
      "     50             0.0000                  0.0025      -0.3220      -0.3505        0.3220        0.3505  1.0607\n",
      "     51             0.0000                  0.0020      -0.3082      -0.3659        0.3082        0.3659  1.2306\n",
      "     52             0.0000                  0.0034      -0.3173      -0.3547        0.3173        0.3547  1.1860\n",
      "     53             0.0000                  0.0023      -0.3492      -0.3489        0.3492        0.3489  0.9754\n",
      "     54             0.0000                  0.0012      -0.3068      \u001b[31m-0.3407\u001b[0m        0.3068        \u001b[36m0.3407\u001b[0m  1.3959\n",
      "     55             0.0000                  0.0021      -0.3536      -0.3549        0.3536        0.3549  1.0340\n",
      "     56             0.0000                  0.0017      -0.3137      -0.3431        0.3137        0.3431  0.9824\n",
      "     57             0.0000                  0.0020      -0.3116      -0.3598        0.3116        0.3598  1.1285\n",
      "     58             0.0000                  0.0022      -0.3660      -0.3525        0.3660        0.3525  0.9161\n",
      "     59             0.0000                  0.0016      -0.3540      -0.4042        0.3540        0.4042  0.9688\n",
      "     60             0.0000                  0.0030      -0.3380      -0.3419        0.3380        0.3419  1.0145\n",
      "     61             0.0000                  0.0019      -0.3414      \u001b[31m-0.3403\u001b[0m        0.3414        \u001b[36m0.3403\u001b[0m  0.9208\n",
      "     62             0.0000                  0.0021      -0.3615      -0.3438        0.3615        0.3438  0.9137\n",
      "     63             0.0000                  0.0013      -0.3469      -0.3464        0.3469        0.3464  0.9522\n",
      "     64             0.0000                  0.0016      -0.3401      -0.3714        0.3401        0.3714  0.9222\n",
      "     65             0.0000                  0.0020      -0.3454      -0.5219        0.3454        0.5219  0.9956\n",
      "     66             0.0000                  0.0077      -0.3415      -0.3427        0.3415        0.3427  0.9996\n",
      "     67             0.0000                  0.0018      -0.3495      -0.3620        0.3495        0.3620  0.9769\n"
     ]
    },
    {
     "name": "stdout",
     "output_type": "stream",
     "text": [
      "     68             0.0000                  0.0013      -0.3515      -0.3656        0.3515        0.3656  1.0783\n",
      "     69             0.0000                  0.0020      -0.3187      -0.3570        0.3187        0.3570  1.1798\n",
      "     70             0.0000                  0.0024      \u001b[35m-0.2891\u001b[0m      -0.3439        \u001b[94m0.2891\u001b[0m        0.3439  0.9506\n",
      "     71             0.0000                  0.0020      -0.3482      \u001b[31m-0.3380\u001b[0m        0.3482        \u001b[36m0.3380\u001b[0m  0.9736\n",
      "     72             0.0000                  0.0024      -0.3224      -0.3393        0.3224        0.3393  1.0138\n",
      "     73             0.0000                  0.0032      -0.3426      -0.3526        0.3426        0.3526  1.0054\n",
      "     74             0.0000                  0.0032      -0.3358      -0.3585        0.3358        0.3585  0.9670\n",
      "     75             0.0000                  0.0023      -0.3569      -0.3384        0.3569        0.3384  1.0311\n",
      "     76             0.0000                  0.0021      -0.3492      -0.3724        0.3492        0.3724  0.9771\n",
      "     77             0.0000                  0.0020      -0.3287      \u001b[31m-0.3352\u001b[0m        0.3287        \u001b[36m0.3352\u001b[0m  0.9811\n",
      "     78             0.0000                  0.0033      -0.3542      -0.3553        0.3542        0.3553  1.0433\n",
      "     79             0.0000                  0.0024      -0.3243      \u001b[31m-0.3272\u001b[0m        0.3243        \u001b[36m0.3272\u001b[0m  1.0026\n",
      "     80             0.0000                  0.0103      -0.3977      -0.3364        0.3977        0.3364  0.9181\n",
      "     81             0.0000                  0.0945      -0.9920      -0.3320        0.9920        0.3320  1.0204\n",
      "     82             0.0000                  0.0028      -0.3465      -0.3286        0.3465        0.3286  0.9671\n",
      "     83             0.0000                  0.0033      -0.3274      -0.3303        0.3274        0.3303  0.9540\n",
      "     84             0.0000                  0.0212      -0.3606      -0.3646        0.3606        0.3646  0.9959\n",
      "     85             0.0000                  0.0042      -0.3345      \u001b[31m-0.3269\u001b[0m        0.3345        \u001b[36m0.3269\u001b[0m  0.9641\n",
      "     86             0.0000                  0.0030      -0.3366      \u001b[31m-0.3159\u001b[0m        0.3366        \u001b[36m0.3159\u001b[0m  0.9792\n",
      "     87             0.0000                  0.0027      -0.3054      -0.3426        0.3054        0.3426  1.0342\n",
      "     88             0.0000                  0.0032      -0.3222      -0.3415        0.3222        0.3415  0.9092\n",
      "     89             0.0000                  0.0045      -0.3358      -0.3700        0.3358        0.3700  0.9799\n",
      "     90             0.0000                  0.0037      -0.3395      \u001b[31m-0.3137\u001b[0m        0.3395        \u001b[36m0.3137\u001b[0m  0.9955\n",
      "     91             0.0000                  0.0022      -0.3408      \u001b[31m-0.3110\u001b[0m        0.3408        \u001b[36m0.3110\u001b[0m  0.9618\n",
      "     92             0.0000                  0.0051      -0.3170      -0.3221        0.3170        0.3221  0.9314\n",
      "     93             0.0000                  0.0029      -0.3297      \u001b[31m-0.3106\u001b[0m        0.3297        \u001b[36m0.3106\u001b[0m  0.9989\n",
      "     94             0.0000                  0.0048      -0.3365      -0.3219        0.3365        0.3219  0.9644\n",
      "     95             0.0000                  0.0029      -0.3201      -0.3389        0.3201        0.3389  0.9896\n",
      "     96             0.0000                  0.0062      -0.3531      \u001b[31m-0.3038\u001b[0m        0.3531        \u001b[36m0.3038\u001b[0m  1.0015\n",
      "     97             0.0000                  0.0146      -0.3539      -0.3582        0.3539        0.3582  0.9374\n",
      "     98             0.0000                  0.0127      -0.3034      \u001b[31m-0.2970\u001b[0m        0.3034        \u001b[36m0.2970\u001b[0m  1.0403\n",
      "     99             0.0000                  0.0056      -0.2960      \u001b[31m-0.2948\u001b[0m        0.2960        \u001b[36m0.2948\u001b[0m  0.9768\n",
      "    100             0.0000                  0.0036      -0.3087      \u001b[31m-0.2913\u001b[0m        0.3087        \u001b[36m0.2913\u001b[0m  0.9736\n",
      "    101             0.0000                  0.0037      -0.3054      \u001b[31m-0.2872\u001b[0m        0.3054        \u001b[36m0.2872\u001b[0m  1.1040\n",
      "    102             0.0000                 21.2344    -141.5026      -0.3535      141.5026        0.3535  0.9747\n",
      "    103             0.0000                  0.0054      -0.3781      -0.3538        0.3781        0.3538  0.9805\n",
      "    104             0.0000                  0.0046      -0.3519      -0.3432        0.3519        0.3432  1.0132\n",
      "    105             0.0000                  0.0040      -0.3279      -0.3450        0.3279        0.3450  0.9687\n",
      "    106             0.0000                  0.0027      -0.3546      -0.3757        0.3546        0.3757  0.9384\n",
      "    107             0.0000                  0.0020      -0.3419      -0.3498        0.3419        0.3498  1.0849\n",
      "    108             0.0000                  0.0015      -0.3367      -0.3415        0.3367        0.3415  0.9850\n",
      "    109             0.0000                  0.0019      -0.3704      -0.3527        0.3704        0.3527  0.9410\n",
      "    110             0.0000                  0.0026      -0.3355      -0.3437        0.3355        0.3437  1.0344\n",
      "    111             0.0000                  0.0036      -0.3598      -0.3628        0.3598        0.3628  0.9757\n",
      "    112             0.0000                  0.0012      -0.3164      -0.3421        0.3164        0.3421  0.9233\n",
      "    113             0.0000                  0.0031      -0.3427      -0.3471        0.3427        0.3471  1.0222\n",
      "    114             0.0000                  0.0023      -0.3279      -0.3616        0.3279        0.3616  0.9343\n",
      "    115             0.0000                  0.0019      -0.3831      -0.7220        0.3831        0.7220  0.9583\n",
      "    116             0.0000                  0.0067      -0.3724      -0.3414        0.3724        0.3414  1.0572\n",
      "    117             0.0000                  0.0028      -0.3488      -0.3793        0.3488        0.3793  0.9983\n",
      "    118             0.0000                  0.0018      -0.3583      -0.3412        0.3583        0.3412  0.9563\n",
      "    119             0.0000                  0.0028      -0.3387      -0.3420        0.3387        0.3420  1.0196\n",
      "    120             0.0000                  0.0014      -0.3236      -0.3416        0.3236        0.3416  0.9310\n",
      "    121             0.0000                  0.0016      -0.3582      -0.3432        0.3582        0.3432  0.9580\n",
      "    122             0.0000                  0.0018      -0.3467      -0.3413        0.3467        0.3413  1.0606\n",
      "    123             0.0000                  0.0015      -0.3461      -0.3406        0.3461        0.3406  0.9618\n",
      "    124             0.0000                  0.0019      -0.3342      -0.3518        0.3342        0.3518  0.9247\n",
      "    125             0.0000                  0.0021      -0.3174      -0.3411        0.3174        0.3411  0.9972\n",
      "    126             0.0000                  0.0015      -0.3293      -0.3583        0.3293        0.3583  0.9452\n",
      "    127             0.0000                  0.0019      -0.3148      -0.3571        0.3148        0.3571  0.9453\n",
      "    128             0.0000                  0.0018      -0.3431      -0.3407        0.3431        0.3407  1.0039\n",
      "    129             0.0000                  0.0017      -0.3336      -0.3545        0.3336        0.3545  0.9559\n",
      "    130             0.0000                  0.0032      -0.3346      -0.3445        0.3346        0.3445  0.9553\n",
      "    131             0.0000                  0.0046      -0.3572      -0.3513        0.3572        0.3513  1.0579\n",
      "    132             0.0000                  0.0022      -0.3299      -0.3409        0.3299        0.3409  0.9767\n",
      "    133             0.0000                  0.0025      -0.3138      -0.3646        0.3138        0.3646  0.9664\n",
      "    134             0.0000                  0.0017      -0.3627      -0.3405        0.3627        0.3405  1.0399\n",
      "    135             0.0000                  0.0017      -0.3454      -0.3408        0.3454        0.3408  1.0286\n",
      "    136             0.0000                  0.0023      -0.3774      -0.3449        0.3774        0.3449  1.0707\n",
      "    137             0.0000                  0.0017      -0.3228      -0.3425        0.3228        0.3425  1.1908\n",
      "    138             0.0000                  0.0020      -0.3360      -0.3807        0.3360        0.3807  1.0636\n"
     ]
    },
    {
     "name": "stdout",
     "output_type": "stream",
     "text": [
      "    139             0.0000                  0.0029      -0.3452      -0.3473        0.3452        0.3473  1.0485\n",
      "    140             0.0000                  0.0027      -0.3394      -0.3396        0.3394        0.3396  1.5315\n",
      "    141             0.0000                  0.0020      -0.3740      -0.3397        0.3740        0.3397  1.1762\n",
      "    142             0.0000                  0.0019      -0.3671      -0.3414        0.3671        0.3414  1.0979\n",
      "    143             0.0000                  0.0027      -0.3335      -0.3400        0.3335        0.3400  1.1470\n",
      "    144             0.0000                  0.0028      -0.3095      -0.3518        0.3095        0.3518  1.0927\n",
      "    145             0.0000                  0.0026      -0.3412      -0.3599        0.3412        0.3599  1.1838\n",
      "    146             0.0000                  0.0021      -0.3384      -0.3526        0.3384        0.3526  1.2358\n",
      "    147             0.0000                  0.0021      -0.3539      -0.3441        0.3539        0.3441  1.1448\n",
      "    148             0.0000                  0.0028      -0.3099      -0.3539        0.3099        0.3539  1.0346\n",
      "    149             0.0000                  0.0018      -0.3389      -0.3496        0.3389        0.3496  1.2516\n",
      "    150             0.0000                  0.0025      -0.3450      -0.3397        0.3450        0.3397  1.2594\n",
      "    151             0.0000                  0.0018      -0.3341      -0.3381        0.3341        0.3381  1.0134\n",
      "    152             0.0000                  0.0035      -0.3268      -0.3385        0.3268        0.3385  1.2208\n",
      "    153             0.0000                  0.0019      -0.3366      -0.3462        0.3366        0.3462  1.1408\n",
      "    154             0.0000                  0.0022      -0.3518      -0.3570        0.3518        0.3570  1.0577\n",
      "    155             0.0000                  0.0021      -0.3383      -0.3416        0.3383        0.3416  1.1603\n",
      "    156             0.0000                  0.0030      -0.3215      -0.3397        0.3215        0.3397  0.9277\n",
      "    157             0.0000                  0.0026      -0.3174      -0.3394        0.3174        0.3394  1.3172\n",
      "    158             0.0000                  0.0018      -0.3383      -0.3421        0.3383        0.3421  0.8806\n",
      "    159             0.0000                  0.0028      -0.3557      -0.3376        0.3557        0.3376  0.8817\n",
      "    160             0.0000                  0.0013      -0.3027      -0.3437        0.3027        0.3437  0.9853\n",
      "    161             0.0000                  0.0025      -0.3393      -0.3380        0.3393        0.3380  0.9645\n",
      "    162             0.0000                  0.0014      -0.3353      -0.3336        0.3353        0.3336  1.0672\n",
      "    163             0.0000                  0.0170      -0.4472      -0.3341        0.4472        0.3341  1.0999\n",
      "    164             0.0000                  0.0011      -0.3397      -0.3316        0.3397        0.3316  1.0024\n",
      "    165             0.0000                  0.0042      -0.3606      -0.3299        0.3606        0.3299  0.9301\n",
      "    166             0.0000                  0.0023      -0.3598      -0.5994        0.3598        0.5994  1.1236\n",
      "    167             0.0000                  0.0980      -0.4545      -0.3555        0.4545        0.3555  1.0603\n",
      "    168             0.0000                  0.0049      -0.3271      -0.3196        0.3271        0.3196  1.0855\n",
      "    169             0.0000                  0.0034      -0.2959      -0.3061        0.2959        0.3061  1.1210\n",
      "    170             0.0000                  0.0048      -0.3541      -0.3135        0.3541        0.3135  0.9588\n",
      "    171             0.0000                  0.0037      -0.3308      -0.2972        0.3308        0.2972  0.9150\n",
      "    172             0.0000                  0.0037      -0.3295      -0.3247        0.3295        0.3247  0.9793\n",
      "    173             0.0000                  0.0025      -0.3277      -0.2976        0.3277        0.2976  0.9811\n",
      "    174             0.0000                  0.0032      -0.2947      -0.3083        0.2947        0.3083  1.0078\n",
      "    175             0.0000                  0.0033      -0.3302      -0.2924        0.3302        0.2924  1.3989\n",
      "    176             0.0000                  0.0046      -0.3144      -0.2915        0.3144        0.2915  1.0896\n",
      "    177             0.0000                  0.0044      -0.2917      \u001b[31m-0.2863\u001b[0m        0.2917        \u001b[36m0.2863\u001b[0m  1.0114\n",
      "    178             0.0000                  0.0063      -0.3083      -0.3180        0.3083        0.3180  1.1249\n",
      "    179             0.0000                  0.0090      \u001b[35m-0.2815\u001b[0m      -0.2912        \u001b[94m0.2815\u001b[0m        0.2912  1.0216\n",
      "    180             0.0000                  0.0075      -0.2917      \u001b[31m-0.2430\u001b[0m        0.2917        \u001b[36m0.2430\u001b[0m  0.9089\n",
      "    181             0.0000                  0.5625      -0.9120      \u001b[31m-0.2383\u001b[0m        0.9120        \u001b[36m0.2383\u001b[0m  1.1346\n",
      "    182             0.0000                  0.0110      \u001b[35m-0.2392\u001b[0m      -0.5064        \u001b[94m0.2392\u001b[0m        0.5064  1.4347\n",
      "    183             0.0000                  0.0160      -0.2807      \u001b[31m-0.2317\u001b[0m        0.2807        \u001b[36m0.2317\u001b[0m  0.9658\n",
      "    184             0.0000                  0.1580      -0.7284      \u001b[31m-0.2190\u001b[0m        0.7284        \u001b[36m0.2190\u001b[0m  1.0350\n",
      "    185             0.0000                  0.0174      -0.2405      -0.3269        0.2405        0.3269  1.0473\n",
      "    186             0.0000                  0.0228      -0.2625      -0.3117        0.2625        0.3117  0.9875\n",
      "    187             0.0000                  0.0146      \u001b[35m-0.2345\u001b[0m      \u001b[31m-0.1951\u001b[0m        \u001b[94m0.2345\u001b[0m        \u001b[36m0.1951\u001b[0m  1.1240\n",
      "    188             0.0000                  0.0154      \u001b[35m-0.2085\u001b[0m      \u001b[31m-0.1598\u001b[0m        \u001b[94m0.2085\u001b[0m        \u001b[36m0.1598\u001b[0m  0.9373\n",
      "    189             0.0000                  0.0185      -0.2131      -0.1741        0.2131        0.1741  0.8925\n",
      "    190             0.0000                  0.0155      \u001b[35m-0.1860\u001b[0m      -0.2769        \u001b[94m0.1860\u001b[0m        0.2769  0.9471\n",
      "    191             0.0000                  0.0155      -0.1969      -0.1645        0.1969        0.1645  0.9296\n",
      "    192             0.0000                  0.0158      -0.2015      -0.1747        0.2015        0.1747  1.0288\n",
      "    193             0.0000                  0.0192      \u001b[35m-0.1845\u001b[0m      -0.2696        \u001b[94m0.1845\u001b[0m        0.2696  0.9798\n",
      "    194             0.0000                  0.0232      -0.1939      -0.1675        0.1939        0.1675  0.9014\n",
      "    195             0.0000                  0.0146      \u001b[35m-0.1682\u001b[0m      -0.1908        \u001b[94m0.1682\u001b[0m        0.1908  0.8780\n",
      "    196             0.0000                  0.0168      -0.1889      -0.2732        0.1889        0.2732  1.0288\n",
      "    197             0.0000                  0.0208      -0.2022      -0.1736        0.2022        0.1736  0.8848\n",
      "    198             0.0000                  0.0165      -0.1813      -0.2248        0.1813        0.2248  0.8975\n",
      "    199             0.0000                  0.0175      -0.1909      -0.1901        0.1909        0.1901  1.0185\n",
      "    200             0.0000                  0.0180      \u001b[35m-0.1678\u001b[0m      -0.2423        \u001b[94m0.1678\u001b[0m        0.2423  0.9462\n",
      "    201             0.0000                  0.0169      -0.1783      -0.2775        0.1783        0.2775  0.9999\n",
      "    202             0.0000                  0.0175      -0.1756      -0.1690        0.1756        0.1690  1.0929\n",
      "    203             0.0000                  0.0153      \u001b[35m-0.1538\u001b[0m      -0.2856        \u001b[94m0.1538\u001b[0m        0.2856  1.0708\n",
      "    204             0.0000                  0.0221      -0.1923      -0.1810        0.1923        0.1810  0.9860\n",
      "    205             0.0000                  0.0191      -0.1757      -0.1801        0.1757        0.1801  1.0603\n",
      "    206             0.0000                  0.0150      \u001b[35m-0.1450\u001b[0m      \u001b[31m-0.1360\u001b[0m        \u001b[94m0.1450\u001b[0m        \u001b[36m0.1360\u001b[0m  1.0840\n",
      "    207             0.0000                  0.0169      -0.1588      \u001b[31m-0.1120\u001b[0m        0.1588        \u001b[36m0.1120\u001b[0m  0.9662\n",
      "    208             0.0000                  0.0158      -0.1563      -0.1251        0.1563        0.1251  1.1434\n"
     ]
    },
    {
     "name": "stdout",
     "output_type": "stream",
     "text": [
      "    209             0.0000                  0.0171      -0.1488      -0.3814        0.1488        0.3814  0.9590\n",
      "    210             0.0000                  0.0190      -0.1700      -0.1845        0.1700        0.1845  1.2771\n",
      "    211             0.0000                  0.0187      -0.1540      -0.1689        0.1540        0.1689  1.1219\n",
      "    212             0.0000                  0.0193      -0.1557      \u001b[31m-0.1069\u001b[0m        0.1557        \u001b[36m0.1069\u001b[0m  1.0047\n",
      "    213             0.0000                  0.0185      -0.1542      -0.1459        0.1542        0.1459  1.6904\n",
      "    214             0.0000                  0.0225      -0.1640      -0.1935        0.1640        0.1935  1.1586\n",
      "    215             0.0000                  0.0206      -0.1529      -0.1186        0.1529        0.1186  1.1340\n",
      "    216             0.0000                  0.0207      -0.1498      \u001b[31m-0.1050\u001b[0m        0.1498        \u001b[36m0.1050\u001b[0m  1.1342\n",
      "    217             0.0000                  0.0139      \u001b[35m-0.1229\u001b[0m      -0.2833        \u001b[94m0.1229\u001b[0m        0.2833  1.0108\n",
      "    218             0.0000                  0.0124      -0.1392      -0.1051        0.1392        0.1051  1.1520\n",
      "    219             0.0000                  0.0198      -0.1588      -0.1521        0.1588        0.1521  1.5049\n",
      "    220             0.0000                  0.0189      -0.1436      -0.1711        0.1436        0.1711  1.1411\n",
      "    221             0.0000                  0.0160      -0.1407      -0.1160        0.1407        0.1160  1.1367\n",
      "    222             0.0000                  0.0196      -0.1431      -0.1287        0.1431        0.1287  1.6103\n",
      "    223             0.0000                  0.0193      -0.1354      -0.1319        0.1354        0.1319  1.0614\n",
      "    224             0.0000                  0.0182      -0.1434      -0.1569        0.1434        0.1569  0.9971\n",
      "    225             0.0000                  0.0215      -0.1408      -0.1319        0.1408        0.1319  1.0382\n",
      "    226             0.0000                  0.0162      -0.1433      \u001b[31m-0.0858\u001b[0m        0.1433        \u001b[36m0.0858\u001b[0m  0.9474\n",
      "    227             0.0000                  0.0172      -0.1271      -0.1753        0.1271        0.1753  0.9648\n",
      "    228             0.0000                  0.0180      -0.1341      -0.1490        0.1341        0.1490  0.9998\n",
      "    229             0.0000                  0.0226      -0.1486      -0.2358        0.1486        0.2358  0.9618\n",
      "    230             0.0000                  0.0255      -0.1554      -0.1087        0.1554        0.1087  0.9347\n",
      "    231             0.0000                  0.0201      -0.1393      -0.1716        0.1393        0.1716  0.9917\n",
      "    232             0.0000                  0.0191      -0.1232      -0.1285        0.1232        0.1285  0.9710\n",
      "    233             0.0000                  0.0226      -0.1496      -0.1536        0.1496        0.1536  0.9424\n",
      "    234             0.0000                  0.0177      \u001b[35m-0.1223\u001b[0m      -0.1576        \u001b[94m0.1223\u001b[0m        0.1576  1.0512\n",
      "    235             0.0000                  0.0169      -0.1378      -0.1069        0.1378        0.1069  1.0568\n",
      "    236             0.0000                  0.0202      -0.1320      -0.1126        0.1320        0.1126  0.9293\n",
      "    237             0.0000                  0.0200      -0.1313      -0.1386        0.1313        0.1386  1.0932\n",
      "    238             0.0000                  0.0178      -0.1286      -0.2149        0.1286        0.2149  0.9431\n",
      "    239             0.0000                  0.0198      -0.1380      -0.1338        0.1380        0.1338  0.9136\n",
      "    240             0.0000                  0.0193      -0.1315      -0.1034        0.1315        0.1034  1.0377\n",
      "    241             0.0000                  0.0163      \u001b[35m-0.1202\u001b[0m      -0.1569        \u001b[94m0.1202\u001b[0m        0.1569  0.9247\n",
      "    242             0.0000                  0.0173      -0.1224      -0.1172        0.1224        0.1172  0.9148\n",
      "    243             0.0000                  0.0217      -0.1444      -0.0867        0.1444        0.0867  0.9718\n",
      "    244             0.0000                  0.0190      -0.1261      -0.1236        0.1261        0.1236  0.9192\n",
      "    245             0.0000                  0.0187      -0.1363      -0.1090        0.1363        0.1090  1.1192\n",
      "    246             0.0000                  0.0231      -0.1377      -0.1908        0.1377        0.1908  1.0224\n",
      "    247             0.0000                  0.0175      -0.1295      -0.1331        0.1295        0.1331  0.9620\n",
      "    248             0.0000                  0.0188      -0.1249      -0.0921        0.1249        0.0921  0.8900\n",
      "    249             0.0000                  0.0183      -0.1284      -0.0920        0.1284        0.0920  0.9645\n",
      "    250             0.0000                  0.0186      \u001b[35m-0.1148\u001b[0m      -0.1453        \u001b[94m0.1148\u001b[0m        0.1453  0.9389\n",
      "    251             0.0000                  0.0156      -0.1210      -0.1220        0.1210        0.1220  1.0776\n",
      "    252             0.0000                  0.0154      -0.1240      -0.1128        0.1240        0.1128  1.3778\n",
      "    253             0.0000                  0.0191      -0.1273      -0.2478        0.1273        0.2478  0.9807\n",
      "    254             0.0000                  0.0134      \u001b[35m-0.1069\u001b[0m      -0.1474        \u001b[94m0.1069\u001b[0m        0.1474  0.9011\n",
      "    255             0.0000                  0.0196      -0.1199      \u001b[31m-0.0764\u001b[0m        0.1199        \u001b[36m0.0764\u001b[0m  0.9688\n",
      "    256             0.0000                  0.0199      -0.1326      -0.1326        0.1326        0.1326  0.9391\n",
      "    257             0.0000                  0.0192      -0.1409      -0.1915        0.1409        0.1915  0.8981\n",
      "    258             0.0000                  0.0214      -0.1280      -0.0982        0.1280        0.0982  0.9859\n",
      "    259             0.0000                  0.0150      -0.1142      -0.0968        0.1142        0.0968  0.9579\n",
      "    260             0.0000                  0.0157      -0.1197      -0.1101        0.1197        0.1101  0.9198\n",
      "    261             0.0000                  0.0196      -0.1283      -0.0807        0.1283        0.0807  1.0963\n",
      "    262             0.0000                  0.0168      -0.1293      -0.0822        0.1293        0.0822  1.0832\n",
      "    263             0.0000                  0.0194      -0.1213      -0.1720        0.1213        0.1720  0.9811\n",
      "    264             0.0000                  0.0188      -0.1399      -0.0982        0.1399        0.0982  1.2315\n",
      "    265             0.0000                  0.0196      -0.1186      -0.1060        0.1186        0.1060  1.0995\n",
      "    266             0.0000                  0.0159      -0.1236      -0.0881        0.1236        0.0881  0.9792\n",
      "    267             0.0000                  0.0178      -0.1186      -0.1215        0.1186        0.1215  1.1462\n",
      "    268             0.0000                  0.0178      -0.1276      -0.0775        0.1276        0.0775  0.9871\n",
      "    269             0.0000                  0.0168      -0.1124      -0.1582        0.1124        0.1582  1.2636\n",
      "    270             0.0000                  0.0203      -0.1320      -0.0808        0.1320        0.0808  1.1693\n",
      "    271             0.0000                  0.0197      -0.1151      -0.1346        0.1151        0.1346  1.3026\n",
      "    272             0.0000                  0.0179      -0.1236      -0.1701        0.1236        0.1701  1.2079\n",
      "    273             0.0000                  0.0147      \u001b[35m-0.1068\u001b[0m      -0.0926        \u001b[94m0.1068\u001b[0m        0.0926  0.9865\n",
      "    274             0.0000                  0.0150      \u001b[35m-0.1042\u001b[0m      -0.1006        \u001b[94m0.1042\u001b[0m        0.1006  1.0148\n",
      "    275             0.0000                  0.0198      -0.1177      -0.0983        0.1177        0.0983  1.0622\n",
      "    276             0.0000                  0.0215      -0.1267      -0.1646        0.1267        0.1646  1.1691\n",
      "    277             0.0000                  0.0144      -0.1177      -0.0876        0.1177        0.0876  1.3031\n",
      "    278             0.0000                  0.0205      -0.1244      -0.1229        0.1244        0.1229  1.1082\n",
      "    279             0.0000                  0.0199      -0.1113      -0.1216        0.1113        0.1216  1.1664\n"
     ]
    },
    {
     "name": "stdout",
     "output_type": "stream",
     "text": [
      "    280             0.0000                  0.0167      -0.1133      -0.0918        0.1133        0.0918  1.0852\n",
      "    281             0.0000                  0.0157      \u001b[35m-0.1033\u001b[0m      -0.1944        \u001b[94m0.1033\u001b[0m        0.1944  1.0935\n",
      "    282             0.0000                  0.0172      -0.1281      \u001b[31m-0.0654\u001b[0m        0.1281        \u001b[36m0.0654\u001b[0m  1.3177\n",
      "    283             0.0000                  0.0184      -0.1220      -0.0718        0.1220        0.0718  1.0878\n",
      "    284             0.0000                  0.0148      -0.1079      -0.0989        0.1079        0.0989  1.1053\n",
      "    285             0.0000                  0.0178      -0.1124      -0.0992        0.1124        0.0992  1.1500\n",
      "    286             0.0000                  0.0205      -0.1178      -0.1021        0.1178        0.1021  0.9156\n",
      "    287             0.0000                  0.0178      -0.1149      -0.1106        0.1149        0.1106  1.3250\n",
      "    288             0.0000                  0.0182      -0.1277      -0.1631        0.1277        0.1631  1.0369\n",
      "    289             0.0000                  0.0172      -0.1146      -0.1201        0.1146        0.1201  1.0196\n",
      "    290             0.0000                  0.0170      \u001b[35m-0.1032\u001b[0m      -0.0935        \u001b[94m0.1032\u001b[0m        0.0935  1.2052\n",
      "    291             0.0000                  0.0191      -0.1158      -0.1375        0.1158        0.1375  1.5334\n",
      "    292             0.0000                  0.0204      -0.1270      -0.0801        0.1270        0.0801  1.1918\n",
      "    293             0.0000                  0.0183      -0.1307      -0.1499        0.1307        0.1499  1.2134\n",
      "    294             0.0000                  0.0150      -0.1172      -0.1458        0.1172        0.1458  1.1535\n",
      "    295             0.0000                  0.0178      -0.1172      -0.1265        0.1172        0.1265  1.1273\n",
      "    296             0.0000                  0.0199      -0.1184      -0.0746        0.1184        0.0746  1.0398\n",
      "    297             0.0000                  0.0194      -0.1171      -0.1090        0.1171        0.1090  1.2818\n",
      "    298             0.0000                  0.0209      -0.1186      -0.1007        0.1186        0.1007  1.0777\n",
      "    299             0.0000                  0.0183      -0.1125      -0.1234        0.1125        0.1234  1.2145\n",
      "    300             0.0000                  0.0171      -0.1137      -0.0888        0.1137        0.0888  1.0542\n"
     ]
    },
    {
     "data": {
      "text/plain": [
       "<class '__main__.Trainer'>[initialized](\n",
       "  module_=ReconModel(\n",
       "    (rnn0): DecayClocking(\n",
       "      (i2h): Linear(in_features=2, out_features=50, bias=True)\n",
       "      (h2h): Linear(in_features=50, out_features=50, bias=False)\n",
       "      (act): ReLU()\n",
       "    )\n",
       "    (clf): Linear(in_features=50, out_features=1, bias=True)\n",
       "  ),\n",
       ")"
      ]
     },
     "execution_count": 379,
     "metadata": {},
     "output_type": "execute_result"
    }
   ],
   "source": [
    "%pdb on\n",
    "ef.fit(dataset_train)"
   ]
  },
  {
   "cell_type": "code",
   "execution_count": null,
   "metadata": {},
   "outputs": [],
   "source": []
  },
  {
   "cell_type": "code",
   "execution_count": null,
   "metadata": {},
   "outputs": [],
   "source": []
  },
  {
   "cell_type": "code",
   "execution_count": 216,
   "metadata": {},
   "outputs": [
    {
     "data": {
      "text/plain": [
       "(array([12., 24., 10.,  1.,  0.,  1.,  0.,  0.,  0.,  2.]),\n",
       " array([0.58356208, 0.62269456, 0.66182705, 0.70095954, 0.74009203,\n",
       "        0.77922451, 0.818357  , 0.85748949, 0.89662198, 0.93575447,\n",
       "        0.97488695]),\n",
       " <a list of 10 Patch objects>)"
      ]
     },
     "execution_count": 216,
     "metadata": {},
     "output_type": "execute_result"
    },
    {
     "data": {
      "image/png": "[encoded data removed]",
      "text/plain": [
       "<matplotlib.figure.Figure at 0x7faa616de0b8>"
      ]
     },
     "metadata": {},
     "output_type": "display_data"
    }
   ],
   "source": [
    "plt.hist(ef.module_.cis[0].mean(0).data.numpy(), bins=10)"
   ]
  },
  {
   "cell_type": "code",
   "execution_count": 218,
   "metadata": {},
   "outputs": [
    {
     "data": {
      "text/plain": [
       "<matplotlib.image.AxesImage at 0x7faa63e41898>"
      ]
     },
     "execution_count": 218,
     "metadata": {},
     "output_type": "execute_result"
    },
    {
     "data": {
      "image/png": "[encoded data removed]",
      "text/plain": [
       "<matplotlib.figure.Figure at 0x7faa617b2a20>"
      ]
     },
     "metadata": {},
     "output_type": "display_data"
    }
   ],
   "source": [
    "plt.imshow(ef.module_.cis[0].data.numpy())"
   ]
  },
  {
   "cell_type": "code",
   "execution_count": null,
   "metadata": {},
   "outputs": [],
   "source": []
  },
  {
   "cell_type": "code",
   "execution_count": 223,
   "metadata": {},
   "outputs": [
    {
     "data": {
      "text/plain": [
       "[<matplotlib.lines.Line2D at 0x7faa60d42518>]"
      ]
     },
     "execution_count": 223,
     "metadata": {},
     "output_type": "execute_result"
    },
    {
     "data": {
      "image/png": "[encoded data removed]",
      "text/plain": [
       "<matplotlib.figure.Figure at 0x7faa60dc52b0>"
      ]
     },
     "metadata": {},
     "output_type": "display_data"
    }
   ],
   "source": [
    "plt.plot(ef.module_.cis[0].data.numpy()[:, 21])"
   ]
  },
  {
   "cell_type": "code",
   "execution_count": null,
   "metadata": {},
   "outputs": [],
   "source": []
  },
  {
   "cell_type": "code",
   "execution_count": 172,
   "metadata": {
    "scrolled": false
   },
   "outputs": [
    {
     "name": "stdout",
     "output_type": "stream",
     "text": [
      "Automatic pdb calling has been turned ON\n",
      "  epoch    grad_rnn0.alpha    grad_rnn0.h2h.weight       mae_train    mae_valid     train_loss    valid_loss     dur\n",
      "-------  -----------------  ----------------------  --------------  -----------  -------------  ------------  ------\n",
      "      1     192514370.0871           39323640.6367  \u001b[35m-97699488.0000\u001b[0m      \u001b[31m-0.3422\u001b[0m  \u001b[94m97699492.4063\u001b[0m        \u001b[36m0.3422\u001b[0m  0.8839\n",
      "      2             7.6071                  0.0095      \u001b[35m-0.4064\u001b[0m      \u001b[31m-0.3421\u001b[0m        \u001b[94m0.4064\u001b[0m        \u001b[36m0.3421\u001b[0m  0.8566\n",
      "      3             7.6117                  0.0084      \u001b[35m-0.3748\u001b[0m      -0.3957        \u001b[94m0.3748\u001b[0m        0.3957  1.0116\n",
      "      4             7.5623                  0.0064      \u001b[35m-0.3410\u001b[0m      -0.3778        \u001b[94m0.3410\u001b[0m        0.3778  0.9541\n",
      "      5             7.4765                  0.0060      -0.3563      -0.3471        0.3563        0.3471  0.9320\n",
      "      6             7.3474                  0.0047      \u001b[35m-0.3378\u001b[0m      -0.4158        \u001b[94m0.3378\u001b[0m        0.4158  0.9774\n",
      "      7             7.3406                  0.0056      -0.3748      -0.3502        0.3748        0.3502  0.8597\n",
      "      8             7.3789                  0.0037      -0.3496      -0.3703        0.3496        0.3703  0.9021\n",
      "      9             7.4676                  0.0038      -0.3424      -0.3699        0.3424        0.3699  0.9613\n",
      "     10             7.3372                  0.0059      \u001b[35m-0.3361\u001b[0m      -0.3460        \u001b[94m0.3361\u001b[0m        0.3460  0.8776\n",
      "     11             7.3316                  0.0052      -0.3585      \u001b[31m-0.3416\u001b[0m        0.3585        \u001b[36m0.3416\u001b[0m  0.9485\n",
      "     12             7.4533                  0.0038      -0.3404      \u001b[31m-0.3416\u001b[0m        0.3404        \u001b[36m0.3416\u001b[0m  0.9904\n",
      "     13             7.4351                  0.0041      \u001b[35m-0.3353\u001b[0m      -0.3448        \u001b[94m0.3353\u001b[0m        0.3448  0.9357\n",
      "     14             7.1218                  0.0025      \u001b[35m-0.3266\u001b[0m      -0.3449        \u001b[94m0.3266\u001b[0m        0.3449  0.8814\n",
      "     15             7.0070                  0.0026      -0.3288      -0.3470        0.3288        0.3470  0.9621\n",
      "     16             7.0211                  0.0045      -0.3618      -0.4051        0.3618        0.4051  0.9362\n",
      "     17             6.8411                  0.0036      -0.3390      -0.3435        0.3390        0.3435  0.8884\n",
      "     18             6.8403                  0.0043      \u001b[35m-0.3170\u001b[0m      -0.3491        \u001b[94m0.3170\u001b[0m        0.3491  0.9851\n",
      "     19             6.8233                  0.0034      -0.3194      -0.3511        0.3194        0.3511  0.9036\n",
      "     20             6.8584                  0.0034      -0.3327      -0.3829        0.3327        0.3829  0.9293\n",
      "     21             6.9113                  0.0037      -0.3879      -0.3427        0.3879        0.3427  0.9809\n",
      "     22             6.8871                  0.0027      -0.3432      -0.3435        0.3432        0.3435  0.8950\n",
      "     23             6.8559                  0.0023      -0.3513      -0.3433        0.3513        0.3433  0.8757\n",
      "     24             6.8237                  0.0029      -0.3396      -0.3458        0.3396        0.3458  0.9810\n",
      "     25             6.8282                  0.0023      -0.3236      -0.3416        0.3236        0.3416  0.8963\n",
      "     26             6.8317                  0.0025      -0.3562      -0.3550        0.3562        0.3550  1.1310\n",
      "     27             6.8839                  0.0033      \u001b[35m-0.3084\u001b[0m      \u001b[31m-0.3413\u001b[0m        \u001b[94m0.3084\u001b[0m        \u001b[36m0.3413\u001b[0m  0.9950\n",
      "     28             6.8302                  0.0033      -0.3300      -0.3451        0.3300        0.3451  0.9425\n",
      "     29             6.7739                  0.0022      -0.3475      -0.3576        0.3475        0.3576  0.9445\n",
      "     30             6.7771                  0.0029      -0.3335      -0.3417        0.3335        0.3417  0.9861\n",
      "     31             6.8204                  0.0015      -0.3229      -0.3487        0.3229        0.3487  0.9582\n",
      "     32             6.7412                  0.0031      -0.3678      -0.3444        0.3678        0.3444  1.0135\n",
      "     33             6.7636                  0.0021      -0.3552      -0.3453        0.3552        0.3453  0.9263\n",
      "     34             6.6606                  0.0035      -0.3363      -0.3637        0.3363        0.3637  0.8719\n",
      "     35             6.5971                  0.0037      -0.3174      -0.4051        0.3174        0.4051  0.9093\n",
      "     36             6.5911                  0.0019      -0.3291      -0.3415        0.3291        0.3415  0.9994\n",
      "     37             6.5495                  0.0038      -0.3359      -0.3438        0.3359        0.3438  0.9465\n",
      "     38             6.3437                  0.0018      -0.3223      \u001b[31m-0.3411\u001b[0m        0.3223        \u001b[36m0.3411\u001b[0m  0.8602\n",
      "     39             6.2336                  0.0024      -0.3404      \u001b[31m-0.3410\u001b[0m        0.3404        \u001b[36m0.3410\u001b[0m  1.0184\n",
      "     40             6.3185                  0.0017      -0.3431      -0.3416        0.3431        0.3416  0.9444\n",
      "     41             6.3804                  0.0020      -0.3579      -0.3489        0.3579        0.3489  1.0552\n",
      "     42             6.3777                  0.0020      -0.3167      -0.3629        0.3167        0.3629  0.9950\n",
      "     43             6.3839                  0.0028      -0.3316      -0.3421        0.3316        0.3421  0.9066\n",
      "     44             6.2561                  0.0016      -0.3608      \u001b[31m-0.3410\u001b[0m        0.3608        \u001b[36m0.3410\u001b[0m  0.9809\n",
      "     45             6.1656                  0.0027      -0.3303      -0.3491        0.3303        0.3491  0.9627\n",
      "     46             6.1392                  0.0025      -0.3303      -0.3507        0.3303        0.3507  0.9165\n",
      "     47             6.1421                  0.0039      -0.3597      -0.3540        0.3597        0.3540  0.9311\n",
      "     48             5.9509                  0.0015      -0.3518      \u001b[31m-0.3410\u001b[0m        0.3518        \u001b[36m0.3410\u001b[0m  0.9317\n",
      "     49             6.0199                  0.0013      -0.3330      -0.3663        0.3330        0.3663  0.8925\n",
      "     50             6.0342                  0.0025      -0.3471      -0.3431        0.3471        0.3431  1.0313\n",
      "     51             6.0023                  0.0019      -0.3150      -0.3411        0.3150        0.3411  1.0703\n",
      "     52             5.9708                  0.0014      -0.3388      -0.3451        0.3388        0.3451  0.9838\n",
      "     53             6.2856                  0.0154      -0.5138      -0.3667        0.5138        0.3667  0.9692\n",
      "     54             6.0000                  0.0020      -0.3388      -0.3445        0.3388        0.3445  0.9160\n",
      "     55             5.8826                  0.0028      -0.3246      -0.3421        0.3246        0.3421  0.9348\n",
      "     56             5.8726                  0.0021      \u001b[35m-0.2987\u001b[0m      -0.3435        \u001b[94m0.2987\u001b[0m        0.3435  0.9933\n",
      "     57             5.9002                  0.0021      -0.3452      -0.3441        0.3452        0.3441  0.9536\n",
      "     58             5.9068                  0.0019      -0.3401      \u001b[31m-0.3409\u001b[0m        0.3401        \u001b[36m0.3409\u001b[0m  0.9525\n",
      "     59             5.9060                  0.0019      -0.3562      -0.3429        0.3562        0.3429  0.9261\n",
      "     60             5.9031                  0.0018      -0.3296      -0.3467        0.3296        0.3467  0.9618\n",
      "     61             5.8871                  0.0028      -0.3374      -0.3527        0.3374        0.3527  0.9209\n",
      "     62             5.9656                  0.0116      -0.4892      -0.3417        0.4892        0.3417  1.0869\n",
      "     63             5.8906                  0.0023      -0.3336      -0.3601        0.3336        0.3601  0.9199\n",
      "     64             5.8084                  0.0019      -0.3798      -0.3478        0.3798        0.3478  0.8661\n",
      "     65             5.4937                  0.0025      -0.3536      -0.3464        0.3536        0.3464  0.9630\n",
      "     66             5.5706                  0.0021      -0.3052      -0.3427        0.3052        0.3427  0.8753\n",
      "     67             5.5494                  0.0018      -0.3426      -0.3422        0.3426        0.3422  0.9750\n"
     ]
    },
    {
     "name": "stdout",
     "output_type": "stream",
     "text": [
      "     68             5.5620                  0.0026      -0.3312      -0.3452        0.3312        0.3452  0.9605\n",
      "     69             5.6421                  0.0020      -0.3244      \u001b[31m-0.3398\u001b[0m        0.3244        \u001b[36m0.3398\u001b[0m  0.8946\n",
      "     70             5.4452                  0.0023      -0.3505      -0.3455        0.3505        0.3455  1.0424\n",
      "     71             5.5876                  0.0015      -0.3222      -0.3408        0.3222        0.3408  0.9948\n",
      "     72             5.5801                  0.0020      -0.3310      -0.3486        0.3310        0.3486  0.9926\n",
      "     73             5.5009                  0.0018      -0.3514      -0.3427        0.3514        0.3427  0.9025\n",
      "     74             5.4473                  0.0029      -0.3368      -0.3405        0.3368        0.3405  0.9491\n",
      "     75             5.4062                  0.0028      -0.3133      -0.3711        0.3133        0.3711  0.9219\n",
      "     76             5.4868                  0.0023      -0.3361      -0.3539        0.3361        0.3539  0.8960\n",
      "     77             5.5465                  0.0016      -0.3482      -0.3412        0.3482        0.3412  1.0123\n",
      "     78             5.5265                  0.0019      -0.3604      -0.3403        0.3604        0.3403  0.9223\n",
      "     79             5.5316                  0.0019      -0.3347      -0.3606        0.3347        0.3606  0.9517\n",
      "     80             5.6003                  0.0018      -0.3317      -0.3415        0.3317        0.3415  0.9460\n",
      "     81             5.6286                  0.0017      -0.3573      -0.3412        0.3573        0.3412  0.9410\n",
      "     82             5.6138                  0.0022      -0.3384      -0.3468        0.3384        0.3468  0.8876\n",
      "     83             5.5964                  0.0018      -0.3353      -0.3766        0.3353        0.3766  0.9609\n",
      "     84             5.5894                  0.0021      -0.3286      -0.3471        0.3286        0.3471  1.0282\n",
      "     85             5.5909                  0.0024      -0.3544      -0.3508        0.3544        0.3508  0.8676\n",
      "     86             5.5067                  0.0017      -0.3344      -0.3402        0.3344        0.3402  0.9773\n",
      "     87             5.4611                  0.0015      -0.3652      -0.3400        0.3652        0.3400  0.8596\n",
      "     88             5.4234                  0.0019      -0.3378      -0.3511        0.3378        0.3511  0.8928\n",
      "     89             5.5202                  0.0014      -0.3152      -0.3400        0.3152        0.3400  0.9364\n",
      "     90             5.5627                  0.0018      -0.3172      -0.3438        0.3172        0.3438  0.8954\n",
      "     91             5.5750                  0.0015      -0.3205      -0.3435        0.3205        0.3435  0.9628\n",
      "     92             5.6253                  0.0023      -0.3371      -0.3401        0.3371        0.3401  0.9938\n",
      "     93             5.6311                  0.0013      -0.3219      -0.3531        0.3219        0.3531  0.8940\n",
      "     94             5.4868                  0.0026      -0.3489      -0.3641        0.3489        0.3641  0.8960\n",
      "     95             5.4065                  0.0013      -0.3462      -0.3492        0.3462        0.3492  0.9674\n",
      "     96             5.4320                  0.0016      -0.3312      -0.3408        0.3312        0.3408  0.9225\n",
      "     97             5.5100                  0.0012      -0.3272      -0.3445        0.3272        0.3445  0.9119\n",
      "     98             5.5314                  0.0013      -0.3444      -0.3415        0.3444        0.3415  0.9912\n",
      "     99             5.4922                  0.0011      -0.3533      -0.3428        0.3533        0.3428  0.9168\n",
      "    100             5.5397                  0.0016      -0.3372      -0.3418        0.3372        0.3418  0.9650\n",
      "    101             5.4670                  0.0015      -0.3411      -0.3404        0.3411        0.3404  1.0195\n",
      "    102             5.4544                  0.0013      -0.3345      -0.3404        0.3345        0.3404  0.9718\n",
      "    103             5.4807                  0.0020      -0.3289      -0.3461        0.3289        0.3461  0.8900\n",
      "    104             5.3836                  0.0013      -0.3511      -0.3400        0.3511        0.3400  1.0567\n",
      "    105             5.3090                  0.0018      -0.3238      -0.3418        0.3238        0.3418  0.9090\n",
      "    106             5.2881                  0.0016      -0.3602      -0.3448        0.3602        0.3448  0.8849\n",
      "    107             5.3016                  0.0018      -0.3408      -0.3404        0.3408        0.3404  0.9264\n",
      "    108             5.2673                  0.0018      -0.3200      -0.3539        0.3200        0.3539  0.8556\n",
      "    109             5.2986                  0.0013      -0.3576      -0.3407        0.3576        0.3407  1.0797\n",
      "    110             5.3755                  0.0010      -0.3320      -0.3431        0.3320        0.3431  0.9441\n",
      "    111             5.1674                  0.0019      -0.3475      -0.3531        0.3475        0.3531  1.1485\n",
      "    112             5.1181                  0.0015      -0.3418      -0.3402        0.3418        0.3402  1.1678\n",
      "    113             5.1409                  0.0020      -0.3305      -0.3463        0.3305        0.3463  0.9652\n",
      "    114             5.1291                  0.0010      -0.3501      -0.3410        0.3501        0.3410  0.9272\n",
      "    115            30.6674                  0.8709      -5.8698      -0.4112        5.8698        0.4112  0.9427\n",
      "    116             5.1439                  0.0054      -0.3667      -0.3576        0.3667        0.3576  0.9503\n",
      "    117             5.1102                  0.0014      -0.3649      -0.3399        0.3649        0.3399  0.9713\n",
      "    118             5.0245                  0.0029      -0.3224      \u001b[31m-0.3391\u001b[0m        0.3224        \u001b[36m0.3391\u001b[0m  1.0372\n",
      "    119             5.0204                  0.0019      -0.3125      -0.3461        0.3125        0.3461  0.9680\n",
      "    120             5.0496                  0.0018      -0.3296      -0.3463        0.3296        0.3463  0.9300\n",
      "    121             5.0797                  0.0023      -0.3388      -0.3392        0.3388        0.3392  0.9245\n",
      "    122            12.0586                  0.1640      -1.9275      -0.4434        1.9275        0.4434  0.8921\n",
      "    123             5.6577                  0.0182      -0.4034      -0.3406        0.4034        0.3406  0.9379\n",
      "    124             5.0108                  0.0023      -0.3741      -0.3489        0.3741        0.3489  1.0101\n",
      "    125             5.0010                  0.0020      -0.3447      -0.3612        0.3447        0.3612  1.0058\n",
      "    126             5.0078                  0.0016      -0.3280      -0.3457        0.3280        0.3457  1.0708\n",
      "    127             4.9788                  0.0020      -0.3344      -0.3471        0.3344        0.3471  1.0809\n",
      "    128             4.9451                  0.0020      -0.3315      -0.3449        0.3315        0.3449  0.9351\n",
      "    129             4.9759                  0.0017      -0.3467      -0.3451        0.3467        0.3451  0.9669\n",
      "    130             4.9799                  0.0015      -0.3280      \u001b[31m-0.3388\u001b[0m        0.3280        \u001b[36m0.3388\u001b[0m  0.9419\n",
      "    131             4.9637                  0.0018      -0.3313      -0.3435        0.3313        0.3435  0.9553\n",
      "    132             4.9649                  0.0015      -0.3195      -0.3571        0.3195        0.3571  0.9391\n",
      "    133             4.9890                  0.0027      -0.3520      -0.3425        0.3520        0.3425  1.0108\n",
      "    134             5.0075                  0.0009      -0.3153      -0.3564        0.3153        0.3564  0.9655\n",
      "    135             4.9811                  0.0016      -0.3399      -0.3431        0.3399        0.3431  0.9427\n",
      "    136             4.9869                  0.0017      -0.3387      -0.3441        0.3387        0.3441  0.9834\n",
      "    137             4.9128                  0.0018      -0.3450      -0.3434        0.3450        0.3434  0.9740\n",
      "    138             4.6370                  0.0015      -0.3570      -0.3431        0.3570        0.3431  0.9852\n",
      "    139             4.6712                  0.0017      -0.3411      -0.3621        0.3411        0.3621  0.9796\n",
      "    140             4.6874                  0.0010      -0.3095      -0.3428        0.3095        0.3428  0.9621\n"
     ]
    },
    {
     "name": "stdout",
     "output_type": "stream",
     "text": [
      "    141             4.6504                  0.0012      -0.3438      -0.3407        0.3438        0.3407  0.9912\n",
      "    142             4.6003                  0.0019      -0.3343      -0.3642        0.3343        0.3642  0.9808\n",
      "    143             4.5953                  0.0018      -0.3386      -0.3407        0.3386        0.3407  0.8991\n",
      "    144             4.7265                  0.0017      -0.3203      -0.3565        0.3203        0.3565  1.0191\n",
      "    145             4.8922                  0.0017      -0.3506      -0.3389        0.3506        0.3389  1.1788\n",
      "    146             4.8902                  0.0012      -0.3113      -0.3433        0.3113        0.3433  0.9475\n",
      "    147             4.7202                  0.0016      -0.3551      -0.3390        0.3551        0.3390  0.9951\n",
      "    148             4.6215                  0.0021      -0.3424      -0.3400        0.3424        0.3400  0.9679\n",
      "    149             4.6261                  0.0021      -0.3638      \u001b[31m-0.3379\u001b[0m        0.3638        \u001b[36m0.3379\u001b[0m  0.9175\n",
      "    150             4.6736                  0.0020      -0.3236      -0.3415        0.3236        0.3415  0.9353\n",
      "    151             4.6648                  0.0012      -0.3673      -0.3397        0.3673        0.3397  0.9632\n",
      "    152             4.5267                  0.0016      -0.3354      -0.3381        0.3354        0.3381  0.9003\n",
      "    153             4.5429                  0.0016      -0.3456      -0.3715        0.3456        0.3715  0.9678\n",
      "    154             4.6160                  0.0022      -0.3453      \u001b[31m-0.3365\u001b[0m        0.3453        \u001b[36m0.3365\u001b[0m  1.0071\n",
      "    155             4.6204                  0.0011      -0.3139      -0.3544        0.3139        0.3544  0.9113\n",
      "    156             4.6279                  0.0017      -0.3529      -0.3378        0.3529        0.3378  0.9861\n",
      "    157             4.5682                  0.0018      -0.3459      -0.3427        0.3459        0.3427  0.9427\n",
      "    158             4.5694                  0.0020      -0.3377      -0.3433        0.3377        0.3433  0.9714\n",
      "    159             4.5841                  0.0013      -0.3201      -0.3443        0.3201        0.3443  0.9541\n",
      "    160             4.6334                  0.0016      -0.3478      -0.3623        0.3478        0.3623  0.9776\n",
      "    161             4.5471                  0.0011      -0.3244      \u001b[31m-0.3336\u001b[0m        0.3244        \u001b[36m0.3335\u001b[0m  0.9022\n",
      "    162             4.3857                  0.0017      -0.3225      -0.3379        0.3225        0.3379  0.9097\n",
      "    163             4.5332                  0.0375      -0.6288      -0.3344        0.6288        0.3344  0.9309\n",
      "    164             4.4329                  0.0013      -0.3193      -0.3392        0.3193        0.3392  0.9378\n",
      "    165             4.3733                  0.0022      -0.3225      -0.3438        0.3225        0.3438  0.9759\n",
      "    166             4.2938                  0.0018      -0.3246      \u001b[31m-0.3330\u001b[0m        0.3246        \u001b[36m0.3330\u001b[0m  0.9337\n",
      "    167             4.3420                  0.0024      -0.3085      -0.3341        0.3085        0.3341  0.9263\n",
      "    168             4.3957                  0.0017      -0.3399      -0.3337        0.3399        0.3337  0.8763\n",
      "    169             4.3619                  0.0016      -0.3315      \u001b[31m-0.3309\u001b[0m        0.3315        \u001b[36m0.3309\u001b[0m  1.0246\n",
      "    170             4.3741                  0.0020      -0.3638      -0.3459        0.3638        0.3459  0.8799\n",
      "    171             4.2375                  0.0017      -0.3160      -0.3316        0.3160        0.3316  1.0000\n",
      "    172             4.2467                  0.0015      -0.3309      -0.3362        0.3309        0.3362  0.9598\n",
      "    173             4.2416                  0.0018      -0.3311      \u001b[31m-0.3249\u001b[0m        0.3311        \u001b[36m0.3249\u001b[0m  1.1594\n",
      "    174             4.2965                  0.0015      -0.3235      \u001b[31m-0.3224\u001b[0m        0.3235        \u001b[36m0.3224\u001b[0m  0.9629\n",
      "    175             4.3604                  0.0026      -0.3492      -0.3285        0.3492        0.3285  0.9928\n",
      "    176             4.1921                  0.0017      -0.3147      -0.4209        0.3147        0.4209  0.8911\n",
      "    177             4.2108                  0.0022      -0.3270      -0.3283        0.3270        0.3283  0.9536\n",
      "    178             4.1458                  0.0026      -0.3293      -0.3502        0.3293        0.3502  0.9165\n",
      "    179             4.1936                  0.0020      -0.3226      -0.3249        0.3226        0.3249  0.9245\n",
      "    180             4.1234                  0.0025      -0.3181      -0.3242        0.3181        0.3242  0.9799\n",
      "    181             3.9537                  0.0028      -0.3349      -0.3264        0.3349        0.3264  0.9554\n",
      "    182             3.9544                  0.0017      -0.3141      \u001b[31m-0.3216\u001b[0m        0.3141        \u001b[36m0.3216\u001b[0m  0.9422\n",
      "    183             3.9616                  0.0019      -0.3247      -0.3278        0.3247        0.3278  1.0124\n",
      "    184             3.8841                  0.0024      -0.3378      -0.3235        0.3378        0.3235  0.9272\n",
      "    185             3.8961                  0.0030      -0.3077      -0.3389        0.3077        0.3389  0.9330\n",
      "    186             3.8986                  0.0020      -0.3189      -0.3281        0.3189        0.3281  0.9529\n",
      "    187             3.9275                  0.0059      -0.3058      -0.3486        0.3058        0.3486  0.9107\n",
      "    188             3.8591                  0.0017      -0.3149      -0.3391        0.3149        0.3391  0.9568\n",
      "    189             3.7674                  0.0013      -0.3275      -0.3449        0.3275        0.3449  1.0448\n",
      "    190             3.6505                  0.0016      -0.3400      -0.3267        0.3400        0.3267  0.9640\n",
      "    191             3.6178                  0.0021      -0.3083      -0.3466        0.3083        0.3466  0.9410\n",
      "    192             3.6721                  0.0023      -0.3274      -0.3242        0.3274        0.3242  0.9761\n",
      "    193             3.7816                  0.0017      \u001b[35m-0.2906\u001b[0m      -0.3311        \u001b[94m0.2906\u001b[0m        0.3311  1.0106\n",
      "    194             3.8540                  0.0031      -0.3112      -0.3721        0.3112        0.3721  0.9530\n",
      "    195             4.0338                  0.0096      -0.4254      -0.3954        0.4254        0.3954  1.0260\n",
      "    196             3.8702                  0.0035      -0.3215      -0.3471        0.3215        0.3471  0.9386\n",
      "    197             3.9075                  0.0036      -0.3653      -0.3630        0.3653        0.3630  0.9636\n",
      "    198             3.8727                  0.0031      -0.3079      -0.3422        0.3079        0.3422  1.0097\n",
      "    199             3.8244                  0.0029      -0.3214      -0.3498        0.3214        0.3498  0.9678\n",
      "    200             3.5801                  0.0025      -0.3221      -0.3434        0.3221        0.3434  0.9456\n",
      "    201             3.4680                  0.0011      -0.3660      -0.3426        0.3660        0.3426  0.9908\n",
      "    202             3.4342                  0.0019      -0.3296      -0.3688        0.3296        0.3688  0.8798\n",
      "    203             3.5235                  0.0023      -0.3304      -0.3415        0.3304        0.3415  0.8764\n",
      "    204             3.5237                  0.0022      -0.3444      -0.3479        0.3444        0.3479  0.9326\n",
      "    205             3.5006                  0.0016      -0.3467      -0.3412        0.3467        0.3412  0.8759\n",
      "    206             3.4777                  0.0028      -0.3515      -0.3413        0.3515        0.3413  0.8992\n",
      "    207             3.5251                  0.0035      -0.3293      -0.3452        0.3293        0.3452  0.9847\n",
      "    208             3.6199                  0.0015      -0.3565      -0.3523        0.3565        0.3523  0.9570\n",
      "    209             3.4095                  0.0026      -0.3467      -0.3482        0.3467        0.3482  0.9501\n",
      "    210             3.4037                  0.0016      -0.3275      -0.3400        0.3275        0.3400  0.9639\n",
      "    211             3.2494                  0.0018      -0.3113      -0.3467        0.3113        0.3467  1.0272\n",
      "    212             3.2531                  0.0021      -0.3274      -0.3412        0.3274        0.3412  1.0271\n"
     ]
    },
    {
     "name": "stdout",
     "output_type": "stream",
     "text": [
      "    213             3.2305                  0.0011      -0.3377      -0.3437        0.3377        0.3437  1.0252\n",
      "    214             3.2602                  0.0029      -0.3158      -0.3649        0.3158        0.3649  0.9718\n",
      "    215             3.1611                  0.0023      -0.3296      -0.3565        0.3296        0.3565  0.9523\n",
      "    216             3.1579                  0.0021      -0.3156      -0.3396        0.3156        0.3396  0.9996\n",
      "    217             3.1894                  0.0016      -0.3510      -0.3452        0.3510        0.3452  0.9638\n",
      "    218             3.2209                  0.0027      -0.3464      -0.3621        0.3464        0.3621  0.9235\n",
      "    219             3.1366                  0.0027      -0.3245      -0.3395        0.3245        0.3395  1.0576\n",
      "    220             3.0818                  0.0016      -0.2979      -0.3413        0.2979        0.3413  0.9371\n",
      "    221             3.0764                  0.0019      -0.3287      -0.3411        0.3287        0.3411  0.9629\n",
      "    222             3.1297                  0.0018      -0.3405      -0.3438        0.3405        0.3438  0.9894\n",
      "    223             3.1900                  0.0013      -0.3271      -0.3444        0.3271        0.3444  0.8845\n",
      "    224             3.3048                  0.0019      -0.3498      -0.3608        0.3498        0.3608  0.8824\n",
      "    225             3.2081                  0.0034      -0.3598      -0.3385        0.3598        0.3385  1.0259\n",
      "    226             3.1814                  0.0025      -0.3493      -0.3524        0.3493        0.3524  1.0048\n",
      "    227             3.2121                  0.0016      -0.3498      -0.3452        0.3498        0.3452  0.9216\n",
      "    228             3.1887                  0.0015      -0.3383      -0.3362        0.3383        0.3362  0.9784\n",
      "    229             2.9471                  0.0022      -0.3133      -0.3368        0.3133        0.3368  1.0683\n",
      "    230             7.1248                  0.2109      -0.9574      -0.3606        0.9574        0.3606  1.0088\n",
      "    231             2.9305                  0.0011      -0.3451      -0.3431        0.3451        0.3431  1.0070\n",
      "    232             2.9932                  0.0020      -0.3388      -0.3381        0.3388        0.3381  1.0426\n",
      "    233             3.0358                  0.0023      -0.3279      -0.3356        0.3279        0.3356  1.0717\n",
      "    234             3.0380                  0.0016      -0.3123      -0.3356        0.3123        0.3356  0.9482\n",
      "    235             2.7723                  0.0024      -0.3322      -0.3364        0.3322        0.3364  1.1388\n",
      "    236             2.7205                  0.0016      -0.3278      -0.3293        0.3278        0.3293  1.0741\n",
      "    237             2.8462                  0.0036      -0.3628      -0.3299        0.3628        0.3299  0.8769\n",
      "    238             2.7298                  0.0035      -0.3194      -0.3493        0.3194        0.3493  0.9561\n",
      "    239             2.6571                  0.0025      -0.3407      -0.3313        0.3407        0.3313  0.9415\n",
      "    240             2.4973                  0.0031      -0.3269      -0.3313        0.3269        0.3313  0.9824\n",
      "    241             2.5280                  0.0023      -0.3020      \u001b[31m-0.3133\u001b[0m        0.3020        \u001b[36m0.3133\u001b[0m  0.8803\n",
      "    242             2.5552                  0.0033      -0.3056      -0.3298        0.3056        0.3298  0.9864\n",
      "    243             2.5134                  0.0036      -0.3065      \u001b[31m-0.2891\u001b[0m        0.3065        \u001b[36m0.2891\u001b[0m  1.0355\n",
      "    244             2.5858                  0.0034      -0.2913      -0.2933        0.2913        0.2933  0.9111\n",
      "    245             2.6921                  0.0067      -0.3346      -0.3065        0.3346        0.3065  0.9699\n",
      "    246             2.6591                  0.0040      -0.2934      \u001b[31m-0.2734\u001b[0m        0.2934        \u001b[36m0.2734\u001b[0m  0.8581\n",
      "    247             2.7021                  0.0080      -0.3242      -0.2805        0.3242        0.2805  0.8603\n",
      "    248             2.4850                  0.0042      \u001b[35m-0.2659\u001b[0m      \u001b[31m-0.2671\u001b[0m        \u001b[94m0.2659\u001b[0m        \u001b[36m0.2671\u001b[0m  1.1484\n",
      "    249             2.4445                  0.0078      -0.2992      -0.4052        0.2992        0.4052  0.8893\n",
      "    250             2.4811                  0.0063      -0.2918      -0.2874        0.2918        0.2874  0.9646\n",
      "    251             2.4476                  0.0067      -0.2904      -0.3044        0.2904        0.3044  0.9290\n",
      "    252             2.4433                  0.0062      -0.2660      \u001b[31m-0.2534\u001b[0m        0.2660        \u001b[36m0.2534\u001b[0m  0.8500\n",
      "    253             2.4256                  0.0075      \u001b[35m-0.2320\u001b[0m      -0.2956        \u001b[94m0.2320\u001b[0m        0.2956  0.9461\n",
      "    254             2.3916                  0.0060      -0.2684      -0.3108        0.2684        0.3108  1.1094\n",
      "    255             2.4557                  0.0063      -0.2579      \u001b[31m-0.2268\u001b[0m        0.2579        \u001b[36m0.2268\u001b[0m  0.9047\n",
      "    256             2.3856                  0.0063      -0.2371      -0.3438        0.2371        0.3438  0.8870\n",
      "    257             2.3140                  0.0080      -0.2549      -0.2360        0.2549        0.2360  1.0300\n",
      "    258             2.1570                  0.0087      \u001b[35m-0.2228\u001b[0m      -0.2347        \u001b[94m0.2228\u001b[0m        0.2347  1.0750\n",
      "    259             2.2170                  0.0059      -0.2418      -0.2276        0.2418        0.2276  0.9695\n",
      "    260             2.3062                  0.0067      -0.2310      -0.2299        0.2310        0.2299  1.0192\n",
      "    261             2.3285                  0.0094      -0.2288      \u001b[31m-0.1976\u001b[0m        0.2288        \u001b[36m0.1976\u001b[0m  1.0683\n",
      "    262             2.2715                  0.0104      -0.2612      -0.2125        0.2612        0.2125  0.8929\n",
      "    263             2.1930                  0.0096      -0.2392      -0.2028        0.2392        0.2028  1.0312\n",
      "    264             2.1843                  0.0093      \u001b[35m-0.2219\u001b[0m      -0.2202        \u001b[94m0.2219\u001b[0m        0.2202  0.9754\n",
      "    265             2.1904                  0.0104      -0.2242      -0.2069        0.2242        0.2069  0.9193\n",
      "    266             2.0486                  0.0066      \u001b[35m-0.2172\u001b[0m      \u001b[31m-0.1862\u001b[0m        \u001b[94m0.2172\u001b[0m        \u001b[36m0.1862\u001b[0m  1.0035\n",
      "    267             1.9391                  0.0068      -0.2216      -0.2141        0.2216        0.2141  0.9587\n",
      "    268             1.9161                  0.0086      -0.2200      -0.2121        0.2200        0.2121  0.9294\n",
      "    269             1.9648                  0.0111      -0.2173      -0.2571        0.2173        0.2571  1.0253\n",
      "    270             1.9903                  0.0086      \u001b[35m-0.2147\u001b[0m      -0.2031        \u001b[94m0.2147\u001b[0m        0.2031  0.9666\n",
      "    271             2.0729                  0.0113      -0.2258      -0.1923        0.2258        0.1923  0.9321\n",
      "    272             2.0985                  0.0091      -0.2171      -0.2767        0.2171        0.2767  0.9383\n",
      "    273             1.9809                  0.0078      \u001b[35m-0.2107\u001b[0m      -0.1877        \u001b[94m0.2107\u001b[0m        0.1877  1.0285\n",
      "    274             1.9118                  0.0081      -0.2113      \u001b[31m-0.1753\u001b[0m        0.2113        \u001b[36m0.1753\u001b[0m  0.8924\n",
      "    275             1.9256                  0.0118      -0.2137      -0.3911        0.2137        0.3911  0.9372\n",
      "    276             1.9076                  0.0106      -0.2240      -0.2031        0.2240        0.2031  0.8737\n",
      "    277             1.8073                  0.0060      \u001b[35m-0.1979\u001b[0m      \u001b[31m-0.1752\u001b[0m        \u001b[94m0.1979\u001b[0m        \u001b[36m0.1752\u001b[0m  0.8878\n",
      "    278             1.8548                  0.0081      \u001b[35m-0.1965\u001b[0m      -0.2175        \u001b[94m0.1965\u001b[0m        0.2175  1.0047\n",
      "    279             1.8547                  0.0067      \u001b[35m-0.1945\u001b[0m      -0.2731        \u001b[94m0.1945\u001b[0m        0.2731  0.9997\n",
      "    280             1.9749                  0.0131      -0.2185      -0.2084        0.2185        0.2084  1.0406\n",
      "    281             1.9623                  0.0064      -0.1971      -0.1970        0.1971        0.1970  0.9345\n",
      "    282             2.0007                  0.0078      \u001b[35m-0.1705\u001b[0m      \u001b[31m-0.1631\u001b[0m        \u001b[94m0.1705\u001b[0m        \u001b[36m0.1631\u001b[0m  0.9754\n"
     ]
    },
    {
     "name": "stdout",
     "output_type": "stream",
     "text": [
      "    283             1.8726                  0.0154      -0.2171      \u001b[31m-0.1608\u001b[0m        0.2171        \u001b[36m0.1608\u001b[0m  0.8958\n",
      "    284             1.7720                  0.0098      \u001b[35m-0.1628\u001b[0m      -0.1673        \u001b[94m0.1628\u001b[0m        0.1673  1.0523\n",
      "    285             1.7921                  0.0125      -0.1955      -0.3510        0.1955        0.3510  0.9050\n",
      "    286             1.7387                  0.0115      -0.2039      -0.1617        0.2039        0.1617  0.9737\n",
      "    287             1.6406                  0.0084      -0.1878      -0.2076        0.1878        0.2076  0.9961\n",
      "    288             1.6379                  0.0109      -0.1844      -0.1969        0.1844        0.1969  0.9588\n",
      "    289             1.6901                  0.0146      -0.2058      -0.2316        0.2058        0.2316  1.0532\n",
      "    290             1.6639                  0.0075      -0.1783      -0.2063        0.1783        0.2063  0.9504\n",
      "    291             1.7342                  0.0112      -0.1753      \u001b[31m-0.1411\u001b[0m        0.1753        \u001b[36m0.1411\u001b[0m  0.8741\n",
      "    292             1.6560                  0.0088      \u001b[35m-0.1620\u001b[0m      \u001b[31m-0.1398\u001b[0m        \u001b[94m0.1620\u001b[0m        \u001b[36m0.1398\u001b[0m  1.1066\n",
      "    293             1.5073                  0.0094      -0.1721      -0.2097        0.1721        0.2097  1.0057\n",
      "    294             1.5843                  0.0123      -0.1844      -0.1833        0.1844        0.1833  1.0693\n",
      "    295             1.6578                  0.0083      \u001b[35m-0.1507\u001b[0m      -0.2094        \u001b[94m0.1507\u001b[0m        0.2094  0.9508\n",
      "    296             1.4419                  0.0114      -0.1797      -0.1511        0.1797        0.1511  0.9593\n",
      "    297             1.3003                  0.0120      -0.1772      -0.1779        0.1772        0.1779  0.8936\n",
      "    298             1.2797                  0.0061      \u001b[35m-0.1492\u001b[0m      -0.2009        \u001b[94m0.1492\u001b[0m        0.2009  1.0386\n",
      "    299             1.2923                  0.0115      -0.1873      -0.1713        0.1873        0.1713  0.8874\n",
      "    300             1.2262                  0.0129      -0.1727      -0.1598        0.1727        0.1598  1.0317\n"
     ]
    },
    {
     "data": {
      "text/plain": [
       "<class '__main__.Trainer'>[initialized](\n",
       "  module_=ReconModel(\n",
       "    (rnn0): DecayClocking(\n",
       "      (i2h): Linear(in_features=2, out_features=50, bias=True)\n",
       "      (h2h): Linear(in_features=50, out_features=50, bias=False)\n",
       "      (act): ReLU()\n",
       "    )\n",
       "    (clf): Linear(in_features=50, out_features=1, bias=True)\n",
       "  ),\n",
       ")"
      ]
     },
     "execution_count": 172,
     "metadata": {},
     "output_type": "execute_result"
    }
   ],
   "source": [
    "%pdb on\n",
    "ef.fit(dataset_train)"
   ]
  },
  {
   "cell_type": "code",
   "execution_count": 184,
   "metadata": {},
   "outputs": [
    {
     "data": {
      "text/plain": [
       "array([[1.0474956 , 0.79547286],\n",
       "       [0.8542701 , 0.86716914],\n",
       "       [1.564516  , 1.3911202 ],\n",
       "       [1.1255524 , 1.013701  ],\n",
       "       [1.4718798 , 1.2785041 ],\n",
       "       [0.509041  , 0.4738682 ],\n",
       "       [1.224097  , 1.0192541 ],\n",
       "       [0.808234  , 0.55572844],\n",
       "       [0.45914266, 0.07480419],\n",
       "       [0.5314078 , 0.81719744],\n",
       "       [1.3981222 , 1.3142273 ],\n",
       "       [1.4359193 , 1.2416127 ],\n",
       "       [1.1212089 , 0.9548758 ],\n",
       "       [1.5672663 , 1.3978832 ],\n",
       "       [1.343114  , 1.286351  ],\n",
       "       [1.4190567 , 1.0775819 ],\n",
       "       [1.5067025 , 1.4283104 ],\n",
       "       [1.3771206 , 1.316508  ],\n",
       "       [1.3919613 , 1.1983273 ],\n",
       "       [1.1518785 , 0.99123746],\n",
       "       [0.5431407 , 0.5903023 ],\n",
       "       [1.0938053 , 0.8988619 ],\n",
       "       [0.5447019 , 0.4991784 ],\n",
       "       [0.6127403 , 0.7794294 ],\n",
       "       [0.4917619 , 0.49408162],\n",
       "       [0.81729305, 0.9017135 ],\n",
       "       [1.5422534 , 1.3560486 ],\n",
       "       [1.0097102 , 0.948851  ],\n",
       "       [0.89686435, 1.0772424 ],\n",
       "       [1.485178  , 1.1870928 ],\n",
       "       [1.4718187 , 1.468917  ],\n",
       "       [1.6109556 , 1.7583296 ],\n",
       "       [1.1823008 , 0.8924347 ],\n",
       "       [1.1566906 , 0.9484695 ],\n",
       "       [1.2281042 , 1.0076709 ],\n",
       "       [0.83311665, 0.58808243],\n",
       "       [0.63036567, 1.1658416 ],\n",
       "       [1.390974  , 1.4653516 ],\n",
       "       [1.5734016 , 1.3816142 ],\n",
       "       [0.44354606, 0.19599235],\n",
       "       [1.5694002 , 1.506242  ],\n",
       "       [1.4144895 , 1.5643858 ],\n",
       "       [1.4610462 , 1.4587626 ],\n",
       "       [1.1842949 , 0.8679198 ],\n",
       "       [1.188736  , 1.395334  ],\n",
       "       [0.7518614 , 0.56595457],\n",
       "       [1.0078852 , 0.70969856],\n",
       "       [1.5701901 , 1.5138958 ],\n",
       "       [0.5306022 , 0.5419658 ],\n",
       "       [1.6089295 , 1.5930195 ],\n",
       "       [0.6197746 , 0.20257862],\n",
       "       [0.8568325 , 0.61449444],\n",
       "       [1.3620865 , 1.1515541 ],\n",
       "       [0.72561634, 0.36424696],\n",
       "       [0.90849346, 0.6422086 ],\n",
       "       [1.0157942 , 0.75923353],\n",
       "       [0.9130017 , 0.5690534 ],\n",
       "       [1.0265031 , 0.8679544 ],\n",
       "       [1.6155138 , 1.5435799 ],\n",
       "       [1.1878603 , 0.9614382 ],\n",
       "       [1.3361663 , 1.2128527 ],\n",
       "       [0.86935115, 1.1068833 ],\n",
       "       [0.4556582 , 0.45201746],\n",
       "       [0.50330424, 0.11350331],\n",
       "       [1.5381874 , 1.7844719 ],\n",
       "       [1.5294839 , 1.6533387 ],\n",
       "       [1.0529578 , 0.6885029 ],\n",
       "       [0.4706998 , 0.29749763],\n",
       "       [0.45373574, 0.38013694],\n",
       "       [1.398907  , 1.4290423 ],\n",
       "       [1.14852   , 0.8503935 ],\n",
       "       [0.7254636 , 0.63744   ],\n",
       "       [0.45004427, 0.18638238],\n",
       "       [1.1363709 , 1.2240881 ],\n",
       "       [1.1109823 , 1.1780668 ],\n",
       "       [0.88739824, 0.6217678 ],\n",
       "       [0.54734135, 0.6586682 ],\n",
       "       [0.8105915 , 0.6248646 ],\n",
       "       [0.54535276, 0.37276477],\n",
       "       [1.1272197 , 1.1590819 ],\n",
       "       [0.4807213 , 0.62707007],\n",
       "       [0.9411318 , 0.53515005],\n",
       "       [1.6249291 , 1.6570437 ],\n",
       "       [0.7636897 , 0.18013452],\n",
       "       [1.6004819 , 1.9380357 ],\n",
       "       [1.4638674 , 1.4368446 ],\n",
       "       [0.8234056 , 0.6286492 ],\n",
       "       [1.5570666 , 1.6519549 ],\n",
       "       [1.1280687 , 0.8910899 ],\n",
       "       [1.0046947 , 0.7714987 ],\n",
       "       [0.9240669 , 0.9609388 ],\n",
       "       [0.808738  , 0.54033333],\n",
       "       [1.3827295 , 1.1777318 ],\n",
       "       [1.0495113 , 1.0149736 ],\n",
       "       [1.6144519 , 1.7354194 ],\n",
       "       [1.303835  , 1.196744  ],\n",
       "       [1.2204361 , 1.2901297 ],\n",
       "       [1.2366785 , 1.2223102 ],\n",
       "       [1.2340872 , 0.96189463],\n",
       "       [1.0650477 , 0.8280445 ],\n",
       "       [1.6146668 , 1.5135449 ],\n",
       "       [0.48877206, 0.22994545],\n",
       "       [1.5090244 , 1.365489  ],\n",
       "       [1.5070002 , 1.5184222 ],\n",
       "       [0.99525285, 0.9319626 ],\n",
       "       [1.1306257 , 0.7698113 ],\n",
       "       [1.3906823 , 1.1252787 ],\n",
       "       [0.85517764, 0.7418228 ],\n",
       "       [0.8164025 , 0.9807721 ],\n",
       "       [0.9533888 , 0.43243673],\n",
       "       [0.85947967, 0.84381473],\n",
       "       [1.076449  , 1.2151582 ],\n",
       "       [1.4098134 , 1.4490182 ],\n",
       "       [0.6788403 , 0.50676644],\n",
       "       [0.62802434, 0.5254067 ],\n",
       "       [1.6466893 , 1.7876279 ],\n",
       "       [1.0137866 , 0.94597554],\n",
       "       [1.1891773 , 0.5376929 ],\n",
       "       [0.5555497 , 0.41269735],\n",
       "       [1.0909529 , 0.72554237],\n",
       "       [0.6453996 , 0.6051084 ],\n",
       "       [0.6720643 , 0.64537513],\n",
       "       [0.6521014 , 0.46053758],\n",
       "       [0.7764415 , 0.46908283],\n",
       "       [1.0626649 , 1.0219818 ],\n",
       "       [1.2589066 , 1.1606342 ],\n",
       "       [1.5078367 , 1.4696078 ],\n",
       "       [0.99157864, 0.8448242 ],\n",
       "       [0.97716975, 0.71644723],\n",
       "       [1.6368328 , 1.8580072 ],\n",
       "       [1.3601996 , 1.316858  ],\n",
       "       [1.5005363 , 1.3854342 ],\n",
       "       [0.57756853, 0.5845735 ],\n",
       "       [0.8876853 , 0.6734301 ],\n",
       "       [1.0287338 , 0.75521564],\n",
       "       [1.139873  , 0.9531851 ],\n",
       "       [1.3686186 , 1.2559478 ],\n",
       "       [1.4423094 , 1.4623464 ],\n",
       "       [1.6189142 , 1.5070686 ],\n",
       "       [0.7832744 , 0.6713489 ],\n",
       "       [0.8859319 , 0.7602675 ],\n",
       "       [1.6188413 , 1.6895254 ],\n",
       "       [1.4574797 , 1.5028176 ],\n",
       "       [0.9304566 , 0.64720273],\n",
       "       [1.4384713 , 1.3992922 ],\n",
       "       [0.92125833, 0.9133607 ],\n",
       "       [1.0282595 , 1.1044596 ],\n",
       "       [1.6078725 , 1.5740843 ],\n",
       "       [0.51277834, 0.68083066],\n",
       "       [1.2036831 , 1.0638282 ],\n",
       "       [1.3699665 , 1.1586754 ],\n",
       "       [0.9406599 , 0.58376026],\n",
       "       [1.0241096 , 0.9784936 ],\n",
       "       [1.5550615 , 1.4800069 ],\n",
       "       [1.557329  , 1.6367683 ],\n",
       "       [1.1824715 , 1.0739052 ],\n",
       "       [1.3045459 , 1.0568117 ],\n",
       "       [1.036844  , 0.86100113],\n",
       "       [0.7520063 , 0.90703964],\n",
       "       [1.3117789 , 1.122735  ],\n",
       "       [1.3361785 , 1.2825105 ],\n",
       "       [0.3786564 , 0.25274876],\n",
       "       [0.42894986, 0.58766425],\n",
       "       [0.85340756, 0.9408569 ],\n",
       "       [0.5578539 , 0.5126866 ],\n",
       "       [1.2346308 , 1.069047  ],\n",
       "       [0.45006326, 0.02229458],\n",
       "       [1.4198437 , 1.4802188 ],\n",
       "       [0.87881905, 0.46031156],\n",
       "       [1.0409544 , 0.9591191 ],\n",
       "       [0.5965428 , 0.53311825],\n",
       "       [0.59936273, 0.72233045],\n",
       "       [0.67307866, 0.73395157],\n",
       "       [0.6264748 , 0.7756674 ],\n",
       "       [0.63789886, 0.3776151 ],\n",
       "       [1.2272551 , 0.99380344],\n",
       "       [1.1249132 , 1.0503063 ],\n",
       "       [1.0165025 , 0.97905934],\n",
       "       [1.313581  , 1.3109639 ],\n",
       "       [0.66287893, 0.4810081 ],\n",
       "       [1.3980652 , 1.3522637 ],\n",
       "       [0.71530354, 0.56438345],\n",
       "       [1.4560188 , 1.4825566 ],\n",
       "       [1.315798  , 1.3173668 ],\n",
       "       [1.2504989 , 1.5344429 ],\n",
       "       [0.7955835 , 0.9288788 ],\n",
       "       [1.6422502 , 1.4958255 ],\n",
       "       [1.0285554 , 0.94274884],\n",
       "       [1.580885  , 1.623971  ],\n",
       "       [1.159656  , 1.0670677 ],\n",
       "       [1.2838485 , 1.1348488 ],\n",
       "       [1.471916  , 1.4059386 ],\n",
       "       [0.8470243 , 0.47306097],\n",
       "       [1.3100314 , 1.1505954 ],\n",
       "       [1.4240136 , 1.3513174 ],\n",
       "       [1.4340609 , 1.3575888 ],\n",
       "       [1.3602417 , 1.2009361 ],\n",
       "       [1.3236957 , 1.1876523 ],\n",
       "       [1.278116  , 1.1906832 ],\n",
       "       [0.6606885 , 0.5525831 ]], dtype=float32)"
      ]
     },
     "execution_count": 184,
     "metadata": {},
     "output_type": "execute_result"
    }
   ],
   "source": [
    "np.concatenate([ef.predict(X_valid), y_valid], 1)"
   ]
  },
  {
   "cell_type": "code",
   "execution_count": 179,
   "metadata": {},
   "outputs": [
    {
     "data": {
      "text/plain": [
       "<matplotlib.image.AxesImage at 0x7f724f8c1080>"
      ]
     },
     "execution_count": 179,
     "metadata": {},
     "output_type": "execute_result"
    },
    {
     "data": {
      "image/png": "[encoded data removed]",
      "text/plain": [
       "<matplotlib.figure.Figure at 0x7f725c8459e8>"
      ]
     },
     "metadata": {},
     "output_type": "display_data"
    }
   ],
   "source": [
    "plt.imshow(ef.module_.cis[0].data.numpy())"
   ]
  },
  {
   "cell_type": "code",
   "execution_count": null,
   "metadata": {},
   "outputs": [],
   "source": []
  },
  {
   "cell_type": "code",
   "execution_count": 173,
   "metadata": {},
   "outputs": [
    {
     "data": {
      "text/plain": [
       "array([1.0189813 , 1.0231676 , 1.0231168 , 1.0232332 , 1.0230676 ,\n",
       "       1.023154  , 1.0232557 , 1.0510173 , 1.0230806 , 1.0230485 ,\n",
       "       0.9779146 , 1.0232671 , 1.0230857 , 1.0232772 , 1.0231837 ,\n",
       "       1.0025064 , 1.023041  , 1.0230745 , 1.0230758 , 1.0231477 ,\n",
       "       1.0179541 , 1.023173  , 1.0231779 , 1.0230105 , 1.0230421 ,\n",
       "       0.9948176 , 1.0231026 , 1.0063915 , 1.1093855 , 1.02317   ,\n",
       "       1.0230649 , 1.0230974 , 1.0227678 , 1.085713  , 0.99681115,\n",
       "       1.0232009 , 1.0449499 , 1.0232513 , 1.0231383 , 1.0231665 ,\n",
       "       1.0232688 , 1.1815759 , 1.0231942 , 1.0231616 , 1.0230664 ,\n",
       "       1.0168778 , 1.1784859 , 1.0887651 , 1.0231601 , 1.0230873 ],\n",
       "      dtype=float32)"
      ]
     },
     "execution_count": 173,
     "metadata": {},
     "output_type": "execute_result"
    }
   ],
   "source": [
    "ef.module_.rnn[0].alpha.data.numpy()"
   ]
  },
  {
   "cell_type": "code",
   "execution_count": 127,
   "metadata": {},
   "outputs": [
    {
     "data": {
      "text/plain": [
       "array([2.528528 , 1.863208 , 1.8984916, 2.634512 , 2.3005822, 2.6342158,\n",
       "       2.312812 , 2.6757753, 2.16663  , 2.0153537, 1.5081327, 2.4720178,\n",
       "       2.517074 , 1.9702799, 1.955241 , 1.9595228, 2.0289445, 2.2611926,\n",
       "       1.8724318, 2.346873 , 2.460436 , 2.4603677, 2.3915648, 1.885867 ,\n",
       "       2.0169554, 1.9442815, 2.140175 , 1.9311115, 2.7326508, 1.9422528,\n",
       "       2.1980946, 2.6240938, 1.818188 , 2.7098432, 2.4444292, 2.5972247,\n",
       "       2.6689355, 1.8738427, 2.3617902, 2.1548002, 2.4932613, 2.8023827,\n",
       "       2.0932   , 2.2477942, 2.3312683, 2.5384579, 2.7993643, 2.7127936,\n",
       "       2.221076 , 2.3978133], dtype=float32)"
      ]
     },
     "execution_count": 127,
     "metadata": {},
     "output_type": "execute_result"
    }
   ],
   "source": [
    "ef.module_.rnn[0].alpha.data.numpy()"
   ]
  },
  {
   "cell_type": "code",
   "execution_count": 128,
   "metadata": {},
   "outputs": [],
   "source": [
    "last_v = 0\n",
    "def single_dso(alpha, ti, q=0.1):\n",
    "    global last_v\n",
    "    #v = dso(q * F.relu(alpha)**ti, q)\n",
    "    last_v = dso(last_v * F.relu(alpha), q)\n",
    "    return last_v\n",
    "def series_dso(alpha, max_t, q=0.1):\n",
    "    global last_v\n",
    "    last_v = torch.zeros_like(alpha) + q\n",
    "    return torch.stack([single_dso(alpha, ti, q) for ti in range(max_t)])"
   ]
  },
  {
   "cell_type": "code",
   "execution_count": 129,
   "metadata": {},
   "outputs": [],
   "source": [
    "s = series_dso(ef.module_.rnn[0].alpha, T)\n",
    "#s = series_dso(torch.autograd.Variable(torch.ones(3) + .1), T)"
   ]
  },
  {
   "cell_type": "code",
   "execution_count": 130,
   "metadata": {},
   "outputs": [
    {
     "data": {
      "text/plain": [
       "[<matplotlib.lines.Line2D at 0x7f725de1e4a8>]"
      ]
     },
     "execution_count": 130,
     "metadata": {},
     "output_type": "execute_result"
    },
    {
     "data": {
      "image/png": "[encoded data removed]",
      "text/plain": [
       "<matplotlib.figure.Figure at 0x7f725e96c320>"
      ]
     },
     "metadata": {},
     "output_type": "display_data"
    }
   ],
   "source": [
    "plt.plot(np.arange(T), s[:, 0].data.numpy())"
   ]
  },
  {
   "cell_type": "code",
   "execution_count": 685,
   "metadata": {},
   "outputs": [
    {
     "data": {
      "text/plain": [
       "Parameter containing:\n",
       " 1.0184\n",
       " 0.9999\n",
       " 0.9908\n",
       " 0.9431\n",
       " 1.0106\n",
       " 1.0002\n",
       " 0.9219\n",
       " 0.9954\n",
       " 0.9989\n",
       " 0.9692\n",
       " 0.9988\n",
       " 0.9747\n",
       " 0.9549\n",
       " 1.0072\n",
       " 0.9886\n",
       " 1.0056\n",
       " 0.9881\n",
       " 0.9578\n",
       " 1.0123\n",
       " 1.0155\n",
       " 0.9897\n",
       " 1.0034\n",
       " 1.0011\n",
       " 0.9755\n",
       " 1.0054\n",
       " 0.9970\n",
       " 1.0081\n",
       " 1.0114\n",
       " 0.9651\n",
       " 1.0040\n",
       " 0.9998\n",
       " 1.0097\n",
       " 1.0092\n",
       " 0.9795\n",
       " 1.0106\n",
       " 1.0153\n",
       " 0.9837\n",
       " 0.9634\n",
       " 0.9739\n",
       " 1.0062\n",
       " 0.9849\n",
       " 1.0045\n",
       " 0.9783\n",
       " 0.9700\n",
       " 0.9737\n",
       " 0.9958\n",
       " 1.0136\n",
       " 0.9923\n",
       " 1.0166\n",
       " 1.0106\n",
       "[torch.FloatTensor of size 50]"
      ]
     },
     "execution_count": 685,
     "metadata": {},
     "output_type": "execute_result"
    }
   ],
   "source": [
    "ef.module_.rnn[0].alpha"
   ]
  },
  {
   "cell_type": "code",
   "execution_count": null,
   "metadata": {
    "scrolled": false
   },
   "outputs": [],
   "source": [
    "%pdb on\n",
    "ef.fit(dataset_train)"
   ]
  },
  {
   "cell_type": "code",
   "execution_count": 377,
   "metadata": {},
   "outputs": [
    {
     "data": {
      "text/plain": [
       "Parameter containing:\n",
       " 3.6515\n",
       " 0.3334\n",
       " 0.5024\n",
       " 4.1311\n",
       " 2.5235\n",
       " 4.1381\n",
       " 2.5788\n",
       " 4.3663\n",
       " 1.8585\n",
       " 1.0563\n",
       " 0.0341\n",
       " 3.3684\n",
       " 3.6183\n",
       " 0.8477\n",
       " 0.7606\n",
       " 0.7990\n",
       " 1.1356\n",
       " 2.3263\n",
       " 0.3884\n",
       " 2.7502\n",
       " 3.3110\n",
       " 3.3136\n",
       " 2.9750\n",
       " 0.4371\n",
       " 1.0749\n",
       " 0.7160\n",
       " 1.6638\n",
       " 0.6516\n",
       " 4.6407\n",
       " 0.6942\n",
       " 2.0260\n",
       " 4.0805\n",
       " 0.1296\n",
       " 4.5296\n",
       " 3.2509\n",
       " 3.9343\n",
       " 4.3270\n",
       " 0.3702\n",
       " 2.8416\n",
       " 1.7484\n",
       " 3.4983\n",
       " 5.0001\n",
       " 1.4487\n",
       " 2.2650\n",
       " 2.6723\n",
       " 3.7026\n",
       " 4.9927\n",
       " 4.5258\n",
       " 2.1383\n",
       " 2.9970\n",
       "[torch.FloatTensor of size 50]"
      ]
     },
     "execution_count": 377,
     "metadata": {},
     "output_type": "execute_result"
    }
   ],
   "source": [
    "ef.module_.rnn[0].speed"
   ]
  },
  {
   "cell_type": "code",
   "execution_count": 926,
   "metadata": {},
   "outputs": [
    {
     "ename": "KeyError",
     "evalue": "'grad_rnn0.period'",
     "output_type": "error",
     "traceback": [
      "\u001b[0;31m---------------------------------------------------------------------------\u001b[0m",
      "\u001b[0;31mKeyError\u001b[0m                                  Traceback (most recent call last)",
      "\u001b[0;32m<ipython-input-926-8d2a9ec0046e>\u001b[0m in \u001b[0;36m<module>\u001b[0;34m()\u001b[0m\n\u001b[0;32m----> 1\u001b[0;31m \u001b[0mplt\u001b[0m\u001b[0;34m.\u001b[0m\u001b[0mplot\u001b[0m\u001b[0;34m(\u001b[0m\u001b[0mef\u001b[0m\u001b[0;34m.\u001b[0m\u001b[0mhistory\u001b[0m\u001b[0;34m[\u001b[0m\u001b[0;34m:\u001b[0m\u001b[0;34m,\u001b[0m \u001b[0;34m'grad_rnn0.period'\u001b[0m\u001b[0;34m]\u001b[0m\u001b[0;34m)\u001b[0m\u001b[0;34m\u001b[0m\u001b[0m\n\u001b[0m\u001b[1;32m      2\u001b[0m \u001b[0mplt\u001b[0m\u001b[0;34m.\u001b[0m\u001b[0mplot\u001b[0m\u001b[0;34m(\u001b[0m\u001b[0mef\u001b[0m\u001b[0;34m.\u001b[0m\u001b[0mhistory\u001b[0m\u001b[0;34m[\u001b[0m\u001b[0;34m:\u001b[0m\u001b[0;34m,\u001b[0m \u001b[0;34m'grad_rnn0.h2h.weight'\u001b[0m\u001b[0;34m]\u001b[0m\u001b[0;34m)\u001b[0m\u001b[0;34m\u001b[0m\u001b[0m\n",
      "\u001b[0;32m~/Code/pytorch/skorch/skorch/history.py\u001b[0m in \u001b[0;36m__getitem__\u001b[0;34m(self, i)\u001b[0m\n\u001b[1;32m    163\u001b[0m                 \u001b[0;31m# pylint: disable=unidiomatic-typecheck\u001b[0m\u001b[0;34m\u001b[0m\u001b[0;34m\u001b[0m\u001b[0m\n\u001b[1;32m    164\u001b[0m                 \u001b[0;32mif\u001b[0m \u001b[0mtype\u001b[0m\u001b[0;34m(\u001b[0m\u001b[0mx\u001b[0m\u001b[0;34m)\u001b[0m \u001b[0;32mis\u001b[0m \u001b[0m_missingno\u001b[0m\u001b[0;34m:\u001b[0m\u001b[0;34m\u001b[0m\u001b[0m\n\u001b[0;32m--> 165\u001b[0;31m                     \u001b[0;32mraise\u001b[0m \u001b[0mx\u001b[0m\u001b[0;34m.\u001b[0m\u001b[0me\u001b[0m\u001b[0;34m\u001b[0m\u001b[0m\n\u001b[0m\u001b[1;32m    166\u001b[0m             \u001b[0;32mreturn\u001b[0m \u001b[0mx\u001b[0m\u001b[0;34m\u001b[0m\u001b[0m\n\u001b[1;32m    167\u001b[0m         raise ValueError(\"Invalid parameter type passed to index. \"\n",
      "\u001b[0;32m~/Code/pytorch/skorch/skorch/history.py\u001b[0m in \u001b[0;36mpartial_index\u001b[0;34m(l, idx)\u001b[0m\n\u001b[1;32m     41\u001b[0m \u001b[0;34m\u001b[0m\u001b[0m\n\u001b[1;32m     42\u001b[0m     \u001b[0;32mtry\u001b[0m\u001b[0;34m:\u001b[0m\u001b[0;34m\u001b[0m\u001b[0m\n\u001b[0;32m---> 43\u001b[0;31m         \u001b[0;32mreturn\u001b[0m \u001b[0ml\u001b[0m\u001b[0;34m[\u001b[0m\u001b[0midx\u001b[0m\u001b[0;34m]\u001b[0m\u001b[0;34m\u001b[0m\u001b[0m\n\u001b[0m\u001b[1;32m     44\u001b[0m     \u001b[0;32mexcept\u001b[0m \u001b[0mKeyError\u001b[0m \u001b[0;32mas\u001b[0m \u001b[0me\u001b[0m\u001b[0;34m:\u001b[0m\u001b[0;34m\u001b[0m\u001b[0m\n\u001b[1;32m     45\u001b[0m         \u001b[0;32mreturn\u001b[0m \u001b[0m_missingno\u001b[0m\u001b[0;34m(\u001b[0m\u001b[0me\u001b[0m\u001b[0;34m)\u001b[0m\u001b[0;34m\u001b[0m\u001b[0m\n",
      "\u001b[0;31mKeyError\u001b[0m: 'grad_rnn0.period'"
     ]
    },
    {
     "name": "stdout",
     "output_type": "stream",
     "text": [
      "> \u001b[0;32m/home/nemo/Code/pytorch/skorch/skorch/history.py\u001b[0m(45)\u001b[0;36mpartial_index\u001b[0;34m()\u001b[0m\n",
      "\u001b[0;32m     43 \u001b[0;31m        \u001b[0;32mreturn\u001b[0m \u001b[0ml\u001b[0m\u001b[0;34m[\u001b[0m\u001b[0midx\u001b[0m\u001b[0;34m]\u001b[0m\u001b[0;34m\u001b[0m\u001b[0m\n",
      "\u001b[0m\u001b[0;32m     44 \u001b[0;31m    \u001b[0;32mexcept\u001b[0m \u001b[0mKeyError\u001b[0m \u001b[0;32mas\u001b[0m \u001b[0me\u001b[0m\u001b[0;34m:\u001b[0m\u001b[0;34m\u001b[0m\u001b[0m\n",
      "\u001b[0m\u001b[0;32m---> 45 \u001b[0;31m        \u001b[0;32mreturn\u001b[0m \u001b[0m_missingno\u001b[0m\u001b[0;34m(\u001b[0m\u001b[0me\u001b[0m\u001b[0;34m)\u001b[0m\u001b[0;34m\u001b[0m\u001b[0m\n",
      "\u001b[0m\u001b[0;32m     46 \u001b[0;31m\u001b[0;34m\u001b[0m\u001b[0m\n",
      "\u001b[0m\u001b[0;32m     47 \u001b[0;31m\u001b[0;34m\u001b[0m\u001b[0m\n",
      "\u001b[0m\n",
      "ipdb> q\n"
     ]
    }
   ],
   "source": [
    "plt.plot(ef.history[:, 'grad_rnn0.period'])\n",
    "plt.plot(ef.history[:, 'grad_rnn0.h2h.weight'])"
   ]
  },
  {
   "cell_type": "code",
   "execution_count": null,
   "metadata": {},
   "outputs": [],
   "source": [
    "o, h, c = ef.module_.rnn[0].forward(skorch.utils.to_var(X_valid[0:1], False))\n",
    "c.mean(1)\n"
   ]
  },
  {
   "cell_type": "code",
   "execution_count": null,
   "metadata": {},
   "outputs": [],
   "source": []
  },
  {
   "cell_type": "code",
   "execution_count": 68,
   "metadata": {
    "scrolled": false
   },
   "outputs": [
    {
     "name": "stdout",
     "output_type": "stream",
     "text": [
      "Automatic pdb calling has been turned ON\n",
      "  epoch    grad_rnn0.h2h.weight    grad_rnn0.i2c.bias    grad_rnn0.i2c.weight    mae_train    mae_valid    train_loss    valid_loss     dur\n",
      "-------  ----------------------  --------------------  ----------------------  -----------  -----------  ------------  ------------  ------\n",
      "      1                  0.0041               -0.0000                  0.0001      \u001b[31m-1.1061\u001b[0m      \u001b[94m-0.9994\u001b[0m        \u001b[36m1.1061\u001b[0m        \u001b[32m0.9994\u001b[0m  0.7519\n",
      "      2                  0.0018               -0.0000                  0.0000      \u001b[31m-1.0034\u001b[0m      \u001b[94m-0.9389\u001b[0m        \u001b[36m1.0034\u001b[0m        \u001b[32m0.9389\u001b[0m  0.7867\n",
      "      3                  0.0004               -0.0000                  0.0000      \u001b[31m-0.8550\u001b[0m      \u001b[94m-0.8880\u001b[0m        \u001b[36m0.8550\u001b[0m        \u001b[32m0.8880\u001b[0m  0.7739\n",
      "      4                 -0.0009                0.0001                  0.0000      \u001b[31m-0.8316\u001b[0m      \u001b[94m-0.8443\u001b[0m        \u001b[36m0.8316\u001b[0m        \u001b[32m0.8443\u001b[0m  0.7266\n",
      "      5                 -0.0021                0.0000                 -0.0000      \u001b[31m-0.8108\u001b[0m      \u001b[94m-0.8017\u001b[0m        \u001b[36m0.8108\u001b[0m        \u001b[32m0.8017\u001b[0m  0.7189\n",
      "      6                 -0.0035                0.0000                  0.0000      \u001b[31m-0.7908\u001b[0m      \u001b[94m-0.7606\u001b[0m        \u001b[36m0.7908\u001b[0m        \u001b[32m0.7606\u001b[0m  0.7629\n",
      "      7                 -0.0045                0.0001                  0.0000      \u001b[31m-0.7531\u001b[0m      \u001b[94m-0.7205\u001b[0m        \u001b[36m0.7531\u001b[0m        \u001b[32m0.7205\u001b[0m  0.7073\n",
      "      8                 -0.0062               -0.0000                 -0.0000      \u001b[31m-0.7391\u001b[0m      \u001b[94m-0.6784\u001b[0m        \u001b[36m0.7391\u001b[0m        \u001b[32m0.6784\u001b[0m  0.7202\n",
      "      9                 -0.0084                0.0001                  0.0000      \u001b[31m-0.7156\u001b[0m      \u001b[94m-0.6315\u001b[0m        \u001b[36m0.7156\u001b[0m        \u001b[32m0.6315\u001b[0m  0.7753\n",
      "     10                 -0.0103               -0.0000                  0.0000      \u001b[31m-0.5956\u001b[0m      \u001b[94m-0.5847\u001b[0m        \u001b[36m0.5956\u001b[0m        \u001b[32m0.5847\u001b[0m  0.7301\n",
      "     11                 -0.0132                0.0000                  0.0001      \u001b[31m-0.5941\u001b[0m      \u001b[94m-0.5291\u001b[0m        \u001b[36m0.5941\u001b[0m        \u001b[32m0.5291\u001b[0m  0.7058\n",
      "     12                 -0.0146                0.0001                  0.0000      \u001b[31m-0.5612\u001b[0m      \u001b[94m-0.4842\u001b[0m        \u001b[36m0.5612\u001b[0m        \u001b[32m0.4842\u001b[0m  0.7394\n",
      "     13                 -0.0152                0.0001                  0.0000      \u001b[31m-0.4547\u001b[0m      \u001b[94m-0.4422\u001b[0m        \u001b[36m0.4547\u001b[0m        \u001b[32m0.4422\u001b[0m  0.7125\n",
      "     14                 -0.0187                0.0000                  0.0000      -0.4641      \u001b[94m-0.4041\u001b[0m        0.4641        \u001b[32m0.4041\u001b[0m  0.7895\n",
      "     15                 -0.0154                0.0001                  0.0000      \u001b[31m-0.4028\u001b[0m      \u001b[94m-0.3790\u001b[0m        \u001b[36m0.4028\u001b[0m        \u001b[32m0.3790\u001b[0m  0.7248\n",
      "     16                 -0.0174                0.0000                  0.0000      \u001b[31m-0.3464\u001b[0m      \u001b[94m-0.3537\u001b[0m        \u001b[36m0.3464\u001b[0m        \u001b[32m0.3537\u001b[0m  0.7524\n",
      "     17                 -0.0094                0.0000                  0.0000      -0.3736      \u001b[94m-0.3480\u001b[0m        0.3736        \u001b[32m0.3480\u001b[0m  0.7959\n",
      "     18                 -0.0029               -0.0000                  0.0000      \u001b[31m-0.3252\u001b[0m      \u001b[94m-0.3445\u001b[0m        \u001b[36m0.3252\u001b[0m        \u001b[32m0.3445\u001b[0m  0.8067\n",
      "     19                 -0.0059                0.0001                  0.0000      -0.3566      -0.3462        0.3566        0.3462  0.7562\n",
      "     20                  0.0037                0.0000                  0.0000      -0.3613      -0.3457        0.3613        0.3457  0.8009\n",
      "     21                 -0.0033               -0.0000                 -0.0000      -0.3286      -0.3450        0.3286        0.3450  0.7787\n",
      "     22                  0.0051               -0.0001                  0.0000      -0.3341      -0.3449        0.3341        0.3449  0.7951\n",
      "     23                  0.0002                0.0000                  0.0000      \u001b[31m-0.3230\u001b[0m      \u001b[94m-0.3445\u001b[0m        \u001b[36m0.3230\u001b[0m        \u001b[32m0.3445\u001b[0m  0.7614\n",
      "     24                 -0.0031                0.0001                  0.0000      -0.3319      \u001b[94m-0.3442\u001b[0m        0.3319        \u001b[32m0.3442\u001b[0m  0.8058\n",
      "     25                 -0.0021                0.0000                  0.0000      -0.3347      -0.3448        0.3347        0.3448  0.8592\n",
      "     26                 -0.0025                0.0000                  0.0000      -0.3271      -0.3446        0.3271        0.3446  0.7115\n",
      "     27                 -0.0012               -0.0000                  0.0000      -0.3440      -0.3450        0.3440        0.3450  0.7149\n",
      "     28                  0.0006               -0.0001                 -0.0001      -0.3547      -0.3447        0.3547        0.3447  0.7838\n",
      "     29                 -0.0003                0.0001                  0.0000      -0.3415      -0.3448        0.3415        0.3448  0.7120\n",
      "     30                  0.0023               -0.0000                  0.0000      -0.3553      -0.3447        0.3553        0.3447  0.7754\n",
      "     31                  0.0016               -0.0001                 -0.0000      -0.3464      \u001b[94m-0.3440\u001b[0m        0.3464        \u001b[32m0.3440\u001b[0m  0.7619\n",
      "     32                 -0.0048                0.0001                  0.0000      \u001b[31m-0.3211\u001b[0m      -0.3457        \u001b[36m0.3211\u001b[0m        0.3457  0.7715\n",
      "     33                  0.0036               -0.0000                 -0.0000      \u001b[31m-0.3016\u001b[0m      -0.3450        \u001b[36m0.3016\u001b[0m        0.3450  0.7612\n",
      "     34                 -0.0064                0.0000                  0.0000      -0.3180      -0.3469        0.3180        0.3469  0.7259\n",
      "     35                 -0.0014               -0.0001                 -0.0001      -0.3522      -0.3479        0.3522        0.3479  0.7186\n",
      "     36                 -0.0012               -0.0000                  0.0000      -0.3301      -0.3490        0.3301        0.3490  0.7643\n",
      "     37                  0.0089               -0.0000                  0.0000      -0.3347      -0.3448        0.3347        0.3448  0.7243\n",
      "     38                 -0.0054                0.0001                  0.0000      -0.3159      -0.3445        0.3159        0.3445  0.7370\n",
      "     39                  0.0081               -0.0001                 -0.0000      -0.3191      -0.3442        0.3191        0.3442  0.8211\n",
      "     40                 -0.0036                0.0000                  0.0000      -0.3279      -0.3453        0.3279        0.3453  0.6933\n",
      "     41                 -0.0027               -0.0001                 -0.0000      -0.3313      -0.3449        0.3313        0.3449  0.7749\n",
      "     42                  0.0044               -0.0000                 -0.0000      -0.3347      -0.3449        0.3347        0.3449  0.7006\n",
      "     43                  0.0044               -0.0001                 -0.0000      -0.3460      -0.3442        0.3460        0.3442  0.7079\n",
      "     44                 -0.0020                0.0000                  0.0000      -0.3452      \u001b[94m-0.3433\u001b[0m        0.3452        \u001b[32m0.3433\u001b[0m  0.7296\n",
      "     45                 -0.0026               -0.0000                  0.0000      -0.3061      -0.3439        0.3061        0.3439  0.7063\n",
      "     46                 -0.0059                0.0000                  0.0000      -0.3266      -0.3461        0.3266        0.3461  0.7025\n",
      "     47                 -0.0020               -0.0001                 -0.0000      -0.3612      -0.3471        0.3612        0.3471  0.7549\n",
      "     48                  0.0073               -0.0001                 -0.0000      -0.3539      -0.3441        0.3539        0.3441  0.6971\n",
      "     49                 -0.0020                0.0000                 -0.0000      -0.3384      -0.3441        0.3384        0.3441  0.6925\n",
      "     50                 -0.0006               -0.0000                  0.0000      -0.3433      -0.3433        0.3433        0.3433  0.7500\n",
      "     51                  0.0062               -0.0001                 -0.0000      -0.3617      -0.3442        0.3617        0.3442  0.6953\n"
     ]
    },
    {
     "name": "stdout",
     "output_type": "stream",
     "text": [
      "     52                 -0.0054                0.0001                  0.0000      -0.3268      -0.3435        0.3268        0.3435  0.7428\n",
      "     53                  0.0015                0.0001                  0.0000      -0.3359      -0.3446        0.3359        0.3446  0.6850\n",
      "     54                  0.0020                0.0001                  0.0000      -0.3244      \u001b[94m-0.3432\u001b[0m        0.3244        \u001b[32m0.3432\u001b[0m  0.6953\n",
      "     55                 -0.0031                0.0001                  0.0000      -0.3463      -0.3461        0.3463        0.3461  0.7538\n",
      "     56                 -0.0059                0.0001                  0.0000      -0.3216      -0.3478        0.3216        0.3478  0.6972\n",
      "     57                  0.0080                0.0000                  0.0000      -0.3343      -0.3443        0.3343        0.3443  0.6860\n",
      "     58                 -0.0066               -0.0001                 -0.0000      -0.3243      -0.3463        0.3243        0.3463  0.7484\n",
      "     59                  0.0002                0.0000                  0.0000      -0.3318      -0.3456        0.3318        0.3456  0.6899\n",
      "     60                  0.0050               -0.0000                  0.0000      -0.3305      -0.3435        0.3305        0.3435  0.7421\n",
      "     61                 -0.0035               -0.0001                 -0.0000      -0.3235      -0.3443        0.3235        0.3443  0.7021\n",
      "     62                  0.0135               -0.0001                 -0.0000      -0.3135      -0.3441        0.3135        0.3441  0.6866\n",
      "     63                 -0.0039                0.0001                  0.0000      -0.3624      \u001b[94m-0.3431\u001b[0m        0.3624        \u001b[32m0.3431\u001b[0m  0.7326\n",
      "     64                 -0.0089                0.0000                  0.0000      -0.3231      -0.3441        0.3231        0.3441  0.6946\n",
      "     65                  0.0022                0.0000                  0.0000      -0.3260      -0.3441        0.3260        0.3441  0.6929\n",
      "     66                  0.0010                0.0001                  0.0000      -0.3179      -0.3436        0.3179        0.3436  0.7489\n",
      "     67                  0.0060                0.0001                  0.0000      -0.3404      \u001b[94m-0.3420\u001b[0m        0.3404        \u001b[32m0.3420\u001b[0m  0.7194\n",
      "     68                  0.0003               -0.0000                  0.0000      -0.3232      -0.3440        0.3232        0.3440  0.6949\n",
      "     69                 -0.0065                0.0001                  0.0001      -0.3345      -0.3445        0.3345        0.3445  0.7355\n",
      "     70                 -0.0000                0.0001                  0.0000      -0.3236      -0.3442        0.3236        0.3442  0.7016\n",
      "     71                  0.0019                0.0000                  0.0000      -0.3220      -0.3447        0.3220        0.3447  0.7211\n",
      "     72                  0.0051               -0.0000                 -0.0000      -0.3279      -0.3435        0.3279        0.3435  0.6920\n",
      "     73                 -0.0063                0.0001                  0.0000      -0.3343      -0.3432        0.3343        0.3432  0.7079\n",
      "     74                  0.0002                0.0000                  0.0000      -0.3320      -0.3433        0.3320        0.3433  0.7685\n",
      "     75                  0.0027                0.0000                 -0.0000      -0.3085      -0.3443        0.3085        0.3443  0.6845\n",
      "     76                 -0.0027               -0.0000                 -0.0000      -0.3175      -0.3435        0.3175        0.3435  0.6880\n",
      "     77                 -0.0001                0.0000                 -0.0000      -0.3533      -0.3430        0.3533        0.3430  0.7307\n",
      "     78                  0.0072               -0.0001                 -0.0000      -0.3394      -0.3435        0.3394        0.3435  0.7060\n",
      "     79                 -0.0105                0.0000                  0.0000      -0.3480      -0.3425        0.3480        0.3425  0.7436\n",
      "     80                  0.0030                0.0001                  0.0000      -0.3526      -0.3441        0.3526        0.3441  0.6917\n",
      "     81                  0.0055                0.0000                 -0.0000      -0.3296      -0.3422        0.3296        0.3422  0.7031\n",
      "     82                 -0.0026                0.0001                  0.0000      -0.3227      -0.3421        0.3227        0.3421  0.7535\n",
      "     83                 -0.0006               -0.0001                 -0.0000      -0.3592      -0.3434        0.3592        0.3434  0.7317\n",
      "     84                 -0.0082                0.0001                  0.0000      -0.3280      -0.3461        0.3280        0.3461  0.7068\n",
      "     85                  0.0119               -0.0001                 -0.0000      -0.3232      \u001b[94m-0.3420\u001b[0m        0.3232        \u001b[32m0.3420\u001b[0m  0.7413\n",
      "     86                 -0.0054                0.0001                 -0.0000      -0.3385      -0.3429        0.3385        0.3429  0.7126\n",
      "     87                  0.0021                0.0000                  0.0000      -0.3358      -0.3421        0.3358        0.3421  0.7234\n",
      "     88                  0.0033                0.0001                  0.0000      -0.3228      -0.3430        0.3228        0.3430  0.7610\n",
      "     89                 -0.0025                0.0001                  0.0000      -0.3247      -0.3422        0.3247        0.3422  0.7019\n",
      "     90                  0.0012               -0.0001                 -0.0000      -0.3507      \u001b[94m-0.3411\u001b[0m        0.3507        \u001b[32m0.3411\u001b[0m  0.7657\n",
      "     91                  0.0026                0.0001                 -0.0000      -0.3330      -0.3417        0.3330        0.3417  0.7031\n",
      "     92                 -0.0088                0.0001                  0.0001      -0.3398      -0.3438        0.3398        0.3438  0.6932\n",
      "     93                 -0.0015                0.0000                  0.0000      -0.3465      -0.3447        0.3465        0.3447  0.7348\n",
      "     94                 -0.0052               -0.0000                 -0.0000      -0.3252      -0.3459        0.3252        0.3459  0.6909\n",
      "     95                  0.0066               -0.0001                 -0.0000      -0.3614      -0.3424        0.3614        0.3424  0.6910\n",
      "     96                  0.0015               -0.0000                  0.0000      -0.3138      -0.3429        0.3138        0.3429  0.7373\n",
      "     97                  0.0031                0.0001                 -0.0000      -0.3189      -0.3414        0.3189        0.3414  0.6893\n",
      "     98                 -0.0020                0.0001                  0.0001      -0.3190      -0.3413        0.3190        0.3413  0.7290\n",
      "     99                  0.0053               -0.0000                 -0.0000      -0.3282      \u001b[94m-0.3407\u001b[0m        0.3282        \u001b[32m0.3407\u001b[0m  0.6968\n",
      "    100                  0.0032                0.0000                  0.0000      -0.3357      -0.3425        0.3357        0.3425  0.7023\n",
      "    101                 -0.0049                0.0000                  0.0000      -0.3085      -0.3419        0.3085        0.3419  0.7356\n",
      "    102                 -0.0075                0.0000                 -0.0000      -0.3257      -0.3441        0.3257        0.3441  0.6997\n",
      "    103                  0.0082                0.0000                  0.0000      -0.3222      -0.3423        0.3222        0.3423  0.6885\n",
      "    104                  0.0043                0.0000                 -0.0000      -0.3458      -0.3429        0.3458        0.3429  0.7518\n",
      "    105                  0.0014               -0.0000                 -0.0000      -0.3287      -0.3436        0.3287        0.3436  0.6934\n",
      "    106                 -0.0146               -0.0000                 -0.0000      -0.3149      -0.3433        0.3149        0.3433  0.7368\n",
      "    107                  0.0048                0.0000                 -0.0000      -0.3800      -0.3423        0.3800        0.3423  0.6912\n",
      "    108                 -0.0044                0.0000                 -0.0000      -0.3298      -0.3438        0.3298        0.3438  0.6948\n",
      "    109                 -0.0004                0.0000                  0.0000      -0.3524      -0.3440        0.3524        0.3440  0.7400\n"
     ]
    },
    {
     "name": "stdout",
     "output_type": "stream",
     "text": [
      "    110                  0.0054               -0.0001                 -0.0000      -0.3494      -0.3419        0.3494        0.3419  0.6965\n",
      "    111                 -0.0022               -0.0000                 -0.0000      -0.3325      -0.3413        0.3325        0.3413  0.7103\n",
      "    112                  0.0006               -0.0001                 -0.0000      -0.3254      -0.3408        0.3254        0.3408  0.7367\n",
      "    113                 -0.0037                0.0001                 -0.0000      -0.3129      -0.3440        0.3129        0.3440  0.6902\n",
      "    114                  0.0012               -0.0001                 -0.0000      -0.3314      -0.3419        0.3314        0.3419  0.6850\n",
      "    115                  0.0047               -0.0000                 -0.0000      -0.3277      \u001b[94m-0.3406\u001b[0m        0.3277        \u001b[32m0.3406\u001b[0m  0.7424\n",
      "    116                  0.0059                0.0001                  0.0000      -0.3204      -0.3419        0.3204        0.3419  0.7205\n",
      "    117                 -0.0007                0.0000                 -0.0000      -0.3394      -0.3434        0.3394        0.3434  0.7564\n",
      "    118                  0.0005               -0.0000                 -0.0000      -0.3447      -0.3416        0.3447        0.3416  0.7006\n",
      "    119                 -0.0080                0.0000                  0.0000      -0.3805      -0.3415        0.3805        0.3415  0.6962\n",
      "    120                 -0.0054                0.0000                 -0.0000      -0.3096      -0.3438        0.3096        0.3438  0.7577\n",
      "    121                 -0.0004                0.0000                  0.0000      -0.3142      -0.3439        0.3142        0.3439  0.7067\n",
      "    122                 -0.0023                0.0000                  0.0000      -0.3225      -0.3457        0.3225        0.3457  0.6836\n",
      "    123                  0.0095               -0.0000                  0.0000      -0.3438      -0.3418        0.3438        0.3418  0.7276\n",
      "    124                 -0.0011                0.0001                  0.0000      -0.3127      -0.3427        0.3127        0.3427  0.6761\n",
      "    125                  0.0021               -0.0000                 -0.0000      -0.3321      \u001b[94m-0.3391\u001b[0m        0.3321        \u001b[32m0.3391\u001b[0m  0.7400\n",
      "    126                 -0.0019                0.0001                 -0.0000      \u001b[31m-0.2930\u001b[0m      -0.3404        \u001b[36m0.2930\u001b[0m        0.3404  0.6922\n",
      "    127                 -0.0027                0.0001                  0.0000      -0.3179      -0.3416        0.3179        0.3416  0.6917\n",
      "    128                  0.0041               -0.0001                  0.0000      -0.3488      -0.3408        0.3488        0.3408  0.7452\n",
      "    129                 -0.0022                0.0001                  0.0000      -0.3398      -0.3403        0.3398        0.3403  0.6956\n",
      "    130                  0.0007                0.0001                  0.0000      -0.3269      -0.3406        0.3269        0.3406  0.7716\n",
      "    131                  0.0045               -0.0000                 -0.0000      \u001b[31m-0.2882\u001b[0m      -0.3402        \u001b[36m0.2882\u001b[0m        0.3402  0.8459\n",
      "    132                 -0.0025                0.0000                  0.0000      -0.3296      -0.3398        0.3296        0.3398  0.7927\n",
      "    133                 -0.0042                0.0000                 -0.0000      -0.3331      -0.3428        0.3331        0.3428  0.7552\n",
      "    134                  0.0074                0.0000                 -0.0000      -0.3318      -0.3402        0.3318        0.3402  0.7408\n",
      "    135                 -0.0053                0.0001                  0.0001      -0.3107      -0.3400        0.3107        0.3400  0.7068\n",
      "    136                 -0.0009                0.0000                  0.0000      -0.3473      -0.3415        0.3473        0.3415  0.7429\n",
      "    137                 -0.0009                0.0000                 -0.0000      -0.3081      -0.3410        0.3081        0.3410  0.7104\n",
      "    138                  0.0012               -0.0000                 -0.0000      -0.3283      -0.3406        0.3283        0.3406  0.6865\n",
      "    139                 -0.0025               -0.0000                 -0.0000      -0.3303      -0.3431        0.3303        0.3431  0.7496\n",
      "    140                  0.0041               -0.0001                 -0.0000      -0.3377      -0.3406        0.3377        0.3406  0.7051\n",
      "    141                 -0.0007                0.0000                 -0.0000      -0.3281      -0.3406        0.3281        0.3406  0.7090\n",
      "    142                  0.0013               -0.0000                 -0.0000      -0.3016      -0.3420        0.3016        0.3420  0.7560\n",
      "    143                  0.0011                0.0001                  0.0000      -0.3477      -0.3409        0.3477        0.3409  0.6994\n",
      "    144                 -0.0041               -0.0000                 -0.0000      -0.3260      -0.3423        0.3260        0.3423  0.7472\n",
      "    145                 -0.0023               -0.0000                 -0.0000      -0.3435      -0.3420        0.3435        0.3420  0.7071\n",
      "    146                  0.0066                0.0000                  0.0000      -0.3182      -0.3397        0.3182        0.3397  0.7103\n",
      "    147                  0.0026                0.0001                  0.0000      -0.3080      -0.3398        0.3080        0.3398  0.7462\n",
      "    148                 -0.0083                0.0000                  0.0000      -0.3181      -0.3427        0.3181        0.3427  0.7054\n",
      "    149                  0.0062                0.0000                  0.0000      -0.2977      -0.3394        0.2977        0.3394  0.7065\n",
      "    150                  0.0001                0.0000                 -0.0000      -0.3292      -0.3396        0.3292        0.3396  0.7556\n",
      "    151                 -0.0010               -0.0000                 -0.0000      -0.3168      -0.3411        0.3168        0.3411  0.6909\n",
      "    152                  0.0025                0.0001                  0.0000      -0.3104      -0.3403        0.3104        0.3403  0.6932\n",
      "    153                 -0.0109                0.0001                  0.0000      -0.3366      -0.3429        0.3366        0.3429  0.7526\n",
      "    154                  0.0029               -0.0000                 -0.0000      -0.3420      -0.3414        0.3420        0.3414  0.6903\n",
      "    155                  0.0080                0.0001                  0.0000      -0.3679      -0.3418        0.3679        0.3418  0.7455\n",
      "    156                  0.0005                0.0000                 -0.0000      -0.3152      \u001b[94m-0.3381\u001b[0m        0.3152        \u001b[32m0.3381\u001b[0m  0.6848\n",
      "    157                 -0.0050                0.0001                  0.0000      -0.3279      -0.3398        0.3279        0.3398  0.6975\n",
      "    158                 -0.0056                0.0001                  0.0000      -0.3248      -0.3451        0.3248        0.3451  0.7950\n",
      "    159                  0.0028                0.0001                  0.0000      -0.3248      -0.3406        0.3248        0.3406  0.6962\n",
      "    160                  0.0062               -0.0000                 -0.0000      -0.3483      -0.3396        0.3483        0.3396  0.7145\n",
      "    161                 -0.0029                0.0001                  0.0000      -0.3332      -0.3396        0.3332        0.3396  0.7631\n",
      "    162                 -0.0011               -0.0000                 -0.0000      -0.3457      -0.3404        0.3457        0.3404  0.6958\n",
      "    163                  0.0023                0.0000                  0.0000      -0.3158      -0.3401        0.3158        0.3401  0.7448\n",
      "    164                  0.0011                0.0000                 -0.0000      -0.3538      -0.3393        0.3538        0.3393  0.7200\n",
      "    165                 -0.0034                0.0001                 -0.0000      -0.3446      -0.3408        0.3446        0.3408  0.7173\n",
      "    166                 -0.0017                0.0000                 -0.0000      -0.2957      -0.3406        0.2957        0.3406  0.7420\n",
      "    167                 -0.0024                0.0001                  0.0000      -0.3091      -0.3409        0.3091        0.3409  0.7090\n"
     ]
    },
    {
     "name": "stdout",
     "output_type": "stream",
     "text": [
      "    168                 -0.0001               -0.0000                 -0.0000      -0.3538      -0.3413        0.3538        0.3413  0.7005\n",
      "    169                  0.0016                0.0000                 -0.0000      -0.3526      -0.3416        0.3526        0.3416  0.7390\n",
      "    170                  0.0040                0.0001                  0.0000      -0.3431      -0.3391        0.3431        0.3391  0.6976\n",
      "    171                  0.0018               -0.0001                 -0.0000      -0.3214      -0.3396        0.3214        0.3396  0.7023\n",
      "    172                 -0.0007                0.0001                  0.0000      -0.3181      -0.3398        0.3181        0.3398  0.7480\n",
      "    173                 -0.0042                0.0000                  0.0000      -0.3291      -0.3401        0.3291        0.3401  0.7324\n",
      "    174                  0.0050                0.0000                 -0.0000      -0.3156      -0.3394        0.3156        0.3394  0.7386\n",
      "    175                  0.0018                0.0000                  0.0000      -0.3219      -0.3387        0.3219        0.3387  0.6925\n",
      "    176                 -0.0017               -0.0000                 -0.0000      -0.3637      -0.3399        0.3637        0.3399  0.6924\n",
      "    177                 -0.0037               -0.0000                 -0.0000      -0.3357      -0.3405        0.3357        0.3405  0.7400\n",
      "    178                 -0.0035                0.0000                 -0.0000      -0.2907      -0.3411        0.2907        0.3411  0.6891\n",
      "    179                  0.0086               -0.0001                 -0.0000      -0.3348      -0.3388        0.3348        0.3388  0.7073\n",
      "    180                 -0.0027                0.0001                  0.0000      -0.3263      -0.3407        0.3263        0.3407  0.7600\n",
      "    181                 -0.0043                0.0001                  0.0000      -0.3216      -0.3407        0.3216        0.3407  0.7008\n",
      "    182                  0.0001                0.0000                 -0.0000      -0.3308      -0.3411        0.3308        0.3411  0.7367\n",
      "    183                 -0.0018               -0.0000                 -0.0000      \u001b[31m-0.2805\u001b[0m      -0.3419        \u001b[36m0.2805\u001b[0m        0.3419  0.7173\n",
      "    184                  0.0029                0.0001                 -0.0000      -0.3395      -0.3407        0.3395        0.3407  0.7078\n",
      "    185                  0.0037                0.0001                  0.0000      -0.2921      -0.3386        0.2921        0.3386  0.7584\n",
      "    186                 -0.0001               -0.0000                 -0.0000      -0.3383      -0.3394        0.3383        0.3394  0.6972\n",
      "    187                  0.0049               -0.0000                 -0.0000      -0.3427      -0.3393        0.3427        0.3393  0.6995\n",
      "    188                 -0.0024                0.0000                 -0.0000      -0.3263      -0.3387        0.3263        0.3387  0.7556\n",
      "    189                 -0.0008                0.0000                 -0.0000      -0.3039      -0.3396        0.3039        0.3396  0.6989\n",
      "    190                  0.0007               -0.0000                 -0.0000      -0.3548      -0.3396        0.3548        0.3396  0.7457\n",
      "    191                  0.0024                0.0000                 -0.0000      -0.3462      -0.3397        0.3462        0.3397  0.7032\n",
      "    192                  0.0022                0.0001                  0.0000      -0.3552      \u001b[94m-0.3376\u001b[0m        0.3552        \u001b[32m0.3376\u001b[0m  0.6865\n",
      "    193                 -0.0051                0.0000                  0.0000      -0.3433      -0.3392        0.3433        0.3392  0.7492\n",
      "    194                 -0.0017                0.0001                 -0.0000      -0.3706      -0.3409        0.3706        0.3409  0.6777\n",
      "    195                 -0.0029                0.0001                  0.0000      -0.3273      -0.3393        0.3273        0.3393  0.7023\n",
      "    196                  0.0009               -0.0001                 -0.0001      -0.3206      -0.3393        0.3206        0.3393  0.7475\n",
      "    197                  0.0007                0.0000                 -0.0000      -0.3471      -0.3395        0.3471        0.3395  0.7195\n",
      "    198                  0.0020                0.0001                  0.0000      -0.3278      -0.3379        0.3278        0.3379  0.6877\n",
      "    199                  0.0052                0.0001                  0.0000      -0.3177      -0.3383        0.3177        0.3383  0.7538\n",
      "    200                 -0.0036                0.0000                 -0.0000      -0.3432      -0.3394        0.3432        0.3394  0.7100\n",
      "    201                  0.0014                0.0001                  0.0000      -0.3301      -0.3383        0.3301        0.3383  0.7495\n",
      "    202                 -0.0006                0.0001                  0.0000      -0.3322      -0.3386        0.3322        0.3386  0.7154\n",
      "    203                 -0.0055                0.0002                  0.0000      -0.3499      \u001b[94m-0.3372\u001b[0m        0.3499        \u001b[32m0.3372\u001b[0m  0.7090\n",
      "    204                 -0.0005                0.0000                 -0.0000      -0.3237      -0.3385        0.3237        0.3385  0.7709\n",
      "    205                  0.0046                0.0001                  0.0000      -0.3592      -0.3387        0.3592        0.3387  0.7216\n",
      "    206                 -0.0087                0.0000                  0.0000      -0.3320      -0.3415        0.3320        0.3415  0.7032\n",
      "    207                  0.0001               -0.0001                 -0.0001      -0.3606      -0.3411        0.3606        0.3411  0.7577\n",
      "    208                 -0.0019                0.0000                 -0.0000      -0.3219      -0.3403        0.3219        0.3403  0.7057\n",
      "    209                 -0.0006                0.0001                 -0.0000      -0.3070      -0.3422        0.3070        0.3422  0.7501\n",
      "    210                  0.0017               -0.0000                 -0.0000      -0.3174      -0.3417        0.3174        0.3417  0.6933\n",
      "    211                  0.0104                0.0000                  0.0000      -0.3037      -0.3379        0.3037        0.3379  0.7076\n",
      "    212                 -0.0022                0.0001                 -0.0000      -0.3223      -0.3386        0.3223        0.3386  0.7317\n",
      "    213                 -0.0006                0.0000                 -0.0000      -0.3206      -0.3381        0.3206        0.3381  0.6970\n",
      "    214                 -0.0009                0.0001                  0.0000      -0.2847      -0.3383        0.2847        0.3383  0.6939\n",
      "    215                  0.0056                0.0001                  0.0000      -0.3186      -0.3381        0.3186        0.3381  0.7468\n",
      "    216                  0.0011                0.0001                  0.0000      -0.3303      -0.3384        0.3303        0.3384  0.6928\n",
      "    217                 -0.0052                0.0001                  0.0000      -0.3421      -0.3375        0.3421        0.3375  0.7151\n",
      "    218                 -0.0018                0.0000                 -0.0001      -0.3358      -0.3381        0.3358        0.3381  0.7484\n",
      "    219                 -0.0025               -0.0001                 -0.0001      -0.3483      -0.3395        0.3483        0.3395  0.6900\n",
      "    220                 -0.0051                0.0001                  0.0000      -0.3292      -0.3410        0.3292        0.3410  0.7601\n",
      "    221                  0.0019               -0.0001                 -0.0001      -0.3333      -0.3415        0.3333        0.3415  0.6897\n",
      "    222                  0.0066                0.0001                  0.0000      -0.3184      -0.3381        0.3184        0.3381  0.6810\n",
      "    223                 -0.0002                0.0001                  0.0000      -0.3304      -0.3381        0.3304        0.3381  0.7530\n",
      "    224                 -0.0018                0.0000                 -0.0000      -0.2825      -0.3376        0.2825        0.3376  0.6884\n",
      "    225                  0.0037                0.0000                 -0.0000      -0.3249      -0.3377        0.3249        0.3377  0.7150\n",
      "    226                 -0.0009                0.0001                  0.0000      -0.3445      -0.3379        0.3445        0.3379  0.7289\n"
     ]
    },
    {
     "name": "stdout",
     "output_type": "stream",
     "text": [
      "    227                 -0.0056                0.0001                 -0.0000      -0.3358      -0.3378        0.3358        0.3378  0.7313\n",
      "    228                  0.0080               -0.0000                 -0.0000      -0.3284      -0.3387        0.3284        0.3387  0.7495\n",
      "    229                 -0.0016                0.0001                 -0.0000      -0.3161      -0.3390        0.3161        0.3390  0.6835\n",
      "    230                 -0.0028               -0.0001                 -0.0000      -0.3187      -0.3394        0.3187        0.3394  0.7039\n",
      "    231                 -0.0054               -0.0000                 -0.0000      -0.3437      -0.3398        0.3437        0.3398  0.7441\n",
      "    232                  0.0003                0.0000                 -0.0000      -0.3330      -0.3398        0.3330        0.3398  0.7238\n",
      "    233                 -0.0037               -0.0000                 -0.0000      -0.3019      -0.3404        0.3019        0.3404  0.6959\n",
      "    234                  0.0021               -0.0001                 -0.0000      -0.3211      -0.3400        0.3211        0.3400  0.7486\n",
      "    235                  0.0062               -0.0001                 -0.0001      -0.3210      -0.3381        0.3210        0.3381  0.7075\n",
      "    236                  0.0070               -0.0001                 -0.0001      -0.3222      \u001b[94m-0.3369\u001b[0m        0.3222        \u001b[32m0.3369\u001b[0m  0.6823\n",
      "    237                 -0.0037                0.0002                  0.0000      -0.3179      \u001b[94m-0.3369\u001b[0m        0.3179        \u001b[32m0.3369\u001b[0m  0.7477\n",
      "    238                 -0.0060                0.0000                 -0.0000      -0.3463      -0.3394        0.3463        0.3394  0.7040\n",
      "    239                 -0.0029               -0.0000                 -0.0001      -0.3016      -0.3412        0.3016        0.3412  0.7610\n",
      "    240                  0.0022                0.0001                  0.0000      -0.3328      -0.3395        0.3328        0.3395  0.6975\n",
      "    241                  0.0013                0.0001                 -0.0000      -0.3091      -0.3390        0.3091        0.3390  0.7125\n",
      "    242                 -0.0017                0.0001                  0.0000      -0.3261      -0.3392        0.3261        0.3392  0.7465\n",
      "    243                  0.0041                0.0001                  0.0000      -0.3119      -0.3373        0.3119        0.3373  0.6997\n",
      "    244                 -0.0033                0.0000                 -0.0000      -0.3432      -0.3393        0.3432        0.3393  0.7072\n",
      "    245                  0.0036                0.0000                 -0.0000      -0.3104      -0.3379        0.3104        0.3379  0.7448\n",
      "    246                  0.0045                0.0001                  0.0000      -0.3064      \u001b[94m-0.3368\u001b[0m        0.3064        \u001b[32m0.3368\u001b[0m  0.6954\n",
      "    247                 -0.0051                0.0001                  0.0000      -0.3075      -0.3373        0.3075        0.3373  0.7569\n",
      "    248                 -0.0012                0.0000                 -0.0000      -0.3403      \u001b[94m-0.3366\u001b[0m        0.3403        \u001b[32m0.3366\u001b[0m  0.7089\n",
      "    249                 -0.0006                0.0001                  0.0000      -0.3217      -0.3381        0.3217        0.3381  0.6985\n",
      "    250                  0.0079               -0.0000                 -0.0000      -0.3505      -0.3371        0.3505        0.3371  0.7415\n",
      "    251                 -0.0067               -0.0000                 -0.0001      -0.3144      -0.3368        0.3144        0.3368  0.7056\n",
      "    252                  0.0027               -0.0000                 -0.0001      -0.3406      -0.3366        0.3406        0.3366  0.7286\n",
      "    253                  0.0013                0.0000                 -0.0000      -0.3155      \u001b[94m-0.3364\u001b[0m        0.3155        \u001b[32m0.3364\u001b[0m  0.7626\n",
      "    254                 -0.0018                0.0001                 -0.0000      -0.3255      -0.3374        0.3255        0.3374  0.7096\n",
      "    255                  0.0007                0.0000                 -0.0000      -0.3194      -0.3387        0.3194        0.3387  0.7125\n",
      "    256                 -0.0005               -0.0000                 -0.0000      -0.3237      \u001b[94m-0.3352\u001b[0m        0.3237        \u001b[32m0.3352\u001b[0m  0.7432\n",
      "    257                 -0.0064                0.0001                 -0.0000      -0.3004      -0.3372        0.3004        0.3372  0.6986\n",
      "    258                  0.0045                0.0000                 -0.0000      -0.3311      -0.3365        0.3311        0.3365  0.7486\n",
      "    259                 -0.0073                0.0001                 -0.0000      -0.3127      -0.3401        0.3127        0.3401  0.6962\n",
      "    260                  0.0043                0.0000                 -0.0000      -0.3044      -0.3376        0.3044        0.3376  0.7156\n",
      "    261                  0.0017               -0.0000                 -0.0001      -0.3218      -0.3368        0.3218        0.3368  0.7335\n",
      "    262                  0.0057                0.0001                 -0.0000      -0.3003      -0.3352        0.3003        0.3352  0.7078\n",
      "    263                 -0.0056                0.0001                 -0.0000      -0.3199      -0.3363        0.3199        0.3363  0.7013\n",
      "    264                  0.0041               -0.0000                 -0.0000      -0.3043      \u001b[94m-0.3342\u001b[0m        0.3043        \u001b[32m0.3342\u001b[0m  0.7418\n",
      "    265                 -0.0010                0.0001                 -0.0000      -0.2906      -0.3349        0.2906        0.3349  0.7165\n",
      "    266                 -0.0046                0.0002                  0.0000      -0.3289      -0.3372        0.3289        0.3372  0.7322\n",
      "    267                 -0.0020               -0.0000                 -0.0001      -0.3324      -0.3376        0.3324        0.3376  0.6877\n",
      "    268                 -0.0030                0.0001                  0.0000      -0.3529      -0.3389        0.3529        0.3389  0.7044\n",
      "    269                  0.0017                0.0001                  0.0000      -0.3516      -0.3399        0.3516        0.3399  0.7400\n",
      "    270                 -0.0003                0.0001                 -0.0000      -0.3392      -0.3376        0.3392        0.3376  0.6882\n",
      "    271                  0.0050               -0.0000                 -0.0000      -0.3140      -0.3358        0.3140        0.3358  0.6957\n",
      "    272                  0.0013                0.0001                  0.0000      -0.3043      -0.3355        0.3043        0.3355  0.7549\n",
      "    273                  0.0024                0.0000                 -0.0000      -0.3043      \u001b[94m-0.3334\u001b[0m        0.3043        \u001b[32m0.3334\u001b[0m  0.7119\n",
      "    274                 -0.0038               -0.0000                 -0.0001      -0.3099      \u001b[94m-0.3326\u001b[0m        0.3099        \u001b[32m0.3326\u001b[0m  0.7476\n",
      "    275                  0.0002               -0.0001                 -0.0001      -0.3227      -0.3354        0.3227        0.3354  0.7012\n",
      "    276                 -0.0041                0.0002                 -0.0000      -0.3672      -0.3379        0.3672        0.3379  0.6898\n",
      "    277                  0.0016                0.0001                  0.0000      -0.3224      -0.3369        0.3224        0.3369  0.7552\n",
      "    278                  0.0020                0.0001                 -0.0000      -0.3018      -0.3328        0.3018        0.3328  0.7044\n",
      "    279                 -0.0006               -0.0000                 -0.0001      -0.3240      -0.3350        0.3240        0.3350  0.7029\n",
      "    280                 -0.0023               -0.0001                 -0.0000      -0.3331      -0.3360        0.3331        0.3360  0.7371\n",
      "    281                  0.0082                0.0000                 -0.0000      -0.3395      -0.3343        0.3395        0.3343  0.7066\n",
      "    282                 -0.0124                0.0000                 -0.0000      -0.3095      -0.3377        0.3095        0.3377  0.6871\n",
      "    283                  0.0092                0.0001                 -0.0000      -0.3356      -0.3334        0.3356        0.3334  0.7501\n",
      "    284                  0.0059                0.0001                 -0.0000      -0.3059      \u001b[94m-0.3324\u001b[0m        0.3059        \u001b[32m0.3324\u001b[0m  0.6813\n"
     ]
    },
    {
     "name": "stdout",
     "output_type": "stream",
     "text": [
      "    285                 -0.0034                0.0001                 -0.0000      -0.3088      \u001b[94m-0.3324\u001b[0m        0.3088        \u001b[32m0.3324\u001b[0m  0.7412\n",
      "    286                 -0.0037                0.0000                 -0.0000      -0.3342      -0.3341        0.3342        0.3341  0.6813\n",
      "    287                 -0.0009                0.0001                  0.0000      -0.3529      -0.3349        0.3529        0.3349  0.6950\n",
      "    288                  0.0013                0.0000                 -0.0000      -0.3036      -0.3342        0.3036        0.3342  0.7495\n",
      "    289                 -0.0034                0.0000                 -0.0000      -0.3309      -0.3347        0.3309        0.3347  0.7047\n",
      "    290                  0.0042                0.0001                 -0.0000      -0.3210      -0.3332        0.3210        0.3332  0.6852\n",
      "    291                 -0.0036                0.0000                 -0.0001      -0.3364      -0.3333        0.3364        0.3333  0.7594\n",
      "    292                 -0.0005               -0.0000                 -0.0001      -0.3217      -0.3349        0.3217        0.3349  0.6949\n",
      "    293                  0.0035                0.0001                 -0.0000      -0.3370      -0.3328        0.3370        0.3328  0.7437\n",
      "    294                 -0.0046                0.0001                 -0.0000      -0.3165      -0.3350        0.3165        0.3350  0.6929\n",
      "    295                  0.0031                0.0000                 -0.0001      -0.3266      -0.3337        0.3266        0.3337  0.6777\n",
      "    296                  0.0054                0.0000                 -0.0000      -0.3075      -0.3336        0.3075        0.3336  0.7335\n",
      "    297                 -0.0079                0.0001                  0.0000      -0.3439      -0.3348        0.3439        0.3348  0.6836\n",
      "    298                 -0.0037                0.0001                 -0.0000      -0.3265      -0.3332        0.3265        0.3332  0.6926\n",
      "    299                  0.0071                0.0001                 -0.0000      -0.3013      -0.3326        0.3013        0.3326  0.7499\n",
      "    300                 -0.0004                0.0000                 -0.0000      -0.3109      \u001b[94m-0.3322\u001b[0m        0.3109        \u001b[32m0.3322\u001b[0m  0.7247\n"
     ]
    },
    {
     "data": {
      "text/plain": [
       "<class '__main__.Trainer'>[initialized](\n",
       "  module_=ReconModel(\n",
       "    (rnn0): GaussInputClocking(\n",
       "      (i2h): Linear(in_features=2, out_features=20, bias=True)\n",
       "      (h2h): Linear(in_features=20, out_features=20, bias=False)\n",
       "      (i2c): Linear(in_features=2, out_features=40, bias=True)\n",
       "      (act): ReLU()\n",
       "    )\n",
       "    (clf): Linear(in_features=20, out_features=1, bias=True)\n",
       "  ),\n",
       ")"
      ]
     },
     "execution_count": 68,
     "metadata": {},
     "output_type": "execute_result"
    }
   ],
   "source": [
    "%pdb on\n",
    "ef.fit(dataset_train)"
   ]
  },
  {
   "cell_type": "code",
   "execution_count": 222,
   "metadata": {
    "scrolled": false
   },
   "outputs": [
    {
     "name": "stdout",
     "output_type": "stream",
     "text": [
      "Automatic pdb calling has been turned ON\n",
      "    301      -0.1934      -0.1877        0.1934        0.1877  0.7240\n",
      "    302      -0.1913      -0.2102        0.1913        0.2102  0.7257\n",
      "    303      -0.2187      -0.1887        0.2187        0.1887  0.6993\n",
      "    304      -0.2169      -0.2015        0.2169        0.2015  0.7322\n",
      "    305      -0.1746      \u001b[32m-0.1803\u001b[0m        0.1746        \u001b[31m0.1803\u001b[0m  0.6708\n",
      "    306      -0.2302      \u001b[32m-0.1790\u001b[0m        0.2302        \u001b[31m0.1790\u001b[0m  0.7052\n",
      "    307      -0.1883      -0.2136        0.1883        0.2136  0.7708\n",
      "    308      -0.1905      -0.2563        0.1905        0.2563  0.7089\n",
      "    309      -0.2172      -0.1835        0.2172        0.1835  0.7486\n",
      "    310      -0.1923      -0.1889        0.1923        0.1889  0.7534\n",
      "    311      -0.1730      -0.1829        0.1730        0.1829  0.6661\n",
      "    312      -0.2393      -0.1980        0.2393        0.1980  0.6958\n",
      "    313      -0.1951      \u001b[32m-0.1760\u001b[0m        0.1951        \u001b[31m0.1760\u001b[0m  0.8033\n",
      "    314      -0.1802      -0.1983        0.1802        0.1983  0.6849\n",
      "    315      -0.2032      -0.2458        0.2032        0.2458  0.6823\n",
      "    316      -0.1949      -0.2047        0.1949        0.2047  0.7289\n",
      "    317      -0.2223      -0.2094        0.2223        0.2094  0.6712\n",
      "    318      -0.2022      \u001b[32m-0.1754\u001b[0m        0.2022        \u001b[31m0.1754\u001b[0m  0.7514\n",
      "    319      -0.1805      -0.1934        0.1805        0.1934  0.7336\n",
      "    320      -0.1864      \u001b[32m-0.1744\u001b[0m        0.1864        \u001b[31m0.1744\u001b[0m  0.6626\n",
      "    321      -0.1891      \u001b[32m-0.1609\u001b[0m        0.1891        \u001b[31m0.1609\u001b[0m  0.6609\n",
      "    322      -0.1732      -0.2446        0.1732        0.2446  0.7245\n",
      "    323      -0.2019      -0.1642        0.2019        0.1642  0.6682\n",
      "    324      \u001b[36m-0.1675\u001b[0m      -0.1612        \u001b[35m0.1675\u001b[0m        0.1612  0.6633\n",
      "    325      -0.1813      \u001b[32m-0.1531\u001b[0m        0.1813        \u001b[31m0.1531\u001b[0m  0.7235\n",
      "    326      -0.1939      -0.1552        0.1939        0.1552  0.6624\n",
      "    327      -0.2039      -0.1854        0.2039        0.1854  0.6702\n",
      "    328      -0.1730      \u001b[32m-0.1490\u001b[0m        0.1730        \u001b[31m0.1490\u001b[0m  0.8064\n",
      "    329      -0.2083      -0.1787        0.2083        0.1787  0.6680\n",
      "    330      -0.2038      -0.2987        0.2038        0.2987  0.6706\n",
      "    331      -0.1875      -0.1610        0.1875        0.1610  0.7654\n",
      "    332      \u001b[36m-0.1593\u001b[0m      \u001b[32m-0.1457\u001b[0m        \u001b[35m0.1593\u001b[0m        \u001b[31m0.1457\u001b[0m  0.6814\n",
      "    333      -0.1622      \u001b[32m-0.1403\u001b[0m        0.1622        \u001b[31m0.1403\u001b[0m  0.6761\n",
      "    334      -0.1601      -0.1444        0.1601        0.1444  0.7326\n",
      "    335      -0.1623      -0.1492        0.1623        0.1492  0.6734\n",
      "    336      \u001b[36m-0.1536\u001b[0m      -0.1492        \u001b[35m0.1536\u001b[0m        0.1492  0.7570\n",
      "    337      -0.1936      -0.1593        0.1936        0.1593  0.7257\n",
      "    338      -0.1876      -0.1452        0.1876        0.1452  0.6790\n",
      "    339      \u001b[36m-0.1499\u001b[0m      -0.1747        \u001b[35m0.1499\u001b[0m        0.1747  0.6806\n",
      "    340      \u001b[36m-0.1498\u001b[0m      \u001b[32m-0.1315\u001b[0m        \u001b[35m0.1498\u001b[0m        \u001b[31m0.1315\u001b[0m  0.7297\n",
      "    341      \u001b[36m-0.1468\u001b[0m      -0.1880        \u001b[35m0.1468\u001b[0m        0.1880  0.7389\n",
      "    342      -0.1527      -0.1537        0.1527        0.1537  0.6728\n",
      "    343      \u001b[36m-0.1426\u001b[0m      \u001b[32m-0.1144\u001b[0m        \u001b[35m0.1426\u001b[0m        \u001b[31m0.1144\u001b[0m  0.7294\n",
      "    344      -0.1965      -0.1597        0.1965        0.1597  0.7568\n",
      "    345      \u001b[36m-0.1360\u001b[0m      -0.2003        \u001b[35m0.1360\u001b[0m        0.2003  0.6803\n",
      "    346      -0.1757      -0.1581        0.1757        0.1581  0.7211\n",
      "    347      -0.1432      -0.1431        0.1432        0.1431  0.6718\n",
      "    348      -0.1420      -0.2073        0.1420        0.2073  0.6739\n",
      "    349      -0.1525      \u001b[32m-0.1108\u001b[0m        0.1525        \u001b[31m0.1108\u001b[0m  0.7356\n",
      "    350      -0.1586      -0.1233        0.1586        0.1233  0.7276\n",
      "    351      -0.1518      -0.1237        0.1518        0.1237  0.7146\n",
      "    352      -0.1496      -0.2786        0.1496        0.2786  0.7473\n",
      "    353      \u001b[36m-0.1304\u001b[0m      -0.1175        \u001b[35m0.1304\u001b[0m        0.1175  0.7296\n",
      "    354      -0.1349      -0.2050        0.1349        0.2050  0.8037\n",
      "    355      -0.1584      -0.1424        0.1584        0.1424  0.7406\n",
      "    356      -0.1647      -0.1538        0.1647        0.1538  0.8517\n",
      "    357      -0.1479      -0.2250        0.1479        0.2250  0.9698\n",
      "    358      -0.1654      \u001b[32m-0.1036\u001b[0m        0.1654        \u001b[31m0.1036\u001b[0m  0.7443\n",
      "    359      -0.1427      -0.1113        0.1427        0.1113  0.6716\n",
      "    360      -0.1371      -0.1847        0.1371        0.1847  0.7964\n",
      "    361      -0.1609      -0.2117        0.1609        0.2117  0.6834\n",
      "    362      -0.1806      -0.1739        0.1806        0.1739  0.6914\n",
      "    363      \u001b[36m-0.1291\u001b[0m      -0.1545        \u001b[35m0.1291\u001b[0m        0.1545  0.7416\n",
      "    364      \u001b[36m-0.1118\u001b[0m      -0.2859        \u001b[35m0.1118\u001b[0m        0.2859  0.7453\n",
      "    365      -0.1394      -0.1036        0.1394        0.1036  0.6732\n",
      "    366      -0.1298      -0.1643        0.1298        0.1643  0.7616\n",
      "    367      -0.1474      -0.1525        0.1474        0.1525  0.7048\n",
      "    368      -0.1505      -0.1258        0.1505        0.1258  0.6832\n",
      "    369      -0.1355      -0.1348        0.1355        0.1348  0.7316\n",
      "    370      -0.1417      -0.1217        0.1417        0.1217  0.6671\n",
      "    371      -0.2203      -0.4719        0.2203        0.4719  0.6859\n",
      "    372      -0.4013      -0.2935        0.4013        0.2935  0.7280\n",
      "    373      -0.1842      -0.1600        0.1842        0.1600  0.7855\n",
      "    374      -0.1541      -0.1160        0.1541        0.1160  0.6913\n",
      "    375      -0.1279      -0.1885        0.1279        0.1885  0.7305\n",
      "    376      -0.1325      -0.1060        0.1325        0.1060  0.6751\n",
      "    377      -0.1276      -0.1144        0.1276        0.1144  0.6778\n",
      "    378      -0.1134      -0.1579        0.1134        0.1579  0.7342\n",
      "    379      -0.1795      -0.2446        0.1795        0.2446  0.6641\n",
      "    380      -0.1869      -0.2095        0.1869        0.2095  0.6781\n",
      "    381      -0.1293      \u001b[32m-0.0993\u001b[0m        0.1293        \u001b[31m0.0993\u001b[0m  0.7372\n",
      "    382      -0.1329      -0.1162        0.1329        0.1162  0.6696\n",
      "    383      -0.1362      -0.1183        0.1362        0.1183  0.6685\n",
      "    384      \u001b[36m-0.1053\u001b[0m      -0.2001        \u001b[35m0.1053\u001b[0m        0.2001  0.7364\n",
      "    385      -0.1342      -0.1502        0.1342        0.1502  0.6754\n",
      "    386      -0.1325      -0.1746        0.1325        0.1746  0.6709\n",
      "    387      -0.1542      -0.1202        0.1542        0.1202  0.7302\n",
      "    388      -0.1447      \u001b[32m-0.0973\u001b[0m        0.1447        \u001b[31m0.0973\u001b[0m  0.7174\n",
      "    389      -0.1154      -0.1503        0.1154        0.1503  0.7562\n",
      "    390      -0.1210      -0.1243        0.1210        0.1243  0.7381\n",
      "    391      -0.1357      -0.1197        0.1357        0.1197  0.7675\n",
      "    392      -0.1386      -0.1519        0.1386        0.1519  0.6774\n",
      "    393      -0.1444      -0.1137        0.1444        0.1137  0.7226\n",
      "    394      -0.1246      -0.1897        0.1246        0.1897  0.6805\n",
      "    395      -0.1353      -0.2295        0.1353        0.2295  0.6785\n",
      "    396      -0.1807      -0.1178        0.1807        0.1178  0.8137\n",
      "    397      -0.1426      -0.1175        0.1426        0.1175  0.6712\n",
      "    398      -0.1212      -0.9651        0.1212        0.9651  0.7012\n",
      "    399      -0.2627      -0.1084        0.2627        0.1084  0.7795\n",
      "    400      -0.1148      -0.1046        0.1148        0.1046  0.6714\n",
      "    401      \u001b[36m-0.1026\u001b[0m      -0.1052        \u001b[35m0.1026\u001b[0m        0.1052  0.6770\n",
      "    402      -0.1210      -0.1911        0.1210        0.1911  0.7324\n",
      "    403      -0.1580      -0.1103        0.1580        0.1103  0.6682\n",
      "    404      -0.1040      -0.1368        0.1040        0.1368  0.6795\n",
      "    405      -0.3358      -0.2576        0.3358        0.2576  0.7389\n",
      "    406      -0.2480      -0.2352        0.2480        0.2352  0.6748\n",
      "    407      -0.2431      -0.2125        0.2431        0.2125  0.6713\n",
      "    408      -0.1706      -0.2074        0.1706        0.2074  0.8573\n",
      "    409      -0.1811      -0.2303        0.1811        0.2303  0.7278\n"
     ]
    },
    {
     "name": "stdout",
     "output_type": "stream",
     "text": [
      "    410      -0.1793      -0.1572        0.1793        0.1572  0.6719\n",
      "    411      -0.1552      -0.1774        0.1552        0.1774  0.7374\n",
      "    412      -0.1640      -0.1500        0.1640        0.1500  0.6716\n",
      "    413      -0.1656      -0.1602        0.1656        0.1602  0.6795\n",
      "    414      -0.1563      -0.1517        0.1563        0.1517  0.7617\n",
      "    415      -0.1514      -0.1546        0.1514        0.1546  0.6732\n",
      "    416      -0.1507      -0.1540        0.1507        0.1540  0.7370\n",
      "    417      -0.1273      -0.1439        0.1273        0.1439  0.7307\n",
      "    418      -0.1420      -0.2791        0.1420        0.2791  0.6721\n",
      "    419      -0.1291      -0.1104        0.1291        0.1104  0.7450\n",
      "    420      -0.1202      -0.2021        0.1202        0.2021  0.7382\n",
      "    421      -0.1487      -0.1272        0.1487        0.1272  0.7531\n",
      "    422      -0.1291      -0.1215        0.1291        0.1215  0.8330\n",
      "    423      -0.1420      -0.1507        0.1420        0.1507  0.6743\n",
      "    424      -0.1475      -0.1162        0.1475        0.1162  0.6737\n",
      "    425      -0.1727      -0.1018        0.1727        0.1018  0.7442\n",
      "    426      -0.1049      -0.0996        0.1049        0.0996  0.6752\n",
      "    427      -0.1157      -0.1028        0.1157        0.1028  0.6814\n",
      "    428      -0.1319      -0.2552        0.1319        0.2552  0.7864\n",
      "    429      -0.1408      -0.1202        0.1408        0.1202  0.8117\n",
      "    430      -0.1262      -0.0973        0.1262        0.0973  0.6801\n",
      "    431      -0.1228      -0.1229        0.1228        0.1229  0.7752\n",
      "    432      -0.1057      \u001b[32m-0.0943\u001b[0m        0.1057        \u001b[31m0.0943\u001b[0m  0.7132\n",
      "    433      -0.1048      -0.0974        0.1048        0.0974  0.6863\n",
      "    434      -0.1145      -0.1014        0.1145        0.1014  0.7489\n",
      "    435      -0.1694      -0.1616        0.1694        0.1616  0.7721\n",
      "    436      -0.1365      -0.1165        0.1365        0.1165  0.8189\n",
      "    437      -0.1496      -0.1651        0.1496        0.1651  0.7319\n",
      "    438      -0.1291      -0.1066        0.1291        0.1066  0.8008\n",
      "    439      -0.1354      -0.3174        0.1354        0.3174  0.6870\n",
      "    440      -0.1361      -0.2210        0.1361        0.2210  0.7995\n",
      "    441      -0.1399      -0.0970        0.1399        0.0970  0.7257\n",
      "    442      -0.1121      -0.1486        0.1121        0.1486  0.7131\n",
      "    443      -0.1168      -0.0975        0.1168        0.0975  0.7399\n",
      "    444      -0.1111      -0.2258        0.1111        0.2258  0.7526\n",
      "    445      -0.1560      -0.1687        0.1560        0.1687  0.6805\n",
      "    446      -0.1220      -0.2442        0.1220        0.2442  0.7385\n",
      "    447      -0.1154      -0.1647        0.1154        0.1647  0.6802\n",
      "    448      -0.3709      -0.4037        0.3709        0.4037  0.6777\n",
      "    449      -0.3947      -0.3566        0.3947        0.3566  0.7313\n",
      "    450      -0.3609      -0.3548        0.3609        0.3548  0.6709\n",
      "    451      -0.3139      -0.3536        0.3139        0.3536  0.6942\n",
      "    452      -0.3566      -0.3524        0.3566        0.3524  0.7433\n",
      "    453      -0.3484      -0.3512        0.3484        0.3512  0.6818\n",
      "    454      -0.3736      -0.3504        0.3736        0.3504  0.7119\n",
      "    455      -0.3341      -0.3507        0.3341        0.3507  0.8103\n",
      "    456      -0.3445      -0.3500        0.3445        0.3500  0.6734\n",
      "    457      -0.3528      -0.3615        0.3528        0.3615  0.7014\n",
      "    458      -0.3244      -0.3510        0.3244        0.3510  0.7389\n",
      "    459      -0.3535      -0.3498        0.3535        0.3498  0.6757\n",
      "    460      -0.3239      -0.3495        0.3239        0.3495  0.6770\n",
      "    461      -0.3517      -0.3489        0.3517        0.3489  0.7409\n",
      "    462      -0.3530      -0.3523        0.3530        0.3523  0.6880\n",
      "    463      -0.3303      -0.3491        0.3303        0.3491  0.6927\n",
      "    464      -0.3513      -0.3475        0.3513        0.3475  0.7301\n",
      "    465      -0.3305      -0.3488        0.3305        0.3488  0.7048\n",
      "    466      -0.3290      -0.3471        0.3290        0.3471  0.7181\n",
      "    467      -0.3374      -0.3460        0.3374        0.3460  0.7621\n",
      "    468      -0.3522      -0.3470        0.3522        0.3470  0.6959\n",
      "    469      -0.3347      -0.3457        0.3347        0.3457  0.7023\n",
      "    470      -0.3278      -0.3586        0.3278        0.3586  0.7565\n",
      "    471      -0.3136      -0.3597        0.3136        0.3597  0.7259\n",
      "    472      -0.3518      -0.3496        0.3518        0.3496  0.7156\n",
      "    473      -0.3460      -0.3484        0.3460        0.3484  0.7595\n",
      "    474      -0.3762      -0.3448        0.3762        0.3448  0.7418\n",
      "    475      -0.3446      -0.3446        0.3446        0.3446  0.7513\n",
      "    476      -0.3345      -0.3448        0.3345        0.3448  0.7288\n",
      "    477      -0.3393      -0.3444        0.3393        0.3444  0.7966\n",
      "    478      -0.3314      -0.3440        0.3314        0.3440  0.7736\n",
      "    479      -0.3357      -0.3447        0.3357        0.3447  0.6790\n",
      "    480      -0.3458      -0.3452        0.3458        0.3452  0.6726\n",
      "    481      -0.3091      -0.3438        0.3091        0.3438  0.7429\n",
      "    482      -0.3044      -0.3436        0.3044        0.3436  0.7100\n",
      "    483      -0.3074      -0.3449        0.3074        0.3449  0.7880\n",
      "    484      -0.2952      -0.3449        0.2952        0.3449  0.7432\n",
      "    485      -0.3448      -0.3441        0.3448        0.3441  0.6787\n",
      "    486      -0.3525      -0.3442        0.3525        0.3442  0.6761\n",
      "    487      -0.3364      -0.3485        0.3364        0.3485  0.7539\n",
      "    488      -0.3457      -0.3472        0.3457        0.3472  0.6816\n",
      "    489      -0.3547      -0.3457        0.3547        0.3457  0.6837\n",
      "    490      -0.3391      -0.3450        0.3391        0.3450  0.7299\n",
      "    491      -0.3137      -0.3433        0.3137        0.3433  0.6788\n",
      "    492      -0.3405      -0.3515        0.3405        0.3515  0.6930\n",
      "    493      -0.3552      -0.3432        0.3552        0.3432  0.7402\n",
      "    494      -0.3301      -0.3431        0.3301        0.3431  0.7451\n",
      "    495      -0.3592      -0.3474        0.3592        0.3474  0.6913\n",
      "    496      -0.3338      -0.3615        0.3338        0.3615  0.7320\n",
      "    497      -0.3416      -0.3445        0.3416        0.3445  0.7414\n",
      "    498      -0.3730      -0.3484        0.3730        0.3484  0.6789\n",
      "    499      -0.3160      -0.3416        0.3160        0.3416  0.7304\n",
      "    500      -0.3524      -0.3494        0.3524        0.3494  0.6841\n",
      "    501      -0.3350      -0.3428        0.3350        0.3428  0.7008\n",
      "    502      -0.3428      -0.3425        0.3428        0.3425  0.8036\n",
      "    503      -0.3470      -0.3316        0.3470        0.3316  0.6802\n",
      "    504      -0.2867      -0.3072        0.2867        0.3072  0.6657\n",
      "    505      -0.2950      -0.2462        0.2950        0.2462  0.7237\n",
      "    506      -0.3372      -0.3445        0.3372        0.3445  0.7717\n",
      "    507      -0.3187      -0.3407        0.3187        0.3407  0.6646\n",
      "    508      -0.3456      -0.3401        0.3456        0.3401  0.7396\n",
      "    509      -0.3697      -0.3206        0.3697        0.3206  0.6926\n",
      "    510      -0.3730      -0.2690        0.3730        0.2690  0.6717\n",
      "    511      -0.2303      -0.2432        0.2303        0.2432  0.7337\n",
      "    512      -0.2168      -0.2165        0.2168        0.2165  0.6671\n",
      "    513      -0.2571      -0.3290        0.2571        0.3290  0.7001\n",
      "    514      -0.2538      -0.1864        0.2538        0.1864  0.7664\n",
      "    515      -0.2058      -0.3677        0.2058        0.3677  0.6866\n",
      "    516      -0.3325      -0.3433        0.3325        0.3433  0.6836\n",
      "    517      -0.3405      -0.3412        0.3405        0.3412  0.7501\n",
      "    518      -0.3481      -0.3449        0.3481        0.3449  0.7049\n",
      "    519      -0.3367      -0.3469        0.3367        0.3469  0.6839\n",
      "    520      -0.3193      -0.3431        0.3193        0.3431  0.7474\n",
      "    521      -0.3354      -0.3408        0.3354        0.3408  0.6961\n",
      "    522      -0.3158      -0.3404        0.3158        0.3404  0.7777\n",
      "    523      -0.3193      -0.3404        0.3193        0.3404  0.7574\n",
      "    524      -0.3538      -0.3401        0.3538        0.3401  0.6869\n",
      "    525      -0.3293      -0.3405        0.3293        0.3405  0.6822\n",
      "    526      -0.3584      -0.3409        0.3584        0.3409  0.7335\n"
     ]
    },
    {
     "name": "stdout",
     "output_type": "stream",
     "text": [
      "    527      -0.3743      -0.3374        0.3743        0.3374  0.6940\n",
      "    528      -0.2925      -0.2949        0.2925        0.2949  0.6818\n",
      "    529      -0.2359      -0.2416        0.2359        0.2416  0.7248\n",
      "    530      -0.2127      -0.1478        0.2127        0.1478  0.7341\n",
      "    531      -0.2403      -0.2300        0.2403        0.2300  0.6874\n",
      "    532      -0.1994      -0.1667        0.1994        0.1667  0.8439\n",
      "    533      -0.1881      -0.2543        0.1881        0.2543  0.6789\n",
      "    534      -0.1682      -0.1270        0.1682        0.1270  0.7940\n",
      "    535      -0.1748      -0.3081        0.1748        0.3081  0.6930\n",
      "    536      -0.1804      -0.1315        0.1804        0.1315  0.6737\n",
      "    537      -0.1592      -0.1923        0.1592        0.1923  0.7467\n",
      "    538      -0.1593      -0.1440        0.1593        0.1440  0.7613\n",
      "    539      -0.1663      -0.1252        0.1663        0.1252  0.6744\n",
      "    540      -0.1591      -0.1580        0.1591        0.1580  0.7493\n",
      "    541      -0.1560      -0.1458        0.1560        0.1458  0.6874\n",
      "    542      -0.1333      -0.3035        0.1333        0.3035  0.6730\n",
      "    543      -0.2105      -0.2555        0.2105        0.2555  0.7375\n",
      "    544      -0.4276      -0.3578        0.4276        0.3578  0.7829\n",
      "    545      -0.3269      -0.3429        0.3269        0.3429  0.6798\n",
      "    546      -0.3274      -0.3431        0.3274        0.3431  0.7271\n",
      "    547      -0.3365      -0.3450        0.3365        0.3450  0.6833\n",
      "    548      -0.3045      -0.3425        0.3045        0.3425  0.6823\n",
      "    549      -0.3354      -0.3428        0.3354        0.3428  0.7680\n",
      "    550      -0.3473      -0.3430        0.3473        0.3430  0.6726\n",
      "    551      -0.3507      -0.3486        0.3507        0.3486  0.7382\n",
      "    552      -0.3584      -0.3438        0.3584        0.3438  0.7473\n",
      "    553      -0.3456      -0.3446        0.3456        0.3446  0.6817\n",
      "    554      -0.3312      -0.3436        0.3312        0.3436  0.6784\n",
      "    555      -0.3475      -0.3417        0.3475        0.3417  0.7709\n",
      "    556      -0.3259      -0.3426        0.3259        0.3426  0.6879\n",
      "    557      -0.3243      -0.3437        0.3243        0.3437  0.6830\n",
      "    558      -0.3250      -0.3427        0.3250        0.3427  0.7319\n",
      "    559      -0.3079      -0.3447        0.3079        0.3447  0.6850\n",
      "    560      -0.3528      -0.3462        0.3528        0.3462  0.6769\n",
      "    561      -0.3512      -0.3459        0.3512        0.3459  0.7325\n",
      "    562      -0.3166      -0.3450        0.3166        0.3450  0.6764\n",
      "    563      -0.3037      -0.3401        0.3037        0.3401  0.7037\n",
      "    564      -0.3544      -0.3389        0.3544        0.3389  0.7306\n",
      "    565      -0.3108      -0.3404        0.3108        0.3404  0.6711\n",
      "    566      -0.3345      -0.3368        0.3345        0.3368  0.6804\n",
      "    567      -0.3055      -0.3432        0.3055        0.3432  0.7254\n",
      "    568      -0.3342      -0.3180        0.3342        0.3180  0.6775\n",
      "    569      -0.2819      -0.2634        0.2819        0.2634  0.6945\n",
      "    570      -0.2516      -0.2186        0.2516        0.2186  0.7588\n",
      "    571      -0.2995      -0.3321        0.2995        0.3321  0.6877\n",
      "    572      -0.1860      -0.1258        0.1860        0.1258  0.7922\n",
      "    573      -0.1366      -0.1627        0.1366        0.1627  0.7390\n",
      "    574      -0.1799      -0.2301        0.1799        0.2301  0.7543\n",
      "    575      -0.2814      -0.1662        0.2814        0.1662  0.6835\n",
      "    576      -0.1422      -0.2060        0.1422        0.2060  0.8420\n",
      "    577      -0.1779      -0.1356        0.1779        0.1356  0.6638\n",
      "    578      -0.2887      -0.2365        0.2887        0.2365  0.6883\n",
      "    579      -0.2238      -0.2439        0.2238        0.2439  0.8078\n",
      "    580      -0.1657      -0.1223        0.1657        0.1223  0.6936\n",
      "    581      -0.1412      -0.1187        0.1412        0.1187  0.7160\n",
      "    582      -0.1233      -0.1369        0.1233        0.1369  0.7426\n",
      "    583      -0.1309      -0.1301        0.1309        0.1301  0.6864\n",
      "    584      -0.1157      -0.1932        0.1157        0.1932  0.7081\n",
      "    585      -0.1318      -0.1251        0.1318        0.1251  0.7413\n",
      "    586      -0.1368      -0.1062        0.1368        0.1062  0.7347\n",
      "    587      -0.1328      -0.1372        0.1328        0.1372  0.7131\n",
      "    588      -0.1245      -0.1097        0.1245        0.1097  0.7638\n",
      "    589      -0.1359      -0.2364        0.1359        0.2364  0.8397\n",
      "    590      -0.1399      -0.1251        0.1399        0.1251  0.7010\n",
      "    591      -0.1561      -0.1900        0.1561        0.1900  0.7280\n",
      "    592      -0.1655      -0.1213        0.1655        0.1213  0.6721\n",
      "    593      -0.1205      -0.1073        0.1205        0.1073  0.7449\n",
      "    594      -0.1339      -0.1176        0.1339        0.1176  0.6863\n",
      "    595      -0.1211      -0.1381        0.1211        0.1381  0.7529\n",
      "    596      -0.1263      -0.1419        0.1263        0.1419  0.7556\n",
      "    597      -0.1474      -0.1112        0.1474        0.1112  0.6713\n",
      "    598      -0.1089      -0.1231        0.1089        0.1231  0.6732\n",
      "    599      -0.1233      -0.1132        0.1233        0.1132  0.7310\n",
      "    600      -0.1207      -0.1118        0.1207        0.1118  0.6721\n"
     ]
    },
    {
     "data": {
      "text/plain": [
       "<class '__main__.Trainer'>[initialized](\n",
       "  module_=ReconModel(\n",
       "    (rnn0): GaussClocking(\n",
       "      (i2h): Linear(in_features=2, out_features=20, bias=True)\n",
       "      (h2h): Linear(in_features=20, out_features=20, bias=False)\n",
       "      (act): ReLU()\n",
       "    )\n",
       "    (clf): Linear(in_features=20, out_features=1, bias=True)\n",
       "  ),\n",
       ")"
      ]
     },
     "execution_count": 222,
     "metadata": {},
     "output_type": "execute_result"
    }
   ],
   "source": [
    "# Gauss, non_linear\n",
    "%pdb on\n",
    "ef.fit(dataset_train)"
   ]
  },
  {
   "cell_type": "code",
   "execution_count": 214,
   "metadata": {
    "scrolled": false
   },
   "outputs": [
    {
     "name": "stdout",
     "output_type": "stream",
     "text": [
      "Automatic pdb calling has been turned ON\n",
      "  epoch    mae_train    mae_valid    train_loss    valid_loss     dur\n",
      "-------  -----------  -----------  ------------  ------------  ------\n",
      "      1      \u001b[36m-0.4253\u001b[0m      \u001b[32m-0.3490\u001b[0m        \u001b[35m0.4253\u001b[0m        \u001b[31m0.3490\u001b[0m  0.6617\n",
      "      2      \u001b[36m-0.3282\u001b[0m      \u001b[32m-0.3467\u001b[0m        \u001b[35m0.3282\u001b[0m        \u001b[31m0.3467\u001b[0m  0.7477\n",
      "      3      -0.3626      -0.3780        0.3626        0.3780  0.6684\n",
      "      4      -0.3342      \u001b[32m-0.3463\u001b[0m        0.3342        \u001b[31m0.3463\u001b[0m  0.6761\n",
      "      5      \u001b[36m-0.3151\u001b[0m      \u001b[32m-0.3418\u001b[0m        \u001b[35m0.3151\u001b[0m        \u001b[31m0.3418\u001b[0m  0.7149\n",
      "      6      -0.3273      -0.3527        0.3273        0.3527  0.6505\n",
      "      7      -0.3344      -0.3436        0.3344        0.3436  0.6388\n",
      "      8      -0.3462      -0.3476        0.3462        0.3476  0.6379\n",
      "      9      -0.3562      -0.3476        0.3562        0.3476  0.6660\n",
      "     10      -0.3518      -0.3528        0.3518        0.3528  0.6914\n",
      "     11      -0.3168      -0.3444        0.3168        0.3444  0.6411\n",
      "     12      -0.3290      \u001b[32m-0.3409\u001b[0m        0.3290        \u001b[31m0.3409\u001b[0m  0.6620\n",
      "     13      -0.3534      -0.3576        0.3534        0.3576  0.6790\n",
      "     14      -0.3293      -0.3437        0.3293        0.3437  0.6383\n",
      "     15      -0.3403      \u001b[32m-0.3406\u001b[0m        0.3403        \u001b[31m0.3406\u001b[0m  0.6297\n",
      "     16      -0.3431      -0.3504        0.3431        0.3504  0.6519\n",
      "     17      -0.3437      \u001b[32m-0.3405\u001b[0m        0.3437        \u001b[31m0.3405\u001b[0m  0.6523\n",
      "     18      -0.3414      -0.3488        0.3414        0.3488  0.6593\n",
      "     19      \u001b[36m-0.3055\u001b[0m      -0.3494        \u001b[35m0.3055\u001b[0m        0.3494  0.7056\n",
      "     20      -0.3288      -0.3419        0.3288        0.3419  0.6317\n",
      "     21      -0.3164      -0.3407        0.3164        0.3407  0.6388\n",
      "     22      -0.3445      -0.3824        0.3445        0.3824  0.7116\n",
      "     23      -0.3353      -0.3411        0.3353        0.3411  0.6501\n",
      "     24      -0.3379      -0.3405        0.3379        0.3405  0.6485\n",
      "     25      -0.3501      -0.3405        0.3501        0.3405  0.6551\n",
      "     26      -0.3270      -0.3420        0.3270        0.3420  0.6456\n",
      "     27      -0.3404      \u001b[32m-0.3400\u001b[0m        0.3404        \u001b[31m0.3400\u001b[0m  0.6405\n",
      "     28      -0.3785      -0.3441        0.3785        0.3441  0.6624\n",
      "     29      -0.3207      -0.3420        0.3207        0.3420  0.7059\n",
      "     30      -0.3354      -0.3423        0.3354        0.3423  0.6408\n",
      "     31      -0.3324      -0.3419        0.3324        0.3419  0.6464\n",
      "     32      -0.3521      -0.3480        0.3521        0.3480  0.6388\n",
      "     33      -0.3459      -0.3451        0.3459        0.3451  0.6441\n",
      "     34      -0.3690      -0.3430        0.3690        0.3430  0.6383\n",
      "     35      -0.3313      -0.3416        0.3313        0.3416  0.6504\n",
      "     36      -0.3272      -0.3416        0.3272        0.3416  0.6488\n",
      "     37      -0.3723      -0.3422        0.3723        0.3422  0.6536\n",
      "     38      -0.3452      -0.3475        0.3452        0.3475  0.7075\n",
      "     39      \u001b[36m-0.3052\u001b[0m      -0.3509        \u001b[35m0.3052\u001b[0m        0.3509  0.6388\n",
      "     40      -0.3451      -0.3524        0.3451        0.3524  0.6440\n",
      "     41      -0.3476      -0.3425        0.3476        0.3425  0.6428\n",
      "     42      -0.3502      -0.3424        0.3502        0.3424  0.6415\n",
      "     43      -0.3537      -0.3466        0.3537        0.3466  0.6515\n",
      "     44      -0.3068      -0.3432        0.3068        0.3432  0.6481\n",
      "     45      -0.3229      -0.3425        0.3229        0.3425  0.6310\n",
      "     46      -0.3092      -0.3439        0.3092        0.3439  0.6457\n",
      "     47      -0.3094      -0.3432        0.3094        0.3432  0.6802\n",
      "     48      -0.3502      -0.3441        0.3502        0.3441  0.6286\n",
      "     49      -0.3204      -0.3425        0.3204        0.3425  0.6485\n",
      "     50      -0.3230      -0.3485        0.3230        0.3485  0.6428\n",
      "     51      -0.3580      -0.3422        0.3580        0.3422  0.6462\n",
      "     52      -0.3226      -0.3563        0.3226        0.3563  0.6455\n",
      "     53      -0.3359      -0.3423        0.3359        0.3423  0.6634\n",
      "     54      -0.3370      -0.3420        0.3370        0.3420  0.6252\n",
      "     55      -0.3514      -0.3510        0.3514        0.3510  0.6505\n",
      "     56      -0.3094      -0.3423        0.3094        0.3423  0.6515\n",
      "     57      -0.3300      -0.3414        0.3300        0.3414  0.7021\n",
      "     58      -0.3501      -0.3418        0.3501        0.3418  0.6517\n",
      "     59      -0.3188      -0.3485        0.3188        0.3485  0.6432\n",
      "     60      -0.3462      -0.3418        0.3462        0.3418  0.6342\n",
      "     61      -0.3353      -0.3431        0.3353        0.3431  0.6591\n",
      "     62      -0.3309      -0.3478        0.3309        0.3478  0.6352\n",
      "     63      -0.3363      -0.3419        0.3363        0.3419  0.6480\n",
      "     64      -0.3157      -0.3418        0.3157        0.3418  0.6448\n",
      "     65      -0.3493      -0.3477        0.3493        0.3477  0.6535\n",
      "     66      -0.3314      -0.3489        0.3314        0.3489  0.6881\n",
      "     67      -0.3242      -0.3422        0.3242        0.3422  0.6710\n",
      "     68      -0.3139      -0.3456        0.3139        0.3456  0.6457\n",
      "     69      -0.3344      -0.3442        0.3344        0.3442  0.6593\n",
      "     70      -0.3285      -0.3444        0.3285        0.3444  0.6580\n",
      "     71      -0.3399      -0.3551        0.3399        0.3551  0.6555\n",
      "     72      -0.3405      -0.3473        0.3405        0.3473  0.6530\n",
      "     73      -0.3356      -0.3556        0.3356        0.3556  0.6513\n",
      "     74      -0.3064      -0.3425        0.3064        0.3425  0.6515\n",
      "     75      -0.3207      -0.3448        0.3207        0.3448  0.6674\n",
      "     76      -0.3433      -0.3428        0.3433        0.3428  0.6978\n",
      "     77      -0.3177      -0.3452        0.3177        0.3452  0.6655\n",
      "     78      -0.3391      -0.3420        0.3391        0.3420  0.6585\n",
      "     79      -0.3086      -0.3583        0.3086        0.3583  0.6496\n",
      "     80      -0.3325      -0.3411        0.3325        0.3411  0.6490\n",
      "     81      -0.3194      -0.3444        0.3194        0.3444  0.6613\n",
      "     82      -0.3559      -0.3418        0.3559        0.3418  0.6423\n",
      "     83      -0.3474      -0.3416        0.3474        0.3416  0.6508\n",
      "     84      -0.3378      -0.3406        0.3378        0.3406  0.6615\n",
      "     85      -0.3411      -0.3420        0.3411        0.3420  0.6951\n",
      "     86      -0.3137      -0.3421        0.3137        0.3421  0.6472\n",
      "     87      -0.3569      -0.3420        0.3569        0.3420  0.6571\n",
      "     88      -0.3456      \u001b[32m-0.3399\u001b[0m        0.3456        \u001b[31m0.3399\u001b[0m  0.6497\n",
      "     89      -0.3273      \u001b[32m-0.3395\u001b[0m        0.3273        \u001b[31m0.3395\u001b[0m  0.6402\n",
      "     90      -0.3406      -0.3413        0.3406        0.3413  0.6551\n",
      "     91      -0.3166      -0.3435        0.3166        0.3435  0.6586\n",
      "     92      -0.3131      -0.3406        0.3131        0.3406  0.6477\n",
      "     93      -0.3339      -0.3410        0.3339        0.3410  0.6438\n",
      "     94      -0.3343      -0.3434        0.3343        0.3434  0.6771\n",
      "     95      \u001b[36m-0.2830\u001b[0m      -0.3410        \u001b[35m0.2830\u001b[0m        0.3410  0.6454\n",
      "     96      -0.3283      \u001b[32m-0.3391\u001b[0m        0.3283        \u001b[31m0.3391\u001b[0m  0.6519\n",
      "     97      -0.3380      -0.3397        0.3380        0.3397  0.6601\n",
      "     98      -0.3159      -0.3408        0.3159        0.3408  0.6427\n",
      "     99      -0.3282      \u001b[32m-0.3368\u001b[0m        0.3282        \u001b[31m0.3368\u001b[0m  0.6469\n",
      "    100      -0.3197      -0.3378        0.3197        0.3378  0.6465\n",
      "    101      -0.3199      \u001b[32m-0.3368\u001b[0m        0.3199        \u001b[31m0.3368\u001b[0m  0.6511\n",
      "    102      -0.3214      -0.3391        0.3214        0.3391  0.6435\n",
      "    103      -0.3146      \u001b[32m-0.3339\u001b[0m        0.3146        \u001b[31m0.3339\u001b[0m  0.6792\n",
      "    104      -0.3412      -0.3344        0.3412        0.3344  0.6987\n",
      "    105      -0.3067      -0.3339        0.3067        0.3339  0.6297\n",
      "    106      -0.3246      -0.3344        0.3246        0.3344  0.6492\n",
      "    107      -0.3502      \u001b[32m-0.3328\u001b[0m        0.3502        \u001b[31m0.3328\u001b[0m  0.6683\n",
      "    108      -0.3109      -0.3447        0.3109        0.3447  0.6398\n",
      "    109      -0.3309      \u001b[32m-0.3292\u001b[0m        0.3309        \u001b[31m0.3292\u001b[0m  0.6619\n"
     ]
    },
    {
     "name": "stdout",
     "output_type": "stream",
     "text": [
      "    110      -0.3374      -0.3408        0.3374        0.3408  0.6501\n",
      "    111      -0.2834      \u001b[32m-0.3255\u001b[0m        0.2834        \u001b[31m0.3255\u001b[0m  0.6522\n",
      "    112      -0.3048      \u001b[32m-0.3232\u001b[0m        0.3048        \u001b[31m0.3232\u001b[0m  0.6452\n",
      "    113      -0.3287      -0.3423        0.3287        0.3423  0.7055\n",
      "    114      -0.3070      \u001b[32m-0.3175\u001b[0m        0.3070        \u001b[31m0.3175\u001b[0m  0.6446\n",
      "    115      -0.3116      \u001b[32m-0.3110\u001b[0m        0.3116        \u001b[31m0.3110\u001b[0m  0.6542\n",
      "    116      -0.3077      -0.3174        0.3077        0.3174  0.6379\n",
      "    117      \u001b[36m-0.2667\u001b[0m      \u001b[32m-0.2557\u001b[0m        \u001b[35m0.2667\u001b[0m        \u001b[31m0.2557\u001b[0m  0.6678\n",
      "    118      -0.2945      -0.2683        0.2945        0.2683  0.6559\n",
      "    119      -0.2800      \u001b[32m-0.2511\u001b[0m        0.2800        \u001b[31m0.2511\u001b[0m  0.6454\n",
      "    120      -0.2742      -0.2843        0.2742        0.2843  0.6611\n",
      "    121      \u001b[36m-0.2229\u001b[0m      -0.3733        \u001b[35m0.2229\u001b[0m        0.3733  0.6666\n",
      "    122      -0.2371      \u001b[32m-0.1982\u001b[0m        0.2371        \u001b[31m0.1982\u001b[0m  0.6554\n",
      "    123      \u001b[36m-0.1799\u001b[0m      -0.2043        \u001b[35m0.1799\u001b[0m        0.2043  0.6821\n",
      "    124      -0.1963      \u001b[32m-0.1419\u001b[0m        0.1963        \u001b[31m0.1419\u001b[0m  0.6520\n",
      "    125      \u001b[36m-0.1666\u001b[0m      -0.2602        \u001b[35m0.1666\u001b[0m        0.2602  0.6493\n",
      "    126      -0.1700      \u001b[32m-0.1138\u001b[0m        0.1700        \u001b[31m0.1138\u001b[0m  0.6525\n",
      "    127      \u001b[36m-0.1653\u001b[0m      -0.1217        \u001b[35m0.1653\u001b[0m        0.1217  0.6314\n",
      "    128      \u001b[36m-0.1572\u001b[0m      \u001b[32m-0.1073\u001b[0m        \u001b[35m0.1572\u001b[0m        \u001b[31m0.1073\u001b[0m  0.6458\n",
      "    129      \u001b[36m-0.1428\u001b[0m      -0.1088        \u001b[35m0.1428\u001b[0m        0.1088  0.6365\n",
      "    130      -0.1592      \u001b[32m-0.1068\u001b[0m        0.1592        \u001b[31m0.1068\u001b[0m  0.6406\n",
      "    131      \u001b[36m-0.1302\u001b[0m      -0.1891        \u001b[35m0.1302\u001b[0m        0.1891  0.6396\n",
      "    132      -0.1373      \u001b[32m-0.0895\u001b[0m        0.1373        \u001b[31m0.0895\u001b[0m  0.6915\n",
      "    133      -0.1396      -0.1201        0.1396        0.1201  0.6396\n",
      "    134      -0.1365      -0.0958        0.1365        0.0958  0.6406\n",
      "    135      -0.1367      -0.1271        0.1367        0.1271  0.6464\n",
      "    136      -0.1306      -0.1171        0.1306        0.1171  0.6435\n",
      "    137      \u001b[36m-0.1196\u001b[0m      -0.2268        \u001b[35m0.1196\u001b[0m        0.2268  0.6399\n",
      "    138      -0.1279      -0.1998        0.1279        0.1998  0.6454\n",
      "    139      -0.1283      \u001b[32m-0.0856\u001b[0m        0.1283        \u001b[31m0.0856\u001b[0m  0.6338\n",
      "    140      -0.1275      -0.1029        0.1275        0.1029  0.6343\n",
      "    141      \u001b[36m-0.1102\u001b[0m      -0.0910        \u001b[35m0.1102\u001b[0m        0.0910  0.6326\n",
      "    142      -0.1123      -0.1129        0.1123        0.1129  0.7029\n",
      "    143      \u001b[36m-0.1003\u001b[0m      -0.1671        \u001b[35m0.1003\u001b[0m        0.1671  0.6509\n",
      "    144      -0.1155      -0.0879        0.1155        0.0879  0.6404\n",
      "    145      -0.1129      \u001b[32m-0.0739\u001b[0m        0.1129        \u001b[31m0.0739\u001b[0m  0.6449\n",
      "    146      \u001b[36m-0.0995\u001b[0m      -0.1088        \u001b[35m0.0995\u001b[0m        0.1088  0.6490\n",
      "    147      -0.1028      -0.1159        0.1028        0.1159  0.6470\n",
      "    148      \u001b[36m-0.0967\u001b[0m      \u001b[32m-0.0737\u001b[0m        \u001b[35m0.0967\u001b[0m        \u001b[31m0.0737\u001b[0m  0.6714\n",
      "    149      \u001b[36m-0.0967\u001b[0m      -0.0816        \u001b[35m0.0967\u001b[0m        0.0816  0.6459\n",
      "    150      -0.0974      -0.1133        0.0974        0.1133  0.6680\n",
      "    151      -0.1027      -0.0970        0.1027        0.0970  0.8061\n",
      "    152      \u001b[36m-0.0744\u001b[0m      -0.0948        \u001b[35m0.0744\u001b[0m        0.0948  0.7380\n",
      "    153      -0.0923      -0.0764        0.0923        0.0764  0.7668\n",
      "    154      -0.0954      -0.1804        0.0954        0.1804  0.6809\n",
      "    155      -0.1034      -0.1094        0.1034        0.1094  0.6819\n",
      "    156      -0.1032      -0.0975        0.1032        0.0975  0.6474\n",
      "    157      -0.0876      -0.1044        0.0876        0.1044  0.6807\n",
      "    158      -0.0763      \u001b[32m-0.0694\u001b[0m        0.0763        \u001b[31m0.0694\u001b[0m  0.6911\n",
      "    159      -0.0890      -0.1014        0.0890        0.1014  0.6779\n",
      "    160      -0.0880      \u001b[32m-0.0648\u001b[0m        0.0880        \u001b[31m0.0648\u001b[0m  0.7512\n",
      "    161      -0.0820      -0.0679        0.0820        0.0679  0.6468\n"
     ]
    },
    {
     "data": {
      "text/plain": [
       "<class '__main__.Trainer'>[initialized](\n",
       "  module_=ReconModel(\n",
       "    (rnn0): GRU(2, 20, batch_first=True)\n",
       "    (clf): Linear(in_features=20, out_features=1, bias=True)\n",
       "  ),\n",
       ")"
      ]
     },
     "execution_count": 214,
     "metadata": {},
     "output_type": "execute_result"
    }
   ],
   "source": [
    "# GRU\n",
    "%pdb on\n",
    "ef.fit(dataset_train)"
   ]
  },
  {
   "cell_type": "code",
   "execution_count": null,
   "metadata": {},
   "outputs": [],
   "source": []
  },
  {
   "cell_type": "code",
   "execution_count": 193,
   "metadata": {},
   "outputs": [
    {
     "data": {
      "text/plain": [
       "(1, 10, 2)"
      ]
     },
     "execution_count": 193,
     "metadata": {},
     "output_type": "execute_result"
    }
   ],
   "source": [
    "X_probe = np.zeros((1, T, 2), dtype='float32')\n",
    "X_probe[0, 0] = np.array([0.3, 1])\n",
    "X_probe[0, 1] = np.array([0.6, 1])\n",
    "X_probe.shape"
   ]
  },
  {
   "cell_type": "code",
   "execution_count": 194,
   "metadata": {},
   "outputs": [
    {
     "data": {
      "text/plain": [
       "array([[0.847345]], dtype=float32)"
      ]
     },
     "execution_count": 194,
     "metadata": {},
     "output_type": "execute_result"
    }
   ],
   "source": [
    "ef.predict(X_probe)"
   ]
  },
  {
   "cell_type": "code",
   "execution_count": 171,
   "metadata": {},
   "outputs": [
    {
     "name": "stdout",
     "output_type": "stream",
     "text": [
      "rnn 0\n",
      "  m: 0.1138, s: 0.0260\n",
      "  m: 0.3739, s: 0.0480\n",
      "  m: 0.5604, s: 0.0702\n",
      "  m: 0.5399, s: 0.0810\n",
      "  m: 1.4470, s: -0.1204\n",
      "  m: 0.3176, s: 0.0442\n",
      "  m: 0.3968, s: 0.0393\n",
      "  m: 0.0025, s: 0.0294\n",
      "  m: 0.6024, s: -0.0849\n",
      "  m: 1.2013, s: 0.1277\n",
      "  m: 0.2593, s: 0.0795\n",
      "  m: 0.4841, s: -0.0354\n",
      "  m: -0.0340, s: -0.0261\n",
      "  m: 0.6357, s: -0.0111\n",
      "  m: 0.6308, s: -0.1003\n",
      "  m: 0.2472, s: 0.0864\n",
      "  m: 0.1376, s: 0.0505\n",
      "  m: -0.1138, s: -0.0340\n",
      "  m: 0.9470, s: 0.0105\n",
      "  m: -0.1631, s: 0.2256\n"
     ]
    }
   ],
   "source": [
    "for i, rnn in enumerate(ef.module_.rnn):\n",
    "    print('rnn', i)\n",
    "    for m, s in zip(rnn.m.data.tolist(), rnn.s.data.tolist()):\n",
    "        print('  m: {:.4f}, s: {:.4f}'.format(m ,s))"
   ]
  },
  {
   "cell_type": "code",
   "execution_count": 136,
   "metadata": {},
   "outputs": [
    {
     "data": {
      "text/plain": [
       "[<matplotlib.lines.Line2D at 0x7ff658875e80>]"
      ]
     },
     "execution_count": 136,
     "metadata": {},
     "output_type": "execute_result"
    },
    {
     "data": {
      "image/png": "[encoded data removed]",
      "text/plain": [
       "<matplotlib.figure.Figure at 0x7ff65ab25240>"
      ]
     },
     "metadata": {},
     "output_type": "display_data"
    }
   ],
   "source": [
    "plt.plot(ef.history[:, 'train_loss'])\n",
    "plt.plot(ef.history[:, 'valid_loss'])"
   ]
  },
  {
   "cell_type": "code",
   "execution_count": null,
   "metadata": {},
   "outputs": [],
   "source": []
  },
  {
   "cell_type": "code",
   "execution_count": 63,
   "metadata": {},
   "outputs": [],
   "source": [
    "y_pred = ef.predict(X_valid)"
   ]
  },
  {
   "cell_type": "code",
   "execution_count": 64,
   "metadata": {},
   "outputs": [
    {
     "data": {
      "text/plain": [
       "array([[0.9876674 , 0.79547286],\n",
       "       [0.98229325, 0.86716914],\n",
       "       [0.99294883, 1.3911202 ],\n",
       "       [0.9673866 , 1.013701  ],\n",
       "       [0.99367166, 1.2785041 ],\n",
       "       [0.9781004 , 0.4738682 ],\n",
       "       [0.990951  , 1.0192541 ],\n",
       "       [0.97966665, 0.55572844],\n",
       "       [0.9811132 , 0.07480419],\n",
       "       [0.99448556, 0.81719744],\n",
       "       [0.9859924 , 1.3142273 ],\n",
       "       [1.0072799 , 1.2416127 ],\n",
       "       [0.99598587, 0.9548758 ],\n",
       "       [0.99832904, 1.3978832 ],\n",
       "       [0.9870022 , 1.286351  ],\n",
       "       [1.001987  , 1.0775819 ],\n",
       "       [0.9930081 , 1.4283104 ],\n",
       "       [1.0375501 , 1.316508  ],\n",
       "       [0.98491067, 1.1983273 ],\n",
       "       [0.9632859 , 0.99123746],\n",
       "       [0.970148  , 0.5903023 ],\n",
       "       [0.9689887 , 0.8988619 ],\n",
       "       [1.0120324 , 0.4991784 ],\n",
       "       [0.95936096, 0.7794294 ],\n",
       "       [0.9534509 , 0.49408162],\n",
       "       [0.96946555, 0.9017135 ],\n",
       "       [0.99547845, 1.3560486 ],\n",
       "       [0.9759818 , 0.948851  ],\n",
       "       [0.9745891 , 1.0772424 ],\n",
       "       [0.99156874, 1.1870928 ],\n",
       "       [0.97954905, 1.468917  ],\n",
       "       [0.9693492 , 1.7583296 ],\n",
       "       [0.99519396, 0.8924347 ],\n",
       "       [0.9760124 , 0.9484695 ],\n",
       "       [0.98254234, 1.0076709 ],\n",
       "       [0.998173  , 0.58808243],\n",
       "       [0.9716599 , 1.1658416 ],\n",
       "       [0.9899099 , 1.4653516 ],\n",
       "       [1.0311723 , 1.3816142 ],\n",
       "       [0.9842909 , 0.19599235],\n",
       "       [1.0094002 , 1.506242  ],\n",
       "       [0.9687518 , 1.5643858 ],\n",
       "       [0.97462535, 1.4587626 ],\n",
       "       [0.9944754 , 0.8679198 ],\n",
       "       [0.9541867 , 1.395334  ],\n",
       "       [0.99389535, 0.56595457],\n",
       "       [0.9993899 , 0.70969856],\n",
       "       [1.0059011 , 1.5138958 ],\n",
       "       [0.9731351 , 0.5419658 ],\n",
       "       [1.010829  , 1.5930195 ],\n",
       "       [0.970551  , 0.20257862],\n",
       "       [1.0004807 , 0.61449444],\n",
       "       [0.9717151 , 1.1515541 ],\n",
       "       [0.97434586, 0.36424696],\n",
       "       [0.9785943 , 0.6422086 ],\n",
       "       [0.9858992 , 0.75923353],\n",
       "       [1.0001525 , 0.5690534 ],\n",
       "       [0.98443687, 0.8679544 ],\n",
       "       [0.9956176 , 1.5435799 ],\n",
       "       [1.0066462 , 0.9614382 ],\n",
       "       [0.9945327 , 1.2128527 ],\n",
       "       [0.97684926, 1.1068833 ],\n",
       "       [0.99062556, 0.45201746],\n",
       "       [0.9973801 , 0.11350331],\n",
       "       [0.9690796 , 1.7844719 ],\n",
       "       [0.93966293, 1.6533387 ],\n",
       "       [0.9904574 , 0.6885029 ],\n",
       "       [1.0146419 , 0.29749763],\n",
       "       [0.99074686, 0.38013694],\n",
       "       [0.96126664, 1.4290423 ],\n",
       "       [1.028597  , 0.8503935 ],\n",
       "       [0.95817125, 0.63744   ],\n",
       "       [0.998338  , 0.18638238],\n",
       "       [1.0029099 , 1.2240881 ],\n",
       "       [0.9774682 , 1.1780668 ],\n",
       "       [0.96252453, 0.6217678 ],\n",
       "       [1.0028707 , 0.6586682 ],\n",
       "       [0.9919801 , 0.6248646 ],\n",
       "       [0.9619328 , 0.37276477],\n",
       "       [1.0034467 , 1.1590819 ],\n",
       "       [0.919978  , 0.62707007],\n",
       "       [0.98253953, 0.53515005],\n",
       "       [0.9872524 , 1.6570437 ],\n",
       "       [0.9775157 , 0.18013452],\n",
       "       [0.9913324 , 1.9380357 ],\n",
       "       [1.0132272 , 1.4368446 ],\n",
       "       [0.9596205 , 0.6286492 ],\n",
       "       [0.9891123 , 1.6519549 ],\n",
       "       [0.99116766, 0.8910899 ],\n",
       "       [1.0043328 , 0.7714987 ],\n",
       "       [0.9741749 , 0.9609388 ],\n",
       "       [1.0041962 , 0.54033333],\n",
       "       [0.9557874 , 1.1777318 ],\n",
       "       [0.9855876 , 1.0149736 ],\n",
       "       [0.9865607 , 1.7354194 ],\n",
       "       [0.9891331 , 1.196744  ],\n",
       "       [0.9965305 , 1.2901297 ],\n",
       "       [0.99198234, 1.2223102 ],\n",
       "       [0.99447834, 0.96189463],\n",
       "       [0.99396205, 0.8280445 ],\n",
       "       [0.9777415 , 1.5135449 ],\n",
       "       [0.94219416, 0.22994545],\n",
       "       [0.9935193 , 1.365489  ],\n",
       "       [0.9878286 , 1.5184222 ],\n",
       "       [0.97822833, 0.9319626 ],\n",
       "       [0.97752154, 0.7698113 ],\n",
       "       [0.97605264, 1.1252787 ],\n",
       "       [0.9550531 , 0.7418228 ],\n",
       "       [1.0093943 , 0.9807721 ],\n",
       "       [1.005463  , 0.43243673],\n",
       "       [0.9813645 , 0.84381473],\n",
       "       [0.9495777 , 1.2151582 ],\n",
       "       [0.9857394 , 1.4490182 ],\n",
       "       [0.9945518 , 0.50676644],\n",
       "       [0.9888671 , 0.5254067 ],\n",
       "       [0.97656995, 1.7876279 ],\n",
       "       [0.94996226, 0.94597554],\n",
       "       [1.0096308 , 0.5376929 ],\n",
       "       [0.96559227, 0.41269735],\n",
       "       [0.97898805, 0.72554237],\n",
       "       [0.9709579 , 0.6051084 ],\n",
       "       [0.9415179 , 0.64537513],\n",
       "       [0.9751721 , 0.46053758],\n",
       "       [0.9606095 , 0.46908283],\n",
       "       [0.97145486, 1.0219818 ],\n",
       "       [0.99737954, 1.1606342 ],\n",
       "       [0.95215833, 1.4696078 ],\n",
       "       [0.97068954, 0.8448242 ],\n",
       "       [1.0143355 , 0.71644723],\n",
       "       [1.0126911 , 1.8580072 ],\n",
       "       [0.98951125, 1.316858  ],\n",
       "       [0.98087376, 1.3854342 ],\n",
       "       [0.97356325, 0.5845735 ],\n",
       "       [0.9760895 , 0.6734301 ],\n",
       "       [1.0126753 , 0.75521564],\n",
       "       [0.96680504, 0.9531851 ],\n",
       "       [0.9986026 , 1.2559478 ],\n",
       "       [0.9759822 , 1.4623464 ],\n",
       "       [1.0133077 , 1.5070686 ],\n",
       "       [0.9731562 , 0.6713489 ],\n",
       "       [0.99508905, 0.7602675 ],\n",
       "       [0.99034494, 1.6895254 ],\n",
       "       [0.96865845, 1.5028176 ],\n",
       "       [0.97601074, 0.64720273],\n",
       "       [1.0166445 , 1.3992922 ],\n",
       "       [1.0083994 , 0.9133607 ],\n",
       "       [0.9799457 , 1.1044596 ],\n",
       "       [0.9950699 , 1.5740843 ],\n",
       "       [0.9602467 , 0.68083066],\n",
       "       [0.9730773 , 1.0638282 ],\n",
       "       [0.9749584 , 1.1586754 ],\n",
       "       [0.96367925, 0.58376026],\n",
       "       [0.98243713, 0.9784936 ],\n",
       "       [0.97250247, 1.4800069 ],\n",
       "       [0.99078536, 1.6367683 ],\n",
       "       [0.9903431 , 1.0739052 ],\n",
       "       [0.9489802 , 1.0568117 ],\n",
       "       [1.0097218 , 0.86100113],\n",
       "       [0.9502621 , 0.90703964],\n",
       "       [0.9782882 , 1.122735  ],\n",
       "       [0.9609773 , 1.2825105 ],\n",
       "       [0.9766927 , 0.25274876],\n",
       "       [0.94504917, 0.58766425],\n",
       "       [0.9829757 , 0.9408569 ],\n",
       "       [0.97518   , 0.5126866 ],\n",
       "       [0.9516083 , 1.069047  ],\n",
       "       [1.0106729 , 0.02229458],\n",
       "       [0.9765352 , 1.4802188 ],\n",
       "       [0.9901787 , 0.46031156],\n",
       "       [0.9877018 , 0.9591191 ],\n",
       "       [1.0112146 , 0.53311825],\n",
       "       [0.9573919 , 0.72233045],\n",
       "       [0.9790511 , 0.73395157],\n",
       "       [0.98251987, 0.7756674 ],\n",
       "       [0.98006624, 0.3776151 ],\n",
       "       [0.9782129 , 0.99380344],\n",
       "       [0.9651167 , 1.0503063 ],\n",
       "       [0.9659417 , 0.97905934],\n",
       "       [1.0099107 , 1.3109639 ],\n",
       "       [0.9864042 , 0.4810081 ],\n",
       "       [0.96536905, 1.3522637 ],\n",
       "       [0.9890866 , 0.56438345],\n",
       "       [0.98353875, 1.4825566 ],\n",
       "       [0.9675814 , 1.3173668 ],\n",
       "       [0.96097326, 1.5344429 ],\n",
       "       [0.9722046 , 0.9288788 ],\n",
       "       [0.99949044, 1.4958255 ],\n",
       "       [0.96851796, 0.94274884],\n",
       "       [0.96712255, 1.623971  ],\n",
       "       [1.00128   , 1.0670677 ],\n",
       "       [0.9799602 , 1.1348488 ],\n",
       "       [0.9923717 , 1.4059386 ],\n",
       "       [1.0083275 , 0.47306097],\n",
       "       [0.94921315, 1.1505954 ],\n",
       "       [0.97736835, 1.3513174 ],\n",
       "       [0.9971677 , 1.3575888 ],\n",
       "       [0.9867571 , 1.2009361 ],\n",
       "       [0.9814075 , 1.1876523 ],\n",
       "       [0.9433886 , 1.1906832 ],\n",
       "       [0.9748787 , 0.5525831 ]], dtype=float32)"
      ]
     },
     "execution_count": 64,
     "metadata": {},
     "output_type": "execute_result"
    }
   ],
   "source": [
    "np.concatenate([y_pred, y_valid], axis=1)"
   ]
  },
  {
   "cell_type": "code",
   "execution_count": 73,
   "metadata": {},
   "outputs": [
    {
     "data": {
      "text/plain": [
       "array([[1.0051842 , 1.3481964 ],\n",
       "       [1.0055383 , 0.78571343],\n",
       "       [1.0058323 , 1.8416321 ],\n",
       "       [1.0063515 , 0.68596554],\n",
       "       [1.0079416 , 0.7454061 ],\n",
       "       [1.006094  , 0.9744474 ],\n",
       "       [1.0057634 , 0.5680332 ],\n",
       "       [1.0054916 , 0.88274145],\n",
       "       [1.0135121 , 0.10493846],\n",
       "       [1.0053043 , 0.60103625],\n",
       "       [1.0089524 , 1.2174814 ],\n",
       "       [1.0061798 , 1.5979204 ],\n",
       "       [1.0086311 , 0.9718051 ],\n",
       "       [1.0067388 , 0.5205229 ],\n",
       "       [1.0061386 , 1.1977131 ],\n",
       "       [1.0067934 , 0.55742234],\n",
       "       [1.0145633 , 0.86927325],\n",
       "       [1.0063804 , 1.3813243 ],\n",
       "       [1.0048752 , 0.6484526 ],\n",
       "       [1.0093043 , 0.74386305],\n",
       "       [1.006612  , 1.4304361 ],\n",
       "       [1.0047089 , 1.2362072 ],\n",
       "       [1.0106745 , 0.8784754 ],\n",
       "       [1.0063356 , 0.1613566 ],\n",
       "       [1.0088357 , 1.4821553 ],\n",
       "       [1.0058767 , 1.2995601 ],\n",
       "       [1.0088131 , 0.7260798 ],\n",
       "       [1.0043812 , 0.6362765 ],\n",
       "       [1.0130583 , 1.3053422 ],\n",
       "       [1.0073383 , 1.4645123 ],\n",
       "       [1.0134652 , 1.3395666 ],\n",
       "       [1.0066013 , 0.80565614],\n",
       "       [1.0056884 , 1.6158288 ],\n",
       "       [1.0060984 , 0.81845737],\n",
       "       [1.0073094 , 1.1686289 ],\n",
       "       [1.0044981 , 1.2793689 ],\n",
       "       [1.0071816 , 0.44528645],\n",
       "       [1.013522  , 1.1695738 ],\n",
       "       [1.0050156 , 0.69459474],\n",
       "       [1.0070773 , 1.6895806 ],\n",
       "       [1.0082631 , 1.2895063 ],\n",
       "       [1.0072976 , 0.93006206],\n",
       "       [1.0068573 , 1.1829191 ],\n",
       "       [1.0056038 , 1.1396644 ],\n",
       "       [1.0081095 , 1.3008726 ],\n",
       "       [1.0060049 , 1.0451015 ],\n",
       "       [1.0062039 , 1.3613908 ],\n",
       "       [1.0068978 , 0.41497278],\n",
       "       [1.0053816 , 1.4074085 ],\n",
       "       [1.0077822 , 1.3742046 ],\n",
       "       [1.0054435 , 0.7243898 ],\n",
       "       [1.006361  , 0.8818637 ],\n",
       "       [1.009095  , 0.93480945],\n",
       "       [1.0048305 , 1.293736  ],\n",
       "       [1.0049752 , 1.2365916 ],\n",
       "       [1.0117663 , 1.5534046 ],\n",
       "       [1.0072521 , 0.35252485],\n",
       "       [1.005056  , 1.7956264 ],\n",
       "       [1.0122958 , 0.7097814 ],\n",
       "       [1.0148    , 1.3080771 ],\n",
       "       [1.0083058 , 1.4862807 ],\n",
       "       [1.0060796 , 0.7637655 ],\n",
       "       [1.0053729 , 0.4920324 ],\n",
       "       [1.0062455 , 0.5038056 ],\n",
       "       [1.0044005 , 0.4085717 ],\n",
       "       [1.0053762 , 1.2304003 ],\n",
       "       [1.0074048 , 0.9384575 ],\n",
       "       [1.0070826 , 0.4209062 ],\n",
       "       [1.0055709 , 0.29945982],\n",
       "       [1.0155743 , 0.9054563 ],\n",
       "       [1.0076777 , 0.90617174],\n",
       "       [1.006673  , 0.4785031 ],\n",
       "       [1.0069156 , 0.48226124],\n",
       "       [1.0053936 , 1.5898237 ],\n",
       "       [1.0065521 , 0.8005053 ],\n",
       "       [1.006436  , 0.59945893],\n",
       "       [1.0060794 , 0.7269783 ],\n",
       "       [1.0136493 , 1.615457  ],\n",
       "       [1.0054295 , 1.6874812 ],\n",
       "       [1.0045487 , 1.8311343 ],\n",
       "       [1.0060335 , 0.45848987],\n",
       "       [1.0061585 , 1.2304486 ],\n",
       "       [1.0044851 , 0.8267785 ],\n",
       "       [1.0067117 , 0.4588362 ],\n",
       "       [1.0068567 , 0.25733086],\n",
       "       [1.0063949 , 0.9515265 ],\n",
       "       [1.006413  , 1.588145  ],\n",
       "       [1.0062711 , 1.5470805 ],\n",
       "       [1.0059018 , 1.0893066 ],\n",
       "       [1.0148664 , 1.4093952 ],\n",
       "       [1.0065132 , 1.6950995 ],\n",
       "       [1.0066878 , 0.9334017 ],\n",
       "       [1.0057974 , 0.9839578 ],\n",
       "       [1.0068476 , 1.3038944 ],\n",
       "       [1.0065703 , 0.6579907 ],\n",
       "       [1.0062636 , 1.4378378 ],\n",
       "       [1.0055543 , 0.9064141 ],\n",
       "       [1.0046289 , 0.9278961 ],\n",
       "       [1.0054415 , 0.5428591 ],\n",
       "       [1.0054028 , 1.7686765 ],\n",
       "       [1.0057913 , 0.6787227 ],\n",
       "       [1.0063397 , 1.140861  ],\n",
       "       [1.0141301 , 0.7216029 ],\n",
       "       [1.0071121 , 0.6043125 ],\n",
       "       [1.0054545 , 0.5231987 ],\n",
       "       [1.006149  , 0.8180829 ],\n",
       "       [1.0054761 , 1.0287532 ],\n",
       "       [1.0063496 , 0.9598447 ],\n",
       "       [1.0056815 , 1.6037166 ],\n",
       "       [1.009165  , 0.22392929],\n",
       "       [1.0060095 , 1.2824318 ],\n",
       "       [1.0055065 , 0.81619704],\n",
       "       [1.0063968 , 1.6923553 ],\n",
       "       [1.0068567 , 1.0059505 ],\n",
       "       [1.0120192 , 0.92953485],\n",
       "       [1.0050946 , 1.3055838 ],\n",
       "       [1.0062165 , 1.071275  ],\n",
       "       [1.0054826 , 1.0744822 ],\n",
       "       [1.0061014 , 1.6418059 ],\n",
       "       [1.0149885 , 1.1273143 ],\n",
       "       [1.0057364 , 0.8332951 ],\n",
       "       [1.013356  , 0.10917681],\n",
       "       [1.0078874 , 0.6731814 ],\n",
       "       [1.014583  , 1.0494759 ],\n",
       "       [1.0065681 , 1.0429395 ],\n",
       "       [1.0064754 , 1.2326473 ],\n",
       "       [1.0061713 , 1.9205863 ],\n",
       "       [1.0057834 , 0.80454415],\n",
       "       [1.0082251 , 1.4383291 ],\n",
       "       [1.007237  , 1.0619156 ],\n",
       "       [1.0062475 , 1.0246496 ],\n",
       "       [1.0054587 , 0.9240215 ],\n",
       "       [1.0044833 , 1.1936082 ],\n",
       "       [1.0060523 , 0.8654377 ],\n",
       "       [1.0072144 , 0.9079071 ],\n",
       "       [1.0067254 , 0.94345266],\n",
       "       [1.0073793 , 1.0769515 ],\n",
       "       [1.0076315 , 1.1563907 ],\n",
       "       [1.0057377 , 0.88807225],\n",
       "       [1.0073898 , 0.676489  ],\n",
       "       [1.0128301 , 1.4621499 ],\n",
       "       [1.0082818 , 1.0613725 ],\n",
       "       [1.008448  , 0.17122887],\n",
       "       [1.0060519 , 0.8694073 ],\n",
       "       [1.006065  , 0.48272362],\n",
       "       [1.0059806 , 0.7217664 ],\n",
       "       [1.0051044 , 0.5758631 ],\n",
       "       [1.0053763 , 0.996923  ],\n",
       "       [1.0050702 , 1.4985791 ],\n",
       "       [1.0060351 , 0.39777344],\n",
       "       [1.0062876 , 0.70353293],\n",
       "       [1.0049874 , 0.24634881],\n",
       "       [1.0052577 , 1.6304545 ],\n",
       "       [1.0063035 , 0.51656306],\n",
       "       [1.0090462 , 0.5121793 ],\n",
       "       [1.0069488 , 1.4517546 ],\n",
       "       [1.0053921 , 1.4958651 ],\n",
       "       [1.005713  , 0.90846354],\n",
       "       [1.0056944 , 1.8701847 ],\n",
       "       [1.0060626 , 0.5840136 ],\n",
       "       [1.0081301 , 1.1167083 ],\n",
       "       [1.0060172 , 0.89664984],\n",
       "       [1.0102952 , 0.4837029 ],\n",
       "       [1.0064912 , 0.8283926 ],\n",
       "       [1.0084963 , 0.94163966],\n",
       "       [1.0085728 , 0.4609787 ],\n",
       "       [1.0061059 , 0.5086729 ],\n",
       "       [1.0068692 , 0.97868955],\n",
       "       [1.0061486 , 1.4003448 ],\n",
       "       [1.0070338 , 0.23837441],\n",
       "       [1.0074013 , 0.88108623],\n",
       "       [1.0038451 , 0.15398283],\n",
       "       [1.0056211 , 0.5173633 ],\n",
       "       [1.0050868 , 1.1587863 ],\n",
       "       [1.0053278 , 1.4112024 ],\n",
       "       [1.007083  , 0.9535595 ],\n",
       "       [1.0157115 , 1.0231487 ],\n",
       "       [1.0059652 , 1.4079998 ],\n",
       "       [1.0057423 , 1.1303028 ],\n",
       "       [1.0124837 , 0.54766357],\n",
       "       [1.0089985 , 0.8883623 ],\n",
       "       [1.0060556 , 0.8598517 ],\n",
       "       [1.0075262 , 1.6064985 ],\n",
       "       [1.0046691 , 0.82656133],\n",
       "       [1.0069243 , 1.6603025 ],\n",
       "       [1.0068882 , 1.0848573 ],\n",
       "       [1.0075687 , 1.5373964 ],\n",
       "       [1.0064486 , 0.88272053],\n",
       "       [1.006907  , 1.0191162 ],\n",
       "       [1.0097579 , 1.7694845 ],\n",
       "       [1.0058724 , 0.41071773],\n",
       "       [1.0059804 , 1.2618519 ],\n",
       "       [1.0055729 , 0.914348  ],\n",
       "       [1.0055377 , 1.8864853 ],\n",
       "       [1.0070539 , 1.8160498 ],\n",
       "       [1.0136225 , 0.98822224],\n",
       "       [1.0069942 , 0.6211118 ],\n",
       "       [1.0055579 , 1.5849148 ],\n",
       "       [1.0062288 , 0.5855186 ],\n",
       "       [1.0154296 , 1.3681762 ]], dtype=float32)"
      ]
     },
     "execution_count": 73,
     "metadata": {},
     "output_type": "execute_result"
    }
   ],
   "source": [
    "from sklearn.metrics import accuracy_score\n",
    "\n",
    "y_pred = ef.predict_proba(X_valid)\n",
    "np.concatenate([y_pred, y_valid], axis=-1)\n",
    "\n",
    "#for i in range(pred.shape[0]):\n",
    "#    plt.figure(i)\n",
    "#    plt.plot(data[i].numpy())\n",
    "#    plt.plot(np.arange(len(pred[i])), pred[i])"
   ]
  },
  {
   "cell_type": "code",
   "execution_count": null,
   "metadata": {},
   "outputs": [],
   "source": []
  },
  {
   "cell_type": "code",
   "execution_count": null,
   "metadata": {},
   "outputs": [],
   "source": []
  }
 ],
 "metadata": {
  "kernelspec": {
   "display_name": "Python 3",
   "language": "python",
   "name": "python3"
  },
  "language_info": {
   "codemirror_mode": {
    "name": "ipython",
    "version": 3
   },
   "file_extension": ".py",
   "mimetype": "text/x-python",
   "name": "python",
   "nbconvert_exporter": "python",
   "pygments_lexer": "ipython3",
   "version": "3.6.3"
  }
 },
 "nbformat": 4,
 "nbformat_minor": 2
}
