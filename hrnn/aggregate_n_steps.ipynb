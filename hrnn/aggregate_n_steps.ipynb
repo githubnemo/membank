{
 "cells": [
  {
   "cell_type": "raw",
   "metadata": {},
   "source": [
    "We want to test if temporal-gradient-locality helps.\n",
    "\n",
    "We test this by reducing a N-sequence into N//M chunks, every chunk of a fixed size (vector)"
   ]
  },
  {
   "cell_type": "code",
   "execution_count": 1,
   "metadata": {
    "collapsed": true
   },
   "outputs": [],
   "source": [
    "import skorch\n",
    "import torch\n",
    "import torch.nn as nn\n",
    "\n",
    "from math import ceil\n",
    "from torch.autograd import Variable\n",
    "from torch.utils.data.dataloader import DataLoader\n",
    "from torch.utils.data import TensorDataset"
   ]
  },
  {
   "cell_type": "code",
   "execution_count": 2,
   "metadata": {
    "collapsed": true
   },
   "outputs": [],
   "source": [
    "%matplotlib inline\n",
    "import matplotlib.pyplot as plt\n",
    "import numpy as np"
   ]
  },
  {
   "cell_type": "code",
   "execution_count": 3,
   "metadata": {
    "collapsed": true
   },
   "outputs": [],
   "source": [
    "from sine_data import train_dataset, valid_dataset"
   ]
  },
  {
   "cell_type": "code",
   "execution_count": 4,
   "metadata": {
    "collapsed": true
   },
   "outputs": [],
   "source": [
    "NUM_POINTS = 200\n",
    "\n",
    "X_train, y_train = train_dataset(points=NUM_POINTS)\n",
    "X_train, y_train = torch.Tensor(X_train), torch.LongTensor(y_train)\n",
    "\n",
    "X_valid, y_valid = valid_dataset(points=NUM_POINTS)\n",
    "X_valid, y_valid = torch.Tensor(X_valid), torch.LongTensor(y_valid)\n",
    "\n",
    "sine_train_loader = DataLoader(TensorDataset(X_train, y_train),\n",
    "                               batch_size=64,\n",
    "                               shuffle=True)\n",
    "sine_valid_loader = DataLoader(TensorDataset(X_valid, y_valid),\n",
    "                               batch_size=64,\n",
    "                               shuffle=False)"
   ]
  },
  {
   "cell_type": "code",
   "execution_count": null,
   "metadata": {
    "collapsed": true
   },
   "outputs": [],
   "source": []
  },
  {
   "cell_type": "code",
   "execution_count": 5,
   "metadata": {
    "collapsed": true
   },
   "outputs": [],
   "source": [
    "class ClipBPTTWrapper(nn.Module):\n",
    "    def __init__(self, rnn_layer, hidden_dim, timestep_divisor):\n",
    "        super().__init__()\n",
    "        self.rnn_layer = rnn_layer\n",
    "        self.hidden_dim = hidden_dim\n",
    "        self.timestep_divisor = timestep_divisor\n",
    "        \n",
    "    def init_hidden(self, batch_size, use_cuda):\n",
    "        v = Variable(torch.zeros(self.hidden_dim, batch_size, self.hidden_dim))\n",
    "        return v.cuda() if use_cuda else v\n",
    "    \n",
    "    def repack(self, h):\n",
    "        v = Variable(h.data)\n",
    "        return v.cuda() if h.is_cuda else v\n",
    "    \n",
    "    def rnn(self, x, h):\n",
    "        return self.rnn_layer(x, h)\n",
    "        \n",
    "    def forward(self, x):\n",
    "        num_steps = ceil(x.size(1) / self.timestep_divisor)\n",
    "        chunks = torch.chunk(x, num_steps, dim=1)\n",
    "        h = self.init_hidden(x.size(0), x.is_cuda)\n",
    "        ys = []\n",
    "        \n",
    "        for chunk in chunks:\n",
    "            h = self.repack(h) # limit backprop to one chunk\n",
    "            y, h = self.rnn(chunk, h)\n",
    "            ys.append(y[:,-1])\n",
    "        return torch.stack(ys, dim=1), h"
   ]
  },
  {
   "cell_type": "code",
   "execution_count": 6,
   "metadata": {
    "collapsed": true
   },
   "outputs": [],
   "source": [
    "def time_flatten(t):\n",
    "    return t.view(t.size(0) * t.size(1), -1)\n",
    "\n",
    "def time_unflatten(t, s):\n",
    "    return t.view(s[0], s[1], -1)"
   ]
  },
  {
   "cell_type": "code",
   "execution_count": 7,
   "metadata": {
    "collapsed": true
   },
   "outputs": [],
   "source": [
    "class RepeatingRNN(nn.Module):\n",
    "    def __init__(self, rnn_layer):\n",
    "        super().__init__()\n",
    "        self.rnn_layer = rnn_layer\n",
    "        \n",
    "    def forward(self, x, target_length):\n",
    "        repeats = ceil(target_length / x.size(1))\n",
    "                \n",
    "        parts = []\n",
    "        for ti in range(x.size(1)):\n",
    "            xr = x[:, ti:(ti+1)].repeat(1, repeats, 1)\n",
    "            parts.append(xr)\n",
    "        \n",
    "        x_rep = torch.cat(parts, dim=1)\n",
    "        y, h = self.rnn_layer(x_rep)\n",
    "        return y[:, :target_length], h"
   ]
  },
  {
   "cell_type": "code",
   "execution_count": 8,
   "metadata": {
    "collapsed": true
   },
   "outputs": [],
   "source": [
    "class ContextDecoderRNN(nn.Module):\n",
    "    def __init__(self, rnn_layer):\n",
    "        super().__init__()\n",
    "        self.rnn_layer = rnn_layer\n",
    "        \n",
    "    def forward(self, x, target_length):\n",
    "        # at time-step (target_length % x.size(1)) switch context to next value from x\n",
    "        cidx = 0\n",
    "        h = x[:, cidx:(cidx+1)].transpose(0, 1) # make context (t, b, u)\n",
    "        y_tm1 = Variable(torch.zeros(x.size(0), 1, x.size(-1)))\n",
    "        y_tm1 = y_tm1.cuda() if x.is_cuda else y_tm1\n",
    "        ys = []\n",
    "        # every nth step an update happens\n",
    "        update_step = ceil(target_length / x.size(1))\n",
    "        for ti in range(target_length):\n",
    "            y, h_new = self.rnn_layer(y_tm1, h)\n",
    "            ys.append(y)\n",
    "            y_tm1 = y\n",
    "            if ti > 0 and ti % update_step == 0:\n",
    "                h = x[:, cidx:(cidx+1)].transpose(0, 1)\n",
    "                cidx += 1\n",
    "        return torch.stack(ys, dim=1), h"
   ]
  },
  {
   "cell_type": "code",
   "execution_count": null,
   "metadata": {
    "collapsed": true
   },
   "outputs": [],
   "source": [
    "class OutputtingContextDecoderRNN(nn.Module):\n",
    "    produces_output = True\n",
    "    \n",
    "    def __init__(self, rnn_layer, out_dim):\n",
    "        super().__init__()\n",
    "        self.rnn_layer = rnn_layer\n",
    "        self.out_dim = out_dim\n",
    "        \n",
    "        self.hid2clf = nn.Linear(rnn_layer.hidden_size, out_dim)\n",
    "        self.clf2hid = nn.Linear(out_dim, rnn_layer.hidden_size)\n",
    "        \n",
    "    def forward(self, x, target_length):\n",
    "        # at time-step (target_length % x.size(1)) switch context to next value from x\n",
    "        cidx = 0\n",
    "        h = x[:, cidx:(cidx+1)].transpose(0, 1) # make context (t, b, u)\n",
    "        y_tm1 = Variable(torch.zeros(x.size(0), 1, x.size(-1)))\n",
    "        y_tm1 = y_tm1.cuda() if x.is_cuda else y_tm1\n",
    "        ys = []\n",
    "        # every nth step an update happens\n",
    "        update_step = ceil(target_length / x.size(1))\n",
    "        for ti in range(target_length):\n",
    "            y, h_new = self.rnn_layer(y_tm1, h)\n",
    "            y = time_unflatten(self.hid2clf(time_flatten(y)), y.size())\n",
    "            y_tm1 = time_unflatten(self.clf2hid(time_flatten(y)), y.size())\n",
    "            ys.append(y)\n",
    "            if ti > 0 and ti % update_step == 0:\n",
    "                h = x[:, cidx:(cidx+1)].transpose(0, 1)\n",
    "                cidx += 1\n",
    "        return torch.stack(ys, dim=1), h"
   ]
  },
  {
   "cell_type": "code",
   "execution_count": null,
   "metadata": {
    "collapsed": true
   },
   "outputs": [],
   "source": [
    "class MLPDecoder(nn.Module):\n",
    "    def __init__(self, input_dim, input_length, output_dim, target_length):\n",
    "        super().__init__()\n",
    "        self.output_dim = output_dim\n",
    "        self.target_length = target_length\n",
    "        self.m = nn.Linear(input_dim * input_length, output_dim * target_length)\n",
    "        \n",
    "    def forward(self, x, _):\n",
    "        # from N sized chunk predict M length with size U\n",
    "        # so: N -> (M * U) which can then be transformed to (M, U)\n",
    "        y = self.m(x.view(-1, x.size(1) * x.size(2)))\n",
    "        return y.view(-1, self.target_length, self.output_dim), None"
   ]
  },
  {
   "cell_type": "code",
   "execution_count": null,
   "metadata": {
    "collapsed": true
   },
   "outputs": [],
   "source": [
    "class ConcatS2SDecoder(nn.Module):\n",
    "    def __init__(self, rnn_layer):\n",
    "        super().__init__()\n",
    "        self.rnn_layer = rnn_layer\n",
    "        \n",
    "    def forward(self, x, target_length):\n",
    "        # at time-step target_length % x.size(1) switch context to next value from x\n",
    "        h = torch.cat(x, dim=1).transpose(0, 1) # make context (t, b, u)\n",
    "        y_tm1 = Variable(torch.zeros(x.size(0), 1, x.size(-1)))\n",
    "        y_tm1 = y_tm1.cuda() if x.is_cuda else y_tm1\n",
    "        ys = []\n",
    "        # every nth step an update happens\n",
    "        for ti in range(target_length):\n",
    "            y, h_new = self.rnn_layer(y_tm1, h)\n",
    "            ys.append(y)\n",
    "            y_tm1 = y\n",
    "            h = y_tm1.transpose(0, 1)\n",
    "        return torch.stack(ys, dim=1), h"
   ]
  },
  {
   "cell_type": "code",
   "execution_count": null,
   "metadata": {
    "collapsed": true
   },
   "outputs": [],
   "source": [
    "class ReconModel(nn.Module):\n",
    "    def __init__(\n",
    "        self, \n",
    "        num_hidden=16, \n",
    "        timestep_divisor_0=20, \n",
    "        timestep_divisor_1=2, \n",
    "        baseline=False,\n",
    "    ):\n",
    "        super().__init__()\n",
    "        \n",
    "        # t -> ceil(t/20) timesteps\n",
    "        layer_0 = nn.GRU(1, num_hidden, batch_first=True)\n",
    "        self.rnn_enc_0 = ClipBPTTWrapper(layer_0, num_hidden, timestep_divisor_0)\n",
    "\n",
    "        # ceil(t/20) -> ceil(ceil(t/20)/2) timesteps\n",
    "        layer_1 = nn.GRU(num_hidden, num_hidden, batch_first=True)\n",
    "        self.rnn_enc_1 = ClipBPTTWrapper(layer_1, num_hidden, timestep_divisor_1)\n",
    "                \n",
    "        # ceil(ceil(t/20)/2) chunks total as hidden repr. (3 for t=100)\n",
    "        # so we now want 3 -> 100 again (recon task)\n",
    "        # we do this by generating 100//3 for each chunk\n",
    "        layer_2 = nn.GRU(num_hidden, num_hidden, batch_first=True)\n",
    "        #self.rnn_dec_1 = RepeatingRNN(layer_2)\n",
    "        #self.rnn_dec_1 = ContextDecoderRNN(layer_2, clf)\n",
    "        self.rnn_dec_1 = OutputtingContextDecoderRNN(layer_2, out_dim)\n",
    "#         self.rnn_dec_1 = MLPDecoder(\n",
    "#             num_hidden, \n",
    "#             ceil(ceil((NUM_POINTS-1)/timestep_divisor_0)/timestep_divisor_1),\n",
    "#             num_hidden,\n",
    "#             NUM_POINTS - 1)\n",
    "        #self.rnn_dec_1 = ConcatS2SDecoder(layer_2)\n",
    "        #self.rnn_dec_1 = MergingContextDecoderRNN(layer_2)\n",
    "\n",
    "        if not hasattr(self.rnn_dec_1, 'produces_output'):\n",
    "            self.clf = clf\n",
    "\n",
    "    def forward(self, x):\n",
    "        l0, h0 = self.rnn_enc_0(x)\n",
    "        l1, h1 = self.rnn_enc_1(l0)\n",
    "        l2, h2 = self.rnn_dec_1(l1, x.size(1))\n",
    "        #print('l0', l0.size(), 'l1', l1.size(), 'l2', l2.size())\n",
    "        if hasattr(self.rnn_dec_1, 'produces_output'):\n",
    "            return l2\n",
    "        else:\n",
    "            clf = self.clf(l2)\n",
    "            return time_unflatten(clf, x.size())"
   ]
  },
  {
   "cell_type": "code",
   "execution_count": null,
   "metadata": {
    "collapsed": true
   },
   "outputs": [],
   "source": []
  },
  {
   "cell_type": "code",
   "execution_count": null,
   "metadata": {
    "collapsed": true
   },
   "outputs": [],
   "source": [
    "class Trainer(skorch.NeuralNet):\n",
    "    def __init__(self, \n",
    "                 criterion=nn.MSELoss,\n",
    "                 *args, \n",
    "                 **kwargs):\n",
    "        super().__init__(*args, criterion=criterion, **kwargs)\n",
    "\n",
    "    def get_loss(self, y_pred, y_true, X=None, train=False):\n",
    "        pred = time_flatten(y_pred)\n",
    "        true = time_flatten(y_true)\n",
    "        return super().get_loss(pred, true, X=X, train=train)"
   ]
  },
  {
   "cell_type": "markdown",
   "metadata": {},
   "source": [
    "## with clip"
   ]
  },
  {
   "cell_type": "code",
   "execution_count": null,
   "metadata": {
    "collapsed": true
   },
   "outputs": [],
   "source": [
    "torch.manual_seed(1337)\n",
    "\n",
    "def my_train_split(X, y):\n",
    "    return X, X_valid[:, :-1], y, X_valid[:, 1:]\n",
    "\n",
    "ef_with = Trainer(module=ReconModel,\n",
    "             optimizer=torch.optim.Adam,\n",
    "             lr=0.008,\n",
    "             max_epochs=120,\n",
    "             train_split=my_train_split,\n",
    "             \n",
    "             module__num_hidden=8,\n",
    "             module__timestep_divisor_0=4,\n",
    "             module__timestep_divisor_1=4,\n",
    "            )"
   ]
  },
  {
   "cell_type": "code",
   "execution_count": null,
   "metadata": {
    "scrolled": false
   },
   "outputs": [],
   "source": [
    "%pdb on\n",
    "ef_with.fit(X_train[:, :-1], X_train[:, 1:])"
   ]
  },
  {
   "cell_type": "code",
   "execution_count": 45,
   "metadata": {
    "scrolled": false
   },
   "outputs": [
    {
     "data": {
      "image/png": "[encoded data removed]",
      "text/plain": [
       "<matplotlib.figure.Figure at 0x7fd275208198>"
      ]
     },
     "metadata": {},
     "output_type": "display_data"
    },
    {
     "data": {
      "image/png": "[encoded data removed]",
      "text/plain": [
       "<matplotlib.figure.Figure at 0x7fd2750bfe48>"
      ]
     },
     "metadata": {},
     "output_type": "display_data"
    },
    {
     "data": {
      "image/png": "[encoded data removed]",
      "text/plain": [
       "<matplotlib.figure.Figure at 0x7fd2753a7710>"
      ]
     },
     "metadata": {},
     "output_type": "display_data"
    }
   ],
   "source": [
    "data = X_valid[:, :-1]\n",
    "pred = ef_with.predict_proba(data)\n",
    "\n",
    "for i in range(pred.shape[0]):\n",
    "    plt.figure(i)\n",
    "    plt.plot(data[i].numpy())\n",
    "    plt.plot(np.arange(len(pred[i])), pred[i], '.')"
   ]
  },
  {
   "cell_type": "code",
   "execution_count": null,
   "metadata": {
    "collapsed": true
   },
   "outputs": [],
   "source": []
  },
  {
   "cell_type": "code",
   "execution_count": null,
   "metadata": {
    "collapsed": true
   },
   "outputs": [],
   "source": []
  }
 ],
 "metadata": {
  "kernelspec": {
   "display_name": "Python 3",
   "language": "python",
   "name": "python3"
  },
  "language_info": {
   "codemirror_mode": {
    "name": "ipython",
    "version": 3
   },
   "file_extension": ".py",
   "mimetype": "text/x-python",
   "name": "python",
   "nbconvert_exporter": "python",
   "pygments_lexer": "ipython3",
   "version": "3.5.2"
  }
 },
 "nbformat": 4,
 "nbformat_minor": 2
}
