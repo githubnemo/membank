{
 "cells": [
  {
   "cell_type": "raw",
   "metadata": {},
   "source": [
    "We want to test if temporal-gradient-locality helps.\n",
    "\n",
    "We test this by reducing a N-sequence into N//M chunks, every chunk of a fixed size (vector)"
   ]
  },
  {
   "cell_type": "code",
   "execution_count": 1,
   "metadata": {
    "collapsed": true
   },
   "outputs": [],
   "source": [
    "import skorch\n",
    "import torch\n",
    "import torch.nn as nn\n",
    "\n",
    "from math import ceil\n",
    "from torch.autograd import Variable\n",
    "from torch.utils.data.dataloader import DataLoader\n",
    "from torch.utils.data import TensorDataset"
   ]
  },
  {
   "cell_type": "code",
   "execution_count": 2,
   "metadata": {
    "collapsed": true
   },
   "outputs": [],
   "source": [
    "%matplotlib inline\n",
    "import matplotlib.pyplot as plt\n",
    "import numpy as np"
   ]
  },
  {
   "cell_type": "code",
   "execution_count": 3,
   "metadata": {
    "collapsed": true
   },
   "outputs": [],
   "source": [
    "from sine_data import train_dataset, valid_dataset"
   ]
  },
  {
   "cell_type": "code",
   "execution_count": 16,
   "metadata": {
    "collapsed": true
   },
   "outputs": [],
   "source": [
    "NUM_POINTS = 200\n",
    "\n",
    "X_train, y_train = train_dataset(points=NUM_POINTS)\n",
    "X_train, y_train = torch.Tensor(X_train), torch.LongTensor(y_train)\n",
    "\n",
    "X_valid, y_valid = valid_dataset(points=NUM_POINTS)\n",
    "X_valid, y_valid = torch.Tensor(X_valid), torch.LongTensor(y_valid)\n",
    "\n",
    "sine_train_loader = DataLoader(TensorDataset(X_train, y_train),\n",
    "                               batch_size=64,\n",
    "                               shuffle=True)\n",
    "sine_valid_loader = DataLoader(TensorDataset(X_valid, y_valid),\n",
    "                               batch_size=64,\n",
    "                               shuffle=False)"
   ]
  },
  {
   "cell_type": "code",
   "execution_count": null,
   "metadata": {
    "collapsed": true
   },
   "outputs": [],
   "source": []
  },
  {
   "cell_type": "code",
   "execution_count": 5,
   "metadata": {
    "collapsed": true
   },
   "outputs": [],
   "source": [
    "class ClipBPTTWrapper(nn.Module):\n",
    "    def __init__(self, rnn_layer, hidden_dim, timestep_divisor):\n",
    "        super().__init__()\n",
    "        self.rnn_layer = rnn_layer\n",
    "        self.hidden_dim = hidden_dim\n",
    "        self.timestep_divisor = timestep_divisor\n",
    "        \n",
    "    def init_hidden(self, batch_size, use_cuda):\n",
    "        v = Variable(torch.zeros(self.hidden_dim, batch_size, self.hidden_dim))\n",
    "        return v.cuda() if use_cuda else v\n",
    "    \n",
    "    def repack(self, h):\n",
    "        v = Variable(h.data)\n",
    "        return v.cuda() if h.is_cuda else v\n",
    "    \n",
    "    def rnn(self, x, h):\n",
    "        return self.rnn_layer(x, h)\n",
    "        \n",
    "    def forward(self, x):\n",
    "        num_steps = ceil(x.size(1) / self.timestep_divisor)\n",
    "        chunks = torch.chunk(x, num_steps, dim=1)\n",
    "        h = self.init_hidden(x.size(0), x.is_cuda)\n",
    "        ys = []\n",
    "        \n",
    "        for chunk in chunks:\n",
    "            h = self.repack(h) # limit backprop to one chunk\n",
    "            y, h = self.rnn(chunk, h)\n",
    "            ys.append(y[:,-1])\n",
    "        return torch.stack(ys, dim=1), h"
   ]
  },
  {
   "cell_type": "code",
   "execution_count": 6,
   "metadata": {
    "collapsed": true
   },
   "outputs": [],
   "source": [
    "def time_flatten(t):\n",
    "    return t.view(t.size(0) * t.size(1), -1)\n",
    "\n",
    "def time_unflatten(t, s):\n",
    "    return t.view(s[0], s[1], -1)"
   ]
  },
  {
   "cell_type": "code",
   "execution_count": 7,
   "metadata": {
    "collapsed": true
   },
   "outputs": [],
   "source": [
    "class RepeatingRNN(nn.Module):\n",
    "    def __init__(self, rnn_layer):\n",
    "        super().__init__()\n",
    "        self.rnn_layer = rnn_layer\n",
    "        \n",
    "    def forward(self, x, target_length):\n",
    "        repeats = ceil(target_length / x.size(1))\n",
    "                \n",
    "        parts = []\n",
    "        for ti in range(x.size(1)):\n",
    "            xr = x[:, ti:(ti+1)].repeat(1, repeats, 1)\n",
    "            parts.append(xr)\n",
    "        \n",
    "        x_rep = torch.cat(parts, dim=1)\n",
    "        y, h = self.rnn_layer(x_rep)\n",
    "        return y[:, :target_length], h"
   ]
  },
  {
   "cell_type": "code",
   "execution_count": 8,
   "metadata": {
    "collapsed": true
   },
   "outputs": [],
   "source": [
    "class ContextDecoderRNN(nn.Module):\n",
    "    def __init__(self, rnn_layer):\n",
    "        super().__init__()\n",
    "        self.rnn_layer = rnn_layer\n",
    "        \n",
    "    def forward(self, x, target_length):\n",
    "        # at time-step target_length % x.size(1) switch context to next value from x\n",
    "        cidx = 0\n",
    "        h = x[:, cidx:(cidx+1)].transpose(0, 1) # make context (t, b, u)\n",
    "        y_tm1 = Variable(torch.zeros(x.size(0), 1, x.size(-1)))\n",
    "        y_tm1 = y_tm1.cuda() if x.is_cuda else y_tm1\n",
    "        ys = []\n",
    "        # every nth step an update happens\n",
    "        update_step = ceil(target_length / x.size(1))\n",
    "        for ti in range(target_length):\n",
    "            y, h_new = self.rnn_layer(y_tm1, h)\n",
    "            ys.append(y)\n",
    "            y_tm1 = y\n",
    "            if ti > 0 and ti % update_step == 0:\n",
    "                h = x[:, cidx:(cidx+1)].transpose(0, 1)\n",
    "                cidx += 1\n",
    "            else:\n",
    "                h = y_tm1.transpose(0, 1)\n",
    "        return torch.stack(ys, dim=1), h"
   ]
  },
  {
   "cell_type": "code",
   "execution_count": 27,
   "metadata": {
    "collapsed": true
   },
   "outputs": [],
   "source": [
    "class MLPDecoder(nn.Module):\n",
    "    def __init__(self, input_dim, input_length, output_dim, target_length):\n",
    "        super().__init__()\n",
    "        self.output_dim = output_dim\n",
    "        self.target_length = target_length\n",
    "        self.m = nn.Linear(input_dim * input_length, output_dim * target_length)\n",
    "        \n",
    "    def forward(self, x, _):\n",
    "        # from N sized chunk predict M length with size U\n",
    "        # so: N -> (M * U) which can then be transformed to (M, U)\n",
    "        y = self.m(x.view(-1, x.size(1) * x.size(2)))\n",
    "        return y.view(-1, self.target_length, self.output_dim), None"
   ]
  },
  {
   "cell_type": "code",
   "execution_count": 33,
   "metadata": {
    "collapsed": true
   },
   "outputs": [],
   "source": [
    "class ReconModel(nn.Module):\n",
    "    def __init__(\n",
    "        self, \n",
    "        num_hidden=16, \n",
    "        timestep_divisor_0=20, \n",
    "        timestep_divisor_1=2, \n",
    "        baseline=False,\n",
    "    ):\n",
    "        super().__init__()\n",
    "        \n",
    "        # t -> ceil(t/20) timesteps\n",
    "        layer_0 = nn.GRU(1, num_hidden, batch_first=True)\n",
    "        self.rnn_enc_0 = ClipBPTTWrapper(layer_0, num_hidden, timestep_divisor_0)\n",
    "        \n",
    "        # ceil(t/20) -> ceil(ceil(t/20)/2) timesteps\n",
    "        layer_1 = nn.GRU(num_hidden, num_hidden, batch_first=True)\n",
    "        self.rnn_enc_1 = ClipBPTTWrapper(layer_1, num_hidden, timestep_divisor_1)\n",
    "        \n",
    "        # ceil(ceil(t/20)/2) chunks total as hidden repr. (3 for t=100)\n",
    "        # so we now want 3 -> 100 again (recon task)\n",
    "        # we do this by generating 100//3 for each chunk\n",
    "        #layer_2 = nn.GRU(num_hidden, num_hidden, batch_first=True)\n",
    "        #self.rnn_dec_1 = RepeatingRNN(layer_2)\n",
    "        #self.rnn_dec_1 = ContextDecoderRNN(layer_2)\n",
    "        self.rnn_dec_1 = MLPDecoder(\n",
    "            num_hidden, \n",
    "            ceil(ceil((NUM_POINTS-1)/timestep_divisor_0)/timestep_divisor_1),\n",
    "            num_hidden,\n",
    "            NUM_POINTS - 1)\n",
    "        \n",
    "        self.clf = nn.Linear(num_hidden, 1)\n",
    "        \n",
    "    def forward(self, x):\n",
    "        l0, h0 = self.rnn_enc_0(x)\n",
    "        l1, h1 = self.rnn_enc_1(l0)\n",
    "        l2, h2 = self.rnn_dec_1(l1, x.size(1))\n",
    "        #print('l0', l0.size(), 'l1', l1.size(), 'l2', l2.size())\n",
    "        clf = self.clf(l2)\n",
    "        return time_unflatten(clf, x.size())"
   ]
  },
  {
   "cell_type": "code",
   "execution_count": null,
   "metadata": {
    "collapsed": true
   },
   "outputs": [],
   "source": []
  },
  {
   "cell_type": "code",
   "execution_count": 34,
   "metadata": {
    "collapsed": true
   },
   "outputs": [],
   "source": [
    "class Trainer(skorch.NeuralNet):\n",
    "    def __init__(self, \n",
    "                 criterion=nn.MSELoss,\n",
    "                 *args, \n",
    "                 **kwargs):\n",
    "        super().__init__(*args, criterion=criterion, **kwargs)\n",
    "\n",
    "    def get_loss(self, y_pred, y_true, X=None, train=False):\n",
    "        pred = time_flatten(y_pred)\n",
    "        true = time_flatten(y_true)\n",
    "        return super().get_loss(pred, true, X=X, train=train)"
   ]
  },
  {
   "cell_type": "markdown",
   "metadata": {},
   "source": [
    "## with clip"
   ]
  },
  {
   "cell_type": "code",
   "execution_count": 53,
   "metadata": {
    "collapsed": true
   },
   "outputs": [],
   "source": [
    "torch.manual_seed(1337)\n",
    "\n",
    "def my_train_split(X, y):\n",
    "    return X, X_valid[:, :-1], y, X_valid[:, 1:]\n",
    "\n",
    "ef_with = Trainer(module=ReconModel,\n",
    "             optimizer=torch.optim.Adam,\n",
    "             lr=0.005,\n",
    "             max_epochs=45,\n",
    "             train_split=my_train_split,\n",
    "             \n",
    "             module__num_hidden=16,\n",
    "             module__timestep_divisor_0=4,\n",
    "             module__timestep_divisor_1=2,\n",
    "            )"
   ]
  },
  {
   "cell_type": "code",
   "execution_count": 54,
   "metadata": {
    "scrolled": false
   },
   "outputs": [
    {
     "name": "stdout",
     "output_type": "stream",
     "text": [
      "Automatic pdb calling has been turned ON\n",
      "  epoch    train_loss    valid_loss     dur\n",
      "-------  ------------  ------------  ------\n",
      "      1        \u001b[36m1.1679\u001b[0m        \u001b[32m0.7423\u001b[0m  0.3990\n",
      "      2        \u001b[36m0.7035\u001b[0m        \u001b[32m0.5840\u001b[0m  0.3398\n",
      "      3        \u001b[36m0.4909\u001b[0m        0.6927  0.3832\n",
      "      4        0.5433        0.6601  0.3456\n",
      "      5        \u001b[36m0.4680\u001b[0m        0.5853  0.3468\n",
      "      6        \u001b[36m0.3655\u001b[0m        \u001b[32m0.5454\u001b[0m  0.3859\n",
      "      7        \u001b[36m0.3083\u001b[0m        \u001b[32m0.5310\u001b[0m  0.3955\n",
      "      8        \u001b[36m0.2804\u001b[0m        \u001b[32m0.5137\u001b[0m  0.3439\n",
      "      9        \u001b[36m0.2488\u001b[0m        \u001b[32m0.4805\u001b[0m  0.3841\n",
      "     10        \u001b[36m0.2003\u001b[0m        \u001b[32m0.4365\u001b[0m  0.3370\n",
      "     11        \u001b[36m0.1437\u001b[0m        \u001b[32m0.3963\u001b[0m  0.3395\n",
      "     12        \u001b[36m0.0996\u001b[0m        \u001b[32m0.3728\u001b[0m  0.3828\n",
      "     13        \u001b[36m0.0847\u001b[0m        \u001b[32m0.3653\u001b[0m  0.3374\n",
      "     14        0.0923        \u001b[32m0.3613\u001b[0m  0.3394\n",
      "     15        0.0946        \u001b[32m0.3561\u001b[0m  0.3877\n",
      "     16        \u001b[36m0.0819\u001b[0m        \u001b[32m0.3530\u001b[0m  0.3391\n",
      "     17        \u001b[36m0.0653\u001b[0m        \u001b[32m0.3515\u001b[0m  0.3430\n",
      "     18        \u001b[36m0.0511\u001b[0m        \u001b[32m0.3497\u001b[0m  0.3879\n",
      "     19        \u001b[36m0.0386\u001b[0m        \u001b[32m0.3488\u001b[0m  0.3452\n",
      "     20        \u001b[36m0.0281\u001b[0m        0.3508  0.3403\n",
      "     21        \u001b[36m0.0210\u001b[0m        0.3564  0.3916\n",
      "     22        \u001b[36m0.0186\u001b[0m        0.3627  0.3384\n",
      "     23        0.0192        0.3653  0.3467\n",
      "     24        0.0198        0.3620  0.3905\n",
      "     25        0.0186        0.3543  0.3428\n",
      "     26        \u001b[36m0.0165\u001b[0m        \u001b[32m0.3455\u001b[0m  0.3403\n",
      "     27        \u001b[36m0.0151\u001b[0m        \u001b[32m0.3377\u001b[0m  0.3850\n",
      "     28        \u001b[36m0.0147\u001b[0m        \u001b[32m0.3316\u001b[0m  0.3414\n",
      "     29        \u001b[36m0.0144\u001b[0m        \u001b[32m0.3271\u001b[0m  0.3389\n",
      "     30        \u001b[36m0.0134\u001b[0m        \u001b[32m0.3242\u001b[0m  0.3820\n",
      "     31        \u001b[36m0.0115\u001b[0m        \u001b[32m0.3228\u001b[0m  0.3368\n",
      "     32        \u001b[36m0.0093\u001b[0m        0.3230  0.3443\n",
      "     33        \u001b[36m0.0076\u001b[0m        0.3241  0.3847\n",
      "     34        \u001b[36m0.0066\u001b[0m        0.3255  0.3377\n",
      "     35        \u001b[36m0.0059\u001b[0m        0.3263  0.3507\n",
      "     36        \u001b[36m0.0053\u001b[0m        0.3267  0.3899\n",
      "     37        \u001b[36m0.0047\u001b[0m        0.3266  0.3375\n",
      "     38        \u001b[36m0.0043\u001b[0m        0.3261  0.3442\n",
      "     39        \u001b[36m0.0040\u001b[0m        0.3252  0.3851\n",
      "     40        \u001b[36m0.0036\u001b[0m        0.3238  0.3516\n",
      "     41        \u001b[36m0.0030\u001b[0m        \u001b[32m0.3222\u001b[0m  0.3472\n",
      "     42        \u001b[36m0.0024\u001b[0m        \u001b[32m0.3205\u001b[0m  0.3892\n",
      "     43        \u001b[36m0.0020\u001b[0m        \u001b[32m0.3188\u001b[0m  0.3395\n",
      "     44        \u001b[36m0.0019\u001b[0m        \u001b[32m0.3169\u001b[0m  0.3424\n",
      "     45        0.0020        \u001b[32m0.3148\u001b[0m  0.3858\n"
     ]
    },
    {
     "data": {
      "text/plain": [
       "<__main__.Trainer at 0x7fc0013f6ef0>"
      ]
     },
     "execution_count": 54,
     "metadata": {},
     "output_type": "execute_result"
    }
   ],
   "source": [
    "%pdb on\n",
    "ef_with.fit(X_train[:, :-1], X_train[:, 1:])"
   ]
  },
  {
   "cell_type": "code",
   "execution_count": 55,
   "metadata": {
    "scrolled": false
   },
   "outputs": [
    {
     "data": {
      "image/png": "[encoded data removed]",
      "text/plain": [
       "<matplotlib.figure.Figure at 0x7fc0015a0160>"
      ]
     },
     "metadata": {},
     "output_type": "display_data"
    },
    {
     "data": {
      "image/png": "[encoded data removed]",
      "text/plain": [
       "<matplotlib.figure.Figure at 0x7fc001400208>"
      ]
     },
     "metadata": {},
     "output_type": "display_data"
    },
    {
     "data": {
      "image/png": "[encoded data removed]",
      "text/plain": [
       "<matplotlib.figure.Figure at 0x7fc00073f9e8>"
      ]
     },
     "metadata": {},
     "output_type": "display_data"
    }
   ],
   "source": [
    "data = X_valid[:, :-1]\n",
    "pred = ef_with.predict_proba(data)\n",
    "\n",
    "for i in range(pred.shape[0]):\n",
    "    plt.figure(i)\n",
    "    plt.plot(data[i].numpy())\n",
    "    plt.plot(np.arange(len(pred[i])), pred[i])"
   ]
  },
  {
   "cell_type": "code",
   "execution_count": null,
   "metadata": {
    "collapsed": true
   },
   "outputs": [],
   "source": []
  },
  {
   "cell_type": "code",
   "execution_count": null,
   "metadata": {
    "collapsed": true
   },
   "outputs": [],
   "source": []
  }
 ],
 "metadata": {
  "kernelspec": {
   "display_name": "Python 3",
   "language": "python",
   "name": "python3"
  },
  "language_info": {
   "codemirror_mode": {
    "name": "ipython",
    "version": 3
   },
   "file_extension": ".py",
   "mimetype": "text/x-python",
   "name": "python",
   "nbconvert_exporter": "python",
   "pygments_lexer": "ipython3",
   "version": "3.5.2"
  }
 },
 "nbformat": 4,
 "nbformat_minor": 2
}
