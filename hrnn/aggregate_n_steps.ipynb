{
 "cells": [
  {
   "cell_type": "raw",
   "metadata": {},
   "source": [
    "We want to test if temporal-gradient-locality helps.\n",
    "\n",
    "We test this by reducing a N-sequence into N//M chunks, every chunk of a fixed size (vector)"
   ]
  },
  {
   "cell_type": "code",
   "execution_count": 2,
   "metadata": {
    "collapsed": true
   },
   "outputs": [],
   "source": [
    "import skorch\n",
    "import torch\n",
    "import torch.nn as nn\n",
    "\n",
    "from math import ceil\n",
    "from torch.autograd import Variable\n",
    "from torch.utils.data.dataloader import DataLoader\n",
    "from torch.utils.data import TensorDataset"
   ]
  },
  {
   "cell_type": "code",
   "execution_count": 3,
   "metadata": {
    "collapsed": true
   },
   "outputs": [],
   "source": [
    "%matplotlib inline\n",
    "import matplotlib.pyplot as plt\n",
    "import numpy as np"
   ]
  },
  {
   "cell_type": "code",
   "execution_count": 4,
   "metadata": {
    "collapsed": true
   },
   "outputs": [],
   "source": [
    "from sine_data import train_dataset, valid_dataset"
   ]
  },
  {
   "cell_type": "code",
   "execution_count": 5,
   "metadata": {
    "collapsed": true
   },
   "outputs": [],
   "source": [
    "X_train, y_train = train_dataset(points=200)\n",
    "X_train, y_train = torch.Tensor(X_train), torch.LongTensor(y_train)\n",
    "\n",
    "X_valid, y_valid = valid_dataset(points=200)\n",
    "X_valid, y_valid = torch.Tensor(X_valid), torch.LongTensor(y_valid)\n",
    "\n",
    "sine_train_loader = DataLoader(TensorDataset(X_train, y_train),\n",
    "                               batch_size=64,\n",
    "                               shuffle=True)\n",
    "sine_valid_loader = DataLoader(TensorDataset(X_valid, y_valid),\n",
    "                               batch_size=64,\n",
    "                               shuffle=False)"
   ]
  },
  {
   "cell_type": "code",
   "execution_count": null,
   "metadata": {
    "collapsed": true
   },
   "outputs": [],
   "source": []
  },
  {
   "cell_type": "code",
   "execution_count": 6,
   "metadata": {
    "collapsed": true
   },
   "outputs": [],
   "source": [
    "class ClipBPTTWrapper(nn.Module):\n",
    "    def __init__(self, rnn_layer, hidden_dim, time_steps):\n",
    "        super().__init__()\n",
    "        self.rnn_layer = rnn_layer\n",
    "        self.hidden_dim = hidden_dim\n",
    "        self.time_steps = time_steps\n",
    "        \n",
    "    def init_hidden(self, batch_size, use_cuda):\n",
    "        v = Variable(torch.zeros(self.hidden_dim, batch_size, self.hidden_dim))\n",
    "        return v.cuda() if use_cuda else v\n",
    "    \n",
    "    def repack(self, h):\n",
    "        v = Variable(h.data)\n",
    "        return v.cuda() if h.is_cuda else v\n",
    "    \n",
    "    def rnn(self, x, h):\n",
    "        return self.rnn_layer(x, h)\n",
    "        \n",
    "    def forward(self, x):\n",
    "        num_steps = ceil(x.size(1) / self.time_steps)\n",
    "        chunks = torch.chunk(x, num_steps, dim=1)\n",
    "        h = self.init_hidden(x.size(0), x.is_cuda)\n",
    "        ys = []\n",
    "        \n",
    "        for chunk in chunks:\n",
    "            h = self.repack(h) # limit backprop to one chunk\n",
    "            y, h = self.rnn(chunk, h)\n",
    "            ys.append(y[:,-1])\n",
    "        return torch.stack(ys, dim=1), h"
   ]
  },
  {
   "cell_type": "code",
   "execution_count": 7,
   "metadata": {
    "collapsed": true
   },
   "outputs": [],
   "source": [
    "def time_flatten(t):\n",
    "    return t.view(t.size(0) * t.size(1), -1)\n",
    "\n",
    "def time_unflatten(t, s):\n",
    "    return t.view(s[0], s[1], -1)"
   ]
  },
  {
   "cell_type": "code",
   "execution_count": 8,
   "metadata": {},
   "outputs": [],
   "source": [
    "class RepeatingRNN(nn.Module):\n",
    "    def __init__(self, rnn_layer):\n",
    "        super().__init__()\n",
    "        self.rnn_layer = rnn_layer\n",
    "        \n",
    "    def forward(self, x, target_length):\n",
    "        repeats = ceil(target_length / x.size(1))\n",
    "                \n",
    "        parts = []\n",
    "        for ti in range(x.size(1)):\n",
    "            xr = x[:, ti:(ti+1)].repeat(1, repeats, 1)\n",
    "            parts.append(xr)\n",
    "        \n",
    "        x_rep = torch.cat(parts, dim=1)\n",
    "        y, h = self.rnn_layer(x_rep)\n",
    "        return y[:, :target_length], h"
   ]
  },
  {
   "cell_type": "code",
   "execution_count": 48,
   "metadata": {},
   "outputs": [],
   "source": [
    "class ContextDecoderRNN(nn.Module):\n",
    "    def __init__(self, rnn_layer):\n",
    "        super().__init__()\n",
    "        self.rnn_layer = rnn_layer\n",
    "        \n",
    "    def forward(self, x, target_length):\n",
    "        # at time-step target_length % x.size(1) switch context to next value from x\n",
    "        cidx = 0\n",
    "        h = x[:, cidx:(cidx+1)].transpose(0, 1) # make context (t, b, u)\n",
    "        y_tm1 = Variable(torch.zeros(x.size(0), 1, x.size(-1)))\n",
    "        y_tm1 = y_tm1.cuda() if x.is_cuda else y_tm1\n",
    "        ys = []\n",
    "        # every nth step an update happens\n",
    "        update_step = target_length // x.size(1)\n",
    "        for ti in range(target_length):\n",
    "            y, h_new = self.rnn_layer(y_tm1, h)\n",
    "            ys.append(y)\n",
    "            y_tm1 = y\n",
    "            if ti > 0 and ti % update_step == 0:\n",
    "                h = x[:, cidx:(cidx+1)].transpose(0, 1)\n",
    "                cidx += 1\n",
    "            else:\n",
    "                h = y_tm1.transpose(0, 1)\n",
    "        return torch.stack(ys, dim=1), h"
   ]
  },
  {
   "cell_type": "code",
   "execution_count": 72,
   "metadata": {
    "collapsed": true
   },
   "outputs": [],
   "source": [
    "class ReconModel(nn.Module):\n",
    "    def __init__(\n",
    "        self, \n",
    "        num_hidden=16, \n",
    "        num_timesteps_per_chunk_0=20, \n",
    "        num_timesteps_per_chunk_1=2, \n",
    "        baseline=False,\n",
    "    ):\n",
    "        super().__init__()\n",
    "        \n",
    "        # t -> ceil(t/20) timesteps\n",
    "        layer_0 = nn.GRU(1, num_hidden, batch_first=True)\n",
    "        self.rnn_enc_0 = ClipBPTTWrapper(layer_0, num_hidden, num_timesteps_per_chunk_0)\n",
    "        \n",
    "        # ceil(t/20) -> ceil(ceil(t/20)/2) timesteps\n",
    "        layer_1 = nn.GRU(num_hidden, num_hidden, batch_first=True)\n",
    "        self.rnn_enc_1 = ClipBPTTWrapper(layer_1, num_hidden, num_timesteps_per_chunk_1)\n",
    "        \n",
    "        # ceil(ceil(t/20)/2) chunks total as hidden repr. (3 for t=100)\n",
    "        # so we now want 3 -> 100 again (recon task)\n",
    "        # we do this by generating 100//3 for each chunk\n",
    "        layer_2 = nn.GRU(num_hidden, num_hidden, batch_first=True)\n",
    "        self.rnn_dec_1 = RepeatingRNN(layer_2)\n",
    "        #self.rnn_dec_1 = ContextDecoderRNN(layer_2)\n",
    "\n",
    "        \n",
    "        self.clf = nn.Linear(num_hidden, 1)\n",
    "        \n",
    "    def forward(self, x):\n",
    "        l0, h0 = self.rnn_enc_0(x)\n",
    "        l1, h1 = self.rnn_enc_1(l0)\n",
    "        l2, h2 = self.rnn_dec_1(l1, x.size(1))\n",
    "        clf = self.clf(l2)\n",
    "        return time_unflatten(clf, x.size())"
   ]
  },
  {
   "cell_type": "code",
   "execution_count": null,
   "metadata": {
    "collapsed": true
   },
   "outputs": [],
   "source": []
  },
  {
   "cell_type": "code",
   "execution_count": 73,
   "metadata": {
    "collapsed": true
   },
   "outputs": [],
   "source": [
    "class Trainer(skorch.NeuralNet):\n",
    "    def __init__(self, \n",
    "                 criterion=nn.MSELoss,\n",
    "                 *args, \n",
    "                 **kwargs):\n",
    "        super().__init__(*args, criterion=criterion, **kwargs)\n",
    "\n",
    "    def get_loss(self, y_pred, y_true, X=None, train=False):\n",
    "        pred = time_flatten(y_pred)\n",
    "        true = time_flatten(y_true)\n",
    "        return super().get_loss(pred, true, X=X, train=train)"
   ]
  },
  {
   "cell_type": "markdown",
   "metadata": {},
   "source": [
    "## with clip"
   ]
  },
  {
   "cell_type": "code",
   "execution_count": 74,
   "metadata": {
    "collapsed": true
   },
   "outputs": [],
   "source": [
    "torch.manual_seed(1337)\n",
    "\n",
    "def my_train_split(X, y):\n",
    "    return X, X_valid[:, :-1], y, X_valid[:, 1:]\n",
    "\n",
    "ef_with = Trainer(module=ReconModel,\n",
    "             optimizer=torch.optim.Adam,\n",
    "             lr=0.005,\n",
    "             max_epochs=120,\n",
    "             train_split=my_train_split,\n",
    "             \n",
    "             module__num_hidden=16,\n",
    "             module__num_timesteps_per_chunk_0=11,\n",
    "             module__num_timesteps_per_chunk_1=2,\n",
    "            )"
   ]
  },
  {
   "cell_type": "code",
   "execution_count": 75,
   "metadata": {
    "scrolled": false
   },
   "outputs": [
    {
     "name": "stdout",
     "output_type": "stream",
     "text": [
      "Automatic pdb calling has been turned ON\n",
      "  epoch    train_loss    valid_loss     dur\n",
      "-------  ------------  ------------  ------\n",
      "      1        \u001b[36m1.9401\u001b[0m        \u001b[32m1.7514\u001b[0m  0.6790\n",
      "      2        \u001b[36m1.7812\u001b[0m        \u001b[32m1.6129\u001b[0m  0.7652\n",
      "      3        \u001b[36m1.6372\u001b[0m        \u001b[32m1.4759\u001b[0m  0.5975\n",
      "      4        \u001b[36m1.4944\u001b[0m        \u001b[32m1.3337\u001b[0m  0.6001\n",
      "      5        \u001b[36m1.3456\u001b[0m        \u001b[32m1.1845\u001b[0m  0.6872\n",
      "      6        \u001b[36m1.1889\u001b[0m        \u001b[32m1.0325\u001b[0m  0.5601\n",
      "      7        \u001b[36m1.0284\u001b[0m        \u001b[32m0.8882\u001b[0m  0.6439\n",
      "      8        \u001b[36m0.8743\u001b[0m        \u001b[32m0.7679\u001b[0m  0.6431\n",
      "      9        \u001b[36m0.7430\u001b[0m        \u001b[32m0.6906\u001b[0m  0.6761\n",
      "     10        \u001b[36m0.6538\u001b[0m        \u001b[32m0.6699\u001b[0m  0.6698\n",
      "     11        \u001b[36m0.6212\u001b[0m        0.6999  0.7294\n",
      "     12        0.6406        0.7509  0.5442\n",
      "     13        0.6840        0.7911  0.7049\n",
      "     14        0.7205        0.8062  0.6256\n",
      "     15        0.7350        0.7961  0.6751\n",
      "     16        0.7268        0.7671  0.5477\n",
      "     17        0.7017        0.7278  0.6284\n",
      "     18        0.6676        0.6866  0.5877\n",
      "     19        0.6326        \u001b[32m0.6506\u001b[0m  0.6536\n",
      "     20        \u001b[36m0.6033\u001b[0m        \u001b[32m0.6248\u001b[0m  0.6468\n",
      "     21        \u001b[36m0.5841\u001b[0m        \u001b[32m0.6103\u001b[0m  0.7139\n",
      "     22        \u001b[36m0.5759\u001b[0m        \u001b[32m0.6048\u001b[0m  0.5825\n",
      "     23        \u001b[36m0.5758\u001b[0m        \u001b[32m0.6035\u001b[0m  0.7168\n",
      "     24        0.5789        \u001b[32m0.6017\u001b[0m  0.7086\n",
      "     25        0.5802        \u001b[32m0.5958\u001b[0m  0.6155\n",
      "     26        0.5763        \u001b[32m0.5846\u001b[0m  0.7005\n",
      "     27        \u001b[36m0.5661\u001b[0m        \u001b[32m0.5690\u001b[0m  0.6047\n",
      "     28        \u001b[36m0.5505\u001b[0m        \u001b[32m0.5508\u001b[0m  0.7252\n",
      "     29        \u001b[36m0.5317\u001b[0m        \u001b[32m0.5321\u001b[0m  0.6754\n",
      "     30        \u001b[36m0.5121\u001b[0m        \u001b[32m0.5143\u001b[0m  0.6515\n",
      "     31        \u001b[36m0.4934\u001b[0m        \u001b[32m0.4976\u001b[0m  0.7017\n",
      "     32        \u001b[36m0.4761\u001b[0m        \u001b[32m0.4807\u001b[0m  0.7230\n",
      "     33        \u001b[36m0.4593\u001b[0m        \u001b[32m0.4614\u001b[0m  0.6312\n",
      "     34        \u001b[36m0.4411\u001b[0m        \u001b[32m0.4379\u001b[0m  0.6471\n",
      "     35        \u001b[36m0.4197\u001b[0m        \u001b[32m0.4089\u001b[0m  0.6373\n",
      "     36        \u001b[36m0.3938\u001b[0m        \u001b[32m0.3749\u001b[0m  0.6579\n",
      "     37        \u001b[36m0.3634\u001b[0m        \u001b[32m0.3384\u001b[0m  0.5910\n",
      "     38        \u001b[36m0.3303\u001b[0m        \u001b[32m0.3034\u001b[0m  0.7011\n",
      "     39        \u001b[36m0.2980\u001b[0m        \u001b[32m0.2750\u001b[0m  0.6106\n",
      "     40        \u001b[36m0.2707\u001b[0m        \u001b[32m0.2571\u001b[0m  0.6818\n",
      "     41        \u001b[36m0.2518\u001b[0m        \u001b[32m0.2503\u001b[0m  0.5611\n",
      "     42        \u001b[36m0.2423\u001b[0m        \u001b[32m0.2500\u001b[0m  0.6409\n",
      "     43        \u001b[36m0.2383\u001b[0m        \u001b[32m0.2484\u001b[0m  0.6666\n",
      "     44        \u001b[36m0.2335\u001b[0m        \u001b[32m0.2409\u001b[0m  0.5623\n",
      "     45        \u001b[36m0.2245\u001b[0m        \u001b[32m0.2306\u001b[0m  0.7836\n",
      "     46        \u001b[36m0.2145\u001b[0m        \u001b[32m0.2232\u001b[0m  0.7308\n",
      "     47        \u001b[36m0.2087\u001b[0m        \u001b[32m0.2207\u001b[0m  0.7193\n",
      "     48        \u001b[36m0.2087\u001b[0m        \u001b[32m0.2196\u001b[0m  0.6013\n",
      "     49        0.2099        \u001b[32m0.2148\u001b[0m  0.6627\n",
      "     50        \u001b[36m0.2067\u001b[0m        \u001b[32m0.2055\u001b[0m  0.6783\n",
      "     51        \u001b[36m0.1978\u001b[0m        \u001b[32m0.1952\u001b[0m  0.7153\n",
      "     52        \u001b[36m0.1867\u001b[0m        \u001b[32m0.1879\u001b[0m  0.6426\n",
      "     53        \u001b[36m0.1775\u001b[0m        \u001b[32m0.1846\u001b[0m  0.6784\n",
      "     54        \u001b[36m0.1720\u001b[0m        \u001b[32m0.1823\u001b[0m  0.6236\n",
      "     55        \u001b[36m0.1686\u001b[0m        \u001b[32m0.1772\u001b[0m  0.7081\n",
      "     56        \u001b[36m0.1641\u001b[0m        \u001b[32m0.1690\u001b[0m  0.5809\n",
      "     57        \u001b[36m0.1575\u001b[0m        \u001b[32m0.1609\u001b[0m  0.7355\n",
      "     58        \u001b[36m0.1511\u001b[0m        \u001b[32m0.1561\u001b[0m  0.6510\n",
      "     59        \u001b[36m0.1475\u001b[0m        \u001b[32m0.1547\u001b[0m  0.6820\n",
      "     60        \u001b[36m0.1467\u001b[0m        \u001b[32m0.1544\u001b[0m  0.6736\n",
      "     61        \u001b[36m0.1464\u001b[0m        \u001b[32m0.1529\u001b[0m  0.6530\n",
      "     62        \u001b[36m0.1445\u001b[0m        \u001b[32m0.1504\u001b[0m  0.6004\n",
      "     63        \u001b[36m0.1412\u001b[0m        \u001b[32m0.1486\u001b[0m  0.6678\n",
      "     64        \u001b[36m0.1385\u001b[0m        0.1487  0.6051\n",
      "     65        \u001b[36m0.1376\u001b[0m        0.1496  0.6413\n",
      "     66        \u001b[36m0.1375\u001b[0m        0.1498  0.7058\n",
      "     67        \u001b[36m0.1362\u001b[0m        0.1494  0.6917\n",
      "     68        \u001b[36m0.1337\u001b[0m        0.1499  0.6582\n",
      "     69        \u001b[36m0.1321\u001b[0m        0.1519  0.6801\n",
      "     70        0.1324        0.1542  0.8254\n",
      "     71        0.1330        0.1555  0.6075\n",
      "     72        0.1329        0.1561  0.6808\n",
      "     73        0.1325        0.1562  0.5883\n",
      "     74        0.1325        0.1550  0.6452\n",
      "     75        \u001b[36m0.1319\u001b[0m        0.1522  0.6294\n",
      "     76        \u001b[36m0.1298\u001b[0m        0.1488  0.6541\n",
      "     77        \u001b[36m0.1271\u001b[0m        \u001b[32m0.1465\u001b[0m  0.6355\n",
      "     78        \u001b[36m0.1253\u001b[0m        \u001b[32m0.1452\u001b[0m  0.6696\n",
      "     79        \u001b[36m0.1247\u001b[0m        \u001b[32m0.1439\u001b[0m  0.6135\n",
      "     80        \u001b[36m0.1242\u001b[0m        \u001b[32m0.1426\u001b[0m  0.6916\n",
      "     81        \u001b[36m0.1240\u001b[0m        \u001b[32m0.1419\u001b[0m  0.6010\n",
      "     82        0.1242        \u001b[32m0.1417\u001b[0m  0.7628\n",
      "     83        0.1245        \u001b[32m0.1417\u001b[0m  0.6529\n",
      "     84        \u001b[36m0.1240\u001b[0m        0.1418  0.8149\n",
      "     85        \u001b[36m0.1228\u001b[0m        0.1424  0.5612\n",
      "     86        \u001b[36m0.1219\u001b[0m        0.1433  0.5881\n",
      "     87        \u001b[36m0.1214\u001b[0m        0.1439  0.6018\n",
      "     88        \u001b[36m0.1212\u001b[0m        0.1443  0.5478\n",
      "     89        \u001b[36m0.1211\u001b[0m        0.1444  0.6109\n",
      "     90        \u001b[36m0.1211\u001b[0m        0.1435  0.5383\n",
      "     91        \u001b[36m0.1203\u001b[0m        \u001b[32m0.1415\u001b[0m  0.5930\n",
      "     92        \u001b[36m0.1186\u001b[0m        \u001b[32m0.1391\u001b[0m  0.5330\n",
      "     93        \u001b[36m0.1167\u001b[0m        \u001b[32m0.1366\u001b[0m  0.6072\n",
      "     94        \u001b[36m0.1151\u001b[0m        \u001b[32m0.1338\u001b[0m  0.5554\n",
      "     95        \u001b[36m0.1135\u001b[0m        \u001b[32m0.1312\u001b[0m  0.6031\n",
      "     96        \u001b[36m0.1122\u001b[0m        \u001b[32m0.1288\u001b[0m  0.5471\n",
      "     97        \u001b[36m0.1109\u001b[0m        \u001b[32m0.1266\u001b[0m  0.6032\n",
      "     98        \u001b[36m0.1092\u001b[0m        \u001b[32m0.1245\u001b[0m  0.5442\n",
      "     99        \u001b[36m0.1070\u001b[0m        \u001b[32m0.1228\u001b[0m  0.6097\n",
      "    100        \u001b[36m0.1049\u001b[0m        \u001b[32m0.1211\u001b[0m  0.6076\n",
      "    101        \u001b[36m0.1030\u001b[0m        \u001b[32m0.1197\u001b[0m  0.7177\n",
      "    102        \u001b[36m0.1012\u001b[0m        \u001b[32m0.1182\u001b[0m  0.6465\n",
      "    103        \u001b[36m0.0995\u001b[0m        \u001b[32m0.1163\u001b[0m  0.7609\n",
      "    104        \u001b[36m0.0974\u001b[0m        \u001b[32m0.1140\u001b[0m  0.6848\n",
      "    105        \u001b[36m0.0952\u001b[0m        \u001b[32m0.1117\u001b[0m  0.6738\n",
      "    106        \u001b[36m0.0934\u001b[0m        \u001b[32m0.1092\u001b[0m  0.6613\n",
      "    107        \u001b[36m0.0919\u001b[0m        \u001b[32m0.1070\u001b[0m  0.6477\n",
      "    108        \u001b[36m0.0908\u001b[0m        \u001b[32m0.1048\u001b[0m  0.6012\n",
      "    109        \u001b[36m0.0896\u001b[0m        \u001b[32m0.1033\u001b[0m  0.5381\n",
      "    110        \u001b[36m0.0886\u001b[0m        \u001b[32m0.1023\u001b[0m  0.6285\n",
      "    111        \u001b[36m0.0880\u001b[0m        \u001b[32m0.1018\u001b[0m  0.5994\n",
      "    112        \u001b[36m0.0877\u001b[0m        \u001b[32m0.1016\u001b[0m  0.7791\n",
      "    113        \u001b[36m0.0870\u001b[0m        \u001b[32m0.1016\u001b[0m  0.6658\n",
      "    114        \u001b[36m0.0861\u001b[0m        0.1016  0.7976\n",
      "    115        \u001b[36m0.0853\u001b[0m        \u001b[32m0.1015\u001b[0m  0.6753\n",
      "    116        \u001b[36m0.0846\u001b[0m        \u001b[32m0.1009\u001b[0m  0.6554\n",
      "    117        \u001b[36m0.0835\u001b[0m        \u001b[32m0.1004\u001b[0m  0.5537\n",
      "    118        \u001b[36m0.0827\u001b[0m        \u001b[32m0.0998\u001b[0m  0.7268\n",
      "    119        \u001b[36m0.0821\u001b[0m        \u001b[32m0.0991\u001b[0m  0.6094\n",
      "    120        \u001b[36m0.0813\u001b[0m        \u001b[32m0.0986\u001b[0m  0.7442\n"
     ]
    },
    {
     "data": {
      "text/plain": [
       "<__main__.Trainer at 0x7f6590f66cf8>"
      ]
     },
     "execution_count": 75,
     "metadata": {},
     "output_type": "execute_result"
    }
   ],
   "source": [
    "%pdb on\n",
    "ef_with.fit(X_train[:, :-1], X_train[:, 1:])"
   ]
  },
  {
   "cell_type": "code",
   "execution_count": 76,
   "metadata": {},
   "outputs": [
    {
     "data": {
      "image/png": "[encoded data removed]",
      "text/plain": [
       "<matplotlib.figure.Figure at 0x7f6593d71128>"
      ]
     },
     "metadata": {},
     "output_type": "display_data"
    },
    {
     "data": {
      "image/png": "[encoded data removed]",
      "text/plain": [
       "<matplotlib.figure.Figure at 0x7f65916740f0>"
      ]
     },
     "metadata": {},
     "output_type": "display_data"
    },
    {
     "data": {
      "image/png": "[encoded data removed]",
      "text/plain": [
       "<matplotlib.figure.Figure at 0x7f659190f550>"
      ]
     },
     "metadata": {},
     "output_type": "display_data"
    }
   ],
   "source": [
    "data = X_valid\n",
    "pred = ef_with.predict_proba(data)\n",
    "\n",
    "for i in range(pred.shape[0]):\n",
    "    plt.figure(i)\n",
    "    plt.plot(data[i].numpy())\n",
    "    plt.plot(np.arange(len(pred[i])), pred[i])"
   ]
  },
  {
   "cell_type": "code",
   "execution_count": null,
   "metadata": {
    "collapsed": true
   },
   "outputs": [],
   "source": []
  }
 ],
 "metadata": {
  "kernelspec": {
   "display_name": "Python 3",
   "language": "python",
   "name": "python3"
  },
  "language_info": {
   "codemirror_mode": {
    "name": "ipython",
    "version": 3
   },
   "file_extension": ".py",
   "mimetype": "text/x-python",
   "name": "python",
   "nbconvert_exporter": "python",
   "pygments_lexer": "ipython3",
   "version": "3.5.2"
  }
 },
 "nbformat": 4,
 "nbformat_minor": 2
}
