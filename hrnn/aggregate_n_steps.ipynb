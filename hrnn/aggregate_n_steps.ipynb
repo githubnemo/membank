{
 "cells": [
  {
   "cell_type": "raw",
   "metadata": {},
   "source": [
    "We want to test if temporal-gradient-locality helps.\n",
    "\n",
    "We test this by reducing a N-sequence into N//M chunks, every chunk of a fixed size (vector)"
   ]
  },
  {
   "cell_type": "code",
   "execution_count": 1,
   "metadata": {
    "collapsed": true
   },
   "outputs": [],
   "source": [
    "import skorch\n",
    "import torch\n",
    "import torch.nn as nn\n",
    "\n",
    "from math import ceil\n",
    "from torch.autograd import Variable\n",
    "from torch.utils.data.dataloader import DataLoader\n",
    "from torch.utils.data import TensorDataset"
   ]
  },
  {
   "cell_type": "code",
   "execution_count": 2,
   "metadata": {
    "collapsed": true
   },
   "outputs": [],
   "source": [
    "%matplotlib inline\n",
    "import matplotlib.pyplot as plt\n",
    "import numpy as np"
   ]
  },
  {
   "cell_type": "code",
   "execution_count": 3,
   "metadata": {
    "collapsed": true
   },
   "outputs": [],
   "source": [
    "from sine_data import train_dataset, valid_dataset"
   ]
  },
  {
   "cell_type": "code",
   "execution_count": 4,
   "metadata": {
    "collapsed": true
   },
   "outputs": [],
   "source": [
    "NUM_POINTS = 200\n",
    "\n",
    "X_train, y_train = train_dataset(points=NUM_POINTS)\n",
    "X_train, y_train = torch.Tensor(X_train), torch.LongTensor(y_train)\n",
    "\n",
    "X_valid, y_valid = valid_dataset(points=NUM_POINTS)\n",
    "X_valid, y_valid = torch.Tensor(X_valid), torch.LongTensor(y_valid)\n",
    "\n",
    "sine_train_loader = DataLoader(TensorDataset(X_train, y_train),\n",
    "                               batch_size=64,\n",
    "                               shuffle=True)\n",
    "sine_valid_loader = DataLoader(TensorDataset(X_valid, y_valid),\n",
    "                               batch_size=64,\n",
    "                               shuffle=False)"
   ]
  },
  {
   "cell_type": "code",
   "execution_count": null,
   "metadata": {
    "collapsed": true
   },
   "outputs": [],
   "source": []
  },
  {
   "cell_type": "code",
   "execution_count": 5,
   "metadata": {
    "collapsed": true
   },
   "outputs": [],
   "source": [
    "class ClipBPTTWrapper(nn.Module):\n",
    "    def __init__(self, rnn_layer, hidden_dim, timestep_divisor):\n",
    "        super().__init__()\n",
    "        self.rnn_layer = rnn_layer\n",
    "        self.hidden_dim = hidden_dim\n",
    "        self.timestep_divisor = timestep_divisor\n",
    "        \n",
    "    def init_hidden(self, batch_size, use_cuda):\n",
    "        v = Variable(torch.zeros(self.hidden_dim, batch_size, self.hidden_dim))\n",
    "        return v.cuda() if use_cuda else v\n",
    "    \n",
    "    def repack(self, h):\n",
    "        v = Variable(h.data)\n",
    "        return v.cuda() if h.is_cuda else v\n",
    "    \n",
    "    def rnn(self, x, h):\n",
    "        return self.rnn_layer(x, h)\n",
    "        \n",
    "    def forward(self, x):\n",
    "        num_steps = ceil(x.size(1) / self.timestep_divisor)\n",
    "        chunks = torch.chunk(x, num_steps, dim=1)\n",
    "        h = self.init_hidden(x.size(0), x.is_cuda)\n",
    "        ys = []\n",
    "        \n",
    "        for chunk in chunks:\n",
    "            h = self.repack(h) # limit backprop to one chunk\n",
    "            y, h = self.rnn(chunk, h)\n",
    "            ys.append(y[:,-1])\n",
    "        return torch.stack(ys, dim=1), h"
   ]
  },
  {
   "cell_type": "code",
   "execution_count": 6,
   "metadata": {
    "collapsed": true
   },
   "outputs": [],
   "source": [
    "def time_flatten(t):\n",
    "    return t.view(t.size(0) * t.size(1), -1)\n",
    "\n",
    "def time_unflatten(t, s):\n",
    "    return t.view(s[0], s[1], -1)"
   ]
  },
  {
   "cell_type": "code",
   "execution_count": 7,
   "metadata": {
    "collapsed": true
   },
   "outputs": [],
   "source": [
    "class RepeatingRNN(nn.Module):\n",
    "    def __init__(self, rnn_layer):\n",
    "        super().__init__()\n",
    "        self.rnn_layer = rnn_layer\n",
    "        \n",
    "    def forward(self, x, target_length):\n",
    "        repeats = ceil(target_length / x.size(1))\n",
    "                \n",
    "        parts = []\n",
    "        for ti in range(x.size(1)):\n",
    "            xr = x[:, ti:(ti+1)].repeat(1, repeats, 1)\n",
    "            parts.append(xr)\n",
    "        \n",
    "        x_rep = torch.cat(parts, dim=1)\n",
    "        y, h = self.rnn_layer(x_rep)\n",
    "        return y[:, :target_length], h"
   ]
  },
  {
   "cell_type": "code",
   "execution_count": 8,
   "metadata": {
    "collapsed": true
   },
   "outputs": [],
   "source": [
    "class ContextDecoderRNN(nn.Module):\n",
    "    def __init__(self, rnn_layer):\n",
    "        super().__init__()\n",
    "        self.rnn_layer = rnn_layer\n",
    "        \n",
    "    def forward(self, x, target_length):\n",
    "        # at time-step (target_length % x.size(1)) switch context to next value from x\n",
    "        cidx = 0\n",
    "        h = x[:, cidx:(cidx+1)].transpose(0, 1) # make context (t, b, u)\n",
    "        y_tm1 = Variable(torch.zeros(x.size(0), 1, x.size(-1)))\n",
    "        y_tm1 = y_tm1.cuda() if x.is_cuda else y_tm1\n",
    "        ys = []\n",
    "        # every nth step an update happens\n",
    "        update_step = ceil(target_length / x.size(1))\n",
    "        for ti in range(target_length):\n",
    "            y, h_new = self.rnn_layer(y_tm1, h)\n",
    "            ys.append(y)\n",
    "            y_tm1 = y\n",
    "            if ti > 0 and ti % update_step == 0:\n",
    "                h = x[:, cidx:(cidx+1)].transpose(0, 1)\n",
    "                cidx += 1\n",
    "        return torch.stack(ys, dim=1), h"
   ]
  },
  {
   "cell_type": "code",
   "execution_count": 9,
   "metadata": {
    "collapsed": true
   },
   "outputs": [],
   "source": [
    "class MLPDecoder(nn.Module):\n",
    "    def __init__(self, input_dim, input_length, output_dim, target_length):\n",
    "        super().__init__()\n",
    "        self.output_dim = output_dim\n",
    "        self.target_length = target_length\n",
    "        self.m = nn.Linear(input_dim * input_length, output_dim * target_length)\n",
    "        \n",
    "    def forward(self, x, _):\n",
    "        # from N sized chunk predict M length with size U\n",
    "        # so: N -> (M * U) which can then be transformed to (M, U)\n",
    "        y = self.m(x.view(-1, x.size(1) * x.size(2)))\n",
    "        return y.view(-1, self.target_length, self.output_dim), None"
   ]
  },
  {
   "cell_type": "code",
   "execution_count": 10,
   "metadata": {
    "collapsed": true
   },
   "outputs": [],
   "source": [
    "class ConcatS2SDecoder(nn.Module):\n",
    "    def __init__(self, rnn_layer):\n",
    "        super().__init__()\n",
    "        self.rnn_layer = rnn_layer\n",
    "        \n",
    "    def forward(self, x, target_length):\n",
    "        # at time-step target_length % x.size(1) switch context to next value from x\n",
    "        h = torch.cat(x, dim=1).transpose(0, 1) # make context (t, b, u)\n",
    "        y_tm1 = Variable(torch.zeros(x.size(0), 1, x.size(-1)))\n",
    "        y_tm1 = y_tm1.cuda() if x.is_cuda else y_tm1\n",
    "        ys = []\n",
    "        # every nth step an update happens\n",
    "        for ti in range(target_length):\n",
    "            y, h_new = self.rnn_layer(y_tm1, h)\n",
    "            ys.append(y)\n",
    "            y_tm1 = y\n",
    "            h = y_tm1.transpose(0, 1)\n",
    "        return torch.stack(ys, dim=1), h"
   ]
  },
  {
   "cell_type": "code",
   "execution_count": 26,
   "metadata": {
    "collapsed": true
   },
   "outputs": [],
   "source": [
    "class ReconModel(nn.Module):\n",
    "    def __init__(\n",
    "        self, \n",
    "        num_hidden=16, \n",
    "        timestep_divisor_0=20, \n",
    "        timestep_divisor_1=2, \n",
    "        baseline=False,\n",
    "    ):\n",
    "        super().__init__()\n",
    "        \n",
    "        # t -> ceil(t/20) timesteps\n",
    "        layer_0 = nn.GRU(1, num_hidden, batch_first=True)\n",
    "        self.rnn_enc_0 = ClipBPTTWrapper(layer_0, num_hidden, timestep_divisor_0)\n",
    "\n",
    "        # ceil(t/20) -> ceil(ceil(t/20)/2) timesteps\n",
    "        layer_1 = nn.GRU(num_hidden, num_hidden, batch_first=True)\n",
    "        self.rnn_enc_1 = ClipBPTTWrapper(layer_1, num_hidden, timestep_divisor_1)\n",
    "                \n",
    "        # ceil(ceil(t/20)/2) chunks total as hidden repr. (3 for t=100)\n",
    "        # so we now want 3 -> 100 again (recon task)\n",
    "        # we do this by generating 100//3 for each chunk\n",
    "        layer_2 = nn.GRU(num_hidden, num_hidden, batch_first=True)\n",
    "        #self.rnn_dec_1 = RepeatingRNN(layer_2)\n",
    "        self.rnn_dec_1 = ContextDecoderRNN(layer_2)\n",
    "#         self.rnn_dec_1 = MLPDecoder(\n",
    "#             num_hidden, \n",
    "#             ceil(ceil((NUM_POINTS-1)/timestep_divisor_0)/timestep_divisor_1),\n",
    "#             num_hidden,\n",
    "#             NUM_POINTS - 1)\n",
    "        #self.rnn_dec_1 = ConcatS2SDecoder(layer_2)\n",
    "        \n",
    "        self.clf = nn.Linear(num_hidden, 1)\n",
    "        \n",
    "    def forward(self, x):\n",
    "        l0, h0 = self.rnn_enc_0(x)\n",
    "        l1, h1 = self.rnn_enc_1(l0)\n",
    "        l2, h2 = self.rnn_dec_1(l1, x.size(1))\n",
    "        #l2 = self.dropout_2(l2)\n",
    "        #print('l0', l0.size(), 'l1', l1.size(), 'l2', l2.size())\n",
    "        clf = self.clf(l2)\n",
    "        return time_unflatten(clf, x.size())"
   ]
  },
  {
   "cell_type": "code",
   "execution_count": null,
   "metadata": {
    "collapsed": true
   },
   "outputs": [],
   "source": []
  },
  {
   "cell_type": "code",
   "execution_count": 27,
   "metadata": {
    "collapsed": true
   },
   "outputs": [],
   "source": [
    "class Trainer(skorch.NeuralNet):\n",
    "    def __init__(self, \n",
    "                 criterion=nn.MSELoss,\n",
    "                 *args, \n",
    "                 **kwargs):\n",
    "        super().__init__(*args, criterion=criterion, **kwargs)\n",
    "\n",
    "    def get_loss(self, y_pred, y_true, X=None, train=False):\n",
    "        pred = time_flatten(y_pred)\n",
    "        true = time_flatten(y_true)\n",
    "        return super().get_loss(pred, true, X=X, train=train)"
   ]
  },
  {
   "cell_type": "markdown",
   "metadata": {},
   "source": [
    "## with clip"
   ]
  },
  {
   "cell_type": "code",
   "execution_count": 31,
   "metadata": {
    "collapsed": true
   },
   "outputs": [],
   "source": [
    "torch.manual_seed(1337)\n",
    "\n",
    "def my_train_split(X, y):\n",
    "    return X, X_valid[:, :-1], y, X_valid[:, 1:]\n",
    "\n",
    "ef_with = Trainer(module=ReconModel,\n",
    "             optimizer=torch.optim.Adam,\n",
    "             lr=0.008,\n",
    "             max_epochs=80,\n",
    "             train_split=my_train_split,\n",
    "             \n",
    "             module__num_hidden=8,\n",
    "             module__timestep_divisor_0=4,\n",
    "             module__timestep_divisor_1=4,\n",
    "            )"
   ]
  },
  {
   "cell_type": "code",
   "execution_count": 32,
   "metadata": {
    "scrolled": false
   },
   "outputs": [
    {
     "name": "stdout",
     "output_type": "stream",
     "text": [
      "Automatic pdb calling has been turned ON\n",
      "  epoch    train_loss    valid_loss     dur\n",
      "-------  ------------  ------------  ------\n",
      "      1        \u001b[36m1.5938\u001b[0m        \u001b[32m1.4417\u001b[0m  0.6783\n",
      "      2        \u001b[36m1.4694\u001b[0m        \u001b[32m1.3187\u001b[0m  0.7994\n",
      "      3        \u001b[36m1.3428\u001b[0m        \u001b[32m1.1927\u001b[0m  0.8094\n",
      "      4        \u001b[36m1.2129\u001b[0m        \u001b[32m1.0653\u001b[0m  0.8079\n",
      "      5        \u001b[36m1.0811\u001b[0m        \u001b[32m0.9393\u001b[0m  0.7434\n",
      "      6        \u001b[36m0.9503\u001b[0m        \u001b[32m0.8184\u001b[0m  0.7611\n",
      "      7        \u001b[36m0.8241\u001b[0m        \u001b[32m0.7078\u001b[0m  0.7525\n",
      "      8        \u001b[36m0.7077\u001b[0m        \u001b[32m0.6155\u001b[0m  0.7579\n",
      "      9        \u001b[36m0.6089\u001b[0m        \u001b[32m0.5515\u001b[0m  0.7154\n",
      "     10        \u001b[36m0.5380\u001b[0m        \u001b[32m0.5252\u001b[0m  0.7646\n",
      "     11        \u001b[36m0.5044\u001b[0m        0.5378  0.7562\n",
      "     12        0.5101        0.5744  0.7104\n",
      "     13        0.5415        0.6085  0.7678\n",
      "     14        0.5732        0.6210  0.7753\n",
      "     15        0.5861        0.6078  0.7689\n",
      "     16        0.5757        0.5750  0.7187\n",
      "     17        0.5471        0.5321  0.7725\n",
      "     18        0.5093        \u001b[32m0.4883\u001b[0m  0.7655\n",
      "     19        \u001b[36m0.4709\u001b[0m        \u001b[32m0.4505\u001b[0m  0.7535\n",
      "     20        \u001b[36m0.4382\u001b[0m        \u001b[32m0.4220\u001b[0m  0.7114\n",
      "     21        \u001b[36m0.4146\u001b[0m        \u001b[32m0.4032\u001b[0m  0.7548\n",
      "     22        \u001b[36m0.4001\u001b[0m        \u001b[32m0.3921\u001b[0m  0.7548\n",
      "     23        \u001b[36m0.3928\u001b[0m        \u001b[32m0.3854\u001b[0m  0.7563\n",
      "     24        \u001b[36m0.3895\u001b[0m        \u001b[32m0.3801\u001b[0m  0.7043\n",
      "     25        \u001b[36m0.3872\u001b[0m        \u001b[32m0.3741\u001b[0m  0.7547\n",
      "     26        \u001b[36m0.3838\u001b[0m        \u001b[32m0.3659\u001b[0m  0.7565\n",
      "     27        \u001b[36m0.3778\u001b[0m        \u001b[32m0.3553\u001b[0m  0.7031\n",
      "     28        \u001b[36m0.3692\u001b[0m        \u001b[32m0.3428\u001b[0m  0.7556\n",
      "     29        \u001b[36m0.3584\u001b[0m        \u001b[32m0.3294\u001b[0m  0.7734\n",
      "     30        \u001b[36m0.3465\u001b[0m        \u001b[32m0.3165\u001b[0m  0.7608\n",
      "     31        \u001b[36m0.3351\u001b[0m        \u001b[32m0.3052\u001b[0m  0.7059\n",
      "     32        \u001b[36m0.3252\u001b[0m        \u001b[32m0.2964\u001b[0m  0.7771\n",
      "     33        \u001b[36m0.3178\u001b[0m        \u001b[32m0.2901\u001b[0m  0.7539\n",
      "     34        \u001b[36m0.3129\u001b[0m        \u001b[32m0.2859\u001b[0m  0.7566\n",
      "     35        \u001b[36m0.3100\u001b[0m        \u001b[32m0.2828\u001b[0m  0.6893\n",
      "     36        \u001b[36m0.3082\u001b[0m        \u001b[32m0.2798\u001b[0m  0.7363\n",
      "     37        \u001b[36m0.3061\u001b[0m        \u001b[32m0.2761\u001b[0m  0.7857\n",
      "     38        \u001b[36m0.3030\u001b[0m        \u001b[32m0.2712\u001b[0m  0.7621\n",
      "     39        \u001b[36m0.2985\u001b[0m        \u001b[32m0.2653\u001b[0m  0.7296\n",
      "     40        \u001b[36m0.2925\u001b[0m        \u001b[32m0.2590\u001b[0m  0.7287\n",
      "     41        \u001b[36m0.2858\u001b[0m        \u001b[32m0.2529\u001b[0m  0.7353\n",
      "     42        \u001b[36m0.2791\u001b[0m        \u001b[32m0.2478\u001b[0m  0.6795\n",
      "     43        \u001b[36m0.2732\u001b[0m        \u001b[32m0.2440\u001b[0m  0.7671\n",
      "     44        \u001b[36m0.2686\u001b[0m        \u001b[32m0.2414\u001b[0m  0.7341\n",
      "     45        \u001b[36m0.2653\u001b[0m        \u001b[32m0.2396\u001b[0m  0.6882\n",
      "     46        \u001b[36m0.2628\u001b[0m        \u001b[32m0.2378\u001b[0m  0.7389\n",
      "     47        \u001b[36m0.2604\u001b[0m        \u001b[32m0.2354\u001b[0m  0.7394\n",
      "     48        \u001b[36m0.2574\u001b[0m        \u001b[32m0.2323\u001b[0m  0.7272\n",
      "     49        \u001b[36m0.2536\u001b[0m        \u001b[32m0.2286\u001b[0m  0.6786\n",
      "     50        \u001b[36m0.2492\u001b[0m        \u001b[32m0.2250\u001b[0m  0.7380\n",
      "     51        \u001b[36m0.2449\u001b[0m        \u001b[32m0.2218\u001b[0m  0.7311\n",
      "     52        \u001b[36m0.2410\u001b[0m        \u001b[32m0.2193\u001b[0m  0.8099\n",
      "     53        \u001b[36m0.2377\u001b[0m        \u001b[32m0.2172\u001b[0m  0.7496\n",
      "     54        \u001b[36m0.2350\u001b[0m        \u001b[32m0.2154\u001b[0m  0.8034\n",
      "     55        \u001b[36m0.2325\u001b[0m        \u001b[32m0.2133\u001b[0m  0.8124\n",
      "     56        \u001b[36m0.2297\u001b[0m        \u001b[32m0.2107\u001b[0m  0.8955\n",
      "     57        \u001b[36m0.2264\u001b[0m        \u001b[32m0.2078\u001b[0m  0.7799\n",
      "     58        \u001b[36m0.2227\u001b[0m        \u001b[32m0.2047\u001b[0m  0.8943\n",
      "     59        \u001b[36m0.2190\u001b[0m        \u001b[32m0.2019\u001b[0m  0.8619\n",
      "     60        \u001b[36m0.2156\u001b[0m        \u001b[32m0.1993\u001b[0m  0.7951\n",
      "     61        \u001b[36m0.2126\u001b[0m        \u001b[32m0.1970\u001b[0m  0.9515\n",
      "     62        \u001b[36m0.2100\u001b[0m        \u001b[32m0.1947\u001b[0m  0.8151\n",
      "     63        \u001b[36m0.2074\u001b[0m        \u001b[32m0.1921\u001b[0m  0.8096\n",
      "     64        \u001b[36m0.2045\u001b[0m        \u001b[32m0.1895\u001b[0m  0.7966\n",
      "     65        \u001b[36m0.2014\u001b[0m        \u001b[32m0.1870\u001b[0m  0.8054\n",
      "     66        \u001b[36m0.1984\u001b[0m        \u001b[32m0.1850\u001b[0m  0.7560\n",
      "     67        \u001b[36m0.1958\u001b[0m        \u001b[32m0.1833\u001b[0m  0.7747\n",
      "     68        \u001b[36m0.1936\u001b[0m        \u001b[32m0.1817\u001b[0m  0.7129\n",
      "     69        \u001b[36m0.1915\u001b[0m        \u001b[32m0.1799\u001b[0m  0.7723\n",
      "     70        \u001b[36m0.1893\u001b[0m        \u001b[32m0.1779\u001b[0m  0.7702\n",
      "     71        \u001b[36m0.1870\u001b[0m        \u001b[32m0.1759\u001b[0m  0.7167\n",
      "     72        \u001b[36m0.1849\u001b[0m        \u001b[32m0.1741\u001b[0m  0.7679\n",
      "     73        \u001b[36m0.1832\u001b[0m        \u001b[32m0.1726\u001b[0m  0.7746\n",
      "     74        \u001b[36m0.1817\u001b[0m        \u001b[32m0.1711\u001b[0m  0.7695\n",
      "     75        \u001b[36m0.1802\u001b[0m        \u001b[32m0.1697\u001b[0m  0.7253\n",
      "     76        \u001b[36m0.1784\u001b[0m        \u001b[32m0.1683\u001b[0m  0.7629\n",
      "     77        \u001b[36m0.1766\u001b[0m        \u001b[32m0.1671\u001b[0m  0.7868\n",
      "     78        \u001b[36m0.1751\u001b[0m        \u001b[32m0.1658\u001b[0m  0.7138\n",
      "     79        \u001b[36m0.1736\u001b[0m        \u001b[32m0.1644\u001b[0m  0.7652\n",
      "     80        \u001b[36m0.1722\u001b[0m        \u001b[32m0.1626\u001b[0m  0.7360\n"
     ]
    },
    {
     "data": {
      "text/plain": [
       "<__main__.Trainer at 0x7f9f26134ac8>"
      ]
     },
     "execution_count": 32,
     "metadata": {},
     "output_type": "execute_result"
    }
   ],
   "source": [
    "%pdb on\n",
    "ef_with.fit(X_train[:, :-1], X_train[:, 1:])"
   ]
  },
  {
   "cell_type": "code",
   "execution_count": 33,
   "metadata": {
    "scrolled": false
   },
   "outputs": [
    {
     "data": {
      "image/png": "[encoded data removed]",
      "text/plain": [
       "<matplotlib.figure.Figure at 0x7f9f25e30470>"
      ]
     },
     "metadata": {},
     "output_type": "display_data"
    },
    {
     "data": {
      "image/png": "[encoded data removed]",
      "text/plain": [
       "<matplotlib.figure.Figure at 0x7f9f27db20f0>"
      ]
     },
     "metadata": {},
     "output_type": "display_data"
    },
    {
     "data": {
      "image/png": "[encoded data removed]",
      "text/plain": [
       "<matplotlib.figure.Figure at 0x7f9f2755bba8>"
      ]
     },
     "metadata": {},
     "output_type": "display_data"
    }
   ],
   "source": [
    "data = X_valid[:, :-1]\n",
    "pred = ef_with.predict_proba(data)\n",
    "\n",
    "for i in range(pred.shape[0]):\n",
    "    plt.figure(i)\n",
    "    plt.plot(data[i].numpy())\n",
    "    plt.plot(np.arange(len(pred[i])), pred[i])"
   ]
  },
  {
   "cell_type": "code",
   "execution_count": null,
   "metadata": {
    "collapsed": true
   },
   "outputs": [],
   "source": []
  },
  {
   "cell_type": "code",
   "execution_count": null,
   "metadata": {
    "collapsed": true
   },
   "outputs": [],
   "source": []
  },
  {
   "cell_type": "code",
   "execution_count": null,
   "metadata": {
    "collapsed": true
   },
   "outputs": [],
   "source": []
  }
 ],
 "metadata": {
  "kernelspec": {
   "display_name": "Python 3",
   "language": "python",
   "name": "python3"
  },
  "language_info": {
   "codemirror_mode": {
    "name": "ipython",
    "version": 3
   },
   "file_extension": ".py",
   "mimetype": "text/x-python",
   "name": "python",
   "nbconvert_exporter": "python",
   "pygments_lexer": "ipython3",
   "version": "3.5.2"
  }
 },
 "nbformat": 4,
 "nbformat_minor": 2
}
