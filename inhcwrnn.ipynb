{
 "cells": [
  {
   "cell_type": "code",
   "execution_count": 33,
   "metadata": {},
   "outputs": [],
   "source": [
    "import inferno\n",
    "import torch\n",
    "import torch.nn as nn\n",
    "import torch.nn.functional as F\n",
    "from torch.utils.data.dataloader import DataLoader\n",
    "from torch.utils.data import TensorDataset\n",
    "from torch.autograd import Variable"
   ]
  },
  {
   "cell_type": "code",
   "execution_count": 15,
   "metadata": {
    "collapsed": true
   },
   "outputs": [],
   "source": [
    "from sine_data import train_dataset, valid_dataset"
   ]
  },
  {
   "cell_type": "code",
   "execution_count": 214,
   "metadata": {
    "collapsed": true
   },
   "outputs": [],
   "source": [
    "%matplotlib inline\n",
    "import matplotlib.pyplot as plt\n",
    "import numpy as np\n",
    "import insp"
   ]
  },
  {
   "cell_type": "code",
   "execution_count": 241,
   "metadata": {},
   "outputs": [],
   "source": [
    "X_train, y_train = train_dataset(points=200)\n",
    "X_train, y_train = torch.Tensor(X_train), torch.LongTensor(y_train)\n",
    "\n",
    "X_valid, y_valid = valid_dataset(points=400)\n",
    "X_valid, y_valid = torch.Tensor(X_valid), torch.LongTensor(y_valid)\n",
    "\n",
    "sine_train_loader = DataLoader(TensorDataset(X_train, y_train),\n",
    "                               batch_size=64,\n",
    "                               shuffle=True)\n",
    "sine_valid_loader = DataLoader(TensorDataset(X_valid, y_valid),\n",
    "                               batch_size=64,\n",
    "                               shuffle=False)"
   ]
  },
  {
   "cell_type": "code",
   "execution_count": null,
   "metadata": {
    "collapsed": true
   },
   "outputs": [],
   "source": []
  },
  {
   "cell_type": "code",
   "execution_count": 298,
   "metadata": {},
   "outputs": [],
   "source": [
    "class InhCWRNN(nn.Module):\n",
    "    def __init__(self, input_dim, output_dim, num_modules, inhibition='sigmoid', *args, **kwargs):\n",
    "        super().__init__(*args, **kwargs)\n",
    "        \n",
    "        self.input_dim = input_dim\n",
    "        self.output_dim = output_dim\n",
    "        self.num_modules = num_modules\n",
    "        \n",
    "        self.input_mod = nn.Linear(input_dim, output_dim)\n",
    "        self.input_inh = nn.Linear(input_dim, output_dim)\n",
    "        \n",
    "        self.hidden_mod = nn.Linear(output_dim, output_dim, bias=False)\n",
    "        self.hidden_inh = nn.Linear(output_dim, output_dim, bias=False)\n",
    "        \n",
    "        self.f_mod = nn.Tanh()\n",
    "        \n",
    "        self.inhibition = inhibition\n",
    "        \n",
    "    def step(self, xi, h):\n",
    "        module_size = self.output_dim // self.num_modules\n",
    "        \n",
    "        acts = self.f_mod(self.input_mod(xi) + self.hidden_mod(h))\n",
    "        inhs = self.input_inh(xi) + self.hidden_inh(h)\n",
    "        \n",
    "        module_acts = acts.view(-1, self.num_modules, module_size)\n",
    "        module_inhs = inhs.view(-1, self.num_modules, module_size)\n",
    "        \n",
    "        if self.inhibition == 'relu':\n",
    "            y = F.relu6(module_acts - module_inhs.sum(-1, keepdim=True))\n",
    "            y = y.view(-1, self.output_dim)\n",
    "            idx = (y == 0)\n",
    "            hh = h.expand_as(y)\n",
    "            y[idx] = hh[idx]\n",
    "            return acts,y\n",
    "        \n",
    "        elif self.inhibition == 'sigmoid':\n",
    "            gate = F.sigmoid(module_acts - module_inhs.sum(-1, keepdim=True))\n",
    "            gate = gate.view(-1, self.output_dim)\n",
    "\n",
    "            y = gate * acts + (1 - gate) * h        \n",
    "            return y, y\n",
    "        \n",
    "        raise ValueError('Unknown inhibition mode {}'.format(self.inhibition))\n",
    "\n",
    "    def init_hidden(self):\n",
    "        return Variable(torch.zeros(self.output_dim))\n",
    "        \n",
    "    def forward(self, x):\n",
    "        t = x.size(1)\n",
    "        ys = []\n",
    "        h = self.init_hidden()\n",
    "        for ti in range(t):\n",
    "            xi = x[:, ti]\n",
    "            yi, h = self.step(xi, h)\n",
    "            ys.append(yi)\n",
    "        return torch.stack(ys, dim=1), h"
   ]
  },
  {
   "cell_type": "code",
   "execution_count": null,
   "metadata": {
    "collapsed": true
   },
   "outputs": [],
   "source": []
  },
  {
   "cell_type": "code",
   "execution_count": 299,
   "metadata": {
    "collapsed": true
   },
   "outputs": [],
   "source": [
    "def time_flatten(t):\n",
    "    return t.view(t.size(0) * t.size(1), -1)\n",
    "\n",
    "def time_unflatten(t, s):\n",
    "    return t.view(s[0], s[1], -1)"
   ]
  },
  {
   "cell_type": "code",
   "execution_count": 300,
   "metadata": {
    "collapsed": true
   },
   "outputs": [],
   "source": [
    "class ReconModel(nn.Module):\n",
    "    def __init__(self, num_hidden=64, num_modules=8, inhibition='sigmoid'):\n",
    "        super().__init__()\n",
    "        \n",
    "        self.rnn = InhCWRNN(1, num_hidden, num_modules, inhibition=inhibition)\n",
    "        self.clf = nn.Linear(num_hidden, 1)\n",
    "        \n",
    "    def forward(self, x):\n",
    "        l0, _ = self.rnn(x)\n",
    "        l1 = self.clf(time_flatten(l0))\n",
    "        return time_unflatten(l1, x.size())"
   ]
  },
  {
   "cell_type": "code",
   "execution_count": 301,
   "metadata": {
    "collapsed": true
   },
   "outputs": [],
   "source": [
    "class Trainer(inferno.NeuralNet):\n",
    "    def __init__(self, \n",
    "                 criterion=nn.MSELoss,\n",
    "                 *args, \n",
    "                 **kwargs):\n",
    "        super().__init__(*args, criterion=criterion, **kwargs)\n",
    "\n",
    "    def get_loss(self, y_pred, y_true, X=None, train=False):\n",
    "        pred = time_flatten(y_pred)\n",
    "        true = time_flatten(y_true)\n",
    "        return super().get_loss(pred, true, X=X, train=train)"
   ]
  },
  {
   "cell_type": "code",
   "execution_count": 302,
   "metadata": {},
   "outputs": [
    {
     "data": {
      "text/plain": [
       "<torch._C.Generator at 0x7ff2825e3828>"
      ]
     },
     "execution_count": 302,
     "metadata": {},
     "output_type": "execute_result"
    }
   ],
   "source": [
    "torch.manual_seed(1337)"
   ]
  },
  {
   "cell_type": "markdown",
   "metadata": {},
   "source": [
    "### relu inhibition"
   ]
  },
  {
   "cell_type": "code",
   "execution_count": 303,
   "metadata": {},
   "outputs": [],
   "source": [
    "def my_train_split(X, y):\n",
    "    return X, X_valid[:, :-1], y, X_valid[:, 1:]\n",
    "\n",
    "ef_relu = Trainer(module=ReconModel,\n",
    "             optim=torch.optim.RMSprop,\n",
    "             lr=0.0005,\n",
    "             max_epochs=30,\n",
    "             train_split=my_train_split,\n",
    "             \n",
    "             module__num_modules=8,\n",
    "             module__num_hidden=64,\n",
    "             module__inhibition='relu'\n",
    "            )"
   ]
  },
  {
   "cell_type": "code",
   "execution_count": 304,
   "metadata": {
    "scrolled": false
   },
   "outputs": [
    {
     "name": "stdout",
     "output_type": "stream",
     "text": [
      "Automatic pdb calling has been turned OFF\n",
      "  epoch    train_loss    valid_loss     dur\n",
      "-------  ------------  ------------  ------\n",
      "      1        \u001b[36m1.0000\u001b[0m        \u001b[32m0.2177\u001b[0m  0.4699\n",
      "      2        \u001b[36m0.6163\u001b[0m        0.2672  0.4184\n",
      "      3        \u001b[36m0.3823\u001b[0m        0.2999  0.4744\n",
      "      4        0.4761        2.4430  0.4306\n",
      "      5        1.9750        \u001b[32m0.1877\u001b[0m  0.4712\n",
      "      6        \u001b[36m0.2984\u001b[0m        \u001b[32m0.1334\u001b[0m  0.4639\n",
      "      7        \u001b[36m0.2468\u001b[0m        \u001b[32m0.1304\u001b[0m  0.4589\n",
      "      8        \u001b[36m0.1966\u001b[0m        \u001b[32m0.0895\u001b[0m  0.4714\n",
      "      9        \u001b[36m0.1694\u001b[0m        \u001b[32m0.0744\u001b[0m  0.4117\n",
      "     10        \u001b[36m0.1418\u001b[0m        \u001b[32m0.0595\u001b[0m  0.4847\n",
      "     11        \u001b[36m0.1262\u001b[0m        \u001b[32m0.0519\u001b[0m  0.4198\n",
      "     12        \u001b[36m0.1132\u001b[0m        \u001b[32m0.0440\u001b[0m  0.4600\n",
      "     13        \u001b[36m0.1028\u001b[0m        0.0471  0.4148\n",
      "     14        \u001b[36m0.0944\u001b[0m        \u001b[32m0.0332\u001b[0m  0.4775\n",
      "     15        \u001b[36m0.0934\u001b[0m        0.0820  0.4321\n",
      "     16        0.1137        0.0690  0.4661\n",
      "     17        0.1281        0.0957  0.4211\n",
      "     18        0.1130        0.0725  0.4640\n",
      "     19        0.1302        0.1084  0.4227\n",
      "     20        0.1290        0.0535  0.4918\n",
      "     21        0.1096        0.0839  0.4231\n",
      "     22        0.1003        \u001b[32m0.0312\u001b[0m  0.4756\n",
      "     23        \u001b[36m0.0805\u001b[0m        0.0477  0.4779\n",
      "     24        \u001b[36m0.0590\u001b[0m        \u001b[32m0.0211\u001b[0m  0.4260\n",
      "     25        \u001b[36m0.0550\u001b[0m        0.0332  0.4719\n",
      "     26        \u001b[36m0.0536\u001b[0m        \u001b[32m0.0159\u001b[0m  0.4305\n",
      "     27        \u001b[36m0.0505\u001b[0m        0.0264  0.4840\n",
      "     28        \u001b[36m0.0479\u001b[0m        \u001b[32m0.0152\u001b[0m  0.4179\n",
      "     29        0.0493        0.0272  0.4655\n",
      "     30        \u001b[36m0.0468\u001b[0m        \u001b[32m0.0121\u001b[0m  0.4185\n"
     ]
    },
    {
     "data": {
      "text/plain": [
       "<__main__.Trainer at 0x7ff22905e1d0>"
      ]
     },
     "execution_count": 304,
     "metadata": {},
     "output_type": "execute_result"
    }
   ],
   "source": [
    "%pdb off\n",
    "ef_relu.fit(X_train[:, :-1], X_train[:, 1:])"
   ]
  },
  {
   "cell_type": "code",
   "execution_count": 305,
   "metadata": {},
   "outputs": [
    {
     "data": {
      "image/png": "[encoded data removed]",
      "text/plain": [
       "<matplotlib.figure.Figure at 0x7ff228caa4e0>"
      ]
     },
     "metadata": {},
     "output_type": "display_data"
    },
    {
     "data": {
      "image/png": "[encoded data removed]",
      "text/plain": [
       "<matplotlib.figure.Figure at 0x7ff228b7c898>"
      ]
     },
     "metadata": {},
     "output_type": "display_data"
    }
   ],
   "source": [
    "data = X_valid\n",
    "pred = ef_relu.predict_proba(data)\n",
    "\n",
    "for i in range(pred.shape[0]):\n",
    "    plt.figure(i)\n",
    "    plt.plot(data[i].numpy())\n",
    "    plt.plot(np.arange(len(pred[i])), pred[i])"
   ]
  },
  {
   "cell_type": "markdown",
   "metadata": {},
   "source": [
    " "
   ]
  },
  {
   "cell_type": "markdown",
   "metadata": {},
   "source": [
    "### sigmoid inhibition"
   ]
  },
  {
   "cell_type": "code",
   "execution_count": 306,
   "metadata": {
    "collapsed": true
   },
   "outputs": [],
   "source": [
    "def my_train_split(X, y):\n",
    "    return X, X_valid[:, :-1], y, X_valid[:, 1:]\n",
    "\n",
    "ef_sigmoid = Trainer(module=ReconModel,\n",
    "             optim=torch.optim.RMSprop,\n",
    "             lr=0.0005,\n",
    "             max_epochs=30,\n",
    "             train_split=my_train_split,\n",
    "             \n",
    "             module__num_modules=8,\n",
    "             module__num_hidden=64,\n",
    "             module__inhibition='sigmoid'\n",
    "            )"
   ]
  },
  {
   "cell_type": "code",
   "execution_count": 307,
   "metadata": {},
   "outputs": [
    {
     "name": "stdout",
     "output_type": "stream",
     "text": [
      "  epoch    train_loss    valid_loss     dur\n",
      "-------  ------------  ------------  ------\n",
      "      1        \u001b[36m0.9915\u001b[0m        \u001b[32m0.2146\u001b[0m  0.3441\n",
      "      2        \u001b[36m0.5137\u001b[0m        \u001b[32m0.0804\u001b[0m  0.4238\n",
      "      3        \u001b[36m0.2852\u001b[0m        \u001b[32m0.0383\u001b[0m  0.3628\n",
      "      4        \u001b[36m0.1631\u001b[0m        \u001b[32m0.0225\u001b[0m  0.4223\n",
      "      5        \u001b[36m0.1129\u001b[0m        0.0265  0.3704\n",
      "      6        \u001b[36m0.0939\u001b[0m        \u001b[32m0.0217\u001b[0m  0.4229\n",
      "      7        \u001b[36m0.0809\u001b[0m        \u001b[32m0.0181\u001b[0m  0.3661\n",
      "      8        \u001b[36m0.0695\u001b[0m        \u001b[32m0.0134\u001b[0m  0.4293\n",
      "      9        \u001b[36m0.0610\u001b[0m        \u001b[32m0.0113\u001b[0m  0.3625\n",
      "     10        \u001b[36m0.0547\u001b[0m        \u001b[32m0.0095\u001b[0m  0.4119\n",
      "     11        \u001b[36m0.0501\u001b[0m        \u001b[32m0.0086\u001b[0m  0.4346\n",
      "     12        \u001b[36m0.0464\u001b[0m        \u001b[32m0.0077\u001b[0m  0.3648\n",
      "     13        \u001b[36m0.0434\u001b[0m        \u001b[32m0.0071\u001b[0m  0.4197\n",
      "     14        \u001b[36m0.0409\u001b[0m        \u001b[32m0.0066\u001b[0m  0.3705\n",
      "     15        \u001b[36m0.0387\u001b[0m        \u001b[32m0.0062\u001b[0m  0.4220\n",
      "     16        \u001b[36m0.0367\u001b[0m        \u001b[32m0.0058\u001b[0m  0.3636\n",
      "     17        \u001b[36m0.0350\u001b[0m        \u001b[32m0.0054\u001b[0m  0.4086\n",
      "     18        \u001b[36m0.0334\u001b[0m        \u001b[32m0.0051\u001b[0m  0.3581\n",
      "     19        \u001b[36m0.0320\u001b[0m        \u001b[32m0.0049\u001b[0m  0.4236\n",
      "     20        \u001b[36m0.0308\u001b[0m        \u001b[32m0.0046\u001b[0m  0.3569\n",
      "     21        \u001b[36m0.0296\u001b[0m        \u001b[32m0.0044\u001b[0m  0.4046\n",
      "     22        \u001b[36m0.0285\u001b[0m        \u001b[32m0.0042\u001b[0m  0.3745\n",
      "     23        \u001b[36m0.0275\u001b[0m        \u001b[32m0.0040\u001b[0m  0.4106\n",
      "     24        \u001b[36m0.0266\u001b[0m        \u001b[32m0.0038\u001b[0m  0.3914\n",
      "     25        \u001b[36m0.0258\u001b[0m        \u001b[32m0.0037\u001b[0m  0.4078\n",
      "     26        \u001b[36m0.0250\u001b[0m        \u001b[32m0.0036\u001b[0m  0.4288\n",
      "     27        \u001b[36m0.0243\u001b[0m        \u001b[32m0.0035\u001b[0m  0.3736\n",
      "     28        \u001b[36m0.0236\u001b[0m        \u001b[32m0.0033\u001b[0m  0.4237\n",
      "     29        \u001b[36m0.0229\u001b[0m        0.0033  0.3722\n",
      "     30        \u001b[36m0.0223\u001b[0m        \u001b[32m0.0031\u001b[0m  0.4056\n"
     ]
    },
    {
     "data": {
      "text/plain": [
       "<__main__.Trainer at 0x7ff228ef1c88>"
      ]
     },
     "execution_count": 307,
     "metadata": {},
     "output_type": "execute_result"
    }
   ],
   "source": [
    "ef_sigmoid.fit(X_train[:, :-1], X_train[:, 1:])"
   ]
  },
  {
   "cell_type": "code",
   "execution_count": 308,
   "metadata": {},
   "outputs": [
    {
     "data": {
      "image/png": "[encoded data removed]",
      "text/plain": [
       "<matplotlib.figure.Figure at 0x7ff228ef16a0>"
      ]
     },
     "metadata": {},
     "output_type": "display_data"
    },
    {
     "data": {
      "image/png": "[encoded data removed]",
      "text/plain": [
       "<matplotlib.figure.Figure at 0x7ff229175b00>"
      ]
     },
     "metadata": {},
     "output_type": "display_data"
    }
   ],
   "source": [
    "data = X_valid\n",
    "pred = ef_sigmoid.predict_proba(data)\n",
    "\n",
    "for i in range(pred.shape[0]):\n",
    "    plt.figure(i)\n",
    "    plt.plot(data[i].numpy())\n",
    "    plt.plot(np.arange(len(pred[i])), pred[i])"
   ]
  },
  {
   "cell_type": "code",
   "execution_count": null,
   "metadata": {
    "collapsed": true
   },
   "outputs": [],
   "source": []
  },
  {
   "cell_type": "code",
   "execution_count": null,
   "metadata": {
    "collapsed": true
   },
   "outputs": [],
   "source": []
  }
 ],
 "metadata": {
  "kernelspec": {
   "display_name": "Python 3",
   "language": "python",
   "name": "python3"
  },
  "language_info": {
   "codemirror_mode": {
    "name": "ipython",
    "version": 3
   },
   "file_extension": ".py",
   "mimetype": "text/x-python",
   "name": "python",
   "nbconvert_exporter": "python",
   "pygments_lexer": "ipython3",
   "version": "3.6.1"
  }
 },
 "nbformat": 4,
 "nbformat_minor": 2
}
