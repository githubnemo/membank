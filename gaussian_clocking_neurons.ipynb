{
 "cells": [
  {
   "cell_type": "code",
   "execution_count": 1,
   "metadata": {},
   "outputs": [],
   "source": [
    "import torch\n",
    "import torch.nn as nn\n",
    "from torch.nn import functional as F\n",
    "import skorch\n",
    "import numpy as np\n",
    "\n",
    "from torch.autograd import Variable"
   ]
  },
  {
   "cell_type": "code",
   "execution_count": 2,
   "metadata": {},
   "outputs": [],
   "source": [
    "%matplotlib inline\n",
    "from matplotlib import pyplot as plt"
   ]
  },
  {
   "cell_type": "code",
   "execution_count": 3,
   "metadata": {},
   "outputs": [],
   "source": [
    "from torch.utils.data import DataLoader, TensorDataset\n",
    "from sine_data import train_dataset, valid_dataset"
   ]
  },
  {
   "cell_type": "markdown",
   "metadata": {},
   "source": [
    "The Gaussian clocking method is formally described as\n",
    "$$\n",
    "clk_{n} \\sim \\mathcal{N}(0, 1) \\\\\n",
    "g_{n,t} = clk_{n} \\cdot \\sigma_{n} + \\mu_{n} \\\\\n",
    "\\hat{y}_{n,t} = f(w_{n} x_{t} + u_{n} y_{n, t-1} + b_{n}) \\\\\n",
    "y_{n,t} = g_{n,t} \\hat{y}_{n,t} + (1 - g_{n,t}) y_{n,t}\n",
    "$$\n",
    "\n",
    "where $\\mu_{n}$, $\\sigma_{n}$, $w$, $u$ and $b$ are learnable parameters."
   ]
  },
  {
   "cell_type": "code",
   "execution_count": 4,
   "metadata": {},
   "outputs": [],
   "source": [
    "class GaussClocking(nn.Module):\n",
    "    def __init__(self, input_dim, hidden_dim, act='tanh'):\n",
    "        super().__init__()\n",
    "\n",
    "        self.input_dim = input_dim\n",
    "        self.hidden_dim = hidden_dim\n",
    "        \n",
    "        self.i2h = nn.Linear(input_dim, hidden_dim)\n",
    "        self.h2h = nn.Linear(hidden_dim, hidden_dim, bias=False)\n",
    "        self.m = nn.Parameter(torch.ones(hidden_dim) - 0.5)\n",
    "        self.s = nn.Parameter(torch.ones(hidden_dim))\n",
    "        self.act = {'relu': nn.ReLU, 'tanh': nn.Tanh}[act]()\n",
    "        \n",
    "    def forward(self, x, h=None): # x is (b, t, u) \n",
    "        if h is None:\n",
    "            h = torch.zeros(self.hidden_dim)\n",
    "            h = skorch.utils.to_var(h, x.is_cuda)\n",
    "            \n",
    "        clks = torch.randn(x.size(1), self.hidden_dim)\n",
    "        clks = skorch.utils.to_var(clks, x.is_cuda)\n",
    "\n",
    "        i2h = self.i2h(x.view(-1, self.input_dim))\n",
    "        i2h = i2h.view(x.size(0), x.size(1), self.hidden_dim)\n",
    "        \n",
    "        ys = []\n",
    "        cs = []\n",
    "        for ti in range(x.size(1)):\n",
    "            clock_gate = clks[ti] * self.s + self.m\n",
    "            clock_gate = F.sigmoid(clock_gate)\n",
    "\n",
    "            h_new = i2h[:, ti] + self.h2h(h)\n",
    "            h = clock_gate * h_new + (1 - clock_gate) * h\n",
    "            y = self.act(h)\n",
    "            ys.append(y)\n",
    "            cs.append(clock_gate)\n",
    "        return torch.stack(ys, dim=1), h, torch.stack(cs, dim=0)"
   ]
  },
  {
   "cell_type": "code",
   "execution_count": 5,
   "metadata": {},
   "outputs": [],
   "source": [
    "import visdom\n",
    "vis = visdom.Visdom()"
   ]
  },
  {
   "cell_type": "code",
   "execution_count": 6,
   "metadata": {},
   "outputs": [],
   "source": [
    "X_train, y_train = train_dataset(points=200)\n",
    "X_train, y_train = torch.Tensor(X_train), torch.LongTensor(y_train)\n",
    "\n",
    "X_valid, y_valid = valid_dataset(points=400)\n",
    "X_valid, y_valid = torch.Tensor(X_valid), torch.LongTensor(y_valid)\n",
    "\n",
    "sine_train_loader = DataLoader(TensorDataset(X_train, y_train),\n",
    "                               batch_size=64,\n",
    "                               shuffle=True)\n",
    "sine_valid_loader = DataLoader(TensorDataset(X_valid, y_valid),\n",
    "                               batch_size=64,\n",
    "                               shuffle=False)"
   ]
  },
  {
   "cell_type": "code",
   "execution_count": 7,
   "metadata": {},
   "outputs": [],
   "source": [
    "def time_flatten(t):\n",
    "    return t.view(t.size(0) * t.size(1), -1)\n",
    "\n",
    "def time_unflatten(t, s):\n",
    "    return t.view(s[0], s[1], -1)"
   ]
  },
  {
   "cell_type": "code",
   "execution_count": 13,
   "metadata": {},
   "outputs": [],
   "source": [
    "class ReconModel(nn.Module):\n",
    "    def __init__(self, num_hidden=64, act='tanh', visdom=False, num_layers=1):\n",
    "        super().__init__()\n",
    "        \n",
    "        self.rnn = []\n",
    "        self.num_layers = num_layers\n",
    "        self.visdom = visdom\n",
    "        \n",
    "        for i in range(num_layers):\n",
    "            input_dim = 1 if i == 0 else num_hidden\n",
    "            self.rnn.append(GaussClocking(input_dim, num_hidden, act=act))\n",
    "            self.add_module('rnn'+str(i), self.rnn[-1])\n",
    "        \n",
    "        self.clf = nn.Linear(num_hidden, 1)\n",
    "        \n",
    "    def forward(self, x):\n",
    "        li = x\n",
    "        for i in range(self.num_layers):\n",
    "            li, hi, ci = self.rnn[i](li)\n",
    "            if self.visdom:\n",
    "                vis.heatmap(skorch.utils.to_numpy(li[0]), opts={'title': 'act rnn'+str(i)}, win=\"act rnn\"+str(i))\n",
    "                vis.heatmap(skorch.utils.to_numpy(ci), opts={'title': 'clk rnn'+str(i)}, win=\"clk rnn\"+str(i))\n",
    "                vis.heatmap(skorch.utils.to_numpy(self.rnn[i].m).reshape(1, -1), opts={'title': 'mu rnn'+str(i)}, win=\"mu rnn\"+str(i))\n",
    "                vis.heatmap(skorch.utils.to_numpy(self.rnn[i].s).reshape(1, -1), opts={'title': 's rnn'+str(i)}, win=\"s rnn\"+str(i))\n",
    "        l1 = self.clf(time_flatten(li))\n",
    "        return time_unflatten(l1, x.size())"
   ]
  },
  {
   "cell_type": "code",
   "execution_count": 14,
   "metadata": {},
   "outputs": [],
   "source": [
    "class Trainer(skorch.NeuralNet):\n",
    "    def __init__(\n",
    "        self, \n",
    "        criterion=nn.MSELoss,\n",
    "        *args, \n",
    "        **kwargs\n",
    "    ):\n",
    "        super().__init__(*args, criterion=criterion, **kwargs)\n",
    "\n",
    "    def get_loss(self, y_pred, y_true, X=None, training=False):\n",
    "        pred = time_flatten(y_pred)\n",
    "        true = time_flatten(y_true)\n",
    "        return super().get_loss(pred, true, X=X, training=training)"
   ]
  },
  {
   "cell_type": "code",
   "execution_count": 15,
   "metadata": {},
   "outputs": [],
   "source": [
    "torch.manual_seed(1337)\n",
    "\n",
    "def my_train_split(X, y):\n",
    "    return X, X_valid[:, :-1], y, X_valid[:, 1:]\n",
    "\n",
    "ef = Trainer(module=ReconModel,\n",
    "             optimizer=torch.optim.Adam,\n",
    "             lr=0.02,\n",
    "             max_epochs=40,\n",
    "             train_split=my_train_split,\n",
    "             \n",
    "             module__num_hidden=16,\n",
    "             module__act='relu',\n",
    "             module__num_layers=2,\n",
    "             module__visdom=False,\n",
    "             use_cuda=False,\n",
    "             batch_size=1,\n",
    "            )"
   ]
  },
  {
   "cell_type": "code",
   "execution_count": 16,
   "metadata": {
    "scrolled": false
   },
   "outputs": [
    {
     "name": "stdout",
     "output_type": "stream",
     "text": [
      "Automatic pdb calling has been turned ON\n",
      "  epoch    train_loss    valid_loss     dur\n",
      "-------  ------------  ------------  ------\n",
      "      1        \u001b[36m0.8475\u001b[0m        \u001b[32m0.5202\u001b[0m  1.1840\n",
      "      2        \u001b[36m0.3909\u001b[0m        \u001b[32m0.2064\u001b[0m  1.1898\n",
      "      3        \u001b[36m0.1450\u001b[0m        \u001b[32m0.1790\u001b[0m  1.2006\n",
      "      4        \u001b[36m0.1354\u001b[0m        \u001b[32m0.0139\u001b[0m  1.1223\n",
      "      5        \u001b[36m0.0389\u001b[0m        0.0235  1.1017\n",
      "      6        \u001b[36m0.0204\u001b[0m        \u001b[32m0.0094\u001b[0m  1.1378\n",
      "      7        \u001b[36m0.0144\u001b[0m        \u001b[32m0.0071\u001b[0m  1.1203\n",
      "      8        \u001b[36m0.0100\u001b[0m        \u001b[32m0.0069\u001b[0m  1.1661\n",
      "      9        \u001b[36m0.0092\u001b[0m        \u001b[32m0.0045\u001b[0m  1.1789\n",
      "     10        \u001b[36m0.0075\u001b[0m        0.0069  1.2680\n",
      "     11        0.0088        0.0084  1.2493\n",
      "     12        0.0085        0.0061  1.1498\n",
      "     13        \u001b[36m0.0062\u001b[0m        0.0049  1.0835\n",
      "     14        \u001b[36m0.0052\u001b[0m        \u001b[32m0.0025\u001b[0m  1.1940\n",
      "     15        \u001b[36m0.0035\u001b[0m        \u001b[32m0.0012\u001b[0m  1.1419\n",
      "     16        \u001b[36m0.0029\u001b[0m        0.0016  1.1115\n",
      "     17        0.0033        0.0021  1.0869\n",
      "     18        0.0037        0.0023  1.0880\n",
      "     19        0.0034        0.0017  1.1386\n",
      "     20        \u001b[36m0.0022\u001b[0m        \u001b[32m0.0010\u001b[0m  1.1749\n",
      "     21        \u001b[36m0.0022\u001b[0m        \u001b[32m0.0009\u001b[0m  1.1293\n",
      "     22        0.0022        0.0014  1.0722\n",
      "     23        0.0025        0.0027  1.2856\n",
      "     24        0.0035        0.0049  1.2014\n",
      "     25        0.0045        0.0066  1.1379\n",
      "     26        0.0050        0.0023  1.2981\n",
      "     27        0.0027        \u001b[32m0.0008\u001b[0m  1.2505\n",
      "     28        \u001b[36m0.0015\u001b[0m        0.0010  1.2129\n",
      "     29        \u001b[36m0.0013\u001b[0m        \u001b[32m0.0005\u001b[0m  1.1740\n",
      "     30        \u001b[36m0.0012\u001b[0m        0.0010  1.1822\n",
      "     31        0.0013        0.0009  1.3821\n",
      "     32        \u001b[36m0.0011\u001b[0m        \u001b[32m0.0005\u001b[0m  1.2052\n",
      "     33        \u001b[36m0.0010\u001b[0m        \u001b[32m0.0005\u001b[0m  1.1112\n",
      "     34        0.0014        0.0008  1.0812\n",
      "     35        0.0013        0.0007  1.3465\n",
      "     36        0.0011        0.0006  1.1314\n",
      "     37        0.0013        0.0015  1.2460\n",
      "     38        0.0017        0.0018  1.2940\n",
      "     39        0.0015        0.0013  1.2227\n",
      "     40        0.0011        0.0006  1.2962\n"
     ]
    },
    {
     "data": {
      "text/plain": [
       "<class '__main__.Trainer'>[initialized](\n",
       "  module_=ReconModel(\n",
       "    (rnn0): GaussClocking(\n",
       "      (i2h): Linear(in_features=1, out_features=16)\n",
       "      (h2h): Linear(in_features=16, out_features=16)\n",
       "      (act): ReLU()\n",
       "    )\n",
       "    (rnn1): GaussClocking(\n",
       "      (i2h): Linear(in_features=16, out_features=16)\n",
       "      (h2h): Linear(in_features=16, out_features=16)\n",
       "      (act): ReLU()\n",
       "    )\n",
       "    (clf): Linear(in_features=16, out_features=1)\n",
       "  ),\n",
       ")"
      ]
     },
     "execution_count": 16,
     "metadata": {},
     "output_type": "execute_result"
    }
   ],
   "source": [
    "%pdb on\n",
    "ef.fit(X_train[:, :-1], X_train[:, 1:])"
   ]
  },
  {
   "cell_type": "code",
   "execution_count": 17,
   "metadata": {},
   "outputs": [
    {
     "data": {
      "image/png": "[encoded data removed]",
      "text/plain": [
       "<matplotlib.figure.Figure at 0x7f23e0cc6160>"
      ]
     },
     "metadata": {},
     "output_type": "display_data"
    },
    {
     "data": {
      "image/png": "[encoded data removed]",
      "text/plain": [
       "<matplotlib.figure.Figure at 0x7f23dfdb1780>"
      ]
     },
     "metadata": {},
     "output_type": "display_data"
    },
    {
     "data": {
      "image/png": "[encoded data removed]",
      "text/plain": [
       "<matplotlib.figure.Figure at 0x7f23dea5d2e8>"
      ]
     },
     "metadata": {},
     "output_type": "display_data"
    }
   ],
   "source": [
    "data = X_valid\n",
    "pred = ef.predict_proba(data)\n",
    "\n",
    "for i in range(pred.shape[0]):\n",
    "    plt.figure(i)\n",
    "    plt.plot(data[i].numpy())\n",
    "    plt.plot(np.arange(len(pred[i])), pred[i])"
   ]
  },
  {
   "cell_type": "code",
   "execution_count": null,
   "metadata": {},
   "outputs": [],
   "source": []
  },
  {
   "cell_type": "code",
   "execution_count": null,
   "metadata": {},
   "outputs": [],
   "source": []
  },
  {
   "cell_type": "code",
   "execution_count": null,
   "metadata": {},
   "outputs": [],
   "source": []
  }
 ],
 "metadata": {
  "kernelspec": {
   "display_name": "Python 3",
   "language": "python",
   "name": "python3"
  },
  "language_info": {
   "codemirror_mode": {
    "name": "ipython",
    "version": 3
   },
   "file_extension": ".py",
   "mimetype": "text/x-python",
   "name": "python",
   "nbconvert_exporter": "python",
   "pygments_lexer": "ipython3",
   "version": "3.6.3"
  }
 },
 "nbformat": 4,
 "nbformat_minor": 2
}
