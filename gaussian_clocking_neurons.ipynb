{
 "cells": [
  {
   "cell_type": "code",
   "execution_count": 7,
   "metadata": {},
   "outputs": [],
   "source": [
    "import torch\n",
    "import torch.nn as nn\n",
    "from torch.nn import functional as F\n",
    "import skorch\n",
    "import numpy as np\n",
    "\n",
    "from torch.autograd import Variable"
   ]
  },
  {
   "cell_type": "code",
   "execution_count": 8,
   "metadata": {},
   "outputs": [],
   "source": [
    "%matplotlib inline\n",
    "from matplotlib import pyplot as plt"
   ]
  },
  {
   "cell_type": "code",
   "execution_count": 9,
   "metadata": {},
   "outputs": [],
   "source": [
    "from torch.utils.data import DataLoader, TensorDataset\n",
    "from sine_data import train_dataset, valid_dataset"
   ]
  },
  {
   "cell_type": "code",
   "execution_count": null,
   "metadata": {},
   "outputs": [],
   "source": []
  },
  {
   "cell_type": "code",
   "execution_count": 23,
   "metadata": {},
   "outputs": [],
   "source": [
    "class GaussClocking(nn.Module):\n",
    "    def __init__(self, input_dim, hidden_dim, act='tanh'):\n",
    "        super().__init__()\n",
    "\n",
    "        self.input_dim = input_dim\n",
    "        self.hidden_dim = hidden_dim\n",
    "        \n",
    "        self.i2h = nn.Linear(input_dim, hidden_dim)\n",
    "        self.h2h = nn.Linear(hidden_dim, hidden_dim, bias=False)\n",
    "        self.m = nn.Parameter(torch.ones(hidden_dim) - 0.5)\n",
    "        self.s = nn.Parameter(torch.ones(hidden_dim))\n",
    "        self.act = {'relu': nn.ReLU, 'tanh': nn.Tanh}[act]()\n",
    "        \n",
    "    def forward(self, x, h=None): # x is (b, t, u) \n",
    "        if h is None:\n",
    "            h = torch.zeros(self.hidden_dim)\n",
    "            h = skorch.utils.to_var(h, x.is_cuda)\n",
    "            \n",
    "        clks = torch.randn(x.size(1), self.hidden_dim)\n",
    "        clks = skorch.utils.to_var(clks, x.is_cuda)\n",
    "            \n",
    "        ys = []\n",
    "        cs = []\n",
    "        for ti in range(x.size(1)):\n",
    "            clock_gate = clks[ti] * self.s + self.m\n",
    "            clock_gate = F.sigmoid(clock_gate)\n",
    "\n",
    "            h_new = self.i2h(x[:, ti]) + self.h2h(h)\n",
    "            h = clock_gate * h_new + (1 - clock_gate) * h\n",
    "            y = self.act(h)\n",
    "            ys.append(y)\n",
    "            cs.append(clock_gate)\n",
    "        return torch.stack(ys, dim=1), h, torch.stack(cs, dim=0)"
   ]
  },
  {
   "cell_type": "code",
   "execution_count": 24,
   "metadata": {},
   "outputs": [],
   "source": [
    "import visdom\n",
    "vis = visdom.Visdom()"
   ]
  },
  {
   "cell_type": "code",
   "execution_count": 25,
   "metadata": {},
   "outputs": [],
   "source": [
    "X_train, y_train = train_dataset(points=200)\n",
    "X_train, y_train = torch.Tensor(X_train), torch.LongTensor(y_train)\n",
    "\n",
    "X_valid, y_valid = valid_dataset(points=400)\n",
    "X_valid, y_valid = torch.Tensor(X_valid), torch.LongTensor(y_valid)\n",
    "\n",
    "sine_train_loader = DataLoader(TensorDataset(X_train, y_train),\n",
    "                               batch_size=64,\n",
    "                               shuffle=True)\n",
    "sine_valid_loader = DataLoader(TensorDataset(X_valid, y_valid),\n",
    "                               batch_size=64,\n",
    "                               shuffle=False)"
   ]
  },
  {
   "cell_type": "code",
   "execution_count": 26,
   "metadata": {},
   "outputs": [],
   "source": [
    "def time_flatten(t):\n",
    "    return t.view(t.size(0) * t.size(1), -1)\n",
    "\n",
    "def time_unflatten(t, s):\n",
    "    return t.view(s[0], s[1], -1)"
   ]
  },
  {
   "cell_type": "code",
   "execution_count": 31,
   "metadata": {},
   "outputs": [],
   "source": [
    "class ReconModel(nn.Module):\n",
    "    def __init__(self, num_hidden=64, act='tanh', num_layers=1):\n",
    "        super().__init__()\n",
    "        \n",
    "        self.rnn = []\n",
    "        self.num_layers = num_layers\n",
    "        \n",
    "        for i in range(num_layers):\n",
    "            input_dim = 1 if i == 0 else num_hidden\n",
    "            self.rnn.append(GaussClocking(input_dim, num_hidden, act=act))\n",
    "            self.add_module('rnn'+str(i), self.rnn[-1])\n",
    "        \n",
    "        self.clf = nn.Linear(num_hidden, 1)\n",
    "        \n",
    "    def forward(self, x):\n",
    "        li = x\n",
    "        for i in range(self.num_layers):\n",
    "            li, hi, ci = self.rnn[i](li)\n",
    "            vis.heatmap(skorch.utils.to_numpy(li[0]), opts={'title': 'act rnn'+str(i)}, win=\"act rnn\"+str(i))\n",
    "            vis.heatmap(skorch.utils.to_numpy(self.rnn[i].m).reshape(1, -1), opts={'title': 'mu rnn'+str(i)}, win=\"mu rnn\"+str(i))\n",
    "            vis.heatmap(skorch.utils.to_numpy(self.rnn[i].s).reshape(1, -1), opts={'title': 's rnn'+str(i)}, win=\"s rnn\"+str(i))\n",
    "        l1 = self.clf(time_flatten(li))\n",
    "        return time_unflatten(l1, x.size())"
   ]
  },
  {
   "cell_type": "code",
   "execution_count": 32,
   "metadata": {},
   "outputs": [],
   "source": [
    "class Trainer(skorch.NeuralNet):\n",
    "    def __init__(\n",
    "        self, \n",
    "        criterion=nn.MSELoss,\n",
    "        *args, \n",
    "        **kwargs\n",
    "    ):\n",
    "        super().__init__(*args, criterion=criterion, **kwargs)\n",
    "\n",
    "    def get_loss(self, y_pred, y_true, X=None, training=False):\n",
    "        pred = time_flatten(y_pred)\n",
    "        true = time_flatten(y_true)\n",
    "        return super().get_loss(pred, true, X=X, training=training)"
   ]
  },
  {
   "cell_type": "code",
   "execution_count": 33,
   "metadata": {},
   "outputs": [],
   "source": [
    "torch.manual_seed(1337)\n",
    "\n",
    "def my_train_split(X, y):\n",
    "    return X, X_valid[:, :-1], y, X_valid[:, 1:]\n",
    "\n",
    "ef = Trainer(module=ReconModel,\n",
    "             optimizer=torch.optim.Adam,\n",
    "             lr=0.02,\n",
    "             max_epochs=40,\n",
    "             train_split=my_train_split,\n",
    "             \n",
    "             module__num_hidden=16,\n",
    "             module__act='relu',\n",
    "             module__num_layers=2,\n",
    "             use_cuda=False,\n",
    "            )"
   ]
  },
  {
   "cell_type": "code",
   "execution_count": 34,
   "metadata": {
    "scrolled": false
   },
   "outputs": [
    {
     "name": "stdout",
     "output_type": "stream",
     "text": [
      "Automatic pdb calling has been turned ON\n",
      "  epoch    train_loss    valid_loss     dur\n",
      "-------  ------------  ------------  ------\n",
      "      1        \u001b[36m1.3037\u001b[0m        \u001b[32m0.7864\u001b[0m  0.4091\n",
      "      2        \u001b[36m0.7939\u001b[0m        \u001b[32m0.3381\u001b[0m  0.4058\n",
      "      3        \u001b[36m0.4630\u001b[0m        \u001b[32m0.2906\u001b[0m  0.4672\n",
      "      4        \u001b[36m0.3167\u001b[0m        \u001b[32m0.2604\u001b[0m  0.4654\n",
      "      5        \u001b[36m0.2844\u001b[0m        \u001b[32m0.1472\u001b[0m  0.4164\n",
      "      6        \u001b[36m0.1787\u001b[0m        \u001b[32m0.1213\u001b[0m  0.4399\n",
      "      7        0.1827        \u001b[32m0.1200\u001b[0m  0.4120\n",
      "      8        \u001b[36m0.1761\u001b[0m        \u001b[32m0.0669\u001b[0m  0.4164\n",
      "      9        \u001b[36m0.0973\u001b[0m        0.0776  0.4352\n",
      "     10        \u001b[36m0.0935\u001b[0m        0.0861  0.4280\n",
      "     11        0.0982        \u001b[32m0.0652\u001b[0m  0.4070\n",
      "     12        \u001b[36m0.0762\u001b[0m        \u001b[32m0.0304\u001b[0m  0.4793\n",
      "     13        \u001b[36m0.0460\u001b[0m        \u001b[32m0.0165\u001b[0m  0.5017\n",
      "     14        \u001b[36m0.0357\u001b[0m        0.0239  0.4124\n",
      "     15        0.0465        0.0174  0.4350\n",
      "     16        \u001b[36m0.0349\u001b[0m        0.0242  0.4954\n",
      "     17        0.0356        0.0345  0.4360\n",
      "     18        0.0430        \u001b[32m0.0130\u001b[0m  0.4184\n",
      "     19        \u001b[36m0.0239\u001b[0m        0.0136  0.4749\n",
      "     20        \u001b[36m0.0237\u001b[0m        0.0134  0.4208\n",
      "     21        \u001b[36m0.0224\u001b[0m        \u001b[32m0.0078\u001b[0m  0.4452\n",
      "     22        \u001b[36m0.0121\u001b[0m        0.0201  0.4355\n",
      "     23        0.0227        0.0178  0.4477\n",
      "     24        0.0203        0.0118  0.4579\n",
      "     25        0.0162        0.0144  0.4238\n",
      "     26        0.0208        0.0111  0.4350\n",
      "     27        0.0170        0.0084  0.4510\n",
      "     28        0.0124        0.0110  0.4203\n",
      "     29        0.0136        \u001b[32m0.0055\u001b[0m  0.4110\n",
      "     30        \u001b[36m0.0079\u001b[0m        0.0057  0.5842\n",
      "     31        0.0095        \u001b[32m0.0055\u001b[0m  0.4195\n",
      "     32        0.0105        0.0061  0.4685\n",
      "     33        0.0099        0.0063  0.4850\n",
      "     34        0.0088        \u001b[32m0.0032\u001b[0m  0.5032\n",
      "     35        \u001b[36m0.0078\u001b[0m        0.0038  0.4897\n",
      "     36        0.0080        \u001b[32m0.0031\u001b[0m  0.5622\n",
      "     37        \u001b[36m0.0065\u001b[0m        0.0055  0.4275\n",
      "     38        0.0079        0.0047  0.4287\n",
      "     39        \u001b[36m0.0064\u001b[0m        0.0046  0.4533\n",
      "     40        0.0067        0.0037  0.4463\n"
     ]
    },
    {
     "data": {
      "text/plain": [
       "<class '__main__.Trainer'>[initialized](\n",
       "  module_=ReconModel(\n",
       "    (rnn0): GaussClocking(\n",
       "      (i2h): Linear(in_features=1, out_features=16)\n",
       "      (h2h): Linear(in_features=16, out_features=16)\n",
       "      (act): ReLU()\n",
       "    )\n",
       "    (rnn1): GaussClocking(\n",
       "      (i2h): Linear(in_features=16, out_features=16)\n",
       "      (h2h): Linear(in_features=16, out_features=16)\n",
       "      (act): ReLU()\n",
       "    )\n",
       "    (clf): Linear(in_features=16, out_features=1)\n",
       "  ),\n",
       ")"
      ]
     },
     "execution_count": 34,
     "metadata": {},
     "output_type": "execute_result"
    }
   ],
   "source": [
    "%pdb on\n",
    "ef.fit(X_train[:, :-1], X_train[:, 1:])"
   ]
  },
  {
   "cell_type": "code",
   "execution_count": 35,
   "metadata": {},
   "outputs": [
    {
     "data": {
      "image/png": "[encoded data removed]",
      "text/plain": [
       "<matplotlib.figure.Figure at 0x7f97ae4771d0>"
      ]
     },
     "metadata": {},
     "output_type": "display_data"
    },
    {
     "data": {
      "image/png": "[encoded data removed]",
      "text/plain": [
       "<matplotlib.figure.Figure at 0x7f97ac871630>"
      ]
     },
     "metadata": {},
     "output_type": "display_data"
    },
    {
     "data": {
      "image/png": "[encoded data removed]",
      "text/plain": [
       "<matplotlib.figure.Figure at 0x7f97ae16c630>"
      ]
     },
     "metadata": {},
     "output_type": "display_data"
    }
   ],
   "source": [
    "data = X_valid\n",
    "pred = ef.predict_proba(data)\n",
    "\n",
    "for i in range(pred.shape[0]):\n",
    "    plt.figure(i)\n",
    "    plt.plot(data[i].numpy())\n",
    "    plt.plot(np.arange(len(pred[i])), pred[i])"
   ]
  },
  {
   "cell_type": "code",
   "execution_count": null,
   "metadata": {},
   "outputs": [],
   "source": []
  },
  {
   "cell_type": "code",
   "execution_count": null,
   "metadata": {},
   "outputs": [],
   "source": []
  },
  {
   "cell_type": "code",
   "execution_count": null,
   "metadata": {},
   "outputs": [],
   "source": []
  }
 ],
 "metadata": {
  "kernelspec": {
   "display_name": "Python 3",
   "language": "python",
   "name": "python3"
  },
  "language_info": {
   "codemirror_mode": {
    "name": "ipython",
    "version": 3
   },
   "file_extension": ".py",
   "mimetype": "text/x-python",
   "name": "python",
   "nbconvert_exporter": "python",
   "pygments_lexer": "ipython3",
   "version": "3.6.3"
  }
 },
 "nbformat": 4,
 "nbformat_minor": 2
}
