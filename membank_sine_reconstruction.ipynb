{
 "cells": [
  {
   "cell_type": "code",
   "execution_count": 13,
   "metadata": {
    "collapsed": true
   },
   "outputs": [],
   "source": [
    "%matplotlib inline\n",
    "import numpy as np\n",
    "import torch\n",
    "import torch.utils.data\n",
    "import torch.nn as nn\n",
    "import torch.optim as optim\n",
    "from torch.autograd import Variable\n",
    "from torch.utils.data import DataLoader, TensorDataset\n",
    "from tensorboard import SummaryWriter\n",
    "\n",
    "import matplotlib.pyplot as plt\n",
    "\n",
    "import os\n",
    "\n",
    "import inferno\n",
    "from inferno.utils import to_numpy\n",
    "\n",
    "from sine_data import train_dataset, valid_dataset\n",
    "import insp"
   ]
  },
  {
   "cell_type": "code",
   "execution_count": 14,
   "metadata": {
    "collapsed": true
   },
   "outputs": [],
   "source": [
    "X_train, y_train = train_dataset()\n",
    "X_train, y_train = torch.Tensor(X_train), torch.LongTensor(y_train)\n",
    "\n",
    "X_valid, y_valid = valid_dataset()\n",
    "X_valid, y_valid = torch.Tensor(X_valid), torch.LongTensor(y_valid)\n",
    "\n",
    "sine_train_loader = DataLoader(TensorDataset(X_train, y_train),\n",
    "                               batch_size=64,\n",
    "                               shuffle=True)\n",
    "sine_valid_loader = DataLoader(TensorDataset(X_valid, y_valid),\n",
    "                               batch_size=64,\n",
    "                               shuffle=False)"
   ]
  },
  {
   "cell_type": "code",
   "execution_count": 15,
   "metadata": {
    "collapsed": true
   },
   "outputs": [],
   "source": [
    "writer = SummaryWriter()"
   ]
  },
  {
   "cell_type": "markdown",
   "metadata": {},
   "source": [
    "## Components"
   ]
  },
  {
   "cell_type": "code",
   "execution_count": 16,
   "metadata": {},
   "outputs": [
    {
     "data": {
      "text/plain": [
       "(0, 1)"
      ]
     },
     "execution_count": 16,
     "metadata": {},
     "output_type": "execute_result"
    },
    {
     "data": {
      "image/png": "[encoded data removed]",
      "text/plain": [
       "<matplotlib.figure.Figure at 0x7f2facf12400>"
      ]
     },
     "metadata": {},
     "output_type": "display_data"
    }
   ],
   "source": [
    "x = np.linspace(0,1)\n",
    "plt.plot(x, 3/2 * x**4 + 1/8 * x**2)\n",
    "plt.plot(x, 2.2 * x**4 )\n",
    "plt.plot(x, x >= 0.75)\n",
    "plt.ylim([0,1])"
   ]
  },
  {
   "cell_type": "code",
   "execution_count": 17,
   "metadata": {
    "collapsed": true
   },
   "outputs": [],
   "source": [
    "class Latch(nn.Module):\n",
    "\n",
    "    def __init__(self, size, *args, **kwargs):\n",
    "        super().__init__(*args, **kwargs)\n",
    "        self.act = nn.Hardtanh(min_val=0, max_val=1)\n",
    "        #self.consent_threshold = 0.75\n",
    "        self.size = size\n",
    "        \n",
    "    def initial_q(self, batch_size):\n",
    "        q = torch.zeros((batch_size, self.size))\n",
    "        return Variable(q)\n",
    "\n",
    "    def t(self, s):\n",
    "        # all inputs in s must say 'store' or otherwise\n",
    "        # there is no consent to store an value.\n",
    "        #\n",
    "        # we want that \n",
    "        # - most of the inputs agree\n",
    "        # - the result is between 0 and 1 so we can use it as gate\n",
    "        # - we want it to be differentiable and soft (well behaved gradients)\n",
    "        x = s.sum(-1) / s.size(-1)\n",
    "        return self.act(3/2 * x**4 + 1/8 * x**2)\n",
    "        #return (self.act(s).mean(-1) >= self.consent_threshold).float()\n",
    "\n",
    "    def forward(self, s, v, q):\n",
    "        t = self.t(s).unsqueeze(-1)\n",
    "        new_q = v * t + q * (1 - t)\n",
    "        return new_q"
   ]
  },
  {
   "cell_type": "code",
   "execution_count": 18,
   "metadata": {
    "collapsed": true
   },
   "outputs": [],
   "source": [
    "class Block(nn.Module):\n",
    "    def __init__(self, input_dim, output_dim, *args, **kwargs):\n",
    "        super().__init__(*args, **kwargs)\n",
    "\n",
    "        self.num_units = output_dim\n",
    "\n",
    "        self.latch_size = self.num_units\n",
    "        self.latch = Latch(self.latch_size)\n",
    "\n",
    "        self.units = nn.Linear(input_dim, output_dim)\n",
    "        self.memory = nn.Linear(self.latch_size, self.num_units)\n",
    "        self.set = nn.Parameter(torch.zeros(self.num_units) + 0.0)\n",
    "        self.value = nn.Linear(self.num_units, self.latch_size)\n",
    "\n",
    "        self.act = nn.Tanh()\n",
    "\n",
    "    def forward(self, x):\n",
    "        # x.shape = (b, t, u)\n",
    "        t = x.size(1)\n",
    "        acts = []\n",
    "        qs = []\n",
    "        q = self.latch.initial_q(x.size(0))\n",
    "        for ti in range(t):\n",
    "            u = self.units(x[:,ti])\n",
    "            v = u + self.memory(q)\n",
    "            q = self.latch(u, self.value(v), q)\n",
    "            acts += [self.act(v)]\n",
    "            qs += [q]\n",
    "        return torch.stack(acts, dim=1), torch.stack(qs, dim=1)"
   ]
  },
  {
   "cell_type": "code",
   "execution_count": 19,
   "metadata": {
    "collapsed": true
   },
   "outputs": [],
   "source": [
    "class BlockLayer(nn.Module):\n",
    "    def __init__(self, num_blocks, input_dim, output_dim, *args, **kwargs):\n",
    "        super().__init__(*args, **kwargs)\n",
    "\n",
    "        self.num_blocks = num_blocks\n",
    "        self.units_per_block = output_dim // num_blocks\n",
    "        self.blocks = [Block(input_dim=input_dim,\n",
    "                             output_dim=self.units_per_block)\n",
    "                       for _ in range(num_blocks)]\n",
    "        for i in range(len(self.blocks)):\n",
    "            self.add_module('block_{}'.format(i), self.blocks[i])\n",
    "\n",
    "    def forward(self, x):\n",
    "        results = [block(x) for block in self.blocks]\n",
    "        acts = [n[0] for n in results]\n",
    "        qs = [n[1] for n in results]\n",
    "        return torch.cat(acts, dim=-1), torch.cat(qs, dim=-1)"
   ]
  },
  {
   "cell_type": "markdown",
   "metadata": {},
   "source": [
    "## Model"
   ]
  },
  {
   "cell_type": "code",
   "execution_count": 20,
   "metadata": {
    "collapsed": true
   },
   "outputs": [],
   "source": [
    "def time_flatten(t):\n",
    "    return t.view(t.size(0) * t.size(1), -1)\n",
    "\n",
    "def time_unflatten(t, s):\n",
    "    return t.view(s[0], s[1], -1)"
   ]
  },
  {
   "cell_type": "markdown",
   "metadata": {},
   "source": [
    "# Sine Wave Reconstruction"
   ]
  },
  {
   "cell_type": "code",
   "execution_count": 21,
   "metadata": {
    "collapsed": true
   },
   "outputs": [],
   "source": [
    "class ReconBlockModel(nn.Module):\n",
    "    def __init__(self, *args, baseline=False, **kwargs):\n",
    "        super().__init__(*args, **kwargs)\n",
    "        \n",
    "        self.baseline = baseline\n",
    "\n",
    "        self.layer0_mem = BlockLayer(num_blocks=10,\n",
    "                                     input_dim=1,\n",
    "                                     output_dim=20)\n",
    "        self.layer0_clf = nn.Linear(1 + 20, 20)\n",
    "        \n",
    "        self.layer1 = nn.Linear(20,1)\n",
    "        self.gru = nn.GRU(1, 20)\n",
    "        self.iter = 0\n",
    "\n",
    "    def forward(self, x):\n",
    "        if not self.baseline:\n",
    "            o0, q0 = self.layer0_mem(x)\n",
    "            writer.add_histogram('q0', q0.data.cpu().numpy(), self.iter)\n",
    "            self.iter += 1\n",
    "            merged0 = torch.cat([x, q0], dim=-1)\n",
    "            \n",
    "            l0_clf = self.layer0_clf(time_flatten(merged0))\n",
    "        else:\n",
    "            l0_clf = time_flatten(self.gru(x)[0])\n",
    "        \n",
    "        l1 = self.layer1(l0_clf)\n",
    "        \n",
    "        return time_unflatten(l1, x.size())"
   ]
  },
  {
   "cell_type": "code",
   "execution_count": 22,
   "metadata": {
    "collapsed": true
   },
   "outputs": [],
   "source": [
    "class ReconTrainer(inferno.NeuralNet):\n",
    "    \n",
    "    def __init__(self, \n",
    "                 criterion=nn.MSELoss,\n",
    "                 *args, \n",
    "                 **kwargs):\n",
    "        self.iter = 0\n",
    "        super().__init__(*args, criterion=criterion, **kwargs)\n",
    "\n",
    "    def get_loss(self, y_pred, y_true, X=None, train=False):\n",
    "        pred = time_flatten(y_pred)\n",
    "        true = time_flatten(y_true)\n",
    "        return super().get_loss(pred, true, X=X, train=train)\n",
    "    \n",
    "    def train_step(self, *args, **kwargs):\n",
    "        for name, param in self.module_.named_parameters():\n",
    "            writer.add_histogram(name, param.data.cpu().numpy(), self.iter)\n",
    "        self.iter += 1\n",
    "        return super().train_step(*args, **kwargs)"
   ]
  },
  {
   "cell_type": "markdown",
   "metadata": {},
   "source": [
    "## Training"
   ]
  },
  {
   "cell_type": "code",
   "execution_count": 23,
   "metadata": {
    "collapsed": true
   },
   "outputs": [],
   "source": [
    "def my_train_split(X, y):\n",
    "    return X, X_valid[:, :-1], y, X_valid[:, 1:]\n",
    "\n",
    "ef = ReconTrainer(module=ReconBlockModel,\n",
    "             optim=torch.optim.RMSprop,\n",
    "             lr=0.005,\n",
    "             max_epochs=10,\n",
    "             module__baseline=False,\n",
    "             train_split=my_train_split,\n",
    "             gradient_clip_value=10,\n",
    "            )"
   ]
  },
  {
   "cell_type": "code",
   "execution_count": 24,
   "metadata": {
    "scrolled": false
   },
   "outputs": [
    {
     "name": "stdout",
     "output_type": "stream",
     "text": [
      "Automatic pdb calling has been turned ON\n",
      "  epoch    train_loss    valid_loss     dur\n",
      "-------  ------------  ------------  ------\n",
      "      1        \u001b[36m0.8333\u001b[0m        \u001b[32m0.1026\u001b[0m  2.5667\n",
      "      2        \u001b[36m0.2702\u001b[0m        0.3537  2.6003\n",
      "      3        1.0708        0.2207  2.5432\n",
      "      4        \u001b[36m0.2452\u001b[0m        \u001b[32m0.0887\u001b[0m  2.6631\n",
      "      5        \u001b[36m0.1392\u001b[0m        \u001b[32m0.0628\u001b[0m  2.5810\n",
      "      6        \u001b[36m0.1161\u001b[0m        \u001b[32m0.0550\u001b[0m  2.6774\n",
      "      7        \u001b[36m0.1035\u001b[0m        \u001b[32m0.0489\u001b[0m  2.7004\n",
      "      8        \u001b[36m0.0932\u001b[0m        \u001b[32m0.0439\u001b[0m  2.6830\n",
      "      9        \u001b[36m0.0845\u001b[0m        \u001b[32m0.0397\u001b[0m  2.6520\n",
      "     10        \u001b[36m0.0770\u001b[0m        \u001b[32m0.0361\u001b[0m  2.7068\n",
      "     11        \u001b[36m0.0705\u001b[0m        \u001b[32m0.0329\u001b[0m  2.6552\n",
      "     12        \u001b[36m0.0648\u001b[0m        \u001b[32m0.0301\u001b[0m  2.9037\n",
      "     13        \u001b[36m0.0597\u001b[0m        \u001b[32m0.0276\u001b[0m  2.9239\n",
      "     14        \u001b[36m0.0552\u001b[0m        \u001b[32m0.0254\u001b[0m  2.7082\n",
      "     15        \u001b[36m0.0511\u001b[0m        \u001b[32m0.0234\u001b[0m  2.5066\n",
      "     16        \u001b[36m0.0474\u001b[0m        \u001b[32m0.0215\u001b[0m  2.8445\n",
      "     17        \u001b[36m0.0441\u001b[0m        \u001b[32m0.0199\u001b[0m  2.9225\n",
      "     18        \u001b[36m0.0411\u001b[0m        \u001b[32m0.0184\u001b[0m  2.7190\n",
      "     19        \u001b[36m0.0384\u001b[0m        \u001b[32m0.0170\u001b[0m  2.7791\n",
      "     20        \u001b[36m0.0359\u001b[0m        \u001b[32m0.0157\u001b[0m  2.6489\n",
      "     21        \u001b[36m0.0336\u001b[0m        \u001b[32m0.0146\u001b[0m  2.8464\n",
      "     22        \u001b[36m0.0316\u001b[0m        \u001b[32m0.0136\u001b[0m  2.9607\n",
      "     23        \u001b[36m0.0297\u001b[0m        \u001b[32m0.0126\u001b[0m  2.9600\n",
      "     24        \u001b[36m0.0280\u001b[0m        \u001b[32m0.0117\u001b[0m  2.8270\n",
      "     25        \u001b[36m0.0264\u001b[0m        \u001b[32m0.0110\u001b[0m  2.7183\n",
      "     26        \u001b[36m0.0250\u001b[0m        \u001b[32m0.0103\u001b[0m  2.9003\n",
      "     27        \u001b[36m0.0238\u001b[0m        \u001b[32m0.0096\u001b[0m  2.7321\n",
      "     28        \u001b[36m0.0226\u001b[0m        \u001b[32m0.0090\u001b[0m  2.8197\n",
      "     29        \u001b[36m0.0216\u001b[0m        \u001b[32m0.0085\u001b[0m  2.7392\n",
      "     30        \u001b[36m0.0206\u001b[0m        \u001b[32m0.0080\u001b[0m  2.6212\n",
      "     31        \u001b[36m0.0198\u001b[0m        \u001b[32m0.0076\u001b[0m  2.5338\n",
      "     32        \u001b[36m0.0190\u001b[0m        \u001b[32m0.0072\u001b[0m  2.7427\n",
      "     33        \u001b[36m0.0183\u001b[0m        \u001b[32m0.0068\u001b[0m  2.6221\n",
      "     34        \u001b[36m0.0177\u001b[0m        \u001b[32m0.0065\u001b[0m  2.9776\n",
      "     35        \u001b[36m0.0171\u001b[0m        \u001b[32m0.0062\u001b[0m  2.6665\n",
      "     36        \u001b[36m0.0166\u001b[0m        \u001b[32m0.0060\u001b[0m  2.8138\n"
     ]
    },
    {
     "data": {
      "text/plain": [
       "<__main__.ReconTrainer at 0x7f2facf12dd8>"
      ]
     },
     "execution_count": 24,
     "metadata": {},
     "output_type": "execute_result"
    }
   ],
   "source": [
    "%pdb on\n",
    "ef.fit(X_train[:, :-1], X_train[:, 1:])"
   ]
  },
  {
   "cell_type": "code",
   "execution_count": 25,
   "metadata": {},
   "outputs": [
    {
     "data": {
      "image/png": "[encoded data removed]",
      "text/plain": [
       "<matplotlib.figure.Figure at 0x7f2fad31e6d8>"
      ]
     },
     "metadata": {},
     "output_type": "display_data"
    },
    {
     "data": {
      "image/png": "[encoded data removed]",
      "text/plain": [
       "<matplotlib.figure.Figure at 0x7f2faf730c88>"
      ]
     },
     "metadata": {},
     "output_type": "display_data"
    }
   ],
   "source": [
    "data = X_valid\n",
    "pred = ef.predict_proba(data)\n",
    "\n",
    "for i in range(pred.shape[0]):\n",
    "    plt.figure(i)\n",
    "    plt.plot(data[i].numpy())\n",
    "    plt.plot(np.arange(len(pred[i])), pred[i])"
   ]
  },
  {
   "cell_type": "code",
   "execution_count": null,
   "metadata": {
    "collapsed": true
   },
   "outputs": [],
   "source": []
  },
  {
   "cell_type": "code",
   "execution_count": 201,
   "metadata": {
    "collapsed": true
   },
   "outputs": [],
   "source": []
  },
  {
   "cell_type": "code",
   "execution_count": null,
   "metadata": {
    "collapsed": true
   },
   "outputs": [],
   "source": []
  }
 ],
 "metadata": {
  "kernelspec": {
   "display_name": "Python 3",
   "language": "python",
   "name": "python3"
  },
  "language_info": {
   "codemirror_mode": {
    "name": "ipython",
    "version": 3
   },
   "file_extension": ".py",
   "mimetype": "text/x-python",
   "name": "python",
   "nbconvert_exporter": "python",
   "pygments_lexer": "ipython3",
   "version": "3.5.2"
  }
 },
 "nbformat": 4,
 "nbformat_minor": 2
}
