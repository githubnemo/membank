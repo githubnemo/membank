{
 "cells": [
  {
   "cell_type": "code",
   "execution_count": 32,
   "metadata": {},
   "outputs": [],
   "source": [
    "import torch\n",
    "import torch.nn as nn\n",
    "import skorch\n",
    "import numpy as np\n",
    "\n",
    "from torch.autograd import Variable"
   ]
  },
  {
   "cell_type": "code",
   "execution_count": 2,
   "metadata": {},
   "outputs": [],
   "source": [
    "%matplotlib inline\n",
    "from matplotlib import pyplot as plt"
   ]
  },
  {
   "cell_type": "code",
   "execution_count": 3,
   "metadata": {},
   "outputs": [],
   "source": [
    "from torch.utils.data import DataLoader, TensorDataset\n",
    "from sine_data import train_dataset, valid_dataset"
   ]
  },
  {
   "cell_type": "code",
   "execution_count": 210,
   "metadata": {},
   "outputs": [],
   "source": [
    "class Clocking(nn.Module):\n",
    "    def __init__(self, input_dim, hidden_dim, act='tanh'):\n",
    "        super().__init__()\n",
    "\n",
    "        self.input_dim = input_dim\n",
    "        self.hidden_dim = hidden_dim\n",
    "        \n",
    "        self.i2h = nn.Linear(input_dim, hidden_dim)\n",
    "        self.h2h = nn.Linear(hidden_dim, hidden_dim, bias=False)\n",
    "        self.period = nn.Parameter(torch.zeros(hidden_dim))\n",
    "        self.shift = nn.Parameter(torch.zeros(hidden_dim))\n",
    "        self.act = {'relu': nn.ReLU, 'tanh': nn.Tanh}[act]()\n",
    "        \n",
    "    def forward(self, x, clock=None, h=None): # x is (b, t, u)      \n",
    "        if clock is None:\n",
    "            # initialize with 1 so if clock does not exist, \n",
    "            # (clock + sin())/2 normalizes to [0;1] instead \n",
    "            # of [0;0.5] if clock was initialized with 0.\n",
    "            clock = torch.zeros(x.size(0), x.size(1), self.hidden_dim) + 1\n",
    "            clock = skorch.utils.to_var(clock, x.is_cuda)\n",
    "\n",
    "        if h is None:\n",
    "            h = torch.zeros(self.hidden_dim)\n",
    "            h = skorch.utils.to_var(h, x.is_cuda)\n",
    "            \n",
    "        ys = []\n",
    "        cs = []\n",
    "        for ti in range(x.size(1)):\n",
    "            clock_gate = (torch.sin(ti * self.period + self.shift) + 1) / 2\n",
    "            # enable stacking of clocking functions\n",
    "            clock_gate = (clock_gate + clock[:, ti]) / 2\n",
    "            \n",
    "            h_new = self.i2h(x[:, ti]) + self.h2h(h)\n",
    "            y = clock_gate * h_new + (1 - clock_gate) * h\n",
    "            y = self.act(y)\n",
    "            h = y\n",
    "            ys.append(y)\n",
    "            cs.append(clock_gate)\n",
    "        return torch.stack(ys, dim=1), h, torch.stack(cs, dim=1)"
   ]
  },
  {
   "cell_type": "code",
   "execution_count": 211,
   "metadata": {},
   "outputs": [],
   "source": [
    "import visdom\n",
    "vis = visdom.Visdom()"
   ]
  },
  {
   "cell_type": "code",
   "execution_count": 212,
   "metadata": {},
   "outputs": [],
   "source": [
    "X_train, y_train = train_dataset(points=200)\n",
    "X_train, y_train = torch.Tensor(X_train), torch.LongTensor(y_train)\n",
    "\n",
    "X_valid, y_valid = valid_dataset(points=400)\n",
    "X_valid, y_valid = torch.Tensor(X_valid), torch.LongTensor(y_valid)\n",
    "\n",
    "sine_train_loader = DataLoader(TensorDataset(X_train, y_train),\n",
    "                               batch_size=64,\n",
    "                               shuffle=True)\n",
    "sine_valid_loader = DataLoader(TensorDataset(X_valid, y_valid),\n",
    "                               batch_size=64,\n",
    "                               shuffle=False)"
   ]
  },
  {
   "cell_type": "code",
   "execution_count": 213,
   "metadata": {},
   "outputs": [],
   "source": [
    "def time_flatten(t):\n",
    "    return t.view(t.size(0) * t.size(1), -1)\n",
    "\n",
    "def time_unflatten(t, s):\n",
    "    return t.view(s[0], s[1], -1)"
   ]
  },
  {
   "cell_type": "code",
   "execution_count": 222,
   "metadata": {},
   "outputs": [],
   "source": [
    "class ReconModel(nn.Module):\n",
    "    def __init__(self, num_hidden=64, act='tanh', two_layer=False):\n",
    "        super().__init__()\n",
    "        \n",
    "        self.rnn0 = Clocking(         1, num_hidden, act=act)\n",
    "        self.rnn1 = Clocking(num_hidden, num_hidden, act=act)\n",
    "        \n",
    "        self.two_layer = two_layer\n",
    "\n",
    "        self.clf = nn.Linear(num_hidden, 1)\n",
    "        \n",
    "    def forward(self, x):\n",
    "        l0, h0, c0 = self.rnn0(x)\n",
    "        vis.heatmap(l0[0].data.numpy(), opts={'title': 'act rnn0'}, win=\"act rnn0\")\n",
    "        vis.heatmap(self.rnn0.period.data.numpy().reshape(1, -1), opts={'title': 'periods rnn0'}, win=\"periods rnn0\")\n",
    "        vis.heatmap(self.rnn0.shift.data.numpy().reshape(1, -1), opts={'title': 'shifts rnn0'}, win=\"shifts rnn0\")\n",
    "        vis.heatmap(c0[0].data.numpy(), opts={'title': 'clock rnn0'}, win=\"clock rnn0\")\n",
    "        \n",
    "        if self.two_layer:\n",
    "            l1, h1, c1 = self.rnn1(l0, clock=c0)\n",
    "            vis.heatmap(l1[0].data.numpy(), opts={'title': 'act rnn1'}, win=\"act rnn1\")\n",
    "            vis.heatmap(self.rnn1.period.data.numpy().reshape(1, -1), opts={'title': 'periods rnn1'}, win=\"periods rnn1\")\n",
    "            vis.heatmap(self.rnn1.shift.data.numpy().reshape(1, -1), opts={'title': 'shifts rnn1'}, win=\"shifts rnn1\")\n",
    "            vis.heatmap(c1[0].data.numpy(), opts={'title': 'clock rnn1'}, win=\"clock rnn1\")\n",
    "\n",
    "        else:\n",
    "            l1 = l0\n",
    "\n",
    "        l1 = self.clf(time_flatten(l1))\n",
    "        return time_unflatten(l1, x.size())"
   ]
  },
  {
   "cell_type": "code",
   "execution_count": 223,
   "metadata": {},
   "outputs": [],
   "source": [
    "class Trainer(skorch.NeuralNet):\n",
    "    def __init__(\n",
    "        self, \n",
    "        criterion=nn.MSELoss,\n",
    "        *args, \n",
    "        **kwargs\n",
    "    ):\n",
    "        super().__init__(*args, criterion=criterion, **kwargs)\n",
    "\n",
    "    def get_loss(self, y_pred, y_true, X=None, training=False):\n",
    "        pred = time_flatten(y_pred)\n",
    "        true = time_flatten(y_true)\n",
    "        return super().get_loss(pred, true, X=X, training=training)"
   ]
  },
  {
   "cell_type": "code",
   "execution_count": 224,
   "metadata": {},
   "outputs": [],
   "source": [
    "torch.manual_seed(1337)\n",
    "\n",
    "def my_train_split(X, y):\n",
    "    return X, X_valid[:, :-1], y, X_valid[:, 1:]\n",
    "\n",
    "ef = Trainer(module=ReconModel,\n",
    "             optimizer=torch.optim.Adam,\n",
    "             lr=0.02,\n",
    "             max_epochs=40,\n",
    "             train_split=my_train_split,\n",
    "             \n",
    "             module__num_hidden=16,\n",
    "             module__act='relu',\n",
    "             module__two_layer=True,\n",
    "            )"
   ]
  },
  {
   "cell_type": "code",
   "execution_count": 225,
   "metadata": {
    "scrolled": false
   },
   "outputs": [
    {
     "name": "stdout",
     "output_type": "stream",
     "text": [
      "Automatic pdb calling has been turned ON\n",
      "  epoch    train_loss    valid_loss     dur\n",
      "-------  ------------  ------------  ------\n",
      "      1        \u001b[36m0.9991\u001b[0m        \u001b[32m0.7043\u001b[0m  0.5625\n",
      "      2        \u001b[36m0.7041\u001b[0m        \u001b[32m0.4049\u001b[0m  0.5199\n",
      "      3        \u001b[36m0.4036\u001b[0m        \u001b[32m0.1107\u001b[0m  0.5800\n",
      "      4        \u001b[36m0.1226\u001b[0m        0.1387  0.6100\n",
      "      5        0.1721        0.2459  0.5687\n",
      "      6        0.2596        \u001b[32m0.0329\u001b[0m  0.5231\n",
      "      7        \u001b[36m0.0488\u001b[0m        0.0618  0.5744\n",
      "      8        0.0743        0.0696  0.5993\n",
      "      9        0.0751        0.0807  0.6221\n",
      "     10        0.0786        0.0975  0.5222\n",
      "     11        0.0926        0.0681  0.5261\n",
      "     12        0.0638        0.0405  0.5521\n",
      "     13        \u001b[36m0.0403\u001b[0m        0.0424  0.5517\n",
      "     14        0.0456        \u001b[32m0.0252\u001b[0m  0.5583\n",
      "     15        \u001b[36m0.0292\u001b[0m        \u001b[32m0.0078\u001b[0m  0.5441\n",
      "     16        \u001b[36m0.0114\u001b[0m        0.0088  0.6327\n",
      "     17        0.0123        0.0081  0.5301\n",
      "     18        0.0123        0.0139  0.6277\n",
      "     19        0.0191        0.0132  0.6078\n",
      "     20        0.0166        0.0131  0.5860\n",
      "     21        0.0160        \u001b[32m0.0052\u001b[0m  0.5707\n",
      "     22        \u001b[36m0.0091\u001b[0m        \u001b[32m0.0044\u001b[0m  0.5607\n",
      "     23        \u001b[36m0.0086\u001b[0m        \u001b[32m0.0025\u001b[0m  0.5543\n",
      "     24        \u001b[36m0.0046\u001b[0m        0.0069  0.5663\n",
      "     25        0.0070        0.0065  0.5214\n",
      "     26        0.0065        0.0076  0.6321\n",
      "     27        0.0082        0.0079  0.5768\n",
      "     28        0.0081        0.0079  0.6013\n",
      "     29        0.0069        0.0077  0.5516\n",
      "     30        0.0065        0.0041  0.6191\n",
      "     31        \u001b[36m0.0040\u001b[0m        0.0032  0.6493\n",
      "     32        0.0042        \u001b[32m0.0021\u001b[0m  0.5999\n",
      "     33        \u001b[36m0.0028\u001b[0m        0.0035  0.5503\n",
      "     34        0.0037        0.0028  0.6211\n",
      "     35        0.0034        0.0024  0.5940\n",
      "     36        0.0039        0.0022  0.6163\n",
      "     37        0.0037        0.0026  0.5562\n",
      "     38        0.0035        0.0022  0.5627\n",
      "     39        0.0031        \u001b[32m0.0011\u001b[0m  0.6337\n",
      "     40        \u001b[36m0.0024\u001b[0m        \u001b[32m0.0011\u001b[0m  0.5811\n"
     ]
    },
    {
     "data": {
      "text/plain": [
       "<class '__main__.Trainer'>[initialized](\n",
       "  module_=ReconModel(\n",
       "    (rnn0): Clocking(\n",
       "      (i2h): Linear(in_features=1, out_features=16)\n",
       "      (h2h): Linear(in_features=16, out_features=16)\n",
       "      (act): ReLU()\n",
       "    )\n",
       "    (rnn1): Clocking(\n",
       "      (i2h): Linear(in_features=16, out_features=16)\n",
       "      (h2h): Linear(in_features=16, out_features=16)\n",
       "      (act): ReLU()\n",
       "    )\n",
       "    (clf): Linear(in_features=16, out_features=1)\n",
       "  ),\n",
       ")"
      ]
     },
     "execution_count": 225,
     "metadata": {},
     "output_type": "execute_result"
    }
   ],
   "source": [
    "%pdb on\n",
    "ef.fit(X_train[:, :-1], X_train[:, 1:])"
   ]
  },
  {
   "cell_type": "code",
   "execution_count": 226,
   "metadata": {},
   "outputs": [
    {
     "data": {
      "image/png": "[encoded data removed]",
      "text/plain": [
       "<matplotlib.figure.Figure at 0x7f626508feb8>"
      ]
     },
     "metadata": {},
     "output_type": "display_data"
    },
    {
     "data": {
      "image/png": "[encoded data removed]",
      "text/plain": [
       "<matplotlib.figure.Figure at 0x7f6264901cc0>"
      ]
     },
     "metadata": {},
     "output_type": "display_data"
    },
    {
     "data": {
      "image/png": "[encoded data removed]",
      "text/plain": [
       "<matplotlib.figure.Figure at 0x7f6264d7d438>"
      ]
     },
     "metadata": {},
     "output_type": "display_data"
    }
   ],
   "source": [
    "data = X_valid\n",
    "pred = ef.predict_proba(data)\n",
    "\n",
    "for i in range(pred.shape[0]):\n",
    "    plt.figure(i)\n",
    "    plt.plot(data[i].numpy())\n",
    "    plt.plot(np.arange(len(pred[i])), pred[i])"
   ]
  },
  {
   "cell_type": "code",
   "execution_count": null,
   "metadata": {},
   "outputs": [],
   "source": []
  },
  {
   "cell_type": "code",
   "execution_count": null,
   "metadata": {},
   "outputs": [],
   "source": []
  },
  {
   "cell_type": "code",
   "execution_count": null,
   "metadata": {},
   "outputs": [],
   "source": []
  }
 ],
 "metadata": {
  "kernelspec": {
   "display_name": "Python 3",
   "language": "python",
   "name": "python3"
  },
  "language_info": {
   "codemirror_mode": {
    "name": "ipython",
    "version": 3
   },
   "file_extension": ".py",
   "mimetype": "text/x-python",
   "name": "python",
   "nbconvert_exporter": "python",
   "pygments_lexer": "ipython3",
   "version": "3.6.3"
  }
 },
 "nbformat": 4,
 "nbformat_minor": 2
}
