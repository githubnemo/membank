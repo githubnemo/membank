{
 "cells": [
  {
   "cell_type": "code",
   "execution_count": 1,
   "metadata": {},
   "outputs": [],
   "source": [
    "import torch\n",
    "import torch.nn as nn\n",
    "import skorch\n",
    "import numpy as np\n",
    "\n",
    "from torch.autograd import Variable"
   ]
  },
  {
   "cell_type": "code",
   "execution_count": 2,
   "metadata": {},
   "outputs": [],
   "source": [
    "%matplotlib inline\n",
    "from matplotlib import pyplot as plt"
   ]
  },
  {
   "cell_type": "code",
   "execution_count": 3,
   "metadata": {},
   "outputs": [],
   "source": [
    "from torch.utils.data import DataLoader, TensorDataset\n",
    "from sine_data import train_dataset, valid_dataset"
   ]
  },
  {
   "cell_type": "code",
   "execution_count": 76,
   "metadata": {},
   "outputs": [],
   "source": [
    "class Clocking(nn.Module):\n",
    "    def __init__(self, input_dim, hidden_dim, act='tanh'):\n",
    "        super().__init__()\n",
    "\n",
    "        self.input_dim = input_dim\n",
    "        self.hidden_dim = hidden_dim\n",
    "        \n",
    "        self.i2h = nn.Linear(input_dim, hidden_dim)\n",
    "        self.h2h = nn.Linear(hidden_dim, hidden_dim, bias=False)\n",
    "        self.period = nn.Parameter(torch.randn(hidden_dim) + 1)\n",
    "        self.shift = nn.Parameter(torch.zeros(hidden_dim))\n",
    "        self.act = {'relu': nn.ReLU, 'tanh': nn.Tanh}[act]()\n",
    "        \n",
    "    def forward(self, x, clock=None, h=None): # x is (b, t, u) \n",
    "        if h is None:\n",
    "            h = torch.zeros(self.hidden_dim)\n",
    "            h = skorch.utils.to_var(h, x.is_cuda)\n",
    "            \n",
    "        ys = []\n",
    "        cs = []\n",
    "        for ti in range(x.size(1)):\n",
    "            clock_gate = (torch.sin(ti/self.period * np.pi + self.shift) + 1) / 2\n",
    "            # enable stacking of clocking functions\n",
    "            if clock is not None:\n",
    "                clock_gate = (clock_gate + clock[ti]) / 2\n",
    "\n",
    "            h_new = self.i2h(x[:, ti]) + self.h2h(h)\n",
    "            y = clock_gate * h_new + (1 - clock_gate) * h\n",
    "            y = self.act(y)\n",
    "            h = y\n",
    "            ys.append(y)\n",
    "            cs.append(clock_gate)\n",
    "        return torch.stack(ys, dim=1), h, torch.stack(cs, dim=0)"
   ]
  },
  {
   "cell_type": "code",
   "execution_count": 77,
   "metadata": {},
   "outputs": [],
   "source": [
    "import visdom\n",
    "vis = visdom.Visdom()"
   ]
  },
  {
   "cell_type": "code",
   "execution_count": 78,
   "metadata": {},
   "outputs": [],
   "source": [
    "X_train, y_train = train_dataset(points=200)\n",
    "X_train, y_train = torch.Tensor(X_train), torch.LongTensor(y_train)\n",
    "\n",
    "X_valid, y_valid = valid_dataset(points=400)\n",
    "X_valid, y_valid = torch.Tensor(X_valid), torch.LongTensor(y_valid)\n",
    "\n",
    "sine_train_loader = DataLoader(TensorDataset(X_train, y_train),\n",
    "                               batch_size=64,\n",
    "                               shuffle=True)\n",
    "sine_valid_loader = DataLoader(TensorDataset(X_valid, y_valid),\n",
    "                               batch_size=64,\n",
    "                               shuffle=False)"
   ]
  },
  {
   "cell_type": "code",
   "execution_count": 79,
   "metadata": {},
   "outputs": [],
   "source": [
    "def time_flatten(t):\n",
    "    return t.view(t.size(0) * t.size(1), -1)\n",
    "\n",
    "def time_unflatten(t, s):\n",
    "    return t.view(s[0], s[1], -1)"
   ]
  },
  {
   "cell_type": "code",
   "execution_count": 80,
   "metadata": {},
   "outputs": [],
   "source": [
    "class ReconModel(nn.Module):\n",
    "    def __init__(self, num_hidden=64, act='tanh', num_layers=1, inherit_clocks=True):\n",
    "        super().__init__()\n",
    "        \n",
    "        self.rnn = []\n",
    "        self.num_layers = num_layers\n",
    "        self.inherit_clocks = inherit_clocks\n",
    "        \n",
    "        for i in range(num_layers):\n",
    "            input_dim = 1 if i == 0 else num_hidden\n",
    "            self.rnn.append(Clocking(input_dim, num_hidden, act=act))\n",
    "            self.add_module('rnn'+str(i), self.rnn[-1])\n",
    "        \n",
    "        self.clf = nn.Linear(num_hidden, 1)\n",
    "        \n",
    "    def forward(self, x):\n",
    "        li = x\n",
    "        ci = None\n",
    "        for i in range(self.num_layers):\n",
    "            if not self.inherit_clocks:\n",
    "                ci = None\n",
    "            li, hi, ci = self.rnn[i](li, clock=ci)\n",
    "            vis.heatmap(skorch.utils.to_numpy(li[0]), opts={'title': 'act rnn'+str(i)}, win=\"act rnn\"+str(i))\n",
    "            vis.heatmap(skorch.utils.to_numpy(self.rnn[i].period).reshape(1, -1), opts={'title': 'periods rnn'+str(i)}, win=\"periods rnn\"+str(i))\n",
    "            vis.heatmap(skorch.utils.to_numpy(self.rnn[i].shift).reshape(1, -1), opts={'title': 'shifts rnn'+str(i)}, win=\"shifts rnn\"+str(i))\n",
    "            vis.heatmap(skorch.utils.to_numpy(ci), opts={'title': 'clock rnn'+str(i)}, win=\"clock rnn\"+str(i))\n",
    "        l1 = self.clf(time_flatten(li))\n",
    "        return time_unflatten(l1, x.size())"
   ]
  },
  {
   "cell_type": "code",
   "execution_count": 81,
   "metadata": {},
   "outputs": [],
   "source": [
    "class Trainer(skorch.NeuralNet):\n",
    "    def __init__(\n",
    "        self, \n",
    "        criterion=nn.MSELoss,\n",
    "        *args, \n",
    "        **kwargs\n",
    "    ):\n",
    "        super().__init__(*args, criterion=criterion, **kwargs)\n",
    "\n",
    "    def get_loss(self, y_pred, y_true, X=None, training=False):\n",
    "        pred = time_flatten(y_pred)\n",
    "        true = time_flatten(y_true)\n",
    "        return super().get_loss(pred, true, X=X, training=training)"
   ]
  },
  {
   "cell_type": "code",
   "execution_count": 103,
   "metadata": {},
   "outputs": [],
   "source": [
    "torch.manual_seed(1337)\n",
    "\n",
    "def my_train_split(X, y):\n",
    "    return X, X_valid[:, :-1], y, X_valid[:, 1:]\n",
    "\n",
    "ef = Trainer(module=ReconModel,\n",
    "             optimizer=torch.optim.Adam,\n",
    "             lr=0.02,\n",
    "             max_epochs=40,\n",
    "             train_split=my_train_split,\n",
    "             \n",
    "             module__num_hidden=16,\n",
    "             module__act='relu',\n",
    "             module__num_layers=2,\n",
    "             module__inherit_clocks=True,\n",
    "             use_cuda=False,\n",
    "            )"
   ]
  },
  {
   "cell_type": "code",
   "execution_count": 104,
   "metadata": {
    "scrolled": false
   },
   "outputs": [
    {
     "name": "stdout",
     "output_type": "stream",
     "text": [
      "Automatic pdb calling has been turned ON\n",
      "  epoch    train_loss    valid_loss     dur\n",
      "-------  ------------  ------------  ------\n",
      "      1        \u001b[36m1.1887\u001b[0m        \u001b[32m0.4407\u001b[0m  0.5279\n",
      "      2        \u001b[36m0.4304\u001b[0m        \u001b[32m0.3283\u001b[0m  0.5297\n",
      "      3        \u001b[36m0.3455\u001b[0m        \u001b[32m0.1933\u001b[0m  0.5499\n",
      "      4        \u001b[36m0.2023\u001b[0m        \u001b[32m0.1861\u001b[0m  0.5526\n",
      "      5        \u001b[36m0.1989\u001b[0m        \u001b[32m0.0668\u001b[0m  0.5460\n",
      "      6        \u001b[36m0.0878\u001b[0m        \u001b[32m0.0344\u001b[0m  0.5502\n",
      "      7        \u001b[36m0.0704\u001b[0m        0.0818  0.6594\n",
      "      8        0.1228        \u001b[32m0.0240\u001b[0m  0.5144\n",
      "      9        \u001b[36m0.0512\u001b[0m        0.0503  0.5226\n",
      "     10        0.0676        0.0698  0.5374\n",
      "     11        0.0841        0.0413  0.5281\n",
      "     12        0.0544        \u001b[32m0.0105\u001b[0m  0.5558\n",
      "     13        \u001b[36m0.0256\u001b[0m        0.0198  0.5424\n",
      "     14        0.0374        0.0326  0.5453\n",
      "     15        0.0493        0.0154  0.5257\n",
      "     16        0.0283        0.0112  0.6962\n",
      "     17        \u001b[36m0.0202\u001b[0m        0.0244  0.5633\n",
      "     18        0.0306        0.0299  0.5630\n",
      "     19        0.0355        0.0204  0.5599\n",
      "     20        0.0267        \u001b[32m0.0081\u001b[0m  0.5945\n",
      "     21        \u001b[36m0.0154\u001b[0m        0.0094  0.6050\n",
      "     22        0.0187        0.0153  0.5324\n",
      "     23        0.0256        0.0101  0.5554\n",
      "     24        0.0193        \u001b[32m0.0046\u001b[0m  0.5507\n",
      "     25        \u001b[36m0.0112\u001b[0m        0.0085  0.6649\n",
      "     26        0.0127        0.0134  0.5307\n",
      "     27        0.0159        0.0137  0.6007\n",
      "     28        0.0153        0.0064  0.5788\n",
      "     29        \u001b[36m0.0092\u001b[0m        \u001b[32m0.0026\u001b[0m  0.5445\n",
      "     30        \u001b[36m0.0074\u001b[0m        0.0047  0.5436\n",
      "     31        0.0103        0.0038  0.5294\n",
      "     32        0.0086        \u001b[32m0.0023\u001b[0m  0.5282\n",
      "     33        \u001b[36m0.0058\u001b[0m        0.0051  0.6252\n",
      "     34        0.0076        0.0063  0.5796\n",
      "     35        0.0085        0.0048  0.5168\n",
      "     36        0.0076        0.0024  0.5313\n",
      "     37        0.0063        0.0023  0.5625\n",
      "     38        0.0069        0.0026  0.5347\n",
      "     39        0.0072        \u001b[32m0.0020\u001b[0m  0.5713\n",
      "     40        0.0064        \u001b[32m0.0015\u001b[0m  0.6370\n"
     ]
    },
    {
     "data": {
      "text/plain": [
       "<class '__main__.Trainer'>[initialized](\n",
       "  module_=ReconModel(\n",
       "    (rnn0): Clocking(\n",
       "      (i2h): Linear(in_features=1, out_features=16)\n",
       "      (h2h): Linear(in_features=16, out_features=16)\n",
       "      (act): ReLU()\n",
       "    )\n",
       "    (rnn1): Clocking(\n",
       "      (i2h): Linear(in_features=16, out_features=16)\n",
       "      (h2h): Linear(in_features=16, out_features=16)\n",
       "      (act): ReLU()\n",
       "    )\n",
       "    (clf): Linear(in_features=16, out_features=1)\n",
       "  ),\n",
       ")"
      ]
     },
     "execution_count": 104,
     "metadata": {},
     "output_type": "execute_result"
    }
   ],
   "source": [
    "%pdb on\n",
    "ef.fit(X_train[:, :-1], X_train[:, 1:])"
   ]
  },
  {
   "cell_type": "code",
   "execution_count": 105,
   "metadata": {},
   "outputs": [
    {
     "data": {
      "image/png": "[encoded data removed]",
      "text/plain": [
       "<matplotlib.figure.Figure at 0x7f4655d394e0>"
      ]
     },
     "metadata": {},
     "output_type": "display_data"
    },
    {
     "data": {
      "image/png": "[encoded data removed]",
      "text/plain": [
       "<matplotlib.figure.Figure at 0x7f4654fb7390>"
      ]
     },
     "metadata": {},
     "output_type": "display_data"
    },
    {
     "data": {
      "image/png": "[encoded data removed]",
      "text/plain": [
       "<matplotlib.figure.Figure at 0x7f4655d2c9e8>"
      ]
     },
     "metadata": {},
     "output_type": "display_data"
    }
   ],
   "source": [
    "data = X_valid\n",
    "pred = ef.predict_proba(data)\n",
    "\n",
    "for i in range(pred.shape[0]):\n",
    "    plt.figure(i)\n",
    "    plt.plot(data[i].numpy())\n",
    "    plt.plot(np.arange(len(pred[i])), pred[i])"
   ]
  },
  {
   "cell_type": "code",
   "execution_count": null,
   "metadata": {},
   "outputs": [],
   "source": []
  },
  {
   "cell_type": "code",
   "execution_count": null,
   "metadata": {},
   "outputs": [],
   "source": []
  },
  {
   "cell_type": "code",
   "execution_count": null,
   "metadata": {},
   "outputs": [],
   "source": []
  }
 ],
 "metadata": {
  "kernelspec": {
   "display_name": "Python 3",
   "language": "python",
   "name": "python3"
  },
  "language_info": {
   "codemirror_mode": {
    "name": "ipython",
    "version": 3
   },
   "file_extension": ".py",
   "mimetype": "text/x-python",
   "name": "python",
   "nbconvert_exporter": "python",
   "pygments_lexer": "ipython3",
   "version": "3.6.3"
  }
 },
 "nbformat": 4,
 "nbformat_minor": 2
}
