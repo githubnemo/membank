{
 "cells": [
  {
   "cell_type": "code",
   "execution_count": 16,
   "metadata": {
    "collapsed": true
   },
   "outputs": [],
   "source": [
    "%matplotlib inline\n",
    "import numpy as np\n",
    "import torch\n",
    "import torch.utils.data\n",
    "import torch.nn as nn\n",
    "import torch.optim as optim\n",
    "from torch.autograd import Variable\n",
    "from torch.utils.data import DataLoader, TensorDataset\n",
    "from tensorboard import SummaryWriter\n",
    "\n",
    "import matplotlib.pyplot as plt\n",
    "\n",
    "import os\n",
    "\n",
    "import inferno\n",
    "from inferno.utils import to_numpy\n",
    "\n",
    "from sine_data import train_dataset, valid_dataset\n",
    "import insp"
   ]
  },
  {
   "cell_type": "code",
   "execution_count": 17,
   "metadata": {
    "collapsed": true
   },
   "outputs": [],
   "source": [
    "X_train, y_train = train_dataset()\n",
    "X_train, y_train = torch.Tensor(X_train), torch.LongTensor(y_train)\n",
    "\n",
    "X_valid, y_valid = valid_dataset()\n",
    "X_valid, y_valid = torch.Tensor(X_valid), torch.LongTensor(y_valid)\n",
    "\n",
    "sine_train_loader = DataLoader(TensorDataset(X_train, y_train),\n",
    "                               batch_size=64,\n",
    "                               shuffle=True)\n",
    "sine_valid_loader = DataLoader(TensorDataset(X_valid, y_valid),\n",
    "                               batch_size=64,\n",
    "                               shuffle=False)"
   ]
  },
  {
   "cell_type": "code",
   "execution_count": 18,
   "metadata": {
    "collapsed": true
   },
   "outputs": [],
   "source": [
    "writer = SummaryWriter()"
   ]
  },
  {
   "cell_type": "markdown",
   "metadata": {},
   "source": [
    "## Components"
   ]
  },
  {
   "cell_type": "code",
   "execution_count": 19,
   "metadata": {},
   "outputs": [
    {
     "data": {
      "text/plain": [
       "(0, 1)"
      ]
     },
     "execution_count": 19,
     "metadata": {},
     "output_type": "execute_result"
    },
    {
     "data": {
      "image/png": "[encoded data removed]",
      "text/plain": [
       "<matplotlib.figure.Figure at 0x7f03e9266358>"
      ]
     },
     "metadata": {},
     "output_type": "display_data"
    }
   ],
   "source": [
    "x = np.linspace(0,1)\n",
    "plt.plot(x, 3/2 * x**4 + 1/8 * x**2)\n",
    "plt.plot(x, 2.2 * x**4 )\n",
    "plt.plot(x, x >= 0.75)\n",
    "plt.ylim([0,1])"
   ]
  },
  {
   "cell_type": "code",
   "execution_count": 20,
   "metadata": {
    "collapsed": true
   },
   "outputs": [],
   "source": [
    "class Latch(nn.Module):\n",
    "\n",
    "    def __init__(self, size, *args, **kwargs):\n",
    "        super().__init__(*args, **kwargs)\n",
    "        self.act = nn.Hardtanh(min_val=0, max_val=1)\n",
    "        #self.consent_threshold = 0.75\n",
    "        self.size = size\n",
    "        \n",
    "    def initial_q(self, batch_size):\n",
    "        q = torch.zeros((batch_size, self.size))\n",
    "        return Variable(q)\n",
    "\n",
    "    def t(self, s):\n",
    "        # all inputs in s must say 'store' or otherwise\n",
    "        # there is no consent to store an value.\n",
    "        #\n",
    "        # we want that \n",
    "        # - most of the inputs agree\n",
    "        # - the result is between 0 and 1 so we can use it as gate\n",
    "        # - we want it to be differentiable and soft (well behaved gradients)\n",
    "        x = s.sum(-1) / s.size(-1)\n",
    "        return self.act(3/2 * x**4 + 1/8 * x**2)\n",
    "        #return (self.act(s).mean(-1) >= self.consent_threshold).float()\n",
    "\n",
    "    def forward(self, s, v, q):\n",
    "        t = self.t(s).unsqueeze(-1)\n",
    "        new_q = v * t + q * (1 - t)\n",
    "        return new_q"
   ]
  },
  {
   "cell_type": "code",
   "execution_count": 21,
   "metadata": {
    "collapsed": true
   },
   "outputs": [],
   "source": [
    "class Block(nn.Module):\n",
    "    def __init__(self, input_dim, output_dim, *args, **kwargs):\n",
    "        super().__init__(*args, **kwargs)\n",
    "\n",
    "        self.num_units = output_dim\n",
    "\n",
    "        self.latch_size = self.num_units\n",
    "        self.latch = Latch(self.latch_size)\n",
    "\n",
    "        self.units = nn.Linear(input_dim, output_dim)\n",
    "        self.memory = nn.Linear(self.latch_size, self.num_units)\n",
    "        self.set = nn.Parameter(torch.zeros(self.num_units) + 0.0)\n",
    "        self.value = nn.Linear(self.num_units, self.latch_size)\n",
    "\n",
    "        self.act = nn.Tanh()\n",
    "\n",
    "    def forward(self, x):\n",
    "        # x.shape = (b, t, u)\n",
    "        t = x.size(1)\n",
    "        acts = []\n",
    "        qs = []\n",
    "        q = self.latch.initial_q(x.size(0))\n",
    "        for ti in range(t):\n",
    "            u = self.units(x[:,ti])\n",
    "            v = u + self.memory(q)\n",
    "            q = self.latch(u, self.value(v), q)\n",
    "            acts += [self.act(v)]\n",
    "            qs += [q]\n",
    "        return torch.stack(acts, dim=1), torch.stack(qs, dim=1)"
   ]
  },
  {
   "cell_type": "code",
   "execution_count": 22,
   "metadata": {
    "collapsed": true
   },
   "outputs": [],
   "source": [
    "class BlockLayer(nn.Module):\n",
    "    def __init__(self, num_blocks, input_dim, output_dim, *args, **kwargs):\n",
    "        super().__init__(*args, **kwargs)\n",
    "\n",
    "        self.num_blocks = num_blocks\n",
    "        self.units_per_block = output_dim // num_blocks\n",
    "        self.blocks = [Block(input_dim=input_dim,\n",
    "                             output_dim=self.units_per_block)\n",
    "                       for _ in range(num_blocks)]\n",
    "        for i in range(len(self.blocks)):\n",
    "            self.add_module('block_{}'.format(i), self.blocks[i])\n",
    "\n",
    "    def forward(self, x):\n",
    "        results = [block(x) for block in self.blocks]\n",
    "        acts = [n[0] for n in results]\n",
    "        qs = [n[1] for n in results]\n",
    "        return torch.cat(acts, dim=-1), torch.cat(qs, dim=-1)"
   ]
  },
  {
   "cell_type": "markdown",
   "metadata": {},
   "source": [
    "## Model"
   ]
  },
  {
   "cell_type": "code",
   "execution_count": 23,
   "metadata": {
    "collapsed": true
   },
   "outputs": [],
   "source": [
    "def time_flatten(t):\n",
    "    return t.view(t.size(0) * t.size(1), -1)\n",
    "\n",
    "def time_unflatten(t, s):\n",
    "    return t.view(s[0], s[1], -1)"
   ]
  },
  {
   "cell_type": "code",
   "execution_count": 24,
   "metadata": {
    "collapsed": true
   },
   "outputs": [],
   "source": [
    "class BlockModel(nn.Module):\n",
    "    def __init__(self, *args, baseline=False, **kwargs):\n",
    "        super().__init__(*args, **kwargs)\n",
    "        \n",
    "        self.baseline = baseline\n",
    "\n",
    "        self.layer0_mem = BlockLayer(num_blocks=5,\n",
    "                                     input_dim=1,\n",
    "                                     output_dim=20)\n",
    "        self.layer0_clf = nn.Linear(1 + 20, 20)\n",
    "        \n",
    "        self.layer1 = nn.Linear(20,100)\n",
    "        self.softmax = nn.LogSoftmax()\n",
    "        self.gru = nn.GRU(1, 20)\n",
    "        self.iter = 0\n",
    "\n",
    "    def forward(self, x):\n",
    "        if not self.baseline:\n",
    "            o0, q0 = self.layer0_mem(x)\n",
    "            writer.add_histogram('q0', q0.data.cpu().numpy(), self.iter)\n",
    "            self.iter += 1\n",
    "            merged0 = torch.cat([x, q0], dim=-1)\n",
    "            \n",
    "            l0_clf = self.layer0_clf(time_flatten(merged0))\n",
    "        else:\n",
    "            l0_clf = time_flatten(self.gru(x)[0])\n",
    "        \n",
    "        l1 = self.layer1(l0_clf)\n",
    "        \n",
    "        return time_unflatten(self.softmax(l1), x.size())"
   ]
  },
  {
   "cell_type": "code",
   "execution_count": 33,
   "metadata": {
    "collapsed": true
   },
   "outputs": [],
   "source": [
    "def one_hot(shape, hot_idx):\n",
    "    t = torch.zeros(shape)\n",
    "    t[:, hot_idx] = 1\n",
    "    return Variable(t)\n",
    "    \n",
    "class Trainer(inferno.NeuralNet):\n",
    "    \n",
    "    def __init__(self, \n",
    "                 criterion=nn.NLLLoss,\n",
    "                 *args, \n",
    "                 **kwargs):\n",
    "        self.iter = 0\n",
    "        super().__init__(*args, criterion=criterion, **kwargs)\n",
    "\n",
    "    def get_loss(self, y_pred, y_true, X=None, train=False):\n",
    "        #pred = y_pred[:,-1]\n",
    "        #true = one_hot(pred.size(), y_true)\n",
    "        pred = y_pred[:,-1]\n",
    "        true = y_true.squeeze(-1)\n",
    "        return super().get_loss(pred, true, X=X, train=train)\n",
    "    \n",
    "    def train_step(self, *args, **kwargs):\n",
    "        for name, param in self.module_.named_parameters():\n",
    "            writer.add_histogram(name, param.data.cpu().numpy(), self.iter)\n",
    "        self.iter += 1\n",
    "        return super().train_step(*args, **kwargs)"
   ]
  },
  {
   "cell_type": "markdown",
   "metadata": {},
   "source": [
    "## Training"
   ]
  },
  {
   "cell_type": "code",
   "execution_count": 34,
   "metadata": {
    "collapsed": true
   },
   "outputs": [],
   "source": [
    "from sine_data import *\n",
    "\n",
    "X_train, y_train = train_dataset()\n",
    "X_train, y_train = torch.Tensor(X_train), torch.LongTensor(y_train)\n",
    "\n",
    "X_valid, y_valid = valid_dataset()\n",
    "X_valid, y_valid = torch.Tensor(X_valid), torch.LongTensor(y_valid)"
   ]
  },
  {
   "cell_type": "code",
   "execution_count": 35,
   "metadata": {
    "collapsed": true
   },
   "outputs": [],
   "source": [
    "def my_train_split(X, y):\n",
    "    return X, X_valid, y, y_valid\n",
    "\n",
    "ef = Trainer(module=BlockModel,\n",
    "             optim=torch.optim.RMSprop,\n",
    "             lr=0.005,\n",
    "             max_epochs=60,\n",
    "             module__baseline=False,\n",
    "             train_split=my_train_split,\n",
    "            )"
   ]
  },
  {
   "cell_type": "code",
   "execution_count": 36,
   "metadata": {
    "scrolled": true
   },
   "outputs": [
    {
     "name": "stdout",
     "output_type": "stream",
     "text": [
      "Automatic pdb calling has been turned ON\n",
      "  epoch    train_loss    valid_loss     dur\n",
      "-------  ------------  ------------  ------\n",
      "      1        \u001b[36m4.6571\u001b[0m        \u001b[32m4.5464\u001b[0m  1.4873\n",
      "      2        \u001b[36m3.8358\u001b[0m        6.4444  1.3409\n",
      "      3        \u001b[36m1.9164\u001b[0m       11.4567  1.3785\n",
      "      4        \u001b[36m1.7657\u001b[0m        8.4463  1.3645\n",
      "      5        1.9103        6.0280  1.3745\n",
      "      6        1.8172        9.8801  1.4160\n",
      "      7        \u001b[36m1.4433\u001b[0m        9.8482  1.5082\n",
      "      8        1.6763       20.0088  1.5116\n",
      "      9        2.9363        8.7168  1.4256\n",
      "     10        1.8237        7.2458  1.3708\n",
      "     11        1.5159        7.6569  1.3556\n",
      "     12        \u001b[36m1.4068\u001b[0m        8.0006  1.4315\n",
      "     13        \u001b[36m1.3194\u001b[0m        8.3854  1.3368\n",
      "     14        \u001b[36m1.2347\u001b[0m        8.8080  1.3186\n",
      "     15        \u001b[36m1.1468\u001b[0m        9.2906  1.3762\n",
      "     16        \u001b[36m1.0527\u001b[0m        9.8278  1.2834\n",
      "     17        \u001b[36m0.9500\u001b[0m       10.4465  1.3689\n",
      "     18        \u001b[36m0.8416\u001b[0m       11.2054  1.3361\n",
      "     19        \u001b[36m0.7439\u001b[0m       12.3823  1.5340\n",
      "     20        \u001b[36m0.6645\u001b[0m       13.3859  1.4380\n",
      "     21        \u001b[36m0.6641\u001b[0m       18.1116  1.4276\n",
      "     22        1.7545       10.2159  1.7824\n",
      "     23        2.0333       13.2913  1.4222\n",
      "     24        1.5862       10.3319  1.5304\n",
      "     25        1.1576        9.5129  1.3580\n",
      "     26        0.9220        9.4975  1.3984\n",
      "     27        0.7942       10.1178  1.4225\n",
      "     28        0.7303       10.9607  1.6339\n",
      "     29        0.6836       11.8235  1.4779\n",
      "     30        \u001b[36m0.6431\u001b[0m       12.7787  1.4539\n",
      "     31        \u001b[36m0.6065\u001b[0m       13.8101  1.3810\n",
      "     32        \u001b[36m0.5732\u001b[0m       14.9498  1.5053\n",
      "     33        \u001b[36m0.5423\u001b[0m       16.2053  1.6918\n",
      "     34        \u001b[36m0.5129\u001b[0m       17.6392  1.5636\n",
      "     35        \u001b[36m0.4837\u001b[0m       19.2494  1.4943\n",
      "     36        \u001b[36m0.4534\u001b[0m       21.3020  1.3699\n",
      "     37        \u001b[36m0.4216\u001b[0m       23.1202  1.4190\n",
      "     38        \u001b[36m0.3941\u001b[0m       29.6532  1.3238\n",
      "     39        0.5990       15.8955  1.3309\n",
      "     40        2.5633       13.6879  1.4360\n",
      "     41        0.6916       12.5632  1.4552\n",
      "     42        0.5556       13.7353  1.4424\n",
      "     43        0.5324       14.4830  1.3710\n",
      "     44        0.5113       15.5535  1.4244\n",
      "     45        0.4906       16.5294  1.3970\n",
      "     46        0.4696       17.8303  1.6123\n",
      "     47        0.4477       18.9907  1.3882\n",
      "     48        0.4248       20.9550  1.4060\n",
      "     49        0.4018       21.5850  1.3863\n",
      "     50        \u001b[36m0.3887\u001b[0m       27.8602  1.5047\n",
      "     51        0.5167       16.1543  1.4661\n",
      "     52        1.5017       19.1733  1.4275\n",
      "     53        0.6303       14.2807  1.4560\n",
      "     54        0.5188       17.9633  1.5533\n",
      "     55        0.4817       15.9185  1.5092\n",
      "     56        0.4823       20.1915  1.3809\n",
      "     57        0.4849       16.0048  1.5574\n",
      "     58        0.5738       22.2939  1.3330\n",
      "     59        0.6062       14.0682  1.4759\n",
      "     60        0.7777       18.4210  1.4986\n"
     ]
    },
    {
     "data": {
      "text/plain": [
       "<__main__.Trainer at 0x7f03e977bcc0>"
      ]
     },
     "execution_count": 36,
     "metadata": {},
     "output_type": "execute_result"
    }
   ],
   "source": [
    "%pdb on\n",
    "ef.fit(X_train, y_train)"
   ]
  },
  {
   "cell_type": "code",
   "execution_count": 38,
   "metadata": {},
   "outputs": [
    {
     "name": "stdout",
     "output_type": "stream",
     "text": [
      "Supervised\n",
      "0 Acc (sup): 1.0\n",
      "0 MAE(pred,target) 0.0\n",
      "Supervised\n",
      "1 Acc (sup): 1.0\n",
      "1 MAE(pred,target) 0.0\n",
      "Supervised\n",
      "2 Acc (sup): 0.0\n",
      "2 MAE(pred,target) 1.18885385195\n",
      "Supervised\n",
      "3 Acc (sup): 1.0\n",
      "3 MAE(pred,target) 0.0\n",
      "Supervised\n",
      "4 Acc (sup): 0.0\n",
      "4 MAE(pred,target) 0.987119898583\n"
     ]
    },
    {
     "data": {
      "image/png": "[encoded data removed]",
      "text/plain": [
       "<matplotlib.figure.Figure at 0x7f03e8d00dd8>"
      ]
     },
     "metadata": {},
     "output_type": "display_data"
    }
   ],
   "source": [
    "insp.plot(ef.module_, dataset='train')"
   ]
  },
  {
   "cell_type": "code",
   "execution_count": null,
   "metadata": {
    "collapsed": true
   },
   "outputs": [],
   "source": []
  },
  {
   "cell_type": "code",
   "execution_count": null,
   "metadata": {
    "collapsed": true
   },
   "outputs": [],
   "source": []
  },
  {
   "cell_type": "code",
   "execution_count": 201,
   "metadata": {
    "collapsed": true
   },
   "outputs": [],
   "source": []
  },
  {
   "cell_type": "code",
   "execution_count": null,
   "metadata": {
    "collapsed": true
   },
   "outputs": [],
   "source": []
  }
 ],
 "metadata": {
  "kernelspec": {
   "display_name": "Python 3",
   "language": "python",
   "name": "python3"
  },
  "language_info": {
   "codemirror_mode": {
    "name": "ipython",
    "version": 3
   },
   "file_extension": ".py",
   "mimetype": "text/x-python",
   "name": "python",
   "nbconvert_exporter": "python",
   "pygments_lexer": "ipython3",
   "version": "3.5.2"
  }
 },
 "nbformat": 4,
 "nbformat_minor": 2
}
