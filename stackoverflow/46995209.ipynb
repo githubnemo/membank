{
 "cells": [
  {
   "cell_type": "code",
   "execution_count": 8,
   "metadata": {
    "collapsed": true
   },
   "outputs": [],
   "source": [
    "import skorch\n",
    "import torch\n",
    "import torch.nn as nn\n",
    "import numpy"
   ]
  },
  {
   "cell_type": "code",
   "execution_count": 441,
   "metadata": {
    "collapsed": true
   },
   "outputs": [],
   "source": [
    "import visdom\n",
    "vis = visdom.Visdom()"
   ]
  },
  {
   "cell_type": "code",
   "execution_count": 3,
   "metadata": {
    "collapsed": true
   },
   "outputs": [],
   "source": [
    "%matplotlib inline\n",
    "import matplotlib.pyplot as plt\n",
    "\n",
    "numpy.random.seed(7)"
   ]
  },
  {
   "cell_type": "code",
   "execution_count": 4,
   "metadata": {
    "collapsed": true
   },
   "outputs": [],
   "source": [
    "T = 1000\n",
    "X = numpy.array(range(T))\n",
    "Y = numpy.sin(3.5 * numpy.pi * X / T) "
   ]
  },
  {
   "cell_type": "markdown",
   "metadata": {},
   "source": [
    "# draw training data"
   ]
  },
  {
   "cell_type": "code",
   "execution_count": 5,
   "metadata": {},
   "outputs": [
    {
     "data": {
      "image/png": "[encoded data removed]",
      "text/plain": [
       "<matplotlib.figure.Figure at 0x7f2a0c54ac50>"
      ]
     },
     "metadata": {},
     "output_type": "display_data"
    }
   ],
   "source": [
    "plt.scatter(X, Y, s = 10)\n",
    "plt.show()"
   ]
  },
  {
   "cell_type": "markdown",
   "metadata": {},
   "source": [
    "# build model"
   ]
  },
  {
   "cell_type": "code",
   "execution_count": 655,
   "metadata": {
    "collapsed": true
   },
   "outputs": [],
   "source": [
    "class Model(nn.Module):\n",
    "    def __init__(self, one_hot=False, act='tanh', deep=True, num_layers=9):\n",
    "        super().__init__()\n",
    "        \n",
    "        num_input = 1000 if one_hot else 1\n",
    "        \n",
    "        if act == 'relu':\n",
    "            self.act = nn.ReLU()\n",
    "        else:\n",
    "            self.act = nn.Tanh()\n",
    "        self.clf = nn.Tanh()\n",
    "        self.layers = []\n",
    "        if deep:\n",
    "            self.layers.append(nn.Linear(num_input, 10))\n",
    "            self.layers.append(nn.Linear(10, 90))\n",
    "            self.layers.append(nn.Linear(90, 10))\n",
    "            for i in range(num_layers):\n",
    "                self.layers.append(nn.Linear(10, 10))\n",
    "            self.layers.append(nn.Linear(10, 1))\n",
    "        else:\n",
    "            self.layers.append(nn.Linear(num_input, 90))\n",
    "            self.layers.append(nn.Linear(90, 1))\n",
    "        \n",
    "        for i, l in enumerate(self.layers):\n",
    "            self.add_module('linear_{}'.format(i), l)\n",
    "    def forward(self, x):\n",
    "        for i, l in enumerate(self.layers[:-1]):\n",
    "            x = self.act(l(x))\n",
    "        x = self.layers[-1](x)\n",
    "        #vis.heatmap(x.data.numpy(), win=\"act_{}\".format(i))\n",
    "        return x"
   ]
  },
  {
   "cell_type": "markdown",
   "metadata": {},
   "source": [
    "# build trainer"
   ]
  },
  {
   "cell_type": "code",
   "execution_count": 641,
   "metadata": {
    "collapsed": true
   },
   "outputs": [],
   "source": [
    "class Trainer(skorch.NeuralNetRegressor):\n",
    "    def get_loss(self, *args, **kwargs):\n",
    "        l = super().get_loss(*args, **kwargs)\n",
    "        l.backward(retain_graph=True)\n",
    "#         print('({:.2},{:.2})'.format(kwargs['X'].min(), kwargs['X'].max()),\n",
    "#              self.module_.layers[0].weight.grad.mean().data[0],\n",
    "#              self.module_.layers[-1].weight.grad.mean().data[0])\n",
    "        self.history.record_batch(\n",
    "            'overall_grads', \n",
    "            numpy.mean([n.weight.grad.mean().data[0] for n in self.module_.layers]))\n",
    "        return super().get_loss(*args, **kwargs)"
   ]
  },
  {
   "cell_type": "code",
   "execution_count": 617,
   "metadata": {
    "collapsed": true
   },
   "outputs": [],
   "source": [
    "#X_train = numpy.eye(len(X)).astype('float32')\n",
    "#X_train = X.reshape(-1, 1).astype('float32')\n",
    "X_train = ((X - X.mean())/X.std()).reshape(-1, 1).astype('float32')\n",
    "Y_train = Y.reshape(-1, 1).astype('float32')"
   ]
  },
  {
   "cell_type": "code",
   "execution_count": 618,
   "metadata": {
    "scrolled": true
   },
   "outputs": [
    {
     "data": {
      "text/plain": [
       "(1000, 1)"
      ]
     },
     "execution_count": 618,
     "metadata": {},
     "output_type": "execute_result"
    }
   ],
   "source": [
    "X_train.shape"
   ]
  },
  {
   "cell_type": "code",
   "execution_count": 594,
   "metadata": {},
   "outputs": [
    {
     "data": {
      "text/plain": [
       "(1000, 1)"
      ]
     },
     "execution_count": 594,
     "metadata": {},
     "output_type": "execute_result"
    }
   ],
   "source": [
    "Y_train.shape"
   ]
  },
  {
   "cell_type": "markdown",
   "metadata": {},
   "source": [
    "# Shallow network"
   ]
  },
  {
   "cell_type": "code",
   "execution_count": 649,
   "metadata": {
    "collapsed": true
   },
   "outputs": [],
   "source": [
    "ef = Trainer(\n",
    "    module=Model,\n",
    "    optimizer=torch.optim.Adam,\n",
    "    lr=0.002,\n",
    "    max_epochs=60,\n",
    "    batch_size=10,\n",
    "    train_split=None,\n",
    "    \n",
    "    module__one_hot=False,\n",
    "    module__deep=False,\n",
    "    \n",
    "    callbacks=[\n",
    "        skorch.callbacks.Scoring(name='overall_grads', lower_is_better=False, scoring=grad_scoring, on_train=True)\n",
    "    ]\n",
    ")"
   ]
  },
  {
   "cell_type": "code",
   "execution_count": 650,
   "metadata": {
    "scrolled": false
   },
   "outputs": [
    {
     "name": "stdout",
     "output_type": "stream",
     "text": [
      "  epoch    overall_grads    train_loss     dur\n",
      "-------  ---------------  ------------  ------\n",
      "      1           \u001b[36m0.0008\u001b[0m        \u001b[32m0.1396\u001b[0m  0.2060\n",
      "      2          -0.0006        0.4209  0.2133\n",
      "      3           \u001b[36m0.0019\u001b[0m        0.6459  0.2161\n",
      "      4           0.0004        0.6443  0.2163\n",
      "      5           0.0001        0.6544  0.2062\n",
      "      6          -0.0009        0.6854  0.1996\n",
      "      7          -0.0010        0.7014  0.2216\n",
      "      8          -0.0009        0.7530  0.2169\n",
      "      9          -0.0007        0.7727  0.1963\n",
      "     10          -0.0008        0.7736  0.2130\n",
      "     11          -0.0007        0.7344  0.2042\n",
      "     12          -0.0007        0.6749  0.1982\n",
      "     13          -0.0015        0.6024  0.2087\n",
      "     14          -0.0017        0.5341  0.1991\n",
      "     15          -0.0019        0.4673  0.2112\n",
      "     16          -0.0020        0.4097  0.2193\n",
      "     17          -0.0020        0.3609  0.1891\n",
      "     18          -0.0019        0.3210  0.1959\n",
      "     19          -0.0018        0.2893  0.1967\n",
      "     20          -0.0016        0.2647  0.2176\n",
      "     21          -0.0014        0.2461  0.2187\n",
      "     22          -0.0012        0.2322  0.1958\n",
      "     23          -0.0010        0.2218  0.2039\n",
      "     24          -0.0008        0.2140  0.1949\n",
      "     25          -0.0006        0.2078  0.1988\n",
      "     26          -0.0004        0.2025  0.1924\n",
      "     27          -0.0003        0.1976  0.1922\n",
      "     28          -0.0001        0.1927  0.2234\n",
      "     29          -0.0000        0.1876  0.2058\n",
      "     30           0.0000        0.1823  0.2180\n",
      "     31           0.0001        0.1767  0.1787\n",
      "     32           0.0001        0.1711  0.1877\n",
      "     33           0.0001        0.1655  0.1957\n",
      "     34           0.0001        0.1600  0.1958\n",
      "     35           0.0001        0.1549  0.2300\n",
      "     36           0.0001        0.1502  0.2030\n",
      "     37           0.0001        0.1460  0.1888\n",
      "     38           0.0000        0.1422  0.2029\n",
      "     39          -0.0000        \u001b[32m0.1390\u001b[0m  0.2140\n",
      "     40          -0.0000        \u001b[32m0.1364\u001b[0m  0.1939\n",
      "     41          -0.0001        \u001b[32m0.1345\u001b[0m  0.2035\n",
      "     42          -0.0001        \u001b[32m0.1323\u001b[0m  0.1754\n",
      "     43          -0.0001        \u001b[32m0.1304\u001b[0m  0.2024\n",
      "     44          -0.0001        \u001b[32m0.1291\u001b[0m  0.2605\n",
      "     45          -0.0001        \u001b[32m0.1277\u001b[0m  0.2153\n",
      "     46          -0.0001        \u001b[32m0.1266\u001b[0m  0.2053\n",
      "     47          -0.0001        \u001b[32m0.1254\u001b[0m  0.2001\n",
      "     48          -0.0001        \u001b[32m0.1244\u001b[0m  0.2063\n",
      "     49          -0.0001        \u001b[32m0.1234\u001b[0m  0.2100\n",
      "     50          -0.0001        \u001b[32m0.1225\u001b[0m  0.1985\n",
      "     51          -0.0001        \u001b[32m0.1214\u001b[0m  0.1898\n",
      "     52          -0.0001        \u001b[32m0.1207\u001b[0m  0.1960\n",
      "     53           0.0000        \u001b[32m0.1206\u001b[0m  0.1925\n",
      "     54          -0.0001        \u001b[32m0.1184\u001b[0m  0.2526\n",
      "     55          -0.0000        \u001b[32m0.1180\u001b[0m  0.2203\n",
      "     56          -0.0001        \u001b[32m0.1177\u001b[0m  0.2009\n",
      "     57          -0.0000        \u001b[32m0.1169\u001b[0m  0.1819\n",
      "     58           0.0000        \u001b[32m0.1158\u001b[0m  0.1772\n",
      "     59          -0.0002        0.1175  0.1947\n",
      "     60           0.0001        \u001b[32m0.1135\u001b[0m  0.2029\n"
     ]
    },
    {
     "data": {
      "text/plain": [
       "<__main__.Trainer at 0x7f29a1acecc0>"
      ]
     },
     "execution_count": 650,
     "metadata": {},
     "output_type": "execute_result"
    }
   ],
   "source": [
    "ef.fit(X_train, Y_train)"
   ]
  },
  {
   "cell_type": "code",
   "execution_count": 651,
   "metadata": {},
   "outputs": [
    {
     "data": {
      "text/plain": [
       "<matplotlib.collections.PathCollection at 0x7f299abe8eb8>"
      ]
     },
     "execution_count": 651,
     "metadata": {},
     "output_type": "execute_result"
    },
    {
     "data": {
      "image/png": "[encoded data removed]",
      "text/plain": [
       "<matplotlib.figure.Figure at 0x7f299b76b748>"
      ]
     },
     "metadata": {},
     "output_type": "display_data"
    }
   ],
   "source": [
    "pred =  ef.predict(X_train)\n",
    "x_plot = X\n",
    "plt.scatter(x_plot, pred, s = 1, c =  'r')\n",
    "plt.scatter(x_plot, Y, s = 1, c = 'b')"
   ]
  },
  {
   "cell_type": "markdown",
   "metadata": {},
   "source": [
    "# Deep network (tanh)"
   ]
  },
  {
   "cell_type": "code",
   "execution_count": 659,
   "metadata": {
    "collapsed": true
   },
   "outputs": [],
   "source": [
    "def grad_scoring(net, X=None, y=None):\n",
    "    return net.history[-1, 'batches', -1, 'overall_gradient']\n",
    "\n",
    "\n",
    "ef = Trainer(\n",
    "    module=Model,\n",
    "    optimizer=torch.optim.Adam,\n",
    "    lr=0.0002,\n",
    "    max_epochs=500,\n",
    "    batch_size=10,\n",
    "    train_split=None,\n",
    "    \n",
    "    module__one_hot=False,\n",
    "    module__deep=True,\n",
    "    module__num_layers=9,\n",
    "    module__act='tanh',\n",
    "    \n",
    "    callbacks=[\n",
    "        skorch.callbacks.Scoring(name='overall_grads', lower_is_better=False, scoring=grad_scoring, on_train=True)\n",
    "    ]\n",
    ")"
   ]
  },
  {
   "cell_type": "code",
   "execution_count": 653,
   "metadata": {
    "scrolled": false
   },
   "outputs": [
    {
     "name": "stdout",
     "output_type": "stream",
     "text": [
      "Automatic pdb calling has been turned ON\n",
      "  epoch    overall_grads    train_loss     dur\n",
      "-------  ---------------  ------------  ------\n",
      "      1          \u001b[36m-0.0014\u001b[0m        \u001b[32m0.6612\u001b[0m  0.8365\n",
      "      2          \u001b[36m-0.0005\u001b[0m        \u001b[32m0.6039\u001b[0m  0.7080\n",
      "      3           \u001b[36m0.0006\u001b[0m        \u001b[32m0.5999\u001b[0m  0.6793\n",
      "      4          -0.0009        \u001b[32m0.5495\u001b[0m  0.8271\n",
      "      5          -0.0005        \u001b[32m0.5125\u001b[0m  0.7876\n",
      "      6          -0.0003        \u001b[32m0.4924\u001b[0m  0.7787\n",
      "      7           0.0000        \u001b[32m0.4831\u001b[0m  0.7447\n",
      "      8          -0.0006        \u001b[32m0.4818\u001b[0m  0.7749\n",
      "      9           0.0002        \u001b[32m0.4782\u001b[0m  0.7586\n",
      "     10          -0.0004        \u001b[32m0.4608\u001b[0m  0.7647\n",
      "     11          -0.0000        \u001b[32m0.4578\u001b[0m  0.7421\n",
      "     12          -0.0005        0.4621  0.7765\n",
      "     13          -0.0007        \u001b[32m0.4560\u001b[0m  0.7345\n",
      "     14           \u001b[36m0.0009\u001b[0m        \u001b[32m0.4518\u001b[0m  0.6621\n",
      "     15          -0.0026        0.4551  0.7032\n",
      "     16           \u001b[36m0.0015\u001b[0m        \u001b[32m0.4508\u001b[0m  0.6837\n",
      "     17          -0.0011        \u001b[32m0.4344\u001b[0m  0.7373\n",
      "     18           0.0001        \u001b[32m0.4278\u001b[0m  0.7208\n",
      "     19          -0.0007        \u001b[32m0.4232\u001b[0m  0.7375\n",
      "     20          -0.0000        \u001b[32m0.4203\u001b[0m  0.7260\n",
      "     21          -0.0009        0.4239  0.7533\n",
      "     22           0.0001        0.4383  0.7053\n",
      "     23          -0.0000        \u001b[32m0.4201\u001b[0m  0.7190\n",
      "     24          -0.0005        0.4208  0.7792\n",
      "     25           0.0001        \u001b[32m0.4195\u001b[0m  0.7351\n",
      "     26          -0.0004        0.4258  0.7062\n",
      "     27          -0.0004        0.4345  0.9525\n",
      "     28           0.0001        \u001b[32m0.4155\u001b[0m  0.9558\n",
      "     29          -0.0006        \u001b[32m0.4146\u001b[0m  0.7685\n",
      "     30          -0.0005        \u001b[32m0.4069\u001b[0m  0.7441\n",
      "     31           0.0001        0.4183  0.7824\n",
      "     32          -0.0007        0.4231  0.8435\n",
      "     33           0.0002        0.4146  0.6921\n",
      "     34          -0.0001        \u001b[32m0.4063\u001b[0m  0.7209\n",
      "     35          -0.0012        \u001b[32m0.4040\u001b[0m  0.7002\n",
      "     36           0.0010        0.4082  0.7924\n",
      "     37          -0.0011        0.4065  0.7415\n",
      "     38           0.0009        \u001b[32m0.4015\u001b[0m  0.7239\n",
      "     39          -0.0015        0.4039  0.7365\n",
      "     40           0.0003        0.4063  0.7644\n",
      "     41          -0.0004        0.4066  0.7929\n",
      "     42           0.0006        0.4157  0.7528\n",
      "     43           \u001b[36m0.0015\u001b[0m        0.4207  0.8010\n",
      "     44          -0.0010        0.4167  0.9045\n",
      "     45          -0.0002        0.4050  0.7633\n",
      "     46          -0.0016        \u001b[32m0.3990\u001b[0m  0.9442\n",
      "     47           \u001b[36m0.0026\u001b[0m        0.4070  0.8616\n",
      "     48          -0.0010        0.4222  0.7596\n",
      "     49           0.0004        0.4151  0.8012\n",
      "     50          -0.0007        0.4125  0.7520\n",
      "     51           0.0001        0.4093  0.7701\n",
      "     52          -0.0007        0.4050  0.7638\n",
      "     53           0.0004        0.4042  0.7901\n",
      "     54          -0.0007        0.4056  0.7912\n",
      "     55           0.0007        0.4084  0.7602\n",
      "     56          -0.0005        0.4145  0.7541\n",
      "     57           0.0005        0.4179  0.7939\n",
      "     58          -0.0002        0.4134  0.7604\n",
      "     59           0.0001        0.4105  0.7492\n",
      "     60          -0.0004        0.4087  0.7229\n",
      "     61          -0.0003        0.4072  0.7500\n",
      "     62          -0.0005        0.4021  0.7432\n",
      "     63           \u001b[36m0.0037\u001b[0m        0.4145  0.7649\n",
      "     64           0.0015        0.4260  0.7769\n",
      "     65          -0.0007        0.4208  0.8803\n",
      "     66           0.0002        0.4212  0.8216\n",
      "     67          -0.0006        0.4192  0.8203\n",
      "     68           0.0004        0.4158  0.7552\n",
      "     69          -0.0010        0.4061  0.8380\n",
      "     70           0.0005        0.4049  0.7672\n",
      "     71          -0.0010        0.4012  0.7532\n",
      "     72           0.0001        \u001b[32m0.3965\u001b[0m  0.7497\n",
      "     73           0.0004        0.4078  0.7673\n",
      "     74           0.0004        0.4031  0.7083\n",
      "     75          -0.0010        0.3993  0.7474\n",
      "     76           0.0012        0.3989  0.7472\n",
      "     77          -0.0012        0.4010  0.6961\n",
      "     78           0.0010        0.4022  0.7007\n",
      "     79          -0.0003        0.4049  0.7820\n",
      "     80          -0.0042        0.4117  0.7490\n",
      "     81           0.0015        0.4784  0.7817\n",
      "     82           0.0014        0.4676  0.7551\n",
      "     83          -0.0000        0.4575  0.9249\n",
      "     84           0.0012        0.4556  0.8818\n",
      "     85          -0.0003        0.4536  0.8052\n",
      "     86           \u001b[36m0.0051\u001b[0m        0.4487  0.7937\n",
      "     87          -0.0015        0.4168  0.7193\n",
      "     88           0.0005        0.4213  0.7194\n",
      "     89           0.0015        0.4361  0.7751\n",
      "     90          -0.0002        0.4402  0.8036\n",
      "     91           0.0023        0.4430  0.9298\n",
      "     92          -0.0010        0.4470  0.9702\n",
      "     93           0.0002        0.4351  0.8565\n",
      "     94          -0.0015        0.4081  0.7624\n",
      "     95          -0.0010        0.4000  0.7753\n",
      "     96          -0.0007        \u001b[32m0.3965\u001b[0m  0.7731\n",
      "     97          -0.0005        \u001b[32m0.3947\u001b[0m  0.7793\n",
      "     98          -0.0004        \u001b[32m0.3939\u001b[0m  0.8142\n",
      "     99          -0.0003        \u001b[32m0.3934\u001b[0m  0.7451\n",
      "    100          -0.0002        \u001b[32m0.3931\u001b[0m  0.7613\n",
      "    101          -0.0001        \u001b[32m0.3930\u001b[0m  0.7471\n",
      "    102          -0.0001        \u001b[32m0.3929\u001b[0m  0.7550\n",
      "    103          -0.0001        \u001b[32m0.3929\u001b[0m  0.7828\n",
      "    104          -0.0001        0.3929  0.7346\n",
      "    105           0.0001        0.3935  0.7613\n",
      "    106          -0.0001        0.3976  0.7023\n",
      "    107           0.0034        0.4061  0.7331\n",
      "    108          -0.0000        0.4287  0.8484\n",
      "    109           0.0006        0.4241  0.8557\n"
     ]
    },
    {
     "data": {
      "text/plain": [
       "<__main__.Trainer at 0x7f299ab78860>"
      ]
     },
     "execution_count": 653,
     "metadata": {},
     "output_type": "execute_result"
    }
   ],
   "source": [
    "%pdb on\n",
    "ef.fit(X_train, Y_train)"
   ]
  },
  {
   "cell_type": "code",
   "execution_count": 654,
   "metadata": {},
   "outputs": [
    {
     "data": {
      "text/plain": [
       "<matplotlib.collections.PathCollection at 0x7f299a970be0>"
      ]
     },
     "execution_count": 654,
     "metadata": {},
     "output_type": "execute_result"
    },
    {
     "data": {
      "image/png": "[encoded data removed]",
      "text/plain": [
       "<matplotlib.figure.Figure at 0x7f299aa21c50>"
      ]
     },
     "metadata": {},
     "output_type": "display_data"
    }
   ],
   "source": [
    "pred =  ef.predict(X_train)\n",
    "x_plot = X\n",
    "plt.scatter(x_plot, pred, s = 1, c =  'r')\n",
    "plt.scatter(x_plot, Y, s = 1, c = 'b')"
   ]
  },
  {
   "cell_type": "markdown",
   "metadata": {},
   "source": [
    "# Deep network (with ReLU)"
   ]
  },
  {
   "cell_type": "code",
   "execution_count": 659,
   "metadata": {
    "collapsed": true
   },
   "outputs": [],
   "source": [
    "def grad_scoring(net, X=None, y=None):\n",
    "    return net.history[-1, 'batches', -1, 'overall_gradient']\n",
    "\n",
    "\n",
    "ef = Trainer(\n",
    "    module=Model,\n",
    "    optimizer=torch.optim.Adam,\n",
    "    lr=0.0002,\n",
    "    max_epochs=500,\n",
    "    batch_size=10,\n",
    "    train_split=None,\n",
    "    \n",
    "    module__one_hot=False,\n",
    "    module__deep=True,\n",
    "    module__num_layers=9,\n",
    "    module__act='relu',\n",
    "    \n",
    "    callbacks=[\n",
    "        skorch.callbacks.Scoring(name='overall_grads', lower_is_better=False, scoring=grad_scoring, on_train=True)\n",
    "    ]\n",
    ")"
   ]
  },
  {
   "cell_type": "code",
   "execution_count": 660,
   "metadata": {
    "scrolled": false
   },
   "outputs": [
    {
     "name": "stdout",
     "output_type": "stream",
     "text": [
      "Automatic pdb calling has been turned ON\n",
      "  epoch    overall_grads    train_loss     dur\n",
      "-------  ---------------  ------------  ------\n",
      "      1          \u001b[36m-0.0020\u001b[0m        \u001b[32m0.5076\u001b[0m  1.1467\n",
      "      2          \u001b[36m-0.0016\u001b[0m        \u001b[32m0.5036\u001b[0m  0.8754\n",
      "      3          \u001b[36m-0.0013\u001b[0m        \u001b[32m0.5020\u001b[0m  1.0606\n",
      "      4          \u001b[36m-0.0011\u001b[0m        \u001b[32m0.5008\u001b[0m  0.9230\n",
      "      5          \u001b[36m-0.0009\u001b[0m        \u001b[32m0.4999\u001b[0m  0.8402\n",
      "      6          \u001b[36m-0.0008\u001b[0m        \u001b[32m0.4993\u001b[0m  0.7489\n",
      "      7          \u001b[36m-0.0007\u001b[0m        \u001b[32m0.4988\u001b[0m  0.8214\n",
      "      8          \u001b[36m-0.0006\u001b[0m        \u001b[32m0.4984\u001b[0m  0.7936\n",
      "      9          \u001b[36m-0.0005\u001b[0m        \u001b[32m0.4982\u001b[0m  0.8107\n",
      "     10          \u001b[36m-0.0004\u001b[0m        \u001b[32m0.4978\u001b[0m  1.0120\n",
      "     11          \u001b[36m-0.0003\u001b[0m        \u001b[32m0.4975\u001b[0m  1.3750\n",
      "     12          \u001b[36m-0.0003\u001b[0m        \u001b[32m0.4972\u001b[0m  1.6050\n",
      "     13          \u001b[36m-0.0002\u001b[0m        \u001b[32m0.4968\u001b[0m  1.8517\n",
      "     14          \u001b[36m-0.0002\u001b[0m        \u001b[32m0.4962\u001b[0m  1.3366\n",
      "     15          \u001b[36m-0.0001\u001b[0m        \u001b[32m0.4951\u001b[0m  0.7840\n",
      "     16          \u001b[36m-0.0000\u001b[0m        \u001b[32m0.4934\u001b[0m  0.7787\n",
      "     17           \u001b[36m0.0001\u001b[0m        \u001b[32m0.4907\u001b[0m  0.8498\n",
      "     18           \u001b[36m0.0001\u001b[0m        \u001b[32m0.4851\u001b[0m  1.1762\n",
      "     19           \u001b[36m0.0005\u001b[0m        \u001b[32m0.4716\u001b[0m  1.4958\n",
      "     20           \u001b[36m0.0011\u001b[0m        \u001b[32m0.4426\u001b[0m  1.4870\n",
      "     21           0.0011        \u001b[32m0.4231\u001b[0m  1.5414\n",
      "     22           0.0011        \u001b[32m0.4099\u001b[0m  1.1729\n",
      "     23           \u001b[36m0.0015\u001b[0m        \u001b[32m0.4033\u001b[0m  0.8659\n",
      "     24           0.0014        \u001b[32m0.3977\u001b[0m  0.7761\n",
      "     25           0.0014        \u001b[32m0.3943\u001b[0m  0.8734\n",
      "     26           0.0013        \u001b[32m0.3920\u001b[0m  0.9041\n",
      "     27           0.0011        \u001b[32m0.3901\u001b[0m  0.9586\n",
      "     28           0.0010        \u001b[32m0.3886\u001b[0m  1.3590\n",
      "     29           0.0008        \u001b[32m0.3874\u001b[0m  0.9831\n",
      "     30           0.0007        \u001b[32m0.3865\u001b[0m  1.8579\n",
      "     31           0.0006        \u001b[32m0.3858\u001b[0m  1.9123\n",
      "     32           0.0005        \u001b[32m0.3852\u001b[0m  1.0574\n",
      "     33           0.0005        \u001b[32m0.3847\u001b[0m  1.0927\n",
      "     34           0.0004        \u001b[32m0.3842\u001b[0m  0.8822\n",
      "     35           0.0004        \u001b[32m0.3838\u001b[0m  1.2327\n",
      "     36           0.0003        \u001b[32m0.3835\u001b[0m  1.1048\n",
      "     37           0.0003        \u001b[32m0.3832\u001b[0m  0.9787\n",
      "     38           0.0003        \u001b[32m0.3829\u001b[0m  1.5118\n",
      "     39           0.0002        \u001b[32m0.3827\u001b[0m  1.7700\n",
      "     40           0.0002        \u001b[32m0.3824\u001b[0m  1.8023\n",
      "     41           0.0002        \u001b[32m0.3822\u001b[0m  1.5020\n",
      "     42           0.0002        \u001b[32m0.3820\u001b[0m  1.1466\n",
      "     43           0.0001        \u001b[32m0.3818\u001b[0m  0.8338\n",
      "     44           0.0001        \u001b[32m0.3816\u001b[0m  0.8362\n",
      "     45           0.0001        \u001b[32m0.3814\u001b[0m  1.4507\n",
      "     46           0.0001        \u001b[32m0.3814\u001b[0m  1.8333\n",
      "     47           0.0001        \u001b[32m0.3811\u001b[0m  1.5106\n",
      "     48           0.0002        0.3813  1.2681\n",
      "     49           0.0000        0.3814  1.4041\n",
      "     50           0.0004        0.3826  1.1950\n",
      "     51          -0.0002        \u001b[32m0.3806\u001b[0m  1.2352\n",
      "     52           0.0004        0.3823  1.2586\n",
      "     53          -0.0002        \u001b[32m0.3792\u001b[0m  1.6391\n",
      "     54           0.0002        \u001b[32m0.3784\u001b[0m  1.1600\n",
      "     55          -0.0001        \u001b[32m0.3769\u001b[0m  1.0481\n",
      "     56           0.0002        \u001b[32m0.3758\u001b[0m  0.8151\n",
      "     57           0.0007        \u001b[32m0.3640\u001b[0m  0.7972\n",
      "     58           \u001b[36m0.0015\u001b[0m        \u001b[32m0.2956\u001b[0m  0.8398\n",
      "     59           \u001b[36m0.0024\u001b[0m        \u001b[32m0.2400\u001b[0m  0.8967\n",
      "     60           \u001b[36m0.0043\u001b[0m        \u001b[32m0.2042\u001b[0m  1.2723\n",
      "     61           0.0041        \u001b[32m0.1803\u001b[0m  1.3655\n",
      "     62           0.0029        \u001b[32m0.1592\u001b[0m  1.8393\n",
      "     63           0.0014        \u001b[32m0.1521\u001b[0m  1.6955\n",
      "     64           0.0037        \u001b[32m0.1293\u001b[0m  0.9586\n",
      "     65           0.0033        \u001b[32m0.1157\u001b[0m  0.8328\n",
      "     66           0.0010        \u001b[32m0.0990\u001b[0m  1.0370\n",
      "     67           0.0000        \u001b[32m0.0903\u001b[0m  1.1681\n",
      "     68           0.0013        \u001b[32m0.0829\u001b[0m  1.6955\n",
      "     69           0.0011        \u001b[32m0.0735\u001b[0m  1.8418\n",
      "     70           0.0003        \u001b[32m0.0671\u001b[0m  1.3243\n",
      "     71          -0.0002        \u001b[32m0.0625\u001b[0m  0.9058\n",
      "     72          -0.0005        \u001b[32m0.0606\u001b[0m  0.8781\n",
      "     73          -0.0001        \u001b[32m0.0598\u001b[0m  1.4686\n",
      "     74           0.0004        \u001b[32m0.0596\u001b[0m  1.8740\n",
      "     75           0.0005        0.0597  1.5028\n",
      "     76           0.0002        \u001b[32m0.0567\u001b[0m  1.3904\n"
     ]
    },
    {
     "data": {
      "text/plain": [
       "<__main__.Trainer at 0x7f299aa847f0>"
      ]
     },
     "execution_count": 660,
     "metadata": {},
     "output_type": "execute_result"
    }
   ],
   "source": [
    "%pdb on\n",
    "ef.fit(X_train, Y_train)"
   ]
  },
  {
   "cell_type": "code",
   "execution_count": 661,
   "metadata": {},
   "outputs": [
    {
     "data": {
      "text/plain": [
       "<matplotlib.collections.PathCollection at 0x7f299a745588>"
      ]
     },
     "execution_count": 661,
     "metadata": {},
     "output_type": "execute_result"
    },
    {
     "data": {
      "image/png": "[encoded data removed]",
      "text/plain": [
       "<matplotlib.figure.Figure at 0x7f299aa10f98>"
      ]
     },
     "metadata": {},
     "output_type": "display_data"
    }
   ],
   "source": [
    "pred =  ef.predict(X_train)\n",
    "x_plot = X\n",
    "plt.scatter(x_plot, pred, s = 1, c =  'r')\n",
    "plt.scatter(x_plot, Y, s = 1, c = 'b')"
   ]
  },
  {
   "cell_type": "code",
   "execution_count": null,
   "metadata": {
    "collapsed": true
   },
   "outputs": [],
   "source": []
  }
 ],
 "metadata": {
  "kernelspec": {
   "display_name": "Python 3",
   "language": "python",
   "name": "python3"
  },
  "language_info": {
   "codemirror_mode": {
    "name": "ipython",
    "version": 3
   },
   "file_extension": ".py",
   "mimetype": "text/x-python",
   "name": "python",
   "nbconvert_exporter": "python",
   "pygments_lexer": "ipython3",
   "version": "3.5.2"
  }
 },
 "nbformat": 4,
 "nbformat_minor": 2
}
