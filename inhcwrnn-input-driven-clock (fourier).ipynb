{
 "cells": [
  {
   "cell_type": "code",
   "execution_count": 12,
   "metadata": {},
   "outputs": [],
   "source": [
    "import skorch\n",
    "import torch\n",
    "import torch.nn as nn\n",
    "import torch.nn.functional as F\n",
    "from torch.utils.data.dataloader import DataLoader\n",
    "from torch.utils.data import TensorDataset\n",
    "from torch.autograd import Variable"
   ]
  },
  {
   "cell_type": "code",
   "execution_count": 13,
   "metadata": {},
   "outputs": [],
   "source": [
    "from sine_data import train_dataset, valid_dataset"
   ]
  },
  {
   "cell_type": "code",
   "execution_count": 14,
   "metadata": {},
   "outputs": [],
   "source": [
    "%matplotlib inline\n",
    "import matplotlib.pyplot as plt\n",
    "import numpy as np\n",
    "import insp"
   ]
  },
  {
   "cell_type": "code",
   "execution_count": 15,
   "metadata": {},
   "outputs": [],
   "source": [
    "import visdom\n",
    "vis = visdom.Visdom()"
   ]
  },
  {
   "cell_type": "code",
   "execution_count": 16,
   "metadata": {},
   "outputs": [],
   "source": [
    "\n",
    "\n",
    "\n",
    "X_train, y_train = train_dataset(points=200)\n",
    "X_train, y_train = torch.Tensor(X_train), torch.LongTensor(y_train)\n",
    "\n",
    "X_valid, y_valid = valid_dataset(points=400)\n",
    "X_valid, y_valid = torch.Tensor(X_valid), torch.LongTensor(y_valid)\n",
    "\n",
    "sine_train_loader = DataLoader(TensorDataset(X_train, y_train),\n",
    "                               batch_size=64,\n",
    "                               shuffle=True)\n",
    "sine_valid_loader = DataLoader(TensorDataset(X_valid, y_valid),\n",
    "                               batch_size=64,\n",
    "                               shuffle=False)"
   ]
  },
  {
   "cell_type": "code",
   "execution_count": null,
   "metadata": {},
   "outputs": [],
   "source": []
  },
  {
   "cell_type": "code",
   "execution_count": 17,
   "metadata": {},
   "outputs": [],
   "source": [
    "class InhCWRNN_sister(nn.Module):\n",
    "    \"\"\"simply learning sine parameters from var(sister module)\"\"\"\n",
    "    def __init__(self, input_dim, output_dim, num_modules, *args, **kwargs):\n",
    "        super().__init__(*args, **kwargs)\n",
    "        \n",
    "        self.input_dim = input_dim\n",
    "        self.output_dim = output_dim\n",
    "        self.num_modules = num_modules\n",
    "        \n",
    "        self.input_mod = nn.Linear(input_dim, output_dim)\n",
    "        self.hidden_mod = nn.Linear(output_dim, output_dim, bias=False)\n",
    "        \n",
    "        self.input_period = nn.Linear(input_dim, output_dim)\n",
    "        self.hidden_period = nn.Linear(output_dim, output_dim, bias=False)\n",
    "        \n",
    "        self.module_periods = nn.Parameter(torch.zeros(num_modules) + 1)\n",
    "        self.module_shifts = nn.Parameter(torch.zeros(num_modules))\n",
    "        \n",
    "        self.f_mod = nn.Tanh()        \n",
    "        \n",
    "    def step(self, ti, xi, h):\n",
    "        module_size = self.output_dim // self.num_modules\n",
    "        \n",
    "        acts = self.f_mod(self.input_mod(xi) + self.hidden_mod(h))\n",
    "        module_acts = acts.view(-1, self.num_modules, module_size)\n",
    "        \n",
    "        acts_period = self.f_mod(self.input_period(xi) + self.hidden_period(h))\n",
    "        module_acts_period = acts.view(-1, self.num_modules, module_size)\n",
    "        \n",
    "        # use variance as indicator for surprisal and, hence, update rate\n",
    "        surprisal = module_acts_period.var(-1, keepdim=True)\n",
    "        module_periods = self.module_periods + surprisal\n",
    "                \n",
    "        # y=(sin(x)+1)/2 so we y is in [0;1]\n",
    "        gate = (torch.sin(ti * module_periods + self.module_shifts) + 1) / 2\n",
    "        #gate = gate.view(1, -1, 1).expand_as(module_acts).contiguous()\n",
    "        gate = gate.view(-1, self.output_dim)\n",
    "                \n",
    "        y = (1 - gate) * acts + gate * h\n",
    "        \n",
    "        return y, y, module_periods\n",
    "        \n",
    "    def init_hidden(self):\n",
    "        return Variable(torch.zeros(self.output_dim))\n",
    "        \n",
    "    def forward(self, x):\n",
    "        t = x.size(1)\n",
    "        ys = []\n",
    "        h = self.init_hidden()\n",
    "        ps = []\n",
    "        for ti in range(t):\n",
    "            xi = x[:, ti]\n",
    "            yi, h, p = self.step(ti, xi, h)     \n",
    "            ys.append(yi)\n",
    "            ps.append(p.squeeze(-1))\n",
    "        return torch.stack(ys, dim=1), h, torch.stack(ps, dim=1)"
   ]
  },
  {
   "cell_type": "code",
   "execution_count": null,
   "metadata": {},
   "outputs": [],
   "source": []
  },
  {
   "cell_type": "code",
   "execution_count": null,
   "metadata": {},
   "outputs": [],
   "source": []
  },
  {
   "cell_type": "code",
   "execution_count": null,
   "metadata": {},
   "outputs": [],
   "source": []
  },
  {
   "cell_type": "code",
   "execution_count": 27,
   "metadata": {},
   "outputs": [],
   "source": [
    "class InhCWRNN_surprisal(nn.Module):\n",
    "    def __init__(self, input_dim, output_dim, num_modules, *args, **kwargs):\n",
    "        super().__init__(*args, **kwargs)\n",
    "        \n",
    "        self.input_dim = input_dim\n",
    "        self.output_dim = output_dim\n",
    "        self.num_modules = num_modules\n",
    "        \n",
    "        self.input_mod = nn.Linear(input_dim, output_dim)\n",
    "        self.hidden_mod = nn.Linear(output_dim, output_dim, bias=False)\n",
    "        \n",
    "        self.input_rec = nn.Linear(input_dim, input_dim * num_modules)\n",
    "        self.hidden_rec = nn.Linear(input_dim * num_modules, input_dim * num_modules, bias=False)\n",
    "        \n",
    "        self.module_periods = nn.Parameter(torch.zeros(num_modules) + 1)\n",
    "        self.module_shifts = nn.Parameter(torch.zeros(num_modules))\n",
    "        \n",
    "        self.f_mod = nn.Tanh()\n",
    "        \n",
    "    def step(self, ti, xi, h, x_pred):\n",
    "        module_size = self.output_dim // self.num_modules\n",
    "        \n",
    "        acts = self.f_mod(self.input_mod(xi) + self.hidden_mod(h))\n",
    "        module_acts = acts.view(-1, self.num_modules, module_size)\n",
    "        \n",
    "        # predict x_{t+1}, store for next step\n",
    "        acts_rec = self.f_mod(self.input_rec(xi) + self.hidden_rec(x_pred))\n",
    "        module_acts_rec = acts_rec.view(-1, self.num_modules, self.input_dim)\n",
    "        \n",
    "        # compare last prediction with current x, compute surprisal from that\n",
    "        module_x_pred = x_pred.view(-1, self.num_modules, self.input_dim)\n",
    "        surprisal = F.log_softmax(module_x_pred) * xi.unsqueeze(1).expand_as(module_acts_rec)\n",
    "        # compute the mean surprisal for each module\n",
    "        mean_surprisal = surprisal.mean(-1)\n",
    "        # use mean surprisal to drive the periodicity of the module's gate\n",
    "        # weight down surprisal for specific modules\n",
    "        module_periods = mean_surprisal * self.module_periods\n",
    "                \n",
    "        # y=(sin(x)+1)/2 so we y is in [0;1]\n",
    "        #gate = (torch.sin(ti * module_periods + self.module_shifts) + 1) / 2\n",
    "        gate = (1/1 * (torch.sin((ti + self.module_shifts) * module_periods * 1)) +\n",
    "                1/3 * (torch.sin((ti + self.module_shifts) * module_periods * 3)) +\n",
    "                1/5 * (torch.sin((ti + self.module_shifts) * module_periods * 5)) + \n",
    "               1/7 * (torch.sin((ti + self.module_shifts) * module_periods * 7)) + \n",
    "               1/9 * (torch.sin((ti + self.module_shifts) * module_periods * 9)) + \n",
    "               1/11 * (torch.sin((ti + self.module_shifts) * module_periods * 11)) +\n",
    "               1/13 * (torch.sin((ti + self.module_shifts) * module_periods * 13)) +\n",
    "               1/15 * (torch.sin((ti + self.module_shifts) * module_periods * 15)))\n",
    "        gate = (gate + 1) / 2\n",
    "        \n",
    "        gate = gate.unsqueeze(-1).expand_as(module_acts).contiguous()\n",
    "        gate = gate.view(-1, self.output_dim)\n",
    "                \n",
    "        y = (1 - gate) * acts + gate * h\n",
    "        \n",
    "        return y, y, acts_rec, module_periods\n",
    "        \n",
    "    def init_hidden(self):\n",
    "        return Variable(torch.zeros(self.output_dim))\n",
    "        \n",
    "    def forward(self, x):\n",
    "        t = x.size(1)\n",
    "        ys = []\n",
    "        h = self.init_hidden()\n",
    "        x_pred = Variable(torch.zeros(self.input_dim * self.num_modules))\n",
    "        ps = []\n",
    "        for ti in range(t):\n",
    "            xi = x[:, ti]\n",
    "            yi, h, x_pred, p = self.step(ti, xi, h, x_pred) \n",
    "            ys.append(yi)\n",
    "            ps.append(p.squeeze(-1))\n",
    "        return torch.stack(ys, dim=1), h, torch.stack(ps, dim=1)"
   ]
  },
  {
   "cell_type": "code",
   "execution_count": null,
   "metadata": {},
   "outputs": [],
   "source": []
  },
  {
   "cell_type": "code",
   "execution_count": 28,
   "metadata": {},
   "outputs": [],
   "source": [
    "def time_flatten(t):\n",
    "    return t.view(t.size(0) * t.size(1), -1)\n",
    "\n",
    "def time_unflatten(t, s):\n",
    "    return t.view(s[0], s[1], -1)"
   ]
  },
  {
   "cell_type": "code",
   "execution_count": 29,
   "metadata": {},
   "outputs": [],
   "source": [
    "class ReconModel(nn.Module):\n",
    "    def __init__(self, num_hidden=64, num_modules=8, implementation='surprisal'):\n",
    "        super().__init__()\n",
    "        \n",
    "        if implementation == 'surprisal':\n",
    "            self.rnn = InhCWRNN_surprisal(1, num_hidden, num_modules)\n",
    "        elif implementation == 'sister':\n",
    "            self.rnn = InhCWRNN_sister(1, num_hidden, num_modules)\n",
    "        else:\n",
    "            raise ValueError('unk. impl.')\n",
    "        self.clf = nn.Linear(num_hidden, 1)\n",
    "        \n",
    "    def forward(self, x):\n",
    "        l0, h0, p0 = self.rnn(x)\n",
    "        \n",
    "        vis.heatmap(l0[0].data.numpy(), win=\"act\")\n",
    "        vis.heatmap(p0[0].data.numpy(), win=\"periods\")\n",
    "        vis.heatmap(self.rnn.module_shifts.data.numpy().reshape(1, -1), win=\"shifts\")\n",
    "\n",
    "        l1 = self.clf(time_flatten(l0))\n",
    "        return time_unflatten(l1, x.size())"
   ]
  },
  {
   "cell_type": "code",
   "execution_count": 30,
   "metadata": {},
   "outputs": [],
   "source": [
    "class Trainer(skorch.NeuralNet):\n",
    "    def __init__(self, \n",
    "                 criterion=nn.MSELoss,\n",
    "                 *args, \n",
    "                 **kwargs):\n",
    "        super().__init__(*args, criterion=criterion, **kwargs)\n",
    "\n",
    "    def get_loss(self, y_pred, y_true, X=None, train=False):\n",
    "        pred = time_flatten(y_pred)\n",
    "        true = time_flatten(y_true)\n",
    "        return super().get_loss(pred, true, X=X, train=train)"
   ]
  },
  {
   "cell_type": "markdown",
   "metadata": {},
   "source": [
    "### exp inhibition"
   ]
  },
  {
   "cell_type": "code",
   "execution_count": 31,
   "metadata": {},
   "outputs": [],
   "source": [
    "torch.manual_seed(1337)\n",
    "\n",
    "def my_train_split(X, y):\n",
    "    return X, X_valid[:, :-1], y, X_valid[:, 1:]\n",
    "\n",
    "ef_relu = Trainer(module=ReconModel,\n",
    "             optimizer=torch.optim.Adam,\n",
    "             lr=0.005,\n",
    "             max_epochs=30,\n",
    "             train_split=my_train_split,\n",
    "             \n",
    "             module__num_modules=8,\n",
    "             module__num_hidden=64,\n",
    "             module__implementation='surprisal',\n",
    "            )"
   ]
  },
  {
   "cell_type": "code",
   "execution_count": 32,
   "metadata": {
    "scrolled": false
   },
   "outputs": [
    {
     "name": "stdout",
     "output_type": "stream",
     "text": [
      "Automatic pdb calling has been turned ON\n",
      "  epoch    train_loss    valid_loss     dur\n",
      "-------  ------------  ------------  ------\n",
      "      1        \u001b[36m1.0338\u001b[0m        \u001b[32m0.4689\u001b[0m  0.9706\n",
      "      2        \u001b[36m0.4499\u001b[0m        \u001b[32m0.2651\u001b[0m  0.9288\n",
      "      3        \u001b[36m0.2528\u001b[0m        \u001b[32m0.1677\u001b[0m  0.9423\n",
      "      4        \u001b[36m0.1750\u001b[0m        \u001b[32m0.1093\u001b[0m  0.8957\n",
      "      5        \u001b[36m0.1259\u001b[0m        \u001b[32m0.1082\u001b[0m  0.9133\n",
      "      6        \u001b[36m0.1242\u001b[0m        0.1249  0.9997\n",
      "      7        0.1365        \u001b[32m0.1058\u001b[0m  0.9448\n",
      "      8        \u001b[36m0.1160\u001b[0m        \u001b[32m0.0616\u001b[0m  0.9924\n",
      "      9        \u001b[36m0.0718\u001b[0m        \u001b[32m0.0319\u001b[0m  0.9060\n",
      "     10        \u001b[36m0.0420\u001b[0m        \u001b[32m0.0288\u001b[0m  0.9622\n",
      "     11        \u001b[36m0.0379\u001b[0m        0.0375  0.8631\n",
      "     12        0.0438        0.0405  1.0153\n",
      "     13        0.0442        0.0364  1.0160\n",
      "     14        0.0387        0.0334  1.0308\n",
      "     15        \u001b[36m0.0345\u001b[0m        0.0354  0.9009\n",
      "     16        0.0363        0.0377  0.8484\n",
      "     17        0.0391        0.0347  0.8964\n",
      "     18        0.0365        \u001b[32m0.0262\u001b[0m  0.9965\n",
      "     19        \u001b[36m0.0284\u001b[0m        \u001b[32m0.0172\u001b[0m  0.9896\n",
      "     20        \u001b[36m0.0203\u001b[0m        \u001b[32m0.0125\u001b[0m  1.0167\n",
      "     21        \u001b[36m0.0166\u001b[0m        \u001b[32m0.0120\u001b[0m  0.8751\n",
      "     22        0.0173        0.0121  0.9069\n",
      "     23        0.0186        \u001b[32m0.0110\u001b[0m  0.9250\n",
      "     24        0.0181        \u001b[32m0.0100\u001b[0m  0.9065\n",
      "     25        0.0169        0.0108  1.0001\n",
      "     26        0.0172        0.0121  0.9764\n",
      "     27        0.0181        0.0118  1.0430\n",
      "     28        0.0172        \u001b[32m0.0094\u001b[0m  1.0865\n",
      "     29        \u001b[36m0.0145\u001b[0m        \u001b[32m0.0072\u001b[0m  0.9979\n",
      "     30        \u001b[36m0.0119\u001b[0m        \u001b[32m0.0068\u001b[0m  0.9738\n"
     ]
    },
    {
     "data": {
      "text/plain": [
       "<__main__.Trainer at 0x7f425df6cac8>"
      ]
     },
     "execution_count": 32,
     "metadata": {},
     "output_type": "execute_result"
    }
   ],
   "source": [
    "%pdb on\n",
    "ef_relu.fit(X_train[:, :-1], X_train[:, 1:])"
   ]
  },
  {
   "cell_type": "code",
   "execution_count": 33,
   "metadata": {},
   "outputs": [
    {
     "data": {
      "image/png": "[encoded data removed]",
      "text/plain": [
       "<matplotlib.figure.Figure at 0x7f423fea6748>"
      ]
     },
     "metadata": {},
     "output_type": "display_data"
    },
    {
     "data": {
      "image/png": "[encoded data removed]",
      "text/plain": [
       "<matplotlib.figure.Figure at 0x7f423f9adfd0>"
      ]
     },
     "metadata": {},
     "output_type": "display_data"
    },
    {
     "data": {
      "image/png": "[encoded data removed]",
      "text/plain": [
       "<matplotlib.figure.Figure at 0x7f423fa58a58>"
      ]
     },
     "metadata": {},
     "output_type": "display_data"
    }
   ],
   "source": [
    "data = X_valid\n",
    "pred = ef_relu.predict_proba(data)\n",
    "\n",
    "for i in range(pred.shape[0]):\n",
    "    plt.figure(i)\n",
    "    plt.plot(data[i].numpy())\n",
    "    plt.plot(np.arange(len(pred[i])), pred[i])"
   ]
  },
  {
   "cell_type": "code",
   "execution_count": null,
   "metadata": {},
   "outputs": [],
   "source": []
  },
  {
   "cell_type": "code",
   "execution_count": null,
   "metadata": {},
   "outputs": [],
   "source": []
  }
 ],
 "metadata": {
  "kernelspec": {
   "display_name": "Python 3",
   "language": "python",
   "name": "python3"
  },
  "language_info": {
   "codemirror_mode": {
    "name": "ipython",
    "version": 3
   },
   "file_extension": ".py",
   "mimetype": "text/x-python",
   "name": "python",
   "nbconvert_exporter": "python",
   "pygments_lexer": "ipython3",
   "version": "3.6.3"
  }
 },
 "nbformat": 4,
 "nbformat_minor": 2
}
