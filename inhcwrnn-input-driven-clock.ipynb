{
 "cells": [
  {
   "cell_type": "code",
   "execution_count": 1,
   "metadata": {},
   "outputs": [],
   "source": [
    "import skorch\n",
    "import torch\n",
    "import torch.nn as nn\n",
    "import torch.nn.functional as F\n",
    "from torch.utils.data.dataloader import DataLoader\n",
    "from torch.utils.data import TensorDataset\n",
    "from torch.autograd import Variable"
   ]
  },
  {
   "cell_type": "code",
   "execution_count": 2,
   "metadata": {
    "collapsed": true
   },
   "outputs": [],
   "source": [
    "from sine_data import train_dataset, valid_dataset"
   ]
  },
  {
   "cell_type": "code",
   "execution_count": 3,
   "metadata": {
    "collapsed": true
   },
   "outputs": [],
   "source": [
    "%matplotlib inline\n",
    "import matplotlib.pyplot as plt\n",
    "import numpy as np\n",
    "import insp"
   ]
  },
  {
   "cell_type": "code",
   "execution_count": 4,
   "metadata": {
    "collapsed": true
   },
   "outputs": [],
   "source": [
    "import visdom\n",
    "vis = visdom.Visdom()"
   ]
  },
  {
   "cell_type": "code",
   "execution_count": 5,
   "metadata": {
    "collapsed": true
   },
   "outputs": [],
   "source": [
    "\n",
    "\n",
    "\n",
    "X_train, y_train = train_dataset(points=200)\n",
    "X_train, y_train = torch.Tensor(X_train), torch.LongTensor(y_train)\n",
    "\n",
    "X_valid, y_valid = valid_dataset(points=400)\n",
    "X_valid, y_valid = torch.Tensor(X_valid), torch.LongTensor(y_valid)\n",
    "\n",
    "sine_train_loader = DataLoader(TensorDataset(X_train, y_train),\n",
    "                               batch_size=64,\n",
    "                               shuffle=True)\n",
    "sine_valid_loader = DataLoader(TensorDataset(X_valid, y_valid),\n",
    "                               batch_size=64,\n",
    "                               shuffle=False)"
   ]
  },
  {
   "cell_type": "code",
   "execution_count": null,
   "metadata": {
    "collapsed": true
   },
   "outputs": [],
   "source": []
  },
  {
   "cell_type": "code",
   "execution_count": 57,
   "metadata": {},
   "outputs": [],
   "source": [
    "class InhCWRNN(nn.Module):\n",
    "    \"\"\"simply learning sine parameters from var(sister module)\"\"\"\n",
    "    def __init__(self, input_dim, output_dim, num_modules, *args, **kwargs):\n",
    "        super().__init__(*args, **kwargs)\n",
    "        \n",
    "        self.input_dim = input_dim\n",
    "        self.output_dim = output_dim\n",
    "        self.num_modules = num_modules\n",
    "        \n",
    "        self.input_mod = nn.Linear(input_dim, output_dim)\n",
    "        self.hidden_mod = nn.Linear(output_dim, output_dim, bias=False)\n",
    "        \n",
    "        self.input_period = nn.Linear(input_dim, output_dim)\n",
    "        self.hidden_period = nn.Linear(output_dim, output_dim, bias=False)\n",
    "        \n",
    "        self.module_shifts = nn.Parameter(torch.zeros(num_modules))\n",
    "        \n",
    "        self.f_mod = nn.Tanh()        \n",
    "        \n",
    "    def step(self, ti, xi, h):\n",
    "        module_size = self.output_dim // self.num_modules\n",
    "        \n",
    "        acts = self.f_mod(self.input_mod(xi) + self.hidden_mod(h))\n",
    "        module_acts = acts.view(-1, self.num_modules, module_size)\n",
    "        \n",
    "        acts_period = self.f_mod(self.input_period(xi) + self.hidden_period(h))\n",
    "        module_acts_period = acts.view(-1, self.num_modules, module_size)\n",
    "        \n",
    "        # use variance as indicator for surprisal and, hence, update rate\n",
    "        suprisal = module_acts_period.var(-1, keepdim=True)\n",
    "        module_periods = surprisal\n",
    "                \n",
    "        # y=(sin(x)+1)/2 so we y is in [0;1]\n",
    "        gate = (torch.sin(ti * module_periods + self.module_shifts) + 1) / 2\n",
    "        #gate = gate.view(1, -1, 1).expand_as(module_acts).contiguous()\n",
    "        gate = gate.view(-1, self.output_dim)\n",
    "                \n",
    "        y = (1 - gate) * acts + gate * h\n",
    "        \n",
    "        return y, y, module_periods\n",
    "        \n",
    "    def init_hidden(self):\n",
    "        return Variable(torch.zeros(self.output_dim))\n",
    "        \n",
    "    def forward(self, x):\n",
    "        t = x.size(1)\n",
    "        ys = []\n",
    "        h = self.init_hidden()\n",
    "        ps = []\n",
    "        for ti in range(t):\n",
    "            xi = x[:, ti]\n",
    "            yi, h, p = self.step(ti, xi, h)     \n",
    "            ys.append(yi)\n",
    "            ps.append(p.squeeze(-1))\n",
    "        return torch.stack(ys, dim=1), h, torch.stack(ps, dim=1)"
   ]
  },
  {
   "cell_type": "code",
   "execution_count": null,
   "metadata": {
    "collapsed": true
   },
   "outputs": [],
   "source": []
  },
  {
   "cell_type": "code",
   "execution_count": null,
   "metadata": {
    "collapsed": true
   },
   "outputs": [],
   "source": []
  },
  {
   "cell_type": "code",
   "execution_count": null,
   "metadata": {
    "collapsed": true
   },
   "outputs": [],
   "source": []
  },
  {
   "cell_type": "code",
   "execution_count": 122,
   "metadata": {
    "collapsed": true
   },
   "outputs": [],
   "source": [
    "class InhCWRNN(nn.Module):\n",
    "    def __init__(self, input_dim, output_dim, num_modules, *args, **kwargs):\n",
    "        super().__init__(*args, **kwargs)\n",
    "        \n",
    "        self.input_dim = input_dim\n",
    "        self.output_dim = output_dim\n",
    "        self.num_modules = num_modules\n",
    "        \n",
    "        self.input_mod = nn.Linear(input_dim, output_dim)\n",
    "        self.hidden_mod = nn.Linear(output_dim, output_dim, bias=False)\n",
    "        \n",
    "        self.input_rec = nn.Linear(input_dim, input_dim * num_modules)\n",
    "        self.hidden_rec = nn.Linear(input_dim * num_modules, input_dim * num_modules, bias=False)\n",
    "        \n",
    "        self.module_periods = nn.Parameter(torch.zeros(num_modules))\n",
    "        self.module_shifts = nn.Parameter(torch.zeros(num_modules))\n",
    "        \n",
    "        self.f_mod = nn.Tanh()\n",
    "        \n",
    "    def step(self, ti, xi, h, x_pred):\n",
    "        module_size = self.output_dim // self.num_modules\n",
    "        \n",
    "        acts = self.f_mod(self.input_mod(xi) + self.hidden_mod(h))\n",
    "        module_acts = acts.view(-1, self.num_modules, module_size)\n",
    "        \n",
    "        # predict x_{t+1}, store for next step\n",
    "        acts_rec = self.f_mod(self.input_rec(xi) + self.hidden_rec(x_pred))\n",
    "        module_acts_rec = acts_rec.view(-1, self.num_modules, self.input_dim)\n",
    "        \n",
    "        # compare last prediction with current x, compute surprisal from that\n",
    "        module_x_pred = x_pred.view(-1, self.num_modules, self.input_dim)\n",
    "        surprisal = F.log_softmax(module_x_pred) * xi.unsqueeze(1).expand_as(module_acts_rec)\n",
    "        # compute the mean surprisal for each module\n",
    "        mean_surprisal = surprisal.mean(-1)\n",
    "        # use mean surprisal to drive the periodicity of the module's gate\n",
    "        # weight down surprisal for specific modules\n",
    "        module_periods = mean_surprisal * self.module_periods\n",
    "                \n",
    "        # y=(sin(x)+1)/2 so we y is in [0;1]\n",
    "        gate = (torch.sin(ti * module_periods + self.module_shifts) + 1) / 2\n",
    "        gate = gate.unsqueeze(-1).expand_as(module_acts).contiguous()\n",
    "        gate = gate.view(-1, self.output_dim)\n",
    "                \n",
    "        y = (1 - gate) * acts + gate * h\n",
    "        \n",
    "        return y, y, acts_rec, module_periods\n",
    "        \n",
    "    def init_hidden(self):\n",
    "        return Variable(torch.zeros(self.output_dim))\n",
    "        \n",
    "    def forward(self, x):\n",
    "        t = x.size(1)\n",
    "        ys = []\n",
    "        h = self.init_hidden()\n",
    "        x_pred = Variable(torch.zeros(self.input_dim * self.num_modules))\n",
    "        ps = []\n",
    "        for ti in range(t):\n",
    "            xi = x[:, ti]\n",
    "            yi, h, x_pred, p = self.step(ti, xi, h, x_pred) \n",
    "            ys.append(yi)\n",
    "            ps.append(p.squeeze(-1))\n",
    "        return torch.stack(ys, dim=1), h, torch.stack(ps, dim=1)"
   ]
  },
  {
   "cell_type": "code",
   "execution_count": null,
   "metadata": {
    "collapsed": true
   },
   "outputs": [],
   "source": []
  },
  {
   "cell_type": "code",
   "execution_count": 94,
   "metadata": {
    "collapsed": true
   },
   "outputs": [],
   "source": [
    "def time_flatten(t):\n",
    "    return t.view(t.size(0) * t.size(1), -1)\n",
    "\n",
    "def time_unflatten(t, s):\n",
    "    return t.view(s[0], s[1], -1)"
   ]
  },
  {
   "cell_type": "code",
   "execution_count": 130,
   "metadata": {
    "collapsed": true
   },
   "outputs": [],
   "source": [
    "class ReconModel(nn.Module):\n",
    "    def __init__(self, num_hidden=64, num_modules=8):\n",
    "        super().__init__()\n",
    "        \n",
    "        self.rnn = InhCWRNN(1, num_hidden, num_modules)\n",
    "        self.clf = nn.Linear(num_hidden, 1)\n",
    "        \n",
    "    def forward(self, x):\n",
    "        l0, h0, p0 = self.rnn(x)\n",
    "        \n",
    "        vis.heatmap(l0[0].data.numpy(), win=\"act\")\n",
    "        vis.heatmap(p0[0].data.numpy(), win=\"periods\")\n",
    "        import pdb; pdb.set_trace()\n",
    "        vis.heatmap(self.rnn.module_shifts.data.numpy().reshape(1, -1), win=\"shifts\")\n",
    "\n",
    "        l1 = self.clf(time_flatten(l0))\n",
    "        return time_unflatten(l1, x.size())"
   ]
  },
  {
   "cell_type": "code",
   "execution_count": 131,
   "metadata": {},
   "outputs": [],
   "source": [
    "class Trainer(skorch.NeuralNet):\n",
    "    def __init__(self, \n",
    "                 criterion=nn.MSELoss,\n",
    "                 *args, \n",
    "                 **kwargs):\n",
    "        super().__init__(*args, criterion=criterion, **kwargs)\n",
    "\n",
    "    def get_loss(self, y_pred, y_true, X=None, train=False):\n",
    "        pred = time_flatten(y_pred)\n",
    "        true = time_flatten(y_true)\n",
    "        return super().get_loss(pred, true, X=X, train=train)"
   ]
  },
  {
   "cell_type": "markdown",
   "metadata": {},
   "source": [
    "### exp inhibition"
   ]
  },
  {
   "cell_type": "code",
   "execution_count": 132,
   "metadata": {
    "collapsed": true
   },
   "outputs": [],
   "source": [
    "torch.manual_seed(1337)\n",
    "\n",
    "def my_train_split(X, y):\n",
    "    return X, X_valid[:, :-1], y, X_valid[:, 1:]\n",
    "\n",
    "ef_relu = Trainer(module=ReconModel,\n",
    "             optim=torch.optim.Adam,\n",
    "             lr=0.005,\n",
    "             max_epochs=60,\n",
    "             train_split=my_train_split,\n",
    "             \n",
    "             module__num_modules=8,\n",
    "             module__num_hidden=64,\n",
    "            )"
   ]
  },
  {
   "cell_type": "code",
   "execution_count": 133,
   "metadata": {
    "scrolled": false
   },
   "outputs": [
    {
     "name": "stdout",
     "output_type": "stream",
     "text": [
      "Automatic pdb calling has been turned ON\n",
      "  epoch    train_loss    valid_loss     dur\n",
      "-------  ------------  ------------  ------\n",
      "      1        \u001b[36m1.1314\u001b[0m        \u001b[32m0.5130\u001b[0m  1.5200\n",
      "      2        \u001b[36m0.4778\u001b[0m        \u001b[32m0.3484\u001b[0m  1.5220\n",
      "      3        \u001b[36m0.3383\u001b[0m        \u001b[32m0.0779\u001b[0m  1.8156\n",
      "      4        \u001b[36m0.0795\u001b[0m        \u001b[32m0.0693\u001b[0m  1.7404\n",
      "      5        \u001b[36m0.0682\u001b[0m        0.1558  1.6236\n",
      "      6        0.1497        0.1233  1.6542\n",
      "      7        0.1179        \u001b[32m0.0495\u001b[0m  1.6419\n",
      "      8        \u001b[36m0.0473\u001b[0m        \u001b[32m0.0239\u001b[0m  1.6904\n",
      "      9        \u001b[36m0.0244\u001b[0m        0.0428  1.7711\n",
      "     10        0.0439        0.0600  1.5929\n",
      "     11        0.0596        0.0533  1.6738\n",
      "     12        0.0505        0.0351  1.7523\n",
      "     13        0.0306        0.0263  1.5953\n",
      "     14        \u001b[36m0.0213\u001b[0m        0.0320  1.6897\n",
      "     15        0.0275        0.0398  1.6503\n",
      "     16        0.0358        0.0367  1.7578\n",
      "     17        0.0330        \u001b[32m0.0235\u001b[0m  1.7580\n",
      "     18        \u001b[36m0.0204\u001b[0m        \u001b[32m0.0117\u001b[0m  1.6358\n",
      "     19        \u001b[36m0.0096\u001b[0m        \u001b[32m0.0100\u001b[0m  1.7084\n",
      "     20        \u001b[36m0.0095\u001b[0m        0.0163  1.5814\n",
      "     21        0.0174        0.0211  1.6303\n",
      "     22        0.0235        0.0194  1.7002\n",
      "     23        0.0218        0.0130  1.7533\n",
      "     24        0.0145        \u001b[32m0.0082\u001b[0m  1.7582\n",
      "     25        \u001b[36m0.0083\u001b[0m        0.0086  1.8412\n",
      "     26        \u001b[36m0.0075\u001b[0m        0.0122  1.6906\n",
      "     27        0.0105        0.0147  1.8132\n",
      "     28        0.0127        0.0138  1.7316\n",
      "     29        0.0116        0.0109  1.8331\n",
      "     30        0.0087        0.0089  1.7295\n",
      "     31        \u001b[36m0.0070\u001b[0m        0.0089  1.6043\n",
      "     32        0.0076        0.0096  1.7862\n",
      "     33        0.0089        0.0089  1.7345\n",
      "     34        0.0088        \u001b[32m0.0068\u001b[0m  1.7200\n",
      "     35        \u001b[36m0.0069\u001b[0m        \u001b[32m0.0047\u001b[0m  1.5577\n",
      "     36        \u001b[36m0.0049\u001b[0m        \u001b[32m0.0043\u001b[0m  1.7645\n",
      "     37        \u001b[36m0.0043\u001b[0m        0.0056  1.7653\n",
      "     38        0.0054        0.0069  1.6980\n",
      "     39        0.0066        0.0066  1.6112\n",
      "     40        0.0064        0.0051  1.8920\n",
      "     41        0.0051        \u001b[32m0.0036\u001b[0m  1.9401\n",
      "     42        \u001b[36m0.0039\u001b[0m        \u001b[32m0.0032\u001b[0m  1.7137\n",
      "     43        \u001b[36m0.0037\u001b[0m        0.0036  1.9327\n",
      "     44        0.0042        0.0040  1.7341\n",
      "     45        0.0045        0.0038  1.6793\n",
      "     46        0.0041        0.0035  1.8389\n",
      "     47        \u001b[36m0.0035\u001b[0m        0.0035  1.6846\n",
      "     48        \u001b[36m0.0033\u001b[0m        0.0039  1.6795\n",
      "     49        0.0036        0.0040  1.7060\n",
      "     50        0.0037        0.0035  1.5821\n",
      "     51        0.0034        \u001b[32m0.0028\u001b[0m  1.7441\n",
      "     52        \u001b[36m0.0029\u001b[0m        \u001b[32m0.0023\u001b[0m  1.8581\n",
      "     53        \u001b[36m0.0027\u001b[0m        \u001b[32m0.0022\u001b[0m  1.7144\n",
      "     54        0.0029        0.0023  1.9381\n",
      "     55        0.0031        \u001b[32m0.0022\u001b[0m  1.9672\n",
      "     56        0.0030        \u001b[32m0.0020\u001b[0m  1.8072\n",
      "     57        0.0027        \u001b[32m0.0019\u001b[0m  1.7936\n",
      "     58        \u001b[36m0.0025\u001b[0m        0.0021  1.6450\n",
      "     59        0.0025        0.0023  1.8168\n",
      "     60        0.0026        0.0023  1.8471\n"
     ]
    },
    {
     "data": {
      "text/plain": [
       "<__main__.Trainer at 0x7ffab9910ba8>"
      ]
     },
     "execution_count": 133,
     "metadata": {},
     "output_type": "execute_result"
    }
   ],
   "source": [
    "%pdb on\n",
    "ef_relu.fit(X_train[:, :-1], X_train[:, 1:])"
   ]
  },
  {
   "cell_type": "code",
   "execution_count": 134,
   "metadata": {},
   "outputs": [
    {
     "data": {
      "image/png": "[encoded data removed]",
      "text/plain": [
       "<matplotlib.figure.Figure at 0x7ffab951be80>"
      ]
     },
     "metadata": {},
     "output_type": "display_data"
    },
    {
     "data": {
      "image/png": "[encoded data removed]",
      "text/plain": [
       "<matplotlib.figure.Figure at 0x7ffabae107b8>"
      ]
     },
     "metadata": {},
     "output_type": "display_data"
    },
    {
     "data": {
      "image/png": "[encoded data removed]",
      "text/plain": [
       "<matplotlib.figure.Figure at 0x7ffab950d5c0>"
      ]
     },
     "metadata": {},
     "output_type": "display_data"
    }
   ],
   "source": [
    "data = X_valid\n",
    "pred = ef_relu.predict_proba(data)\n",
    "\n",
    "for i in range(pred.shape[0]):\n",
    "    plt.figure(i)\n",
    "    plt.plot(data[i].numpy())\n",
    "    plt.plot(np.arange(len(pred[i])), pred[i])"
   ]
  },
  {
   "cell_type": "raw",
   "metadata": {},
   "source": [
    " "
   ]
  },
  {
   "cell_type": "code",
   "execution_count": null,
   "metadata": {
    "collapsed": true
   },
   "outputs": [],
   "source": []
  },
  {
   "cell_type": "code",
   "execution_count": null,
   "metadata": {
    "collapsed": true
   },
   "outputs": [],
   "source": []
  }
 ],
 "metadata": {
  "kernelspec": {
   "display_name": "Python 3",
   "language": "python",
   "name": "python3"
  },
  "language_info": {
   "codemirror_mode": {
    "name": "ipython",
    "version": 3
   },
   "file_extension": ".py",
   "mimetype": "text/x-python",
   "name": "python",
   "nbconvert_exporter": "python",
   "pygments_lexer": "ipython3",
   "version": "3.5.2"
  }
 },
 "nbformat": 4,
 "nbformat_minor": 2
}
