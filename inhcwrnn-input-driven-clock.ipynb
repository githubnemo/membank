{
 "cells": [
  {
   "cell_type": "code",
   "execution_count": 1,
   "metadata": {},
   "outputs": [],
   "source": [
    "import skorch\n",
    "import torch\n",
    "import torch.nn as nn\n",
    "import torch.nn.functional as F\n",
    "from torch.utils.data.dataloader import DataLoader\n",
    "from torch.utils.data import TensorDataset\n",
    "from torch.autograd import Variable"
   ]
  },
  {
   "cell_type": "code",
   "execution_count": 2,
   "metadata": {
    "collapsed": true
   },
   "outputs": [],
   "source": [
    "from sine_data import train_dataset, valid_dataset"
   ]
  },
  {
   "cell_type": "code",
   "execution_count": 3,
   "metadata": {
    "collapsed": true
   },
   "outputs": [],
   "source": [
    "%matplotlib inline\n",
    "import matplotlib.pyplot as plt\n",
    "import numpy as np\n",
    "import insp"
   ]
  },
  {
   "cell_type": "code",
   "execution_count": 4,
   "metadata": {
    "collapsed": true
   },
   "outputs": [],
   "source": [
    "import visdom\n",
    "vis = visdom.Visdom()"
   ]
  },
  {
   "cell_type": "code",
   "execution_count": 5,
   "metadata": {
    "collapsed": true
   },
   "outputs": [],
   "source": [
    "\n",
    "\n",
    "\n",
    "X_train, y_train = train_dataset(points=200)\n",
    "X_train, y_train = torch.Tensor(X_train), torch.LongTensor(y_train)\n",
    "\n",
    "X_valid, y_valid = valid_dataset(points=400)\n",
    "X_valid, y_valid = torch.Tensor(X_valid), torch.LongTensor(y_valid)\n",
    "\n",
    "sine_train_loader = DataLoader(TensorDataset(X_train, y_train),\n",
    "                               batch_size=64,\n",
    "                               shuffle=True)\n",
    "sine_valid_loader = DataLoader(TensorDataset(X_valid, y_valid),\n",
    "                               batch_size=64,\n",
    "                               shuffle=False)"
   ]
  },
  {
   "cell_type": "code",
   "execution_count": null,
   "metadata": {
    "collapsed": true
   },
   "outputs": [],
   "source": []
  },
  {
   "cell_type": "code",
   "execution_count": 57,
   "metadata": {},
   "outputs": [],
   "source": [
    "class InhCWRNN(nn.Module):\n",
    "    \"\"\"simply learning sine parameters from var(sister module)\"\"\"\n",
    "    def __init__(self, input_dim, output_dim, num_modules, *args, **kwargs):\n",
    "        super().__init__(*args, **kwargs)\n",
    "        \n",
    "        self.input_dim = input_dim\n",
    "        self.output_dim = output_dim\n",
    "        self.num_modules = num_modules\n",
    "        \n",
    "        self.input_mod = nn.Linear(input_dim, output_dim)\n",
    "        self.hidden_mod = nn.Linear(output_dim, output_dim, bias=False)\n",
    "        \n",
    "        self.input_period = nn.Linear(input_dim, output_dim)\n",
    "        self.hidden_period = nn.Linear(output_dim, output_dim, bias=False)\n",
    "        \n",
    "        self.module_shifts = nn.Parameter(torch.zeros(num_modules))\n",
    "        \n",
    "        self.f_mod = nn.Tanh()        \n",
    "        \n",
    "    def step(self, ti, xi, h):\n",
    "        module_size = self.output_dim // self.num_modules\n",
    "        \n",
    "        acts = self.f_mod(self.input_mod(xi) + self.hidden_mod(h))\n",
    "        module_acts = acts.view(-1, self.num_modules, module_size)\n",
    "        \n",
    "        acts_period = self.f_mod(self.input_period(xi) + self.hidden_period(h))\n",
    "        module_acts_period = acts.view(-1, self.num_modules, module_size)\n",
    "        \n",
    "        # use variance as indicator for surprisal and, hence, update rate\n",
    "        suprisal = module_acts_period.var(-1, keepdim=True)\n",
    "        module_periods = surprisal\n",
    "                \n",
    "        # y=(sin(x)+1)/2 so we y is in [0;1]\n",
    "        gate = (torch.sin(ti * module_periods + self.module_shifts) + 1) / 2\n",
    "        #gate = gate.view(1, -1, 1).expand_as(module_acts).contiguous()\n",
    "        gate = gate.view(-1, self.output_dim)\n",
    "                \n",
    "        y = (1 - gate) * acts + gate * h\n",
    "        \n",
    "        return y, y, module_periods\n",
    "        \n",
    "    def init_hidden(self):\n",
    "        return Variable(torch.zeros(self.output_dim))\n",
    "        \n",
    "    def forward(self, x):\n",
    "        t = x.size(1)\n",
    "        ys = []\n",
    "        h = self.init_hidden()\n",
    "        ps = []\n",
    "        for ti in range(t):\n",
    "            xi = x[:, ti]\n",
    "            yi, h, p = self.step(ti, xi, h)     \n",
    "            ys.append(yi)\n",
    "            ps.append(p.squeeze(-1))\n",
    "        return torch.stack(ys, dim=1), h, torch.stack(ps, dim=1)"
   ]
  },
  {
   "cell_type": "code",
   "execution_count": null,
   "metadata": {
    "collapsed": true
   },
   "outputs": [],
   "source": []
  },
  {
   "cell_type": "code",
   "execution_count": null,
   "metadata": {
    "collapsed": true
   },
   "outputs": [],
   "source": []
  },
  {
   "cell_type": "code",
   "execution_count": null,
   "metadata": {
    "collapsed": true
   },
   "outputs": [],
   "source": []
  },
  {
   "cell_type": "code",
   "execution_count": 166,
   "metadata": {
    "collapsed": true
   },
   "outputs": [],
   "source": [
    "class InhCWRNN(nn.Module):\n",
    "    def __init__(self, input_dim, output_dim, num_modules, *args, **kwargs):\n",
    "        super().__init__(*args, **kwargs)\n",
    "        \n",
    "        self.input_dim = input_dim\n",
    "        self.output_dim = output_dim\n",
    "        self.num_modules = num_modules\n",
    "        \n",
    "        self.input_mod = nn.Linear(input_dim, output_dim)\n",
    "        self.hidden_mod = nn.Linear(output_dim, output_dim, bias=False)\n",
    "        \n",
    "        self.input_rec = nn.Linear(input_dim, input_dim * num_modules)\n",
    "        self.hidden_rec = nn.Linear(input_dim * num_modules, input_dim * num_modules, bias=False)\n",
    "        \n",
    "        self.module_periods = nn.Parameter(torch.zeros(num_modules) + 1)\n",
    "        self.module_shifts = nn.Parameter(torch.zeros(num_modules))\n",
    "        \n",
    "        self.f_mod = nn.Tanh()\n",
    "        \n",
    "    def step(self, ti, xi, h, x_pred):\n",
    "        module_size = self.output_dim // self.num_modules\n",
    "        \n",
    "        acts = self.f_mod(self.input_mod(xi) + self.hidden_mod(h))\n",
    "        module_acts = acts.view(-1, self.num_modules, module_size)\n",
    "        \n",
    "        # predict x_{t+1}, store for next step\n",
    "        acts_rec = self.f_mod(self.input_rec(xi) + self.hidden_rec(x_pred))\n",
    "        module_acts_rec = acts_rec.view(-1, self.num_modules, self.input_dim)\n",
    "        \n",
    "        # compare last prediction with current x, compute surprisal from that\n",
    "        module_x_pred = x_pred.view(-1, self.num_modules, self.input_dim)\n",
    "        surprisal = F.log_softmax(module_x_pred) * xi.unsqueeze(1).expand_as(module_acts_rec)\n",
    "        # compute the mean surprisal for each module\n",
    "        mean_surprisal = surprisal.mean(-1)\n",
    "        # use mean surprisal to drive the periodicity of the module's gate\n",
    "        # weight down surprisal for specific modules\n",
    "        module_periods = mean_surprisal * self.module_periods\n",
    "                \n",
    "        # y=(sin(x)+1)/2 so we y is in [0;1]\n",
    "        gate = (torch.sin(ti * module_periods + self.module_shifts) + 1) / 2\n",
    "        gate = gate.unsqueeze(-1).expand_as(module_acts).contiguous()\n",
    "        gate = gate.view(-1, self.output_dim)\n",
    "                \n",
    "        y = (1 - gate) * acts + gate * h\n",
    "        \n",
    "        return y, y, acts_rec, module_periods\n",
    "        \n",
    "    def init_hidden(self):\n",
    "        return Variable(torch.zeros(self.output_dim))\n",
    "        \n",
    "    def forward(self, x):\n",
    "        t = x.size(1)\n",
    "        ys = []\n",
    "        h = self.init_hidden()\n",
    "        x_pred = Variable(torch.zeros(self.input_dim * self.num_modules))\n",
    "        ps = []\n",
    "        for ti in range(t):\n",
    "            xi = x[:, ti]\n",
    "            yi, h, x_pred, p = self.step(ti, xi, h, x_pred) \n",
    "            ys.append(yi)\n",
    "            ps.append(p.squeeze(-1))\n",
    "        return torch.stack(ys, dim=1), h, torch.stack(ps, dim=1)"
   ]
  },
  {
   "cell_type": "code",
   "execution_count": null,
   "metadata": {
    "collapsed": true
   },
   "outputs": [],
   "source": []
  },
  {
   "cell_type": "code",
   "execution_count": 160,
   "metadata": {
    "collapsed": true
   },
   "outputs": [],
   "source": [
    "def time_flatten(t):\n",
    "    return t.view(t.size(0) * t.size(1), -1)\n",
    "\n",
    "def time_unflatten(t, s):\n",
    "    return t.view(s[0], s[1], -1)"
   ]
  },
  {
   "cell_type": "code",
   "execution_count": 161,
   "metadata": {
    "collapsed": true
   },
   "outputs": [],
   "source": [
    "class ReconModel(nn.Module):\n",
    "    def __init__(self, num_hidden=64, num_modules=8):\n",
    "        super().__init__()\n",
    "        \n",
    "        self.rnn = InhCWRNN(1, num_hidden, num_modules)\n",
    "        self.clf = nn.Linear(num_hidden, 1)\n",
    "        \n",
    "    def forward(self, x):\n",
    "        l0, h0, p0 = self.rnn(x)\n",
    "        \n",
    "        vis.heatmap(l0[0].data.numpy(), win=\"act\")\n",
    "        vis.heatmap(p0[0].data.numpy(), win=\"periods\")\n",
    "        vis.heatmap(self.rnn.module_shifts.data.numpy().reshape(1, -1), win=\"shifts\")\n",
    "\n",
    "        l1 = self.clf(time_flatten(l0))\n",
    "        return time_unflatten(l1, x.size())"
   ]
  },
  {
   "cell_type": "code",
   "execution_count": 162,
   "metadata": {},
   "outputs": [],
   "source": [
    "class Trainer(skorch.NeuralNet):\n",
    "    def __init__(self, \n",
    "                 criterion=nn.MSELoss,\n",
    "                 *args, \n",
    "                 **kwargs):\n",
    "        super().__init__(*args, criterion=criterion, **kwargs)\n",
    "\n",
    "    def get_loss(self, y_pred, y_true, X=None, train=False):\n",
    "        pred = time_flatten(y_pred)\n",
    "        true = time_flatten(y_true)\n",
    "        return super().get_loss(pred, true, X=X, train=train)"
   ]
  },
  {
   "cell_type": "markdown",
   "metadata": {},
   "source": [
    "### exp inhibition"
   ]
  },
  {
   "cell_type": "code",
   "execution_count": 170,
   "metadata": {
    "collapsed": true
   },
   "outputs": [],
   "source": [
    "torch.manual_seed(1337)\n",
    "\n",
    "def my_train_split(X, y):\n",
    "    return X, X_valid[:, :-1], y, X_valid[:, 1:]\n",
    "\n",
    "ef_relu = Trainer(module=ReconModel,\n",
    "             optim=torch.optim.Adam,\n",
    "             lr=0.005,\n",
    "             max_epochs=60,\n",
    "             train_split=my_train_split,\n",
    "             \n",
    "             module__num_modules=8,\n",
    "             module__num_hidden=64,\n",
    "            )"
   ]
  },
  {
   "cell_type": "code",
   "execution_count": 171,
   "metadata": {
    "scrolled": false
   },
   "outputs": [
    {
     "name": "stdout",
     "output_type": "stream",
     "text": [
      "Automatic pdb calling has been turned ON\n",
      "  epoch    train_loss    valid_loss     dur\n",
      "-------  ------------  ------------  ------\n",
      "      1        \u001b[36m1.0320\u001b[0m        \u001b[32m0.4687\u001b[0m  0.9606\n",
      "      2        \u001b[36m0.4482\u001b[0m        \u001b[32m0.2650\u001b[0m  0.9831\n",
      "      3        \u001b[36m0.2502\u001b[0m        \u001b[32m0.1674\u001b[0m  1.0265\n",
      "      4        \u001b[36m0.1704\u001b[0m        \u001b[32m0.1097\u001b[0m  1.1241\n",
      "      5        \u001b[36m0.1226\u001b[0m        0.1099  1.1569\n",
      "      6        0.1239        0.1250  1.0042\n",
      "      7        0.1360        \u001b[32m0.1042\u001b[0m  1.0262\n",
      "      8        \u001b[36m0.1144\u001b[0m        \u001b[32m0.0605\u001b[0m  1.0338\n",
      "      9        \u001b[36m0.0712\u001b[0m        \u001b[32m0.0313\u001b[0m  0.9793\n",
      "     10        \u001b[36m0.0418\u001b[0m        \u001b[32m0.0283\u001b[0m  1.0652\n",
      "     11        \u001b[36m0.0368\u001b[0m        0.0366  1.0707\n",
      "     12        0.0423        0.0400  1.1910\n",
      "     13        0.0432        0.0370  1.2770\n",
      "     14        0.0387        0.0346  1.1333\n",
      "     15        \u001b[36m0.0359\u001b[0m        0.0363  0.9427\n",
      "     16        0.0376        0.0377  1.1681\n",
      "     17        0.0392        0.0339  0.9527\n",
      "     18        \u001b[36m0.0357\u001b[0m        \u001b[32m0.0254\u001b[0m  1.0078\n",
      "     19        \u001b[36m0.0276\u001b[0m        \u001b[32m0.0169\u001b[0m  1.0624\n",
      "     20        \u001b[36m0.0199\u001b[0m        \u001b[32m0.0125\u001b[0m  1.0753\n",
      "     21        \u001b[36m0.0166\u001b[0m        \u001b[32m0.0119\u001b[0m  1.0793\n",
      "     22        0.0171        \u001b[32m0.0117\u001b[0m  0.9993\n",
      "     23        0.0179        \u001b[32m0.0107\u001b[0m  1.1263\n",
      "     24        0.0174        \u001b[32m0.0103\u001b[0m  1.1551\n",
      "     25        0.0168        0.0113  1.0884\n",
      "     26        0.0174        0.0123  1.2761\n",
      "     27        0.0178        0.0115  1.0699\n",
      "     28        \u001b[36m0.0164\u001b[0m        \u001b[32m0.0091\u001b[0m  1.2669\n",
      "     29        \u001b[36m0.0136\u001b[0m        \u001b[32m0.0072\u001b[0m  1.1789\n",
      "     30        \u001b[36m0.0113\u001b[0m        \u001b[32m0.0071\u001b[0m  1.1541\n",
      "     31        \u001b[36m0.0105\u001b[0m        0.0082  1.2021\n",
      "     32        0.0108        0.0090  1.1274\n",
      "     33        0.0109        0.0094  0.9250\n",
      "     34        0.0107        0.0097  0.9665\n",
      "     35        0.0106        0.0103  1.1824\n",
      "     36        0.0110        0.0105  1.2697\n",
      "     37        0.0111        0.0099  1.1408\n",
      "     38        0.0106        0.0087  0.9813\n",
      "     39        \u001b[36m0.0095\u001b[0m        0.0077  1.1681\n",
      "     40        \u001b[36m0.0087\u001b[0m        0.0071  1.1516\n",
      "     41        \u001b[36m0.0084\u001b[0m        \u001b[32m0.0067\u001b[0m  1.0178\n",
      "     42        \u001b[36m0.0082\u001b[0m        \u001b[32m0.0063\u001b[0m  0.9851\n",
      "     43        \u001b[36m0.0079\u001b[0m        \u001b[32m0.0059\u001b[0m  1.3349\n",
      "     44        \u001b[36m0.0077\u001b[0m        \u001b[32m0.0059\u001b[0m  1.0192\n",
      "     45        0.0078        0.0061  1.2520\n",
      "     46        0.0080        0.0061  0.9290\n",
      "     47        0.0079        \u001b[32m0.0058\u001b[0m  1.1618\n",
      "     48        \u001b[36m0.0075\u001b[0m        \u001b[32m0.0056\u001b[0m  1.1450\n",
      "     49        \u001b[36m0.0071\u001b[0m        \u001b[32m0.0056\u001b[0m  1.0496\n",
      "     50        \u001b[36m0.0069\u001b[0m        0.0057  1.0387\n",
      "     51        \u001b[36m0.0067\u001b[0m        0.0058  1.0827\n",
      "     52        \u001b[36m0.0065\u001b[0m        0.0059  0.9748\n",
      "     53        \u001b[36m0.0064\u001b[0m        0.0060  1.0721\n",
      "     54        \u001b[36m0.0063\u001b[0m        0.0062  0.9108\n",
      "     55        0.0064        0.0062  0.9611\n",
      "     56        0.0064        0.0061  1.0900\n",
      "     57        \u001b[36m0.0062\u001b[0m        0.0059  1.1748\n",
      "     58        \u001b[36m0.0060\u001b[0m        0.0057  1.2885\n",
      "     59        \u001b[36m0.0059\u001b[0m        \u001b[32m0.0055\u001b[0m  1.1440\n",
      "     60        \u001b[36m0.0058\u001b[0m        \u001b[32m0.0052\u001b[0m  1.2221\n"
     ]
    },
    {
     "data": {
      "text/plain": [
       "<__main__.Trainer at 0x7ffab9832748>"
      ]
     },
     "execution_count": 171,
     "metadata": {},
     "output_type": "execute_result"
    }
   ],
   "source": [
    "%pdb on\n",
    "ef_relu.fit(X_train[:, :-1], X_train[:, 1:])"
   ]
  },
  {
   "cell_type": "code",
   "execution_count": 172,
   "metadata": {},
   "outputs": [
    {
     "data": {
      "image/png": "[encoded data removed]",
      "text/plain": [
       "<matplotlib.figure.Figure at 0x7ffab9887cc0>"
      ]
     },
     "metadata": {},
     "output_type": "display_data"
    },
    {
     "data": {
      "image/png": "[encoded data removed]",
      "text/plain": [
       "<matplotlib.figure.Figure at 0x7ffab937c4e0>"
      ]
     },
     "metadata": {},
     "output_type": "display_data"
    },
    {
     "data": {
      "image/png": "[encoded data removed]",
      "text/plain": [
       "<matplotlib.figure.Figure at 0x7ffabae05780>"
      ]
     },
     "metadata": {},
     "output_type": "display_data"
    }
   ],
   "source": [
    "data = X_valid\n",
    "pred = ef_relu.predict_proba(data)\n",
    "\n",
    "for i in range(pred.shape[0]):\n",
    "    plt.figure(i)\n",
    "    plt.plot(data[i].numpy())\n",
    "    plt.plot(np.arange(len(pred[i])), pred[i])"
   ]
  },
  {
   "cell_type": "raw",
   "metadata": {},
   "source": [
    " "
   ]
  },
  {
   "cell_type": "code",
   "execution_count": null,
   "metadata": {
    "collapsed": true
   },
   "outputs": [],
   "source": []
  },
  {
   "cell_type": "code",
   "execution_count": null,
   "metadata": {
    "collapsed": true
   },
   "outputs": [],
   "source": []
  }
 ],
 "metadata": {
  "kernelspec": {
   "display_name": "Python 3",
   "language": "python",
   "name": "python3"
  },
  "language_info": {
   "codemirror_mode": {
    "name": "ipython",
    "version": 3
   },
   "file_extension": ".py",
   "mimetype": "text/x-python",
   "name": "python",
   "nbconvert_exporter": "python",
   "pygments_lexer": "ipython3",
   "version": "3.5.2"
  }
 },
 "nbformat": 4,
 "nbformat_minor": 2
}
